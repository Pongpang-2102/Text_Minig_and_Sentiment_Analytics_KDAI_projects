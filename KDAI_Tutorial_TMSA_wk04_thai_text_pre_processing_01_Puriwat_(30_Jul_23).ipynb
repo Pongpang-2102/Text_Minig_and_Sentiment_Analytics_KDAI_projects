{
  "nbformat": 4,
  "nbformat_minor": 0,
  "metadata": {
    "colab": {
      "provenance": [],
      "include_colab_link": true
    },
    "kernelspec": {
      "name": "python3",
      "display_name": "Python 3"
    },
    "language_info": {
      "name": "python"
    },
    "widgets": {
      "application/vnd.jupyter.widget-state+json": {
        "8b7e6a3c954949d2826fc00c765abd72": {
          "model_module": "@jupyter-widgets/controls",
          "model_name": "HBoxModel",
          "model_module_version": "1.5.0",
          "state": {
            "_dom_classes": [],
            "_model_module": "@jupyter-widgets/controls",
            "_model_module_version": "1.5.0",
            "_model_name": "HBoxModel",
            "_view_count": null,
            "_view_module": "@jupyter-widgets/controls",
            "_view_module_version": "1.5.0",
            "_view_name": "HBoxView",
            "box_style": "",
            "children": [
              "IPY_MODEL_a335f4f16f324be58a31b31c7e062542",
              "IPY_MODEL_1ad3bf36b7414fe995769cb159de6466",
              "IPY_MODEL_7867262208a1438aa458fde995ceeed0"
            ],
            "layout": "IPY_MODEL_83fc7f5e8b194a40897de73ba5bf40c7"
          }
        },
        "a335f4f16f324be58a31b31c7e062542": {
          "model_module": "@jupyter-widgets/controls",
          "model_name": "HTMLModel",
          "model_module_version": "1.5.0",
          "state": {
            "_dom_classes": [],
            "_model_module": "@jupyter-widgets/controls",
            "_model_module_version": "1.5.0",
            "_model_name": "HTMLModel",
            "_view_count": null,
            "_view_module": "@jupyter-widgets/controls",
            "_view_module_version": "1.5.0",
            "_view_name": "HTMLView",
            "description": "",
            "description_tooltip": null,
            "layout": "IPY_MODEL_db318756eebf4a0e965f04f573e5e59f",
            "placeholder": "​",
            "style": "IPY_MODEL_931fa54cb5674798a48b8b86a5a0cebf",
            "value": "100%"
          }
        },
        "1ad3bf36b7414fe995769cb159de6466": {
          "model_module": "@jupyter-widgets/controls",
          "model_name": "FloatProgressModel",
          "model_module_version": "1.5.0",
          "state": {
            "_dom_classes": [],
            "_model_module": "@jupyter-widgets/controls",
            "_model_module_version": "1.5.0",
            "_model_name": "FloatProgressModel",
            "_view_count": null,
            "_view_module": "@jupyter-widgets/controls",
            "_view_module_version": "1.5.0",
            "_view_name": "ProgressView",
            "bar_style": "success",
            "description": "",
            "description_tooltip": null,
            "layout": "IPY_MODEL_6c9b15d3993c4e3197d93610517ee384",
            "max": 62452646,
            "min": 0,
            "orientation": "horizontal",
            "style": "IPY_MODEL_d11937237026444786216b96cef6f8f1",
            "value": 62452646
          }
        },
        "7867262208a1438aa458fde995ceeed0": {
          "model_module": "@jupyter-widgets/controls",
          "model_name": "HTMLModel",
          "model_module_version": "1.5.0",
          "state": {
            "_dom_classes": [],
            "_model_module": "@jupyter-widgets/controls",
            "_model_module_version": "1.5.0",
            "_model_name": "HTMLModel",
            "_view_count": null,
            "_view_module": "@jupyter-widgets/controls",
            "_view_module_version": "1.5.0",
            "_view_name": "HTMLView",
            "description": "",
            "description_tooltip": null,
            "layout": "IPY_MODEL_ef6f95631be84eaf96225bed04640d9e",
            "placeholder": "​",
            "style": "IPY_MODEL_7b7a0fbd7af74cda8b339343f72e69de",
            "value": " 62452646/62452646 [00:00&lt;00:00, 123335984.01it/s]"
          }
        },
        "83fc7f5e8b194a40897de73ba5bf40c7": {
          "model_module": "@jupyter-widgets/base",
          "model_name": "LayoutModel",
          "model_module_version": "1.2.0",
          "state": {
            "_model_module": "@jupyter-widgets/base",
            "_model_module_version": "1.2.0",
            "_model_name": "LayoutModel",
            "_view_count": null,
            "_view_module": "@jupyter-widgets/base",
            "_view_module_version": "1.2.0",
            "_view_name": "LayoutView",
            "align_content": null,
            "align_items": null,
            "align_self": null,
            "border": null,
            "bottom": null,
            "display": null,
            "flex": null,
            "flex_flow": null,
            "grid_area": null,
            "grid_auto_columns": null,
            "grid_auto_flow": null,
            "grid_auto_rows": null,
            "grid_column": null,
            "grid_gap": null,
            "grid_row": null,
            "grid_template_areas": null,
            "grid_template_columns": null,
            "grid_template_rows": null,
            "height": null,
            "justify_content": null,
            "justify_items": null,
            "left": null,
            "margin": null,
            "max_height": null,
            "max_width": null,
            "min_height": null,
            "min_width": null,
            "object_fit": null,
            "object_position": null,
            "order": null,
            "overflow": null,
            "overflow_x": null,
            "overflow_y": null,
            "padding": null,
            "right": null,
            "top": null,
            "visibility": null,
            "width": null
          }
        },
        "db318756eebf4a0e965f04f573e5e59f": {
          "model_module": "@jupyter-widgets/base",
          "model_name": "LayoutModel",
          "model_module_version": "1.2.0",
          "state": {
            "_model_module": "@jupyter-widgets/base",
            "_model_module_version": "1.2.0",
            "_model_name": "LayoutModel",
            "_view_count": null,
            "_view_module": "@jupyter-widgets/base",
            "_view_module_version": "1.2.0",
            "_view_name": "LayoutView",
            "align_content": null,
            "align_items": null,
            "align_self": null,
            "border": null,
            "bottom": null,
            "display": null,
            "flex": null,
            "flex_flow": null,
            "grid_area": null,
            "grid_auto_columns": null,
            "grid_auto_flow": null,
            "grid_auto_rows": null,
            "grid_column": null,
            "grid_gap": null,
            "grid_row": null,
            "grid_template_areas": null,
            "grid_template_columns": null,
            "grid_template_rows": null,
            "height": null,
            "justify_content": null,
            "justify_items": null,
            "left": null,
            "margin": null,
            "max_height": null,
            "max_width": null,
            "min_height": null,
            "min_width": null,
            "object_fit": null,
            "object_position": null,
            "order": null,
            "overflow": null,
            "overflow_x": null,
            "overflow_y": null,
            "padding": null,
            "right": null,
            "top": null,
            "visibility": null,
            "width": null
          }
        },
        "931fa54cb5674798a48b8b86a5a0cebf": {
          "model_module": "@jupyter-widgets/controls",
          "model_name": "DescriptionStyleModel",
          "model_module_version": "1.5.0",
          "state": {
            "_model_module": "@jupyter-widgets/controls",
            "_model_module_version": "1.5.0",
            "_model_name": "DescriptionStyleModel",
            "_view_count": null,
            "_view_module": "@jupyter-widgets/base",
            "_view_module_version": "1.2.0",
            "_view_name": "StyleView",
            "description_width": ""
          }
        },
        "6c9b15d3993c4e3197d93610517ee384": {
          "model_module": "@jupyter-widgets/base",
          "model_name": "LayoutModel",
          "model_module_version": "1.2.0",
          "state": {
            "_model_module": "@jupyter-widgets/base",
            "_model_module_version": "1.2.0",
            "_model_name": "LayoutModel",
            "_view_count": null,
            "_view_module": "@jupyter-widgets/base",
            "_view_module_version": "1.2.0",
            "_view_name": "LayoutView",
            "align_content": null,
            "align_items": null,
            "align_self": null,
            "border": null,
            "bottom": null,
            "display": null,
            "flex": null,
            "flex_flow": null,
            "grid_area": null,
            "grid_auto_columns": null,
            "grid_auto_flow": null,
            "grid_auto_rows": null,
            "grid_column": null,
            "grid_gap": null,
            "grid_row": null,
            "grid_template_areas": null,
            "grid_template_columns": null,
            "grid_template_rows": null,
            "height": null,
            "justify_content": null,
            "justify_items": null,
            "left": null,
            "margin": null,
            "max_height": null,
            "max_width": null,
            "min_height": null,
            "min_width": null,
            "object_fit": null,
            "object_position": null,
            "order": null,
            "overflow": null,
            "overflow_x": null,
            "overflow_y": null,
            "padding": null,
            "right": null,
            "top": null,
            "visibility": null,
            "width": null
          }
        },
        "d11937237026444786216b96cef6f8f1": {
          "model_module": "@jupyter-widgets/controls",
          "model_name": "ProgressStyleModel",
          "model_module_version": "1.5.0",
          "state": {
            "_model_module": "@jupyter-widgets/controls",
            "_model_module_version": "1.5.0",
            "_model_name": "ProgressStyleModel",
            "_view_count": null,
            "_view_module": "@jupyter-widgets/base",
            "_view_module_version": "1.2.0",
            "_view_name": "StyleView",
            "bar_color": null,
            "description_width": ""
          }
        },
        "ef6f95631be84eaf96225bed04640d9e": {
          "model_module": "@jupyter-widgets/base",
          "model_name": "LayoutModel",
          "model_module_version": "1.2.0",
          "state": {
            "_model_module": "@jupyter-widgets/base",
            "_model_module_version": "1.2.0",
            "_model_name": "LayoutModel",
            "_view_count": null,
            "_view_module": "@jupyter-widgets/base",
            "_view_module_version": "1.2.0",
            "_view_name": "LayoutView",
            "align_content": null,
            "align_items": null,
            "align_self": null,
            "border": null,
            "bottom": null,
            "display": null,
            "flex": null,
            "flex_flow": null,
            "grid_area": null,
            "grid_auto_columns": null,
            "grid_auto_flow": null,
            "grid_auto_rows": null,
            "grid_column": null,
            "grid_gap": null,
            "grid_row": null,
            "grid_template_areas": null,
            "grid_template_columns": null,
            "grid_template_rows": null,
            "height": null,
            "justify_content": null,
            "justify_items": null,
            "left": null,
            "margin": null,
            "max_height": null,
            "max_width": null,
            "min_height": null,
            "min_width": null,
            "object_fit": null,
            "object_position": null,
            "order": null,
            "overflow": null,
            "overflow_x": null,
            "overflow_y": null,
            "padding": null,
            "right": null,
            "top": null,
            "visibility": null,
            "width": null
          }
        },
        "7b7a0fbd7af74cda8b339343f72e69de": {
          "model_module": "@jupyter-widgets/controls",
          "model_name": "DescriptionStyleModel",
          "model_module_version": "1.5.0",
          "state": {
            "_model_module": "@jupyter-widgets/controls",
            "_model_module_version": "1.5.0",
            "_model_name": "DescriptionStyleModel",
            "_view_count": null,
            "_view_module": "@jupyter-widgets/base",
            "_view_module_version": "1.2.0",
            "_view_name": "StyleView",
            "description_width": ""
          }
        }
      }
    }
  },
  "cells": [
    {
      "cell_type": "markdown",
      "metadata": {
        "id": "view-in-github",
        "colab_type": "text"
      },
      "source": [
        "<a href=\"https://colab.research.google.com/github/Pongpang-2102/Text_Minig_and_Sentiment_Analytics_KDAI_projects/blob/main/KDAI_Tutorial_TMSA_wk04_thai_text_pre_processing_01_Puriwat_(30_Jul_23).ipynb\" target=\"_parent\"><img src=\"https://colab.research.google.com/assets/colab-badge.svg\" alt=\"Open In Colab\"/></a>"
      ]
    },
    {
      "cell_type": "code",
      "execution_count": null,
      "metadata": {
        "id": "REE36X1z3TWc",
        "colab": {
          "base_uri": "https://localhost:8080/"
        },
        "outputId": "02e3b5bd-be72-42ce-b6e7-d1bb72f76c8c"
      },
      "outputs": [
        {
          "output_type": "stream",
          "name": "stdout",
          "text": [
            "Collecting pythainlp\n",
            "  Downloading pythainlp-4.0.2-py3-none-any.whl (13.4 MB)\n",
            "\u001b[2K     \u001b[90m━━━━━━━━━━━━━━━━━━━━━━━━━━━━━━━━━━━━━━━━\u001b[0m \u001b[32m13.4/13.4 MB\u001b[0m \u001b[31m22.4 MB/s\u001b[0m eta \u001b[36m0:00:00\u001b[0m\n",
            "\u001b[?25hRequirement already satisfied: requests>=2.22.0 in /usr/local/lib/python3.10/dist-packages (from pythainlp) (2.31.0)\n",
            "Requirement already satisfied: charset-normalizer<4,>=2 in /usr/local/lib/python3.10/dist-packages (from requests>=2.22.0->pythainlp) (3.2.0)\n",
            "Requirement already satisfied: idna<4,>=2.5 in /usr/local/lib/python3.10/dist-packages (from requests>=2.22.0->pythainlp) (3.4)\n",
            "Requirement already satisfied: urllib3<3,>=1.21.1 in /usr/local/lib/python3.10/dist-packages (from requests>=2.22.0->pythainlp) (2.0.4)\n",
            "Requirement already satisfied: certifi>=2017.4.17 in /usr/local/lib/python3.10/dist-packages (from requests>=2.22.0->pythainlp) (2023.7.22)\n",
            "Installing collected packages: pythainlp\n",
            "Successfully installed pythainlp-4.0.2\n"
          ]
        }
      ],
      "source": [
        "pip install pythainlp"
      ]
    },
    {
      "cell_type": "markdown",
      "source": [
        "#ตัวตัดคำ"
      ],
      "metadata": {
        "id": "8wMWGpGf-Bpz"
      }
    },
    {
      "cell_type": "code",
      "source": [
        "!thainlp tokenize word สภาพการจ้างและสภาพการทำงาน"
      ],
      "metadata": {
        "id": "1v7GkqtR3b73",
        "colab": {
          "base_uri": "https://localhost:8080/"
        },
        "outputId": "61d30d02-4759-4088-96f3-fc5f99d34a25"
      },
      "execution_count": null,
      "outputs": [
        {
          "output_type": "stream",
          "name": "stdout",
          "text": [
            "สภาพการจ้าง|และ|สภาพ|การทำงาน|\n"
          ]
        }
      ]
    },
    {
      "cell_type": "code",
      "source": [
        "from pythainlp.tokenize import word_tokenize\n",
        "\n",
        "text = \"สภาพการจ้างและสภาพการทำงาน\"\n",
        "word_tokenize(text)"
      ],
      "metadata": {
        "id": "dve0bdJL8w-M",
        "colab": {
          "base_uri": "https://localhost:8080/"
        },
        "outputId": "aa7449aa-9c68-42bf-eee5-10423ef36128"
      },
      "execution_count": null,
      "outputs": [
        {
          "output_type": "execute_result",
          "data": {
            "text/plain": [
              "['สภาพการจ้าง', 'และ', 'สภาพ', 'การทำงาน']"
            ]
          },
          "metadata": {},
          "execution_count": 3
        }
      ]
    },
    {
      "cell_type": "code",
      "source": [
        "!thainlp tokenize word -a longest \"แรงงานกะดึก: ฟันเฟืองที่ยังหมุนในคำ่คืนมีเคอร์ฟิว\""
      ],
      "metadata": {
        "id": "xfgmcVEt4N1v",
        "colab": {
          "base_uri": "https://localhost:8080/"
        },
        "outputId": "d765e94c-645c-450f-c953-2f5f590894a7"
      },
      "execution_count": null,
      "outputs": [
        {
          "output_type": "stream",
          "name": "stdout",
          "text": [
            "แรงงาน|กะ|ดึก|:| |ฟันเฟือง|ที่|ยัง|หมุน|ใน|คำ่|คืน|มี|เคอร์ฟิว|\n"
          ]
        }
      ]
    },
    {
      "cell_type": "code",
      "source": [
        "text = \"แรงงานกะดึก: ฟันเฟืองที่ยังหมุนในคำ่คืนมีเคอร์ฟิว\"\n",
        "\n",
        "word_tokenize(text, engine = \"longest\")"
      ],
      "metadata": {
        "id": "5cLJOM489q-d",
        "colab": {
          "base_uri": "https://localhost:8080/"
        },
        "outputId": "53ca225c-2726-481b-f72b-0439160bc635"
      },
      "execution_count": null,
      "outputs": [
        {
          "output_type": "execute_result",
          "data": {
            "text/plain": [
              "['แรงงาน',\n",
              " 'กะ',\n",
              " 'ดึก',\n",
              " ':',\n",
              " ' ',\n",
              " 'ฟันเฟือง',\n",
              " 'ที่',\n",
              " 'ยัง',\n",
              " 'หมุน',\n",
              " 'ใน',\n",
              " 'คำ่',\n",
              " 'คืน',\n",
              " 'มี',\n",
              " 'เคอร์ฟิว']"
            ]
          },
          "metadata": {},
          "execution_count": 5
        }
      ]
    },
    {
      "cell_type": "code",
      "source": [
        "# engine\n",
        "\n",
        "# newmm / -- > Maximal Matching --> match ให้ได้คำที่มีความยาวที่สุด แต่จำนวนคำน้อยที่สุด\n",
        "# longest /\n",
        "# deepcut /\n",
        "# icu\n",
        "\n",
        "# a custom_dict can be provided for newmm, longest, and deepcut"
      ],
      "metadata": {
        "id": "FtVvn5-jGhCI"
      },
      "execution_count": null,
      "outputs": []
    },
    {
      "cell_type": "code",
      "source": [
        "word_tokenize(text, engine = \"newmm\")"
      ],
      "metadata": {
        "id": "0HwHUfIeG2Zg",
        "colab": {
          "base_uri": "https://localhost:8080/"
        },
        "outputId": "b92a60c0-3808-4c55-f925-bf0478819b32"
      },
      "execution_count": null,
      "outputs": [
        {
          "output_type": "execute_result",
          "data": {
            "text/plain": [
              "['แรงงาน',\n",
              " 'กะ',\n",
              " 'ดึก',\n",
              " ':',\n",
              " ' ',\n",
              " 'ฟันเฟือง',\n",
              " 'ที่',\n",
              " 'ยัง',\n",
              " 'หมุน',\n",
              " 'ใน',\n",
              " 'คำ่',\n",
              " 'คืน',\n",
              " 'มี',\n",
              " 'เคอร์ฟิว']"
            ]
          },
          "metadata": {},
          "execution_count": 7
        }
      ]
    },
    {
      "cell_type": "code",
      "source": [
        "pip install deepcut"
      ],
      "metadata": {
        "id": "qDY573TcHB1e",
        "colab": {
          "base_uri": "https://localhost:8080/"
        },
        "outputId": "696befc2-6857-4388-fb6b-0cac679bd9fb"
      },
      "execution_count": null,
      "outputs": [
        {
          "output_type": "stream",
          "name": "stdout",
          "text": [
            "Collecting deepcut\n",
            "  Downloading deepcut-0.7.0.0-py3-none-any.whl (2.0 MB)\n",
            "\u001b[2K     \u001b[90m━━━━━━━━━━━━━━━━━━━━━━━━━━━━━━━━━━━━━━━━\u001b[0m \u001b[32m2.0/2.0 MB\u001b[0m \u001b[31m9.2 MB/s\u001b[0m eta \u001b[36m0:00:00\u001b[0m\n",
            "\u001b[?25hRequirement already satisfied: tensorflow>=2.0.0 in /usr/local/lib/python3.10/dist-packages (from deepcut) (2.12.0)\n",
            "Requirement already satisfied: pandas in /usr/local/lib/python3.10/dist-packages (from deepcut) (1.5.3)\n",
            "Requirement already satisfied: scipy in /usr/local/lib/python3.10/dist-packages (from deepcut) (1.10.1)\n",
            "Requirement already satisfied: numpy in /usr/local/lib/python3.10/dist-packages (from deepcut) (1.23.5)\n",
            "Requirement already satisfied: scikit-learn in /usr/local/lib/python3.10/dist-packages (from deepcut) (1.2.2)\n",
            "Requirement already satisfied: h5py in /usr/local/lib/python3.10/dist-packages (from deepcut) (3.9.0)\n",
            "Requirement already satisfied: absl-py>=1.0.0 in /usr/local/lib/python3.10/dist-packages (from tensorflow>=2.0.0->deepcut) (1.4.0)\n",
            "Requirement already satisfied: astunparse>=1.6.0 in /usr/local/lib/python3.10/dist-packages (from tensorflow>=2.0.0->deepcut) (1.6.3)\n",
            "Requirement already satisfied: flatbuffers>=2.0 in /usr/local/lib/python3.10/dist-packages (from tensorflow>=2.0.0->deepcut) (23.5.26)\n",
            "Requirement already satisfied: gast<=0.4.0,>=0.2.1 in /usr/local/lib/python3.10/dist-packages (from tensorflow>=2.0.0->deepcut) (0.4.0)\n",
            "Requirement already satisfied: google-pasta>=0.1.1 in /usr/local/lib/python3.10/dist-packages (from tensorflow>=2.0.0->deepcut) (0.2.0)\n",
            "Requirement already satisfied: grpcio<2.0,>=1.24.3 in /usr/local/lib/python3.10/dist-packages (from tensorflow>=2.0.0->deepcut) (1.57.0)\n",
            "Requirement already satisfied: jax>=0.3.15 in /usr/local/lib/python3.10/dist-packages (from tensorflow>=2.0.0->deepcut) (0.4.14)\n",
            "Requirement already satisfied: keras<2.13,>=2.12.0 in /usr/local/lib/python3.10/dist-packages (from tensorflow>=2.0.0->deepcut) (2.12.0)\n",
            "Requirement already satisfied: libclang>=13.0.0 in /usr/local/lib/python3.10/dist-packages (from tensorflow>=2.0.0->deepcut) (16.0.6)\n",
            "Requirement already satisfied: opt-einsum>=2.3.2 in /usr/local/lib/python3.10/dist-packages (from tensorflow>=2.0.0->deepcut) (3.3.0)\n",
            "Requirement already satisfied: packaging in /usr/local/lib/python3.10/dist-packages (from tensorflow>=2.0.0->deepcut) (23.1)\n",
            "Requirement already satisfied: protobuf!=4.21.0,!=4.21.1,!=4.21.2,!=4.21.3,!=4.21.4,!=4.21.5,<5.0.0dev,>=3.20.3 in /usr/local/lib/python3.10/dist-packages (from tensorflow>=2.0.0->deepcut) (3.20.3)\n",
            "Requirement already satisfied: setuptools in /usr/local/lib/python3.10/dist-packages (from tensorflow>=2.0.0->deepcut) (67.7.2)\n",
            "Requirement already satisfied: six>=1.12.0 in /usr/local/lib/python3.10/dist-packages (from tensorflow>=2.0.0->deepcut) (1.16.0)\n",
            "Requirement already satisfied: tensorboard<2.13,>=2.12 in /usr/local/lib/python3.10/dist-packages (from tensorflow>=2.0.0->deepcut) (2.12.3)\n",
            "Requirement already satisfied: tensorflow-estimator<2.13,>=2.12.0 in /usr/local/lib/python3.10/dist-packages (from tensorflow>=2.0.0->deepcut) (2.12.0)\n",
            "Requirement already satisfied: termcolor>=1.1.0 in /usr/local/lib/python3.10/dist-packages (from tensorflow>=2.0.0->deepcut) (2.3.0)\n",
            "Requirement already satisfied: typing-extensions>=3.6.6 in /usr/local/lib/python3.10/dist-packages (from tensorflow>=2.0.0->deepcut) (4.7.1)\n",
            "Requirement already satisfied: wrapt<1.15,>=1.11.0 in /usr/local/lib/python3.10/dist-packages (from tensorflow>=2.0.0->deepcut) (1.14.1)\n",
            "Requirement already satisfied: tensorflow-io-gcs-filesystem>=0.23.1 in /usr/local/lib/python3.10/dist-packages (from tensorflow>=2.0.0->deepcut) (0.33.0)\n",
            "Requirement already satisfied: python-dateutil>=2.8.1 in /usr/local/lib/python3.10/dist-packages (from pandas->deepcut) (2.8.2)\n",
            "Requirement already satisfied: pytz>=2020.1 in /usr/local/lib/python3.10/dist-packages (from pandas->deepcut) (2023.3)\n",
            "Requirement already satisfied: joblib>=1.1.1 in /usr/local/lib/python3.10/dist-packages (from scikit-learn->deepcut) (1.3.2)\n",
            "Requirement already satisfied: threadpoolctl>=2.0.0 in /usr/local/lib/python3.10/dist-packages (from scikit-learn->deepcut) (3.2.0)\n",
            "Requirement already satisfied: wheel<1.0,>=0.23.0 in /usr/local/lib/python3.10/dist-packages (from astunparse>=1.6.0->tensorflow>=2.0.0->deepcut) (0.41.2)\n",
            "Requirement already satisfied: ml-dtypes>=0.2.0 in /usr/local/lib/python3.10/dist-packages (from jax>=0.3.15->tensorflow>=2.0.0->deepcut) (0.2.0)\n",
            "Requirement already satisfied: google-auth<3,>=1.6.3 in /usr/local/lib/python3.10/dist-packages (from tensorboard<2.13,>=2.12->tensorflow>=2.0.0->deepcut) (2.17.3)\n",
            "Requirement already satisfied: google-auth-oauthlib<1.1,>=0.5 in /usr/local/lib/python3.10/dist-packages (from tensorboard<2.13,>=2.12->tensorflow>=2.0.0->deepcut) (1.0.0)\n",
            "Requirement already satisfied: markdown>=2.6.8 in /usr/local/lib/python3.10/dist-packages (from tensorboard<2.13,>=2.12->tensorflow>=2.0.0->deepcut) (3.4.4)\n",
            "Requirement already satisfied: requests<3,>=2.21.0 in /usr/local/lib/python3.10/dist-packages (from tensorboard<2.13,>=2.12->tensorflow>=2.0.0->deepcut) (2.31.0)\n",
            "Requirement already satisfied: tensorboard-data-server<0.8.0,>=0.7.0 in /usr/local/lib/python3.10/dist-packages (from tensorboard<2.13,>=2.12->tensorflow>=2.0.0->deepcut) (0.7.1)\n",
            "Requirement already satisfied: werkzeug>=1.0.1 in /usr/local/lib/python3.10/dist-packages (from tensorboard<2.13,>=2.12->tensorflow>=2.0.0->deepcut) (2.3.7)\n",
            "Requirement already satisfied: cachetools<6.0,>=2.0.0 in /usr/local/lib/python3.10/dist-packages (from google-auth<3,>=1.6.3->tensorboard<2.13,>=2.12->tensorflow>=2.0.0->deepcut) (5.3.1)\n",
            "Requirement already satisfied: pyasn1-modules>=0.2.1 in /usr/local/lib/python3.10/dist-packages (from google-auth<3,>=1.6.3->tensorboard<2.13,>=2.12->tensorflow>=2.0.0->deepcut) (0.3.0)\n",
            "Requirement already satisfied: rsa<5,>=3.1.4 in /usr/local/lib/python3.10/dist-packages (from google-auth<3,>=1.6.3->tensorboard<2.13,>=2.12->tensorflow>=2.0.0->deepcut) (4.9)\n",
            "Requirement already satisfied: requests-oauthlib>=0.7.0 in /usr/local/lib/python3.10/dist-packages (from google-auth-oauthlib<1.1,>=0.5->tensorboard<2.13,>=2.12->tensorflow>=2.0.0->deepcut) (1.3.1)\n",
            "Requirement already satisfied: charset-normalizer<4,>=2 in /usr/local/lib/python3.10/dist-packages (from requests<3,>=2.21.0->tensorboard<2.13,>=2.12->tensorflow>=2.0.0->deepcut) (3.2.0)\n",
            "Requirement already satisfied: idna<4,>=2.5 in /usr/local/lib/python3.10/dist-packages (from requests<3,>=2.21.0->tensorboard<2.13,>=2.12->tensorflow>=2.0.0->deepcut) (3.4)\n",
            "Requirement already satisfied: urllib3<3,>=1.21.1 in /usr/local/lib/python3.10/dist-packages (from requests<3,>=2.21.0->tensorboard<2.13,>=2.12->tensorflow>=2.0.0->deepcut) (2.0.4)\n",
            "Requirement already satisfied: certifi>=2017.4.17 in /usr/local/lib/python3.10/dist-packages (from requests<3,>=2.21.0->tensorboard<2.13,>=2.12->tensorflow>=2.0.0->deepcut) (2023.7.22)\n",
            "Requirement already satisfied: MarkupSafe>=2.1.1 in /usr/local/lib/python3.10/dist-packages (from werkzeug>=1.0.1->tensorboard<2.13,>=2.12->tensorflow>=2.0.0->deepcut) (2.1.3)\n",
            "Requirement already satisfied: pyasn1<0.6.0,>=0.4.6 in /usr/local/lib/python3.10/dist-packages (from pyasn1-modules>=0.2.1->google-auth<3,>=1.6.3->tensorboard<2.13,>=2.12->tensorflow>=2.0.0->deepcut) (0.5.0)\n",
            "Requirement already satisfied: oauthlib>=3.0.0 in /usr/local/lib/python3.10/dist-packages (from requests-oauthlib>=0.7.0->google-auth-oauthlib<1.1,>=0.5->tensorboard<2.13,>=2.12->tensorflow>=2.0.0->deepcut) (3.2.2)\n",
            "Installing collected packages: deepcut\n",
            "Successfully installed deepcut-0.7.0.0\n"
          ]
        }
      ]
    },
    {
      "cell_type": "code",
      "source": [
        "word_tokenize(text, engine = \"deepcut\")"
      ],
      "metadata": {
        "id": "EqcOikQzG6Lc",
        "colab": {
          "base_uri": "https://localhost:8080/"
        },
        "outputId": "49da81fd-ff69-41cc-f6bb-7cc7f83b6bcd"
      },
      "execution_count": null,
      "outputs": [
        {
          "output_type": "stream",
          "name": "stdout",
          "text": [
            "2/2 [==============================] - 1s 14ms/step\n"
          ]
        },
        {
          "output_type": "execute_result",
          "data": {
            "text/plain": [
              "['แรงงาน',\n",
              " 'กะดึก',\n",
              " ':',\n",
              " ' ',\n",
              " 'ฟันเฟือง',\n",
              " 'ที่',\n",
              " 'ยัง',\n",
              " 'หมุน',\n",
              " 'ใน',\n",
              " 'คำ่',\n",
              " 'คืน',\n",
              " 'มี',\n",
              " 'เคอร์ฟิว']"
            ]
          },
          "metadata": {},
          "execution_count": 9
        }
      ]
    },
    {
      "cell_type": "code",
      "source": [
        "pip install pyicu"
      ],
      "metadata": {
        "id": "kuZeG4Z6HbJC",
        "colab": {
          "base_uri": "https://localhost:8080/"
        },
        "outputId": "ff74161b-0af4-4a0e-a401-14469abea224"
      },
      "execution_count": null,
      "outputs": [
        {
          "output_type": "stream",
          "name": "stdout",
          "text": [
            "Collecting pyicu\n",
            "  Downloading PyICU-2.11.tar.gz (257 kB)\n",
            "\u001b[2K     \u001b[90m━━━━━━━━━━━━━━━━━━━━━━━━━━━━━━━━━━━━━━━\u001b[0m \u001b[32m257.9/257.9 kB\u001b[0m \u001b[31m3.5 MB/s\u001b[0m eta \u001b[36m0:00:00\u001b[0m\n",
            "\u001b[?25h  Installing build dependencies ... \u001b[?25l\u001b[?25hdone\n",
            "  Getting requirements to build wheel ... \u001b[?25l\u001b[?25hdone\n",
            "  Preparing metadata (pyproject.toml) ... \u001b[?25l\u001b[?25hdone\n",
            "Building wheels for collected packages: pyicu\n",
            "  Building wheel for pyicu (pyproject.toml) ... \u001b[?25l\u001b[?25hdone\n",
            "  Created wheel for pyicu: filename=PyICU-2.11-cp310-cp310-linux_x86_64.whl size=1742563 sha256=2f9870866f21c3e0de0d28f4835d81f25bf821f8481551c8b4dce777531ffd7e\n",
            "  Stored in directory: /root/.cache/pip/wheels/67/c3/00/2176cc05d3ea22935a9c78f1034b1a3e3697ef11ffb5cbe2f5\n",
            "Successfully built pyicu\n",
            "Installing collected packages: pyicu\n",
            "Successfully installed pyicu-2.11\n"
          ]
        }
      ]
    },
    {
      "cell_type": "code",
      "source": [
        "word_tokenize(text, engine = \"icu\")"
      ],
      "metadata": {
        "id": "0qleBmIzHLmf",
        "colab": {
          "base_uri": "https://localhost:8080/"
        },
        "outputId": "20d71092-429e-47ee-81f4-d84fd24eeba6"
      },
      "execution_count": null,
      "outputs": [
        {
          "output_type": "execute_result",
          "data": {
            "text/plain": [
              "['แรงงาน',\n",
              " 'กะ',\n",
              " 'ดึก',\n",
              " ' ',\n",
              " ':',\n",
              " '  ',\n",
              " 'ฟัน',\n",
              " 'เฟือง',\n",
              " 'ที่',\n",
              " 'ยัง',\n",
              " 'หมุน',\n",
              " 'ใน',\n",
              " 'คำ่',\n",
              " 'คืน',\n",
              " 'มี',\n",
              " 'เคอร์ฟิว']"
            ]
          },
          "metadata": {},
          "execution_count": 11
        }
      ]
    },
    {
      "cell_type": "markdown",
      "source": [
        "#ตัวตัดประโยค"
      ],
      "metadata": {
        "id": "WZK_KMM--OJL"
      }
    },
    {
      "cell_type": "code",
      "source": [
        "pip install python-crfsuite"
      ],
      "metadata": {
        "id": "bhOZmRof4mHa",
        "colab": {
          "base_uri": "https://localhost:8080/"
        },
        "outputId": "8e4003e1-47be-4402-d6af-a92e147fc597"
      },
      "execution_count": null,
      "outputs": [
        {
          "output_type": "stream",
          "name": "stdout",
          "text": [
            "Collecting python-crfsuite\n",
            "  Downloading python_crfsuite-0.9.9-cp310-cp310-manylinux_2_17_x86_64.manylinux2014_x86_64.whl (993 kB)\n",
            "\u001b[2K     \u001b[90m━━━━━━━━━━━━━━━━━━━━━━━━━━━━━━━━━━━━━━━\u001b[0m \u001b[32m993.5/993.5 kB\u001b[0m \u001b[31m7.4 MB/s\u001b[0m eta \u001b[36m0:00:00\u001b[0m\n",
            "\u001b[?25hInstalling collected packages: python-crfsuite\n",
            "Successfully installed python-crfsuite-0.9.9\n"
          ]
        }
      ]
    },
    {
      "cell_type": "code",
      "source": [
        "!thainlp tokenize sent \"หลายปีที่ผ่านมา ชาวชุมชนโคกยาวหลายคนได้พากันย้ายออก บ้างก็เสียชีวิต บางคนถูกจำคุกในข้อบุกรุกป่าหรือแม้กระทั่งสูญหาย\""
      ],
      "metadata": {
        "id": "G9o-y6MY4T2g",
        "colab": {
          "base_uri": "https://localhost:8080/"
        },
        "outputId": "f1acdd9b-0afd-45d5-d6bb-41ce57b43210"
      },
      "execution_count": null,
      "outputs": [
        {
          "output_type": "stream",
          "name": "stdout",
          "text": [
            "หลายปีที่ผ่านมา @@ชาวชุมชนโคกยาวหลายคนได้พากันย้ายออก @@บ้างก็เสียชีวิต @@บางคนถูกจำคุกในข้อบุกรุกป่าหรือแม้กระทั่งสูญหาย@@\n"
          ]
        }
      ]
    },
    {
      "cell_type": "code",
      "source": [
        "from pythainlp.tokenize import sent_tokenize"
      ],
      "metadata": {
        "id": "AO0e8IWW-U48"
      },
      "execution_count": null,
      "outputs": []
    },
    {
      "cell_type": "code",
      "source": [
        "text = \"หลายปีที่ผ่านมา ชาวชุมชนโคกยาวหลายคนได้พากันย้ายออก บ้างก็เสียชีวิต บางคนถูกจำคุกในข้อบุกรุกป่าหรือแม้กระทั่งสูญหาย\"\n",
        "\n",
        "sent_tokenize(text)"
      ],
      "metadata": {
        "id": "uTvIo0LZ-eJi",
        "colab": {
          "base_uri": "https://localhost:8080/"
        },
        "outputId": "7d453269-e58c-4a71-b424-3a6b713cbf72"
      },
      "execution_count": null,
      "outputs": [
        {
          "output_type": "execute_result",
          "data": {
            "text/plain": [
              "['หลายปีที่ผ่านมา ',\n",
              " 'ชาวชุมชนโคกยาวหลายคนได้พากันย้ายออก ',\n",
              " 'บ้างก็เสียชีวิต ',\n",
              " 'บางคนถูกจำคุกในข้อบุกรุกป่าหรือแม้กระทั่งสูญหาย']"
            ]
          },
          "metadata": {},
          "execution_count": 15
        }
      ]
    },
    {
      "cell_type": "code",
      "source": [
        "# ลองเอาข้อความติดกันหมด\n",
        "text_02 = \"หลายปีที่ผ่านมาชาวชุมชนโคกยาวหลายคนได้พากันย้ายออกบ้างก็เสียชีวิตบางคนถูกจำคุกในข้อบุกรุกป่าหรือแม้กระทั่งสูญหาย\"\n",
        "\n",
        "sent_tokenize(text_02)"
      ],
      "metadata": {
        "colab": {
          "base_uri": "https://localhost:8080/"
        },
        "id": "dfNkw43TfxIG",
        "outputId": "67646a6e-2039-407d-fba3-f497b5ef9039"
      },
      "execution_count": null,
      "outputs": [
        {
          "output_type": "execute_result",
          "data": {
            "text/plain": [
              "['หลายปีที่ผ่านมาชาวชุมชนโคกยาวหลายคนได้พากันย้ายออกบ้างก็เสียชีวิตบางคนถูกจำคุกในข้อบุกรุกป่าหรือแม้กระทั่งสูญหาย']"
            ]
          },
          "metadata": {},
          "execution_count": 16
        }
      ]
    },
    {
      "cell_type": "code",
      "source": [
        "# ลองเอาข้อความติดกันหมด\n",
        "text_03 = \"หลายปีที่ผ่านมาชาวชุมชนโคกยาวหลายคนได้พากันย้ายออก บ้างก็เสียชีวิตบางคนถูกจำคุกในข้อบุกรุกป่าหรือแม้กระทั่งสูญหาย\"\n",
        "sent_tokenize(text_03)"
      ],
      "metadata": {
        "colab": {
          "base_uri": "https://localhost:8080/"
        },
        "id": "5xqa4KnNf7mi",
        "outputId": "d782b807-a814-4846-cb54-2c1607a2084a"
      },
      "execution_count": null,
      "outputs": [
        {
          "output_type": "execute_result",
          "data": {
            "text/plain": [
              "['หลายปีที่ผ่านมาชาวชุมชนโคกยาวหลายคนได้พากันย้ายออก ',\n",
              " 'บ้างก็เสียชีวิตบางคนถูกจำคุกในข้อบุกรุกป่าหรือแม้กระทั่งสูญหาย']"
            ]
          },
          "metadata": {},
          "execution_count": 17
        }
      ]
    },
    {
      "cell_type": "markdown",
      "source": [
        "#Augmentation ภาษาไทย"
      ],
      "metadata": {
        "id": "yFVFelZ4-pmi"
      }
    },
    {
      "cell_type": "code",
      "source": [
        "from pythainlp.augment import WordNetAug\n",
        "\n",
        "aug = WordNetAug()"
      ],
      "metadata": {
        "id": "xOdRB1JA4foI",
        "colab": {
          "base_uri": "https://localhost:8080/"
        },
        "outputId": "7725e690-4b4a-40b8-edba-17ef3a36b6d3"
      },
      "execution_count": null,
      "outputs": [
        {
          "output_type": "stream",
          "name": "stderr",
          "text": [
            "[nltk_data] Downloading package omw to /root/nltk_data...\n",
            "[nltk_data] Downloading package wordnet to /root/nltk_data...\n"
          ]
        }
      ]
    },
    {
      "cell_type": "code",
      "source": [
        "import nltk\n",
        "nltk.download('omw-1.4')"
      ],
      "metadata": {
        "id": "zii2gqMf5WFn",
        "colab": {
          "base_uri": "https://localhost:8080/"
        },
        "outputId": "1c90792f-8d92-4bd3-f187-9ab35e420bb2"
      },
      "execution_count": null,
      "outputs": [
        {
          "output_type": "stream",
          "name": "stderr",
          "text": [
            "[nltk_data] Downloading package omw-1.4 to /root/nltk_data...\n"
          ]
        },
        {
          "output_type": "execute_result",
          "data": {
            "text/plain": [
              "True"
            ]
          },
          "metadata": {},
          "execution_count": 19
        }
      ]
    },
    {
      "cell_type": "code",
      "source": [
        "aug.augment(\"เราชอบไปโรงเรียน\")"
      ],
      "metadata": {
        "id": "L_m0uiGY5MhK",
        "colab": {
          "base_uri": "https://localhost:8080/"
        },
        "outputId": "07bfe85f-7d37-4f6b-a33b-530a126c0ca8"
      },
      "execution_count": null,
      "outputs": [
        {
          "output_type": "execute_result",
          "data": {
            "text/plain": [
              "[('เรา', 'ชอบ', 'ไป', 'ร.ร.'),\n",
              " ('เรา', 'ชอบ', 'ไป', 'รร.'),\n",
              " ('เรา', 'ชอบ', 'ไป', 'อาคารเรียน'),\n",
              " ('เรา', 'ชอบ', 'ไป', 'โรงเรียน'),\n",
              " ('เรา', 'ชอบ', 'ไปยัง', 'ร.ร.'),\n",
              " ('เรา', 'ชอบ', 'ไปยัง', 'รร.')]"
            ]
          },
          "metadata": {},
          "execution_count": 20
        }
      ]
    },
    {
      "cell_type": "markdown",
      "source": [
        "#แก้คำผิด"
      ],
      "metadata": {
        "id": "LjU6Mn6s-x7U"
      }
    },
    {
      "cell_type": "code",
      "source": [
        "from pythainlp.spell import correct"
      ],
      "metadata": {
        "id": "bJY9uVb25Pbg"
      },
      "execution_count": null,
      "outputs": []
    },
    {
      "cell_type": "code",
      "source": [
        "correct(\"เส้นตรบ\")"
      ],
      "metadata": {
        "id": "qHw_tIyC6Lo5",
        "colab": {
          "base_uri": "https://localhost:8080/",
          "height": 34
        },
        "outputId": "8fe6c0b4-7c5c-4a8b-e104-8a902840403b"
      },
      "execution_count": null,
      "outputs": [
        {
          "output_type": "execute_result",
          "data": {
            "text/plain": [
              "'เส้นตรง'"
            ],
            "application/vnd.google.colaboratory.intrinsic+json": {
              "type": "string"
            }
          },
          "metadata": {},
          "execution_count": 22
        }
      ]
    },
    {
      "cell_type": "code",
      "source": [
        "correct(\"ครัช\")"
      ],
      "metadata": {
        "id": "e80TyuTG6M7C",
        "colab": {
          "base_uri": "https://localhost:8080/",
          "height": 34
        },
        "outputId": "bdb3d86c-af6a-4c13-af80-37e7e697c488"
      },
      "execution_count": null,
      "outputs": [
        {
          "output_type": "execute_result",
          "data": {
            "text/plain": [
              "'ครับ'"
            ],
            "application/vnd.google.colaboratory.intrinsic+json": {
              "type": "string"
            }
          },
          "metadata": {},
          "execution_count": 23
        }
      ]
    },
    {
      "cell_type": "code",
      "source": [
        "correct(\"สังเกตุ\")"
      ],
      "metadata": {
        "id": "SMueTmso6OP9",
        "colab": {
          "base_uri": "https://localhost:8080/",
          "height": 34
        },
        "outputId": "c03675c9-1fd0-4d38-efcc-97ec70782d94"
      },
      "execution_count": null,
      "outputs": [
        {
          "output_type": "execute_result",
          "data": {
            "text/plain": [
              "'สังเกต'"
            ],
            "application/vnd.google.colaboratory.intrinsic+json": {
              "type": "string"
            }
          },
          "metadata": {},
          "execution_count": 24
        }
      ]
    },
    {
      "cell_type": "code",
      "source": [
        "correct(\"กระปิ\")"
      ],
      "metadata": {
        "id": "j4ewdJzm6Pyu",
        "colab": {
          "base_uri": "https://localhost:8080/",
          "height": 34
        },
        "outputId": "86236179-498b-46e3-c7e6-62f5fa379d90"
      },
      "execution_count": null,
      "outputs": [
        {
          "output_type": "execute_result",
          "data": {
            "text/plain": [
              "'กะปิ'"
            ],
            "application/vnd.google.colaboratory.intrinsic+json": {
              "type": "string"
            }
          },
          "metadata": {},
          "execution_count": 25
        }
      ]
    },
    {
      "cell_type": "code",
      "source": [
        "correct(\"เหตการณ\")"
      ],
      "metadata": {
        "id": "B4hQJiJj6Q3T",
        "colab": {
          "base_uri": "https://localhost:8080/",
          "height": 34
        },
        "outputId": "7c7729d4-c118-489c-a7b2-9b7ef14506c8"
      },
      "execution_count": null,
      "outputs": [
        {
          "output_type": "execute_result",
          "data": {
            "text/plain": [
              "'เหตุการณ์'"
            ],
            "application/vnd.google.colaboratory.intrinsic+json": {
              "type": "string"
            }
          },
          "metadata": {},
          "execution_count": 26
        }
      ]
    },
    {
      "cell_type": "markdown",
      "source": [
        "#WordVector"
      ],
      "metadata": {
        "id": "B3L3RrWj_8SB"
      }
    },
    {
      "cell_type": "code",
      "source": [
        "from pythainlp.word_vector import WordVector\n",
        "\n",
        "wv = WordVector(model_name='thai2fit_wv')"
      ],
      "metadata": {
        "id": "LaPA0v6r8c7g",
        "colab": {
          "base_uri": "https://localhost:8080/",
          "height": 84,
          "referenced_widgets": [
            "8b7e6a3c954949d2826fc00c765abd72",
            "a335f4f16f324be58a31b31c7e062542",
            "1ad3bf36b7414fe995769cb159de6466",
            "7867262208a1438aa458fde995ceeed0",
            "83fc7f5e8b194a40897de73ba5bf40c7",
            "db318756eebf4a0e965f04f573e5e59f",
            "931fa54cb5674798a48b8b86a5a0cebf",
            "6c9b15d3993c4e3197d93610517ee384",
            "d11937237026444786216b96cef6f8f1",
            "ef6f95631be84eaf96225bed04640d9e",
            "7b7a0fbd7af74cda8b339343f72e69de"
          ]
        },
        "outputId": "924b8fb9-aa68-4415-8d1c-773fa4d547c1"
      },
      "execution_count": null,
      "outputs": [
        {
          "output_type": "stream",
          "name": "stdout",
          "text": [
            "Corpus: thai2fit_wv\n",
            "- Downloading: thai2fit_wv 0.1\n"
          ]
        },
        {
          "output_type": "display_data",
          "data": {
            "text/plain": [
              "  0%|          | 0/62452646 [00:00<?, ?it/s]"
            ],
            "application/vnd.jupyter.widget-view+json": {
              "version_major": 2,
              "version_minor": 0,
              "model_id": "8b7e6a3c954949d2826fc00c765abd72"
            }
          },
          "metadata": {}
        }
      ]
    },
    {
      "cell_type": "code",
      "source": [
        "# thai2fit_wv\n",
        "# ltw2v\n",
        "# ltw2v_v1.0_15_window\n",
        "# ltw2v_v1.0_5_window"
      ],
      "metadata": {
        "id": "av8p-ZTJBhbv"
      },
      "execution_count": null,
      "outputs": []
    },
    {
      "cell_type": "code",
      "source": [
        "wv.similarity('รถไฟ', 'รถไฟฟ้า')"
      ],
      "metadata": {
        "id": "hSMJ0_em_-6-",
        "colab": {
          "base_uri": "https://localhost:8080/"
        },
        "outputId": "68fd8e68-1625-4d6c-ec1c-9a1352926a19"
      },
      "execution_count": null,
      "outputs": [
        {
          "output_type": "execute_result",
          "data": {
            "text/plain": [
              "0.43387136"
            ]
          },
          "metadata": {},
          "execution_count": 29
        }
      ]
    },
    {
      "cell_type": "code",
      "source": [
        "wv.similarity('เสือดาว', 'รถไฟฟ้า')"
      ],
      "metadata": {
        "id": "BWhFcNLuAExl",
        "colab": {
          "base_uri": "https://localhost:8080/"
        },
        "outputId": "823fb0b0-b807-48d4-c4d2-4183d11d8d2f"
      },
      "execution_count": null,
      "outputs": [
        {
          "output_type": "execute_result",
          "data": {
            "text/plain": [
              "0.04300258"
            ]
          },
          "metadata": {},
          "execution_count": 30
        }
      ]
    },
    {
      "cell_type": "code",
      "source": [
        "words = ['ดีไซน์เนอร์', 'พนักงานเงินเดือน', 'หมอ', 'เรือ']\n",
        "\n",
        "wv.doesnt_match(words)"
      ],
      "metadata": {
        "id": "kDqtGcgYAGyX",
        "colab": {
          "base_uri": "https://localhost:8080/",
          "height": 52
        },
        "outputId": "c60603e6-30c1-4c81-a1a0-3efc70541830"
      },
      "execution_count": null,
      "outputs": [
        {
          "output_type": "stream",
          "name": "stderr",
          "text": [
            "WARNING:gensim.models.keyedvectors:vectors for words {'พนักงานเงินเดือน', 'ดีไซน์เนอร์'} are not present in the model, ignoring these words\n"
          ]
        },
        {
          "output_type": "execute_result",
          "data": {
            "text/plain": [
              "'เรือ'"
            ],
            "application/vnd.google.colaboratory.intrinsic+json": {
              "type": "string"
            }
          },
          "metadata": {},
          "execution_count": 31
        }
      ]
    },
    {
      "cell_type": "code",
      "source": [
        "vectors = wv.get_model()"
      ],
      "metadata": {
        "id": "gLP5uyGaAmVx"
      },
      "execution_count": null,
      "outputs": []
    },
    {
      "cell_type": "code",
      "source": [
        "vectors['รถไฟฟ้า'].shape"
      ],
      "metadata": {
        "id": "7gtlG8rjBMb4",
        "colab": {
          "base_uri": "https://localhost:8080/"
        },
        "outputId": "a3011fe3-452b-4b2a-bf2a-d1a89e34f4c4"
      },
      "execution_count": null,
      "outputs": [
        {
          "output_type": "execute_result",
          "data": {
            "text/plain": [
              "(300,)"
            ]
          },
          "metadata": {},
          "execution_count": 33
        }
      ]
    },
    {
      "cell_type": "code",
      "source": [
        "vectors['รถไฟฟ้า']"
      ],
      "metadata": {
        "id": "Ez_I3CRzDkPd",
        "colab": {
          "base_uri": "https://localhost:8080/"
        },
        "outputId": "9f72711f-a6a3-427b-ee52-32e7a312f384"
      },
      "execution_count": null,
      "outputs": [
        {
          "output_type": "execute_result",
          "data": {
            "text/plain": [
              "array([ 0.159371,  0.046448,  0.064941,  0.010882, -0.227254,  0.035545,\n",
              "       -0.100203, -0.204774, -0.06124 ,  0.05724 , -0.135066, -0.401827,\n",
              "        0.115108, -0.233535,  0.24606 ,  0.221626,  0.035695, -0.212671,\n",
              "        0.267472, -0.407251,  0.297647, -0.043062, -0.02219 , -0.164146,\n",
              "       -0.166252, -0.09319 ,  0.266164, -0.142927,  0.038367, -0.516585,\n",
              "       -0.103831,  0.025378,  0.386013, -0.108561,  0.061753,  0.021233,\n",
              "       -0.009349,  0.125421,  0.221987, -0.316508, -0.281492, -0.410069,\n",
              "       -0.20491 , -0.166063,  0.21125 ,  0.169851,  0.105351,  0.286608,\n",
              "        0.111881, -0.202888, -0.043649,  0.284617, -0.12121 ,  0.063544,\n",
              "       -0.022596,  0.180871,  0.018951,  0.033441,  0.269066,  0.031739,\n",
              "        0.089683,  0.185918, -0.215825, -0.274665, -0.070944,  0.132921,\n",
              "        0.386286,  0.166026, -0.293045, -0.113182, -0.508216,  0.126657,\n",
              "        0.201042,  0.009564,  0.101712, -0.158708,  0.088442, -0.151663,\n",
              "       -0.245393, -0.262549,  0.17336 ,  0.292612, -0.556291, -0.182904,\n",
              "        0.303263, -0.086975, -0.139942,  0.03585 , -0.020826, -0.193786,\n",
              "        0.134511, -0.138703,  0.272642,  0.07975 , -0.029321,  0.061828,\n",
              "        0.076899, -0.00161 , -0.3222  ,  0.047302,  0.124761, -0.092829,\n",
              "        0.006581, -0.039986, -0.202928,  0.271686,  0.164022,  0.226275,\n",
              "        0.023029, -0.047768,  0.056016,  0.181059,  0.08675 , -0.294486,\n",
              "        0.08047 , -0.054912,  0.014938,  0.145265,  0.339663,  0.062683,\n",
              "       -0.254377,  0.097332, -0.377485,  0.050583, -0.087026, -0.139133,\n",
              "        0.10427 , -0.111039, -0.03469 , -0.07536 ,  0.083239,  0.295842,\n",
              "        0.285745,  0.047028, -0.019713, -0.198758,  0.249576, -0.008807,\n",
              "        0.053601, -0.12026 , -0.023594, -0.161437,  0.30256 , -0.134598,\n",
              "       -0.211607,  0.306974,  0.226536, -0.056054,  0.028656, -0.060855,\n",
              "        0.16441 , -0.014659,  0.280115, -0.185917, -0.081325, -0.182018,\n",
              "        0.235824,  0.026704, -0.24812 ,  0.210925,  0.209793,  0.076374,\n",
              "       -0.187243,  0.046551, -0.225833,  0.558796, -0.265127, -0.115574,\n",
              "       -0.142801,  0.09391 ,  0.057145, -0.137992,  0.415815, -0.027789,\n",
              "       -0.257928,  0.018817, -0.097967, -0.132324, -0.113234,  0.218614,\n",
              "        0.289861, -0.347786, -0.09278 ,  0.039757, -0.172746,  0.135578,\n",
              "       -0.07176 , -0.118423, -0.166193, -0.356701,  0.246019, -0.074726,\n",
              "       -0.023631, -0.050387, -0.279258,  0.22197 ,  0.092643, -0.457058,\n",
              "        0.421405,  0.019631,  0.144278, -0.211086,  0.053984, -0.188916,\n",
              "        0.26798 ,  0.060208,  0.127692, -0.138805, -0.227846,  0.177728,\n",
              "       -0.011759, -0.081374, -0.329504, -0.17064 , -0.036823,  0.078695,\n",
              "       -0.103005, -0.033602, -0.156657,  0.007862,  0.125067, -0.109303,\n",
              "       -0.155122, -0.134973, -0.0402  ,  0.209499, -0.008835, -0.242072,\n",
              "        0.112775,  0.305652, -0.122219,  0.144159,  0.110042, -0.05417 ,\n",
              "       -0.183547, -0.108376,  0.07778 ,  0.093436, -0.202552, -0.281187,\n",
              "       -0.00087 ,  0.172055,  0.16274 , -0.058684, -0.061082, -0.058846,\n",
              "        0.024449, -0.167509,  0.021506, -0.043419, -0.112422, -0.032613,\n",
              "        0.179773, -0.021732, -0.491454, -0.135411, -0.126717, -0.16607 ,\n",
              "        0.023988,  0.067683,  0.194339,  0.230905,  0.210424,  0.651911,\n",
              "       -0.157112, -0.476266,  0.571659, -0.08267 , -0.589433,  0.489681,\n",
              "       -0.114779, -0.102294, -0.070302,  0.197864,  0.122096,  0.085125,\n",
              "        0.007643,  0.089994, -0.247196,  0.692981, -0.145919,  0.006453,\n",
              "        0.144421,  0.05967 , -0.481772,  0.096973,  0.196193,  0.151247,\n",
              "       -0.031929, -0.068479, -0.302991,  0.098235, -0.096822,  0.215924,\n",
              "       -0.195847, -0.089221,  0.086357, -0.210307, -0.01181 , -0.065209],\n",
              "      dtype=float32)"
            ]
          },
          "metadata": {},
          "execution_count": 34
        }
      ]
    },
    {
      "cell_type": "markdown",
      "source": [
        "#Spacy thai"
      ],
      "metadata": {
        "id": "TVFLFutzEvIW"
      }
    },
    {
      "cell_type": "code",
      "source": [
        "pip install spacy_thai"
      ],
      "metadata": {
        "id": "3xd_hDIeFJRS",
        "colab": {
          "base_uri": "https://localhost:8080/"
        },
        "outputId": "b45279d0-7600-48bc-c164-82580e3b4218"
      },
      "execution_count": null,
      "outputs": [
        {
          "output_type": "stream",
          "name": "stdout",
          "text": [
            "Collecting spacy_thai\n",
            "  Downloading spacy_thai-0.7.3-py3-none-any.whl (6.0 MB)\n",
            "\u001b[2K     \u001b[90m━━━━━━━━━━━━━━━━━━━━━━━━━━━━━━━━━━━━━━━━\u001b[0m \u001b[32m6.0/6.0 MB\u001b[0m \u001b[31m9.4 MB/s\u001b[0m eta \u001b[36m0:00:00\u001b[0m\n",
            "\u001b[?25hCollecting deplacy>=2.0.3 (from spacy_thai)\n",
            "  Downloading deplacy-2.0.5-py3-none-any.whl (22 kB)\n",
            "Requirement already satisfied: pythainlp>=2.3.2 in /usr/local/lib/python3.10/dist-packages (from spacy_thai) (4.0.2)\n",
            "Requirement already satisfied: spacy>=2.2.2 in /usr/local/lib/python3.10/dist-packages (from spacy_thai) (3.6.1)\n",
            "Collecting ufal.udpipe>=1.2.0 (from spacy_thai)\n",
            "  Downloading ufal.udpipe-1.3.0.1-cp310-cp310-manylinux_2_17_x86_64.manylinux2014_x86_64.whl (936 kB)\n",
            "\u001b[2K     \u001b[90m━━━━━━━━━━━━━━━━━━━━━━━━━━━━━━━━━━━━━━\u001b[0m \u001b[32m937.0/937.0 kB\u001b[0m \u001b[31m18.7 MB/s\u001b[0m eta \u001b[36m0:00:00\u001b[0m\n",
            "\u001b[?25hRequirement already satisfied: requests>=2.22.0 in /usr/local/lib/python3.10/dist-packages (from pythainlp>=2.3.2->spacy_thai) (2.31.0)\n",
            "Requirement already satisfied: spacy-legacy<3.1.0,>=3.0.11 in /usr/local/lib/python3.10/dist-packages (from spacy>=2.2.2->spacy_thai) (3.0.12)\n",
            "Requirement already satisfied: spacy-loggers<2.0.0,>=1.0.0 in /usr/local/lib/python3.10/dist-packages (from spacy>=2.2.2->spacy_thai) (1.0.4)\n",
            "Requirement already satisfied: murmurhash<1.1.0,>=0.28.0 in /usr/local/lib/python3.10/dist-packages (from spacy>=2.2.2->spacy_thai) (1.0.9)\n",
            "Requirement already satisfied: cymem<2.1.0,>=2.0.2 in /usr/local/lib/python3.10/dist-packages (from spacy>=2.2.2->spacy_thai) (2.0.7)\n",
            "Requirement already satisfied: preshed<3.1.0,>=3.0.2 in /usr/local/lib/python3.10/dist-packages (from spacy>=2.2.2->spacy_thai) (3.0.8)\n",
            "Requirement already satisfied: thinc<8.2.0,>=8.1.8 in /usr/local/lib/python3.10/dist-packages (from spacy>=2.2.2->spacy_thai) (8.1.12)\n",
            "Requirement already satisfied: wasabi<1.2.0,>=0.9.1 in /usr/local/lib/python3.10/dist-packages (from spacy>=2.2.2->spacy_thai) (1.1.2)\n",
            "Requirement already satisfied: srsly<3.0.0,>=2.4.3 in /usr/local/lib/python3.10/dist-packages (from spacy>=2.2.2->spacy_thai) (2.4.7)\n",
            "Requirement already satisfied: catalogue<2.1.0,>=2.0.6 in /usr/local/lib/python3.10/dist-packages (from spacy>=2.2.2->spacy_thai) (2.0.9)\n",
            "Requirement already satisfied: typer<0.10.0,>=0.3.0 in /usr/local/lib/python3.10/dist-packages (from spacy>=2.2.2->spacy_thai) (0.9.0)\n",
            "Requirement already satisfied: pathy>=0.10.0 in /usr/local/lib/python3.10/dist-packages (from spacy>=2.2.2->spacy_thai) (0.10.2)\n",
            "Requirement already satisfied: smart-open<7.0.0,>=5.2.1 in /usr/local/lib/python3.10/dist-packages (from spacy>=2.2.2->spacy_thai) (6.3.0)\n",
            "Requirement already satisfied: tqdm<5.0.0,>=4.38.0 in /usr/local/lib/python3.10/dist-packages (from spacy>=2.2.2->spacy_thai) (4.66.1)\n",
            "Requirement already satisfied: numpy>=1.15.0 in /usr/local/lib/python3.10/dist-packages (from spacy>=2.2.2->spacy_thai) (1.23.5)\n",
            "Requirement already satisfied: pydantic!=1.8,!=1.8.1,<3.0.0,>=1.7.4 in /usr/local/lib/python3.10/dist-packages (from spacy>=2.2.2->spacy_thai) (2.2.1)\n",
            "Requirement already satisfied: jinja2 in /usr/local/lib/python3.10/dist-packages (from spacy>=2.2.2->spacy_thai) (3.1.2)\n",
            "Requirement already satisfied: setuptools in /usr/local/lib/python3.10/dist-packages (from spacy>=2.2.2->spacy_thai) (67.7.2)\n",
            "Requirement already satisfied: packaging>=20.0 in /usr/local/lib/python3.10/dist-packages (from spacy>=2.2.2->spacy_thai) (23.1)\n",
            "Requirement already satisfied: langcodes<4.0.0,>=3.2.0 in /usr/local/lib/python3.10/dist-packages (from spacy>=2.2.2->spacy_thai) (3.3.0)\n",
            "Requirement already satisfied: annotated-types>=0.4.0 in /usr/local/lib/python3.10/dist-packages (from pydantic!=1.8,!=1.8.1,<3.0.0,>=1.7.4->spacy>=2.2.2->spacy_thai) (0.5.0)\n",
            "Requirement already satisfied: pydantic-core==2.6.1 in /usr/local/lib/python3.10/dist-packages (from pydantic!=1.8,!=1.8.1,<3.0.0,>=1.7.4->spacy>=2.2.2->spacy_thai) (2.6.1)\n",
            "Requirement already satisfied: typing-extensions>=4.6.1 in /usr/local/lib/python3.10/dist-packages (from pydantic!=1.8,!=1.8.1,<3.0.0,>=1.7.4->spacy>=2.2.2->spacy_thai) (4.7.1)\n",
            "Requirement already satisfied: charset-normalizer<4,>=2 in /usr/local/lib/python3.10/dist-packages (from requests>=2.22.0->pythainlp>=2.3.2->spacy_thai) (3.2.0)\n",
            "Requirement already satisfied: idna<4,>=2.5 in /usr/local/lib/python3.10/dist-packages (from requests>=2.22.0->pythainlp>=2.3.2->spacy_thai) (3.4)\n",
            "Requirement already satisfied: urllib3<3,>=1.21.1 in /usr/local/lib/python3.10/dist-packages (from requests>=2.22.0->pythainlp>=2.3.2->spacy_thai) (2.0.4)\n",
            "Requirement already satisfied: certifi>=2017.4.17 in /usr/local/lib/python3.10/dist-packages (from requests>=2.22.0->pythainlp>=2.3.2->spacy_thai) (2023.7.22)\n",
            "Requirement already satisfied: blis<0.8.0,>=0.7.8 in /usr/local/lib/python3.10/dist-packages (from thinc<8.2.0,>=8.1.8->spacy>=2.2.2->spacy_thai) (0.7.10)\n",
            "Requirement already satisfied: confection<1.0.0,>=0.0.1 in /usr/local/lib/python3.10/dist-packages (from thinc<8.2.0,>=8.1.8->spacy>=2.2.2->spacy_thai) (0.1.1)\n",
            "Requirement already satisfied: click<9.0.0,>=7.1.1 in /usr/local/lib/python3.10/dist-packages (from typer<0.10.0,>=0.3.0->spacy>=2.2.2->spacy_thai) (8.1.7)\n",
            "Requirement already satisfied: MarkupSafe>=2.0 in /usr/local/lib/python3.10/dist-packages (from jinja2->spacy>=2.2.2->spacy_thai) (2.1.3)\n",
            "Installing collected packages: ufal.udpipe, deplacy, spacy_thai\n",
            "Successfully installed deplacy-2.0.5 spacy_thai-0.7.3 ufal.udpipe-1.3.0.1\n"
          ]
        }
      ]
    },
    {
      "cell_type": "code",
      "source": [
        "from pythainlp.parse import dependency_parsing"
      ],
      "metadata": {
        "id": "4ffOI7OwE1AF"
      },
      "execution_count": null,
      "outputs": []
    },
    {
      "cell_type": "code",
      "source": [
        "print(dependency_parsing(\"พวกเราใช้ภาษาไทย\", engine = \"spacy_thai\"))"
      ],
      "metadata": {
        "id": "Zj8VSDFbE9vM",
        "colab": {
          "base_uri": "https://localhost:8080/"
        },
        "outputId": "1363449f-2f68-4cca-af71-6ab64a2794f1"
      },
      "execution_count": null,
      "outputs": [
        {
          "output_type": "stream",
          "name": "stdout",
          "text": [
            "1\tพวกเรา\t\tNOUN\tNCMN\t_\t2\tnsubj\t_\tSpaceAfter=No\n",
            "2\tใช้\t\tVERB\tVACT\t_\t0\tROOT\t_\tSpaceAfter=No\n",
            "3\tภาษาไทย\t\tPROPN\tNPRP\t_\t2\tobj\t_\tSpaceAfter=No\n"
          ]
        }
      ]
    },
    {
      "cell_type": "code",
      "source": [
        "parse1 = dependency_parsing(\"พวกเราใช้ภาษาไทย\", engine = \"spacy_thai\")"
      ],
      "metadata": {
        "id": "N-XvwYdzF5Mi"
      },
      "execution_count": null,
      "outputs": []
    },
    {
      "cell_type": "code",
      "source": [
        "import graphviz\n",
        "import deplacy"
      ],
      "metadata": {
        "id": "B4O7BqgWFEP4"
      },
      "execution_count": null,
      "outputs": []
    },
    {
      "cell_type": "code",
      "source": [
        "graphviz.Source(deplacy.dot(parse1))"
      ],
      "metadata": {
        "id": "mw2YK7iTFjiq",
        "colab": {
          "base_uri": "https://localhost:8080/",
          "height": 366
        },
        "outputId": "28ef4941-ac7f-4854-b781-56ee62839a21"
      },
      "execution_count": null,
      "outputs": [
        {
          "output_type": "execute_result",
          "data": {
            "image/svg+xml": "<?xml version=\"1.0\" encoding=\"UTF-8\" standalone=\"no\"?>\n<!DOCTYPE svg PUBLIC \"-//W3C//DTD SVG 1.1//EN\"\n \"http://www.w3.org/Graphics/SVG/1.1/DTD/svg11.dtd\">\n<!-- Generated by graphviz version 2.43.0 (0)\n -->\n<!-- Title: deplacy Pages: 1 -->\n<svg width=\"345pt\" height=\"259pt\"\n viewBox=\"0.00 0.00 345.00 259.00\" xmlns=\"http://www.w3.org/2000/svg\" xmlns:xlink=\"http://www.w3.org/1999/xlink\">\n<g id=\"graph0\" class=\"graph\" transform=\"scale(1 1) rotate(0) translate(4 255)\">\n<title>deplacy</title>\n<polygon fill=\"white\" stroke=\"transparent\" points=\"-4,4 -4,-255 341,-255 341,4 -4,4\"/>\n<!-- r2 -->\n<g id=\"node1\" class=\"node\">\n<title>r2</title>\n<text text-anchor=\"middle\" x=\"122.5\" y=\"-243\" font-family=\"sans-serif\" font-size=\"10.00\">ROOT</text>\n</g>\n<!-- x2 -->\n<g id=\"node2\" class=\"node\">\n<title>x2</title>\n<text text-anchor=\"middle\" x=\"122.5\" y=\"-181.3\" font-family=\"Times,serif\" font-size=\"14.00\">พวกเราใช้ภาษาไทย</text>\n</g>\n<!-- r2&#45;&gt;x2 -->\n<g id=\"edge1\" class=\"edge\">\n<title>r2&#45;&gt;x2</title>\n<path fill=\"none\" stroke=\"gray\" d=\"M122.5,-239.91C122.5,-234.11 122.5,-223.66 122.5,-213.5\"/>\n<polygon fill=\"gray\" stroke=\"gray\" points=\"126,-213.21 122.5,-203.21 119,-213.21 126,-213.21\"/>\n</g>\n<!-- w -->\n<g id=\"node3\" class=\"node\">\n<title>w</title>\n<polygon fill=\"none\" stroke=\"black\" stroke-width=\"0\" points=\"60,-0.5 60,-46.5 337,-46.5 337,-0.5 60,-0.5\"/>\n<text text-anchor=\"middle\" x=\"111\" y=\"-31.3\" font-family=\"Times,serif\" font-size=\"14.00\">พวกเรา</text>\n<polyline fill=\"none\" stroke=\"black\" stroke-width=\"0\" points=\"60,-23.5 162,-23.5 \"/>\n<text text-anchor=\"middle\" x=\"111\" y=\"-8.3\" font-family=\"Times,serif\" font-size=\"14.00\">NOUN</text>\n<polyline fill=\"none\" stroke=\"black\" stroke-width=\"0\" points=\"162,-0.5 162,-46.5 \"/>\n<text text-anchor=\"middle\" x=\"191.5\" y=\"-31.3\" font-family=\"Times,serif\" font-size=\"14.00\">ใช้</text>\n<polyline fill=\"none\" stroke=\"black\" stroke-width=\"0\" points=\"162,-23.5 221,-23.5 \"/>\n<text text-anchor=\"middle\" x=\"191.5\" y=\"-8.3\" font-family=\"Times,serif\" font-size=\"14.00\">VERB</text>\n<polyline fill=\"none\" stroke=\"black\" stroke-width=\"0\" points=\"221,-0.5 221,-46.5 \"/>\n<text text-anchor=\"middle\" x=\"279\" y=\"-31.3\" font-family=\"Times,serif\" font-size=\"14.00\">ภาษาไทย</text>\n<polyline fill=\"none\" stroke=\"black\" stroke-width=\"0\" points=\"221,-23.5 337,-23.5 \"/>\n<text text-anchor=\"middle\" x=\"279\" y=\"-8.3\" font-family=\"Times,serif\" font-size=\"14.00\">PROPN</text>\n</g>\n<!-- x2&#45;&gt;w -->\n<g id=\"edge2\" class=\"edge\">\n<title>x2&#45;&gt;w:1</title>\n<path fill=\"none\" stroke=\"gray\" d=\"M120.01,-166.74C116.77,-142.83 111.42,-97.97 110.61,-57.25\"/>\n<polygon fill=\"gray\" stroke=\"gray\" points=\"114.1,-56.96 110.5,-47 107.1,-57.04 114.1,-56.96\"/>\n<text text-anchor=\"middle\" x=\"132\" y=\"-109.5\" font-family=\"sans-serif\" font-size=\"10.00\">nsubj</text>\n</g>\n<!-- x1 -->\n<g id=\"node4\" class=\"node\">\n<title>x1</title>\n<text text-anchor=\"middle\" x=\"239.5\" y=\"-108.3\" font-family=\"Times,serif\" font-size=\"14.00\">ใช้ภาษาไทย</text>\n</g>\n<!-- x2&#45;&gt;x1 -->\n<g id=\"edge3\" class=\"edge\">\n<title>x2&#45;&gt;x1</title>\n<path fill=\"none\" stroke=\"gray\" d=\"M150.52,-166.99C166.04,-157.58 185.52,-145.76 202.3,-135.57\"/>\n<polygon fill=\"gray\" stroke=\"gray\" points=\"204.57,-138.29 211.3,-130.11 200.93,-132.31 204.57,-138.29\"/>\n</g>\n<!-- x1&#45;&gt;w -->\n<g id=\"edge4\" class=\"edge\">\n<title>x1&#45;&gt;w:2</title>\n<path fill=\"none\" stroke=\"gray\" d=\"M217.19,-93.93C207,-84.46 196.41,-71.68 192.8,-57.24\"/>\n<polygon fill=\"gray\" stroke=\"gray\" points=\"196.23,-56.48 191.5,-47 189.28,-57.36 196.23,-56.48\"/>\n</g>\n<!-- x1&#45;&gt;w -->\n<g id=\"edge5\" class=\"edge\">\n<title>x1&#45;&gt;w:3</title>\n<path fill=\"none\" stroke=\"gray\" d=\"M257.63,-93.74C266.14,-84.11 275.12,-71.25 278.3,-57.31\"/>\n<polygon fill=\"gray\" stroke=\"gray\" points=\"281.82,-57.34 279.5,-47 274.87,-56.53 281.82,-57.34\"/>\n<text text-anchor=\"middle\" x=\"284\" y=\"-68\" font-family=\"sans-serif\" font-size=\"10.00\">obj</text>\n</g>\n</g>\n</svg>\n",
            "text/plain": [
              "<graphviz.sources.Source at 0x7ca1c9eb7f10>"
            ]
          },
          "metadata": {},
          "execution_count": 40
        }
      ]
    },
    {
      "cell_type": "code",
      "source": [],
      "metadata": {
        "id": "AeNPDdypF3um"
      },
      "execution_count": null,
      "outputs": []
    }
  ]
}