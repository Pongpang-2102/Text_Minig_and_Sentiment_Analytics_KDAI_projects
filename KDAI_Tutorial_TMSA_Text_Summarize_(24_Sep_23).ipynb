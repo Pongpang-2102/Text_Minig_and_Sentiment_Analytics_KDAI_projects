{
  "nbformat": 4,
  "nbformat_minor": 0,
  "metadata": {
    "colab": {
      "provenance": [],
      "machine_shape": "hm",
      "gpuType": "T4",
      "authorship_tag": "ABX9TyMP/hMFol0UQafZQMiipKml",
      "include_colab_link": true
    },
    "kernelspec": {
      "name": "python3",
      "display_name": "Python 3"
    },
    "language_info": {
      "name": "python"
    },
    "accelerator": "GPU",
    "widgets": {
      "application/vnd.jupyter.widget-state+json": {
        "b60e7378ef82499982a97e14b0f9f8ba": {
          "model_module": "@jupyter-widgets/controls",
          "model_name": "HBoxModel",
          "model_module_version": "1.5.0",
          "state": {
            "_dom_classes": [],
            "_model_module": "@jupyter-widgets/controls",
            "_model_module_version": "1.5.0",
            "_model_name": "HBoxModel",
            "_view_count": null,
            "_view_module": "@jupyter-widgets/controls",
            "_view_module_version": "1.5.0",
            "_view_name": "HBoxView",
            "box_style": "",
            "children": [
              "IPY_MODEL_e62ba99f28a4446db3806267a4201257",
              "IPY_MODEL_aa4a905290c04a71bae13bec8a461ad2",
              "IPY_MODEL_73a675eac9204750a7d69b9e8db534fd"
            ],
            "layout": "IPY_MODEL_e287cc6f43084c57965234b1ec739535"
          }
        },
        "e62ba99f28a4446db3806267a4201257": {
          "model_module": "@jupyter-widgets/controls",
          "model_name": "HTMLModel",
          "model_module_version": "1.5.0",
          "state": {
            "_dom_classes": [],
            "_model_module": "@jupyter-widgets/controls",
            "_model_module_version": "1.5.0",
            "_model_name": "HTMLModel",
            "_view_count": null,
            "_view_module": "@jupyter-widgets/controls",
            "_view_module_version": "1.5.0",
            "_view_name": "HTMLView",
            "description": "",
            "description_tooltip": null,
            "layout": "IPY_MODEL_d5894359992a49359b8da55afd8c5dec",
            "placeholder": "​",
            "style": "IPY_MODEL_05317c823ea64634905795c90b5dda67",
            "value": "Downloading (…)lve/main/config.json: 100%"
          }
        },
        "aa4a905290c04a71bae13bec8a461ad2": {
          "model_module": "@jupyter-widgets/controls",
          "model_name": "FloatProgressModel",
          "model_module_version": "1.5.0",
          "state": {
            "_dom_classes": [],
            "_model_module": "@jupyter-widgets/controls",
            "_model_module_version": "1.5.0",
            "_model_name": "FloatProgressModel",
            "_view_count": null,
            "_view_module": "@jupyter-widgets/controls",
            "_view_module_version": "1.5.0",
            "_view_name": "ProgressView",
            "bar_style": "success",
            "description": "",
            "description_tooltip": null,
            "layout": "IPY_MODEL_50c1aeb2ac2340629538aba5a94fc137",
            "max": 546,
            "min": 0,
            "orientation": "horizontal",
            "style": "IPY_MODEL_6572332f14314b44a774a84ed8c10849",
            "value": 546
          }
        },
        "73a675eac9204750a7d69b9e8db534fd": {
          "model_module": "@jupyter-widgets/controls",
          "model_name": "HTMLModel",
          "model_module_version": "1.5.0",
          "state": {
            "_dom_classes": [],
            "_model_module": "@jupyter-widgets/controls",
            "_model_module_version": "1.5.0",
            "_model_name": "HTMLModel",
            "_view_count": null,
            "_view_module": "@jupyter-widgets/controls",
            "_view_module_version": "1.5.0",
            "_view_name": "HTMLView",
            "description": "",
            "description_tooltip": null,
            "layout": "IPY_MODEL_0e0fe61f965b4f7cb1c4029e007a0b46",
            "placeholder": "​",
            "style": "IPY_MODEL_974dd55104c544789bc6441a0f8b3b75",
            "value": " 546/546 [00:00&lt;00:00, 43.1kB/s]"
          }
        },
        "e287cc6f43084c57965234b1ec739535": {
          "model_module": "@jupyter-widgets/base",
          "model_name": "LayoutModel",
          "model_module_version": "1.2.0",
          "state": {
            "_model_module": "@jupyter-widgets/base",
            "_model_module_version": "1.2.0",
            "_model_name": "LayoutModel",
            "_view_count": null,
            "_view_module": "@jupyter-widgets/base",
            "_view_module_version": "1.2.0",
            "_view_name": "LayoutView",
            "align_content": null,
            "align_items": null,
            "align_self": null,
            "border": null,
            "bottom": null,
            "display": null,
            "flex": null,
            "flex_flow": null,
            "grid_area": null,
            "grid_auto_columns": null,
            "grid_auto_flow": null,
            "grid_auto_rows": null,
            "grid_column": null,
            "grid_gap": null,
            "grid_row": null,
            "grid_template_areas": null,
            "grid_template_columns": null,
            "grid_template_rows": null,
            "height": null,
            "justify_content": null,
            "justify_items": null,
            "left": null,
            "margin": null,
            "max_height": null,
            "max_width": null,
            "min_height": null,
            "min_width": null,
            "object_fit": null,
            "object_position": null,
            "order": null,
            "overflow": null,
            "overflow_x": null,
            "overflow_y": null,
            "padding": null,
            "right": null,
            "top": null,
            "visibility": null,
            "width": null
          }
        },
        "d5894359992a49359b8da55afd8c5dec": {
          "model_module": "@jupyter-widgets/base",
          "model_name": "LayoutModel",
          "model_module_version": "1.2.0",
          "state": {
            "_model_module": "@jupyter-widgets/base",
            "_model_module_version": "1.2.0",
            "_model_name": "LayoutModel",
            "_view_count": null,
            "_view_module": "@jupyter-widgets/base",
            "_view_module_version": "1.2.0",
            "_view_name": "LayoutView",
            "align_content": null,
            "align_items": null,
            "align_self": null,
            "border": null,
            "bottom": null,
            "display": null,
            "flex": null,
            "flex_flow": null,
            "grid_area": null,
            "grid_auto_columns": null,
            "grid_auto_flow": null,
            "grid_auto_rows": null,
            "grid_column": null,
            "grid_gap": null,
            "grid_row": null,
            "grid_template_areas": null,
            "grid_template_columns": null,
            "grid_template_rows": null,
            "height": null,
            "justify_content": null,
            "justify_items": null,
            "left": null,
            "margin": null,
            "max_height": null,
            "max_width": null,
            "min_height": null,
            "min_width": null,
            "object_fit": null,
            "object_position": null,
            "order": null,
            "overflow": null,
            "overflow_x": null,
            "overflow_y": null,
            "padding": null,
            "right": null,
            "top": null,
            "visibility": null,
            "width": null
          }
        },
        "05317c823ea64634905795c90b5dda67": {
          "model_module": "@jupyter-widgets/controls",
          "model_name": "DescriptionStyleModel",
          "model_module_version": "1.5.0",
          "state": {
            "_model_module": "@jupyter-widgets/controls",
            "_model_module_version": "1.5.0",
            "_model_name": "DescriptionStyleModel",
            "_view_count": null,
            "_view_module": "@jupyter-widgets/base",
            "_view_module_version": "1.2.0",
            "_view_name": "StyleView",
            "description_width": ""
          }
        },
        "50c1aeb2ac2340629538aba5a94fc137": {
          "model_module": "@jupyter-widgets/base",
          "model_name": "LayoutModel",
          "model_module_version": "1.2.0",
          "state": {
            "_model_module": "@jupyter-widgets/base",
            "_model_module_version": "1.2.0",
            "_model_name": "LayoutModel",
            "_view_count": null,
            "_view_module": "@jupyter-widgets/base",
            "_view_module_version": "1.2.0",
            "_view_name": "LayoutView",
            "align_content": null,
            "align_items": null,
            "align_self": null,
            "border": null,
            "bottom": null,
            "display": null,
            "flex": null,
            "flex_flow": null,
            "grid_area": null,
            "grid_auto_columns": null,
            "grid_auto_flow": null,
            "grid_auto_rows": null,
            "grid_column": null,
            "grid_gap": null,
            "grid_row": null,
            "grid_template_areas": null,
            "grid_template_columns": null,
            "grid_template_rows": null,
            "height": null,
            "justify_content": null,
            "justify_items": null,
            "left": null,
            "margin": null,
            "max_height": null,
            "max_width": null,
            "min_height": null,
            "min_width": null,
            "object_fit": null,
            "object_position": null,
            "order": null,
            "overflow": null,
            "overflow_x": null,
            "overflow_y": null,
            "padding": null,
            "right": null,
            "top": null,
            "visibility": null,
            "width": null
          }
        },
        "6572332f14314b44a774a84ed8c10849": {
          "model_module": "@jupyter-widgets/controls",
          "model_name": "ProgressStyleModel",
          "model_module_version": "1.5.0",
          "state": {
            "_model_module": "@jupyter-widgets/controls",
            "_model_module_version": "1.5.0",
            "_model_name": "ProgressStyleModel",
            "_view_count": null,
            "_view_module": "@jupyter-widgets/base",
            "_view_module_version": "1.2.0",
            "_view_name": "StyleView",
            "bar_color": null,
            "description_width": ""
          }
        },
        "0e0fe61f965b4f7cb1c4029e007a0b46": {
          "model_module": "@jupyter-widgets/base",
          "model_name": "LayoutModel",
          "model_module_version": "1.2.0",
          "state": {
            "_model_module": "@jupyter-widgets/base",
            "_model_module_version": "1.2.0",
            "_model_name": "LayoutModel",
            "_view_count": null,
            "_view_module": "@jupyter-widgets/base",
            "_view_module_version": "1.2.0",
            "_view_name": "LayoutView",
            "align_content": null,
            "align_items": null,
            "align_self": null,
            "border": null,
            "bottom": null,
            "display": null,
            "flex": null,
            "flex_flow": null,
            "grid_area": null,
            "grid_auto_columns": null,
            "grid_auto_flow": null,
            "grid_auto_rows": null,
            "grid_column": null,
            "grid_gap": null,
            "grid_row": null,
            "grid_template_areas": null,
            "grid_template_columns": null,
            "grid_template_rows": null,
            "height": null,
            "justify_content": null,
            "justify_items": null,
            "left": null,
            "margin": null,
            "max_height": null,
            "max_width": null,
            "min_height": null,
            "min_width": null,
            "object_fit": null,
            "object_position": null,
            "order": null,
            "overflow": null,
            "overflow_x": null,
            "overflow_y": null,
            "padding": null,
            "right": null,
            "top": null,
            "visibility": null,
            "width": null
          }
        },
        "974dd55104c544789bc6441a0f8b3b75": {
          "model_module": "@jupyter-widgets/controls",
          "model_name": "DescriptionStyleModel",
          "model_module_version": "1.5.0",
          "state": {
            "_model_module": "@jupyter-widgets/controls",
            "_model_module_version": "1.5.0",
            "_model_name": "DescriptionStyleModel",
            "_view_count": null,
            "_view_module": "@jupyter-widgets/base",
            "_view_module_version": "1.2.0",
            "_view_name": "StyleView",
            "description_width": ""
          }
        },
        "30cd599181b1478a92f0e5ebf2aef53b": {
          "model_module": "@jupyter-widgets/controls",
          "model_name": "HBoxModel",
          "model_module_version": "1.5.0",
          "state": {
            "_dom_classes": [],
            "_model_module": "@jupyter-widgets/controls",
            "_model_module_version": "1.5.0",
            "_model_name": "HBoxModel",
            "_view_count": null,
            "_view_module": "@jupyter-widgets/controls",
            "_view_module_version": "1.5.0",
            "_view_name": "HBoxView",
            "box_style": "",
            "children": [
              "IPY_MODEL_0786e5f75d5f44229040985043b946b4",
              "IPY_MODEL_080af154fa1742e0a957bb4ea4fe80de",
              "IPY_MODEL_6012db15d717405a9bfa41ee4da1abaa"
            ],
            "layout": "IPY_MODEL_84453b3750e54070a863d2addaa95bbf"
          }
        },
        "0786e5f75d5f44229040985043b946b4": {
          "model_module": "@jupyter-widgets/controls",
          "model_name": "HTMLModel",
          "model_module_version": "1.5.0",
          "state": {
            "_dom_classes": [],
            "_model_module": "@jupyter-widgets/controls",
            "_model_module_version": "1.5.0",
            "_model_name": "HTMLModel",
            "_view_count": null,
            "_view_module": "@jupyter-widgets/controls",
            "_view_module_version": "1.5.0",
            "_view_name": "HTMLView",
            "description": "",
            "description_tooltip": null,
            "layout": "IPY_MODEL_59d682f5c96c499e84ebc18925211e8f",
            "placeholder": "​",
            "style": "IPY_MODEL_a3aa3417b13f436089f2ac42269e956d",
            "value": "Downloading model.safetensors: 100%"
          }
        },
        "080af154fa1742e0a957bb4ea4fe80de": {
          "model_module": "@jupyter-widgets/controls",
          "model_name": "FloatProgressModel",
          "model_module_version": "1.5.0",
          "state": {
            "_dom_classes": [],
            "_model_module": "@jupyter-widgets/controls",
            "_model_module_version": "1.5.0",
            "_model_name": "FloatProgressModel",
            "_view_count": null,
            "_view_module": "@jupyter-widgets/controls",
            "_view_module_version": "1.5.0",
            "_view_name": "ProgressView",
            "bar_style": "success",
            "description": "",
            "description_tooltip": null,
            "layout": "IPY_MODEL_ab9c150131e24e28ada50244e71a2624",
            "max": 423470574,
            "min": 0,
            "orientation": "horizontal",
            "style": "IPY_MODEL_1a6c2b5dca3945ad85f316ef2d57cd58",
            "value": 423470574
          }
        },
        "6012db15d717405a9bfa41ee4da1abaa": {
          "model_module": "@jupyter-widgets/controls",
          "model_name": "HTMLModel",
          "model_module_version": "1.5.0",
          "state": {
            "_dom_classes": [],
            "_model_module": "@jupyter-widgets/controls",
            "_model_module_version": "1.5.0",
            "_model_name": "HTMLModel",
            "_view_count": null,
            "_view_module": "@jupyter-widgets/controls",
            "_view_module_version": "1.5.0",
            "_view_name": "HTMLView",
            "description": "",
            "description_tooltip": null,
            "layout": "IPY_MODEL_3ac3e4fd224947de877c2648d9c9e246",
            "placeholder": "​",
            "style": "IPY_MODEL_d9aa1189c54c4497b7c45ed4075207fe",
            "value": " 423M/423M [00:01&lt;00:00, 376MB/s]"
          }
        },
        "84453b3750e54070a863d2addaa95bbf": {
          "model_module": "@jupyter-widgets/base",
          "model_name": "LayoutModel",
          "model_module_version": "1.2.0",
          "state": {
            "_model_module": "@jupyter-widgets/base",
            "_model_module_version": "1.2.0",
            "_model_name": "LayoutModel",
            "_view_count": null,
            "_view_module": "@jupyter-widgets/base",
            "_view_module_version": "1.2.0",
            "_view_name": "LayoutView",
            "align_content": null,
            "align_items": null,
            "align_self": null,
            "border": null,
            "bottom": null,
            "display": null,
            "flex": null,
            "flex_flow": null,
            "grid_area": null,
            "grid_auto_columns": null,
            "grid_auto_flow": null,
            "grid_auto_rows": null,
            "grid_column": null,
            "grid_gap": null,
            "grid_row": null,
            "grid_template_areas": null,
            "grid_template_columns": null,
            "grid_template_rows": null,
            "height": null,
            "justify_content": null,
            "justify_items": null,
            "left": null,
            "margin": null,
            "max_height": null,
            "max_width": null,
            "min_height": null,
            "min_width": null,
            "object_fit": null,
            "object_position": null,
            "order": null,
            "overflow": null,
            "overflow_x": null,
            "overflow_y": null,
            "padding": null,
            "right": null,
            "top": null,
            "visibility": null,
            "width": null
          }
        },
        "59d682f5c96c499e84ebc18925211e8f": {
          "model_module": "@jupyter-widgets/base",
          "model_name": "LayoutModel",
          "model_module_version": "1.2.0",
          "state": {
            "_model_module": "@jupyter-widgets/base",
            "_model_module_version": "1.2.0",
            "_model_name": "LayoutModel",
            "_view_count": null,
            "_view_module": "@jupyter-widgets/base",
            "_view_module_version": "1.2.0",
            "_view_name": "LayoutView",
            "align_content": null,
            "align_items": null,
            "align_self": null,
            "border": null,
            "bottom": null,
            "display": null,
            "flex": null,
            "flex_flow": null,
            "grid_area": null,
            "grid_auto_columns": null,
            "grid_auto_flow": null,
            "grid_auto_rows": null,
            "grid_column": null,
            "grid_gap": null,
            "grid_row": null,
            "grid_template_areas": null,
            "grid_template_columns": null,
            "grid_template_rows": null,
            "height": null,
            "justify_content": null,
            "justify_items": null,
            "left": null,
            "margin": null,
            "max_height": null,
            "max_width": null,
            "min_height": null,
            "min_width": null,
            "object_fit": null,
            "object_position": null,
            "order": null,
            "overflow": null,
            "overflow_x": null,
            "overflow_y": null,
            "padding": null,
            "right": null,
            "top": null,
            "visibility": null,
            "width": null
          }
        },
        "a3aa3417b13f436089f2ac42269e956d": {
          "model_module": "@jupyter-widgets/controls",
          "model_name": "DescriptionStyleModel",
          "model_module_version": "1.5.0",
          "state": {
            "_model_module": "@jupyter-widgets/controls",
            "_model_module_version": "1.5.0",
            "_model_name": "DescriptionStyleModel",
            "_view_count": null,
            "_view_module": "@jupyter-widgets/base",
            "_view_module_version": "1.2.0",
            "_view_name": "StyleView",
            "description_width": ""
          }
        },
        "ab9c150131e24e28ada50244e71a2624": {
          "model_module": "@jupyter-widgets/base",
          "model_name": "LayoutModel",
          "model_module_version": "1.2.0",
          "state": {
            "_model_module": "@jupyter-widgets/base",
            "_model_module_version": "1.2.0",
            "_model_name": "LayoutModel",
            "_view_count": null,
            "_view_module": "@jupyter-widgets/base",
            "_view_module_version": "1.2.0",
            "_view_name": "LayoutView",
            "align_content": null,
            "align_items": null,
            "align_self": null,
            "border": null,
            "bottom": null,
            "display": null,
            "flex": null,
            "flex_flow": null,
            "grid_area": null,
            "grid_auto_columns": null,
            "grid_auto_flow": null,
            "grid_auto_rows": null,
            "grid_column": null,
            "grid_gap": null,
            "grid_row": null,
            "grid_template_areas": null,
            "grid_template_columns": null,
            "grid_template_rows": null,
            "height": null,
            "justify_content": null,
            "justify_items": null,
            "left": null,
            "margin": null,
            "max_height": null,
            "max_width": null,
            "min_height": null,
            "min_width": null,
            "object_fit": null,
            "object_position": null,
            "order": null,
            "overflow": null,
            "overflow_x": null,
            "overflow_y": null,
            "padding": null,
            "right": null,
            "top": null,
            "visibility": null,
            "width": null
          }
        },
        "1a6c2b5dca3945ad85f316ef2d57cd58": {
          "model_module": "@jupyter-widgets/controls",
          "model_name": "ProgressStyleModel",
          "model_module_version": "1.5.0",
          "state": {
            "_model_module": "@jupyter-widgets/controls",
            "_model_module_version": "1.5.0",
            "_model_name": "ProgressStyleModel",
            "_view_count": null,
            "_view_module": "@jupyter-widgets/base",
            "_view_module_version": "1.2.0",
            "_view_name": "StyleView",
            "bar_color": null,
            "description_width": ""
          }
        },
        "3ac3e4fd224947de877c2648d9c9e246": {
          "model_module": "@jupyter-widgets/base",
          "model_name": "LayoutModel",
          "model_module_version": "1.2.0",
          "state": {
            "_model_module": "@jupyter-widgets/base",
            "_model_module_version": "1.2.0",
            "_model_name": "LayoutModel",
            "_view_count": null,
            "_view_module": "@jupyter-widgets/base",
            "_view_module_version": "1.2.0",
            "_view_name": "LayoutView",
            "align_content": null,
            "align_items": null,
            "align_self": null,
            "border": null,
            "bottom": null,
            "display": null,
            "flex": null,
            "flex_flow": null,
            "grid_area": null,
            "grid_auto_columns": null,
            "grid_auto_flow": null,
            "grid_auto_rows": null,
            "grid_column": null,
            "grid_gap": null,
            "grid_row": null,
            "grid_template_areas": null,
            "grid_template_columns": null,
            "grid_template_rows": null,
            "height": null,
            "justify_content": null,
            "justify_items": null,
            "left": null,
            "margin": null,
            "max_height": null,
            "max_width": null,
            "min_height": null,
            "min_width": null,
            "object_fit": null,
            "object_position": null,
            "order": null,
            "overflow": null,
            "overflow_x": null,
            "overflow_y": null,
            "padding": null,
            "right": null,
            "top": null,
            "visibility": null,
            "width": null
          }
        },
        "d9aa1189c54c4497b7c45ed4075207fe": {
          "model_module": "@jupyter-widgets/controls",
          "model_name": "DescriptionStyleModel",
          "model_module_version": "1.5.0",
          "state": {
            "_model_module": "@jupyter-widgets/controls",
            "_model_module_version": "1.5.0",
            "_model_name": "DescriptionStyleModel",
            "_view_count": null,
            "_view_module": "@jupyter-widgets/base",
            "_view_module_version": "1.2.0",
            "_view_name": "StyleView",
            "description_width": ""
          }
        },
        "c4c3832058a34da0b214499195b560ae": {
          "model_module": "@jupyter-widgets/controls",
          "model_name": "HBoxModel",
          "model_module_version": "1.5.0",
          "state": {
            "_dom_classes": [],
            "_model_module": "@jupyter-widgets/controls",
            "_model_module_version": "1.5.0",
            "_model_name": "HBoxModel",
            "_view_count": null,
            "_view_module": "@jupyter-widgets/controls",
            "_view_module_version": "1.5.0",
            "_view_name": "HBoxView",
            "box_style": "",
            "children": [
              "IPY_MODEL_2d29151987bc493cb90f1f240e49db7e",
              "IPY_MODEL_c6abf21f43ca4656b26611f097c0442a",
              "IPY_MODEL_4f4d4b073a9a4625b44c2513dc8c9049"
            ],
            "layout": "IPY_MODEL_dd8a11818b88441eb1ae62d26bd807a7"
          }
        },
        "2d29151987bc493cb90f1f240e49db7e": {
          "model_module": "@jupyter-widgets/controls",
          "model_name": "HTMLModel",
          "model_module_version": "1.5.0",
          "state": {
            "_dom_classes": [],
            "_model_module": "@jupyter-widgets/controls",
            "_model_module_version": "1.5.0",
            "_model_name": "HTMLModel",
            "_view_count": null,
            "_view_module": "@jupyter-widgets/controls",
            "_view_module_version": "1.5.0",
            "_view_name": "HTMLView",
            "description": "",
            "description_tooltip": null,
            "layout": "IPY_MODEL_0f281cdfdd2c4dcabba6945ee82e512e",
            "placeholder": "​",
            "style": "IPY_MODEL_c070935b6d7a494aadfe54d08a5bddf3",
            "value": "Downloading (…)okenizer_config.json: 100%"
          }
        },
        "c6abf21f43ca4656b26611f097c0442a": {
          "model_module": "@jupyter-widgets/controls",
          "model_name": "FloatProgressModel",
          "model_module_version": "1.5.0",
          "state": {
            "_dom_classes": [],
            "_model_module": "@jupyter-widgets/controls",
            "_model_module_version": "1.5.0",
            "_model_name": "FloatProgressModel",
            "_view_count": null,
            "_view_module": "@jupyter-widgets/controls",
            "_view_module_version": "1.5.0",
            "_view_name": "ProgressView",
            "bar_style": "success",
            "description": "",
            "description_tooltip": null,
            "layout": "IPY_MODEL_30470535ada441a68f01d961524101b7",
            "max": 282,
            "min": 0,
            "orientation": "horizontal",
            "style": "IPY_MODEL_2304d23c8d424d73b827289d06d675c2",
            "value": 282
          }
        },
        "4f4d4b073a9a4625b44c2513dc8c9049": {
          "model_module": "@jupyter-widgets/controls",
          "model_name": "HTMLModel",
          "model_module_version": "1.5.0",
          "state": {
            "_dom_classes": [],
            "_model_module": "@jupyter-widgets/controls",
            "_model_module_version": "1.5.0",
            "_model_name": "HTMLModel",
            "_view_count": null,
            "_view_module": "@jupyter-widgets/controls",
            "_view_module_version": "1.5.0",
            "_view_name": "HTMLView",
            "description": "",
            "description_tooltip": null,
            "layout": "IPY_MODEL_0f6e8eb3bb104c91b1259c09823eb530",
            "placeholder": "​",
            "style": "IPY_MODEL_1d4211f1d5d343da9abf150f38e7bba9",
            "value": " 282/282 [00:00&lt;00:00, 28.0kB/s]"
          }
        },
        "dd8a11818b88441eb1ae62d26bd807a7": {
          "model_module": "@jupyter-widgets/base",
          "model_name": "LayoutModel",
          "model_module_version": "1.2.0",
          "state": {
            "_model_module": "@jupyter-widgets/base",
            "_model_module_version": "1.2.0",
            "_model_name": "LayoutModel",
            "_view_count": null,
            "_view_module": "@jupyter-widgets/base",
            "_view_module_version": "1.2.0",
            "_view_name": "LayoutView",
            "align_content": null,
            "align_items": null,
            "align_self": null,
            "border": null,
            "bottom": null,
            "display": null,
            "flex": null,
            "flex_flow": null,
            "grid_area": null,
            "grid_auto_columns": null,
            "grid_auto_flow": null,
            "grid_auto_rows": null,
            "grid_column": null,
            "grid_gap": null,
            "grid_row": null,
            "grid_template_areas": null,
            "grid_template_columns": null,
            "grid_template_rows": null,
            "height": null,
            "justify_content": null,
            "justify_items": null,
            "left": null,
            "margin": null,
            "max_height": null,
            "max_width": null,
            "min_height": null,
            "min_width": null,
            "object_fit": null,
            "object_position": null,
            "order": null,
            "overflow": null,
            "overflow_x": null,
            "overflow_y": null,
            "padding": null,
            "right": null,
            "top": null,
            "visibility": null,
            "width": null
          }
        },
        "0f281cdfdd2c4dcabba6945ee82e512e": {
          "model_module": "@jupyter-widgets/base",
          "model_name": "LayoutModel",
          "model_module_version": "1.2.0",
          "state": {
            "_model_module": "@jupyter-widgets/base",
            "_model_module_version": "1.2.0",
            "_model_name": "LayoutModel",
            "_view_count": null,
            "_view_module": "@jupyter-widgets/base",
            "_view_module_version": "1.2.0",
            "_view_name": "LayoutView",
            "align_content": null,
            "align_items": null,
            "align_self": null,
            "border": null,
            "bottom": null,
            "display": null,
            "flex": null,
            "flex_flow": null,
            "grid_area": null,
            "grid_auto_columns": null,
            "grid_auto_flow": null,
            "grid_auto_rows": null,
            "grid_column": null,
            "grid_gap": null,
            "grid_row": null,
            "grid_template_areas": null,
            "grid_template_columns": null,
            "grid_template_rows": null,
            "height": null,
            "justify_content": null,
            "justify_items": null,
            "left": null,
            "margin": null,
            "max_height": null,
            "max_width": null,
            "min_height": null,
            "min_width": null,
            "object_fit": null,
            "object_position": null,
            "order": null,
            "overflow": null,
            "overflow_x": null,
            "overflow_y": null,
            "padding": null,
            "right": null,
            "top": null,
            "visibility": null,
            "width": null
          }
        },
        "c070935b6d7a494aadfe54d08a5bddf3": {
          "model_module": "@jupyter-widgets/controls",
          "model_name": "DescriptionStyleModel",
          "model_module_version": "1.5.0",
          "state": {
            "_model_module": "@jupyter-widgets/controls",
            "_model_module_version": "1.5.0",
            "_model_name": "DescriptionStyleModel",
            "_view_count": null,
            "_view_module": "@jupyter-widgets/base",
            "_view_module_version": "1.2.0",
            "_view_name": "StyleView",
            "description_width": ""
          }
        },
        "30470535ada441a68f01d961524101b7": {
          "model_module": "@jupyter-widgets/base",
          "model_name": "LayoutModel",
          "model_module_version": "1.2.0",
          "state": {
            "_model_module": "@jupyter-widgets/base",
            "_model_module_version": "1.2.0",
            "_model_name": "LayoutModel",
            "_view_count": null,
            "_view_module": "@jupyter-widgets/base",
            "_view_module_version": "1.2.0",
            "_view_name": "LayoutView",
            "align_content": null,
            "align_items": null,
            "align_self": null,
            "border": null,
            "bottom": null,
            "display": null,
            "flex": null,
            "flex_flow": null,
            "grid_area": null,
            "grid_auto_columns": null,
            "grid_auto_flow": null,
            "grid_auto_rows": null,
            "grid_column": null,
            "grid_gap": null,
            "grid_row": null,
            "grid_template_areas": null,
            "grid_template_columns": null,
            "grid_template_rows": null,
            "height": null,
            "justify_content": null,
            "justify_items": null,
            "left": null,
            "margin": null,
            "max_height": null,
            "max_width": null,
            "min_height": null,
            "min_width": null,
            "object_fit": null,
            "object_position": null,
            "order": null,
            "overflow": null,
            "overflow_x": null,
            "overflow_y": null,
            "padding": null,
            "right": null,
            "top": null,
            "visibility": null,
            "width": null
          }
        },
        "2304d23c8d424d73b827289d06d675c2": {
          "model_module": "@jupyter-widgets/controls",
          "model_name": "ProgressStyleModel",
          "model_module_version": "1.5.0",
          "state": {
            "_model_module": "@jupyter-widgets/controls",
            "_model_module_version": "1.5.0",
            "_model_name": "ProgressStyleModel",
            "_view_count": null,
            "_view_module": "@jupyter-widgets/base",
            "_view_module_version": "1.2.0",
            "_view_name": "StyleView",
            "bar_color": null,
            "description_width": ""
          }
        },
        "0f6e8eb3bb104c91b1259c09823eb530": {
          "model_module": "@jupyter-widgets/base",
          "model_name": "LayoutModel",
          "model_module_version": "1.2.0",
          "state": {
            "_model_module": "@jupyter-widgets/base",
            "_model_module_version": "1.2.0",
            "_model_name": "LayoutModel",
            "_view_count": null,
            "_view_module": "@jupyter-widgets/base",
            "_view_module_version": "1.2.0",
            "_view_name": "LayoutView",
            "align_content": null,
            "align_items": null,
            "align_self": null,
            "border": null,
            "bottom": null,
            "display": null,
            "flex": null,
            "flex_flow": null,
            "grid_area": null,
            "grid_auto_columns": null,
            "grid_auto_flow": null,
            "grid_auto_rows": null,
            "grid_column": null,
            "grid_gap": null,
            "grid_row": null,
            "grid_template_areas": null,
            "grid_template_columns": null,
            "grid_template_rows": null,
            "height": null,
            "justify_content": null,
            "justify_items": null,
            "left": null,
            "margin": null,
            "max_height": null,
            "max_width": null,
            "min_height": null,
            "min_width": null,
            "object_fit": null,
            "object_position": null,
            "order": null,
            "overflow": null,
            "overflow_x": null,
            "overflow_y": null,
            "padding": null,
            "right": null,
            "top": null,
            "visibility": null,
            "width": null
          }
        },
        "1d4211f1d5d343da9abf150f38e7bba9": {
          "model_module": "@jupyter-widgets/controls",
          "model_name": "DescriptionStyleModel",
          "model_module_version": "1.5.0",
          "state": {
            "_model_module": "@jupyter-widgets/controls",
            "_model_module_version": "1.5.0",
            "_model_name": "DescriptionStyleModel",
            "_view_count": null,
            "_view_module": "@jupyter-widgets/base",
            "_view_module_version": "1.2.0",
            "_view_name": "StyleView",
            "description_width": ""
          }
        },
        "d63987d6674a46f1bcc9f56fe71eea0f": {
          "model_module": "@jupyter-widgets/controls",
          "model_name": "HBoxModel",
          "model_module_version": "1.5.0",
          "state": {
            "_dom_classes": [],
            "_model_module": "@jupyter-widgets/controls",
            "_model_module_version": "1.5.0",
            "_model_name": "HBoxModel",
            "_view_count": null,
            "_view_module": "@jupyter-widgets/controls",
            "_view_module_version": "1.5.0",
            "_view_name": "HBoxView",
            "box_style": "",
            "children": [
              "IPY_MODEL_b6d8e6b1312248259f2ed574417c0511",
              "IPY_MODEL_5ec1c96d28cd41af8b557e9e082a9cfb",
              "IPY_MODEL_2d884341136d4087b8fd3f69087cef69"
            ],
            "layout": "IPY_MODEL_4771ad60c27141de8a43ba30e550d854"
          }
        },
        "b6d8e6b1312248259f2ed574417c0511": {
          "model_module": "@jupyter-widgets/controls",
          "model_name": "HTMLModel",
          "model_module_version": "1.5.0",
          "state": {
            "_dom_classes": [],
            "_model_module": "@jupyter-widgets/controls",
            "_model_module_version": "1.5.0",
            "_model_name": "HTMLModel",
            "_view_count": null,
            "_view_module": "@jupyter-widgets/controls",
            "_view_module_version": "1.5.0",
            "_view_name": "HTMLView",
            "description": "",
            "description_tooltip": null,
            "layout": "IPY_MODEL_32b07812db604baaa0ac216e1c3cbf36",
            "placeholder": "​",
            "style": "IPY_MODEL_24fb760412ce4dfc9f41f6ac6723a28d",
            "value": "Downloading (…)tencepiece.bpe.model: 100%"
          }
        },
        "5ec1c96d28cd41af8b557e9e082a9cfb": {
          "model_module": "@jupyter-widgets/controls",
          "model_name": "FloatProgressModel",
          "model_module_version": "1.5.0",
          "state": {
            "_dom_classes": [],
            "_model_module": "@jupyter-widgets/controls",
            "_model_module_version": "1.5.0",
            "_model_name": "FloatProgressModel",
            "_view_count": null,
            "_view_module": "@jupyter-widgets/controls",
            "_view_module_version": "1.5.0",
            "_view_name": "ProgressView",
            "bar_style": "success",
            "description": "",
            "description_tooltip": null,
            "layout": "IPY_MODEL_8fdade7470eb48be9df5c414867f742d",
            "max": 904693,
            "min": 0,
            "orientation": "horizontal",
            "style": "IPY_MODEL_3cad472c560144e5995c46bec18ae0d9",
            "value": 904693
          }
        },
        "2d884341136d4087b8fd3f69087cef69": {
          "model_module": "@jupyter-widgets/controls",
          "model_name": "HTMLModel",
          "model_module_version": "1.5.0",
          "state": {
            "_dom_classes": [],
            "_model_module": "@jupyter-widgets/controls",
            "_model_module_version": "1.5.0",
            "_model_name": "HTMLModel",
            "_view_count": null,
            "_view_module": "@jupyter-widgets/controls",
            "_view_module_version": "1.5.0",
            "_view_name": "HTMLView",
            "description": "",
            "description_tooltip": null,
            "layout": "IPY_MODEL_01495bc0b267428c88650a6b8b79b716",
            "placeholder": "​",
            "style": "IPY_MODEL_59fa5870909646479ad917ee41da95df",
            "value": " 905k/905k [00:00&lt;00:00, 923kB/s]"
          }
        },
        "4771ad60c27141de8a43ba30e550d854": {
          "model_module": "@jupyter-widgets/base",
          "model_name": "LayoutModel",
          "model_module_version": "1.2.0",
          "state": {
            "_model_module": "@jupyter-widgets/base",
            "_model_module_version": "1.2.0",
            "_model_name": "LayoutModel",
            "_view_count": null,
            "_view_module": "@jupyter-widgets/base",
            "_view_module_version": "1.2.0",
            "_view_name": "LayoutView",
            "align_content": null,
            "align_items": null,
            "align_self": null,
            "border": null,
            "bottom": null,
            "display": null,
            "flex": null,
            "flex_flow": null,
            "grid_area": null,
            "grid_auto_columns": null,
            "grid_auto_flow": null,
            "grid_auto_rows": null,
            "grid_column": null,
            "grid_gap": null,
            "grid_row": null,
            "grid_template_areas": null,
            "grid_template_columns": null,
            "grid_template_rows": null,
            "height": null,
            "justify_content": null,
            "justify_items": null,
            "left": null,
            "margin": null,
            "max_height": null,
            "max_width": null,
            "min_height": null,
            "min_width": null,
            "object_fit": null,
            "object_position": null,
            "order": null,
            "overflow": null,
            "overflow_x": null,
            "overflow_y": null,
            "padding": null,
            "right": null,
            "top": null,
            "visibility": null,
            "width": null
          }
        },
        "32b07812db604baaa0ac216e1c3cbf36": {
          "model_module": "@jupyter-widgets/base",
          "model_name": "LayoutModel",
          "model_module_version": "1.2.0",
          "state": {
            "_model_module": "@jupyter-widgets/base",
            "_model_module_version": "1.2.0",
            "_model_name": "LayoutModel",
            "_view_count": null,
            "_view_module": "@jupyter-widgets/base",
            "_view_module_version": "1.2.0",
            "_view_name": "LayoutView",
            "align_content": null,
            "align_items": null,
            "align_self": null,
            "border": null,
            "bottom": null,
            "display": null,
            "flex": null,
            "flex_flow": null,
            "grid_area": null,
            "grid_auto_columns": null,
            "grid_auto_flow": null,
            "grid_auto_rows": null,
            "grid_column": null,
            "grid_gap": null,
            "grid_row": null,
            "grid_template_areas": null,
            "grid_template_columns": null,
            "grid_template_rows": null,
            "height": null,
            "justify_content": null,
            "justify_items": null,
            "left": null,
            "margin": null,
            "max_height": null,
            "max_width": null,
            "min_height": null,
            "min_width": null,
            "object_fit": null,
            "object_position": null,
            "order": null,
            "overflow": null,
            "overflow_x": null,
            "overflow_y": null,
            "padding": null,
            "right": null,
            "top": null,
            "visibility": null,
            "width": null
          }
        },
        "24fb760412ce4dfc9f41f6ac6723a28d": {
          "model_module": "@jupyter-widgets/controls",
          "model_name": "DescriptionStyleModel",
          "model_module_version": "1.5.0",
          "state": {
            "_model_module": "@jupyter-widgets/controls",
            "_model_module_version": "1.5.0",
            "_model_name": "DescriptionStyleModel",
            "_view_count": null,
            "_view_module": "@jupyter-widgets/base",
            "_view_module_version": "1.2.0",
            "_view_name": "StyleView",
            "description_width": ""
          }
        },
        "8fdade7470eb48be9df5c414867f742d": {
          "model_module": "@jupyter-widgets/base",
          "model_name": "LayoutModel",
          "model_module_version": "1.2.0",
          "state": {
            "_model_module": "@jupyter-widgets/base",
            "_model_module_version": "1.2.0",
            "_model_name": "LayoutModel",
            "_view_count": null,
            "_view_module": "@jupyter-widgets/base",
            "_view_module_version": "1.2.0",
            "_view_name": "LayoutView",
            "align_content": null,
            "align_items": null,
            "align_self": null,
            "border": null,
            "bottom": null,
            "display": null,
            "flex": null,
            "flex_flow": null,
            "grid_area": null,
            "grid_auto_columns": null,
            "grid_auto_flow": null,
            "grid_auto_rows": null,
            "grid_column": null,
            "grid_gap": null,
            "grid_row": null,
            "grid_template_areas": null,
            "grid_template_columns": null,
            "grid_template_rows": null,
            "height": null,
            "justify_content": null,
            "justify_items": null,
            "left": null,
            "margin": null,
            "max_height": null,
            "max_width": null,
            "min_height": null,
            "min_width": null,
            "object_fit": null,
            "object_position": null,
            "order": null,
            "overflow": null,
            "overflow_x": null,
            "overflow_y": null,
            "padding": null,
            "right": null,
            "top": null,
            "visibility": null,
            "width": null
          }
        },
        "3cad472c560144e5995c46bec18ae0d9": {
          "model_module": "@jupyter-widgets/controls",
          "model_name": "ProgressStyleModel",
          "model_module_version": "1.5.0",
          "state": {
            "_model_module": "@jupyter-widgets/controls",
            "_model_module_version": "1.5.0",
            "_model_name": "ProgressStyleModel",
            "_view_count": null,
            "_view_module": "@jupyter-widgets/base",
            "_view_module_version": "1.2.0",
            "_view_name": "StyleView",
            "bar_color": null,
            "description_width": ""
          }
        },
        "01495bc0b267428c88650a6b8b79b716": {
          "model_module": "@jupyter-widgets/base",
          "model_name": "LayoutModel",
          "model_module_version": "1.2.0",
          "state": {
            "_model_module": "@jupyter-widgets/base",
            "_model_module_version": "1.2.0",
            "_model_name": "LayoutModel",
            "_view_count": null,
            "_view_module": "@jupyter-widgets/base",
            "_view_module_version": "1.2.0",
            "_view_name": "LayoutView",
            "align_content": null,
            "align_items": null,
            "align_self": null,
            "border": null,
            "bottom": null,
            "display": null,
            "flex": null,
            "flex_flow": null,
            "grid_area": null,
            "grid_auto_columns": null,
            "grid_auto_flow": null,
            "grid_auto_rows": null,
            "grid_column": null,
            "grid_gap": null,
            "grid_row": null,
            "grid_template_areas": null,
            "grid_template_columns": null,
            "grid_template_rows": null,
            "height": null,
            "justify_content": null,
            "justify_items": null,
            "left": null,
            "margin": null,
            "max_height": null,
            "max_width": null,
            "min_height": null,
            "min_width": null,
            "object_fit": null,
            "object_position": null,
            "order": null,
            "overflow": null,
            "overflow_x": null,
            "overflow_y": null,
            "padding": null,
            "right": null,
            "top": null,
            "visibility": null,
            "width": null
          }
        },
        "59fa5870909646479ad917ee41da95df": {
          "model_module": "@jupyter-widgets/controls",
          "model_name": "DescriptionStyleModel",
          "model_module_version": "1.5.0",
          "state": {
            "_model_module": "@jupyter-widgets/controls",
            "_model_module_version": "1.5.0",
            "_model_name": "DescriptionStyleModel",
            "_view_count": null,
            "_view_module": "@jupyter-widgets/base",
            "_view_module_version": "1.2.0",
            "_view_name": "StyleView",
            "description_width": ""
          }
        }
      }
    }
  },
  "cells": [
    {
      "cell_type": "markdown",
      "metadata": {
        "id": "view-in-github",
        "colab_type": "text"
      },
      "source": [
        "<a href=\"https://colab.research.google.com/github/Pongpang-2102/Text_Mining_and_Sentiment_Analytics_KDAI_projects/blob/main/KDAI_Tutorial_TMSA_Text_Summarize_(24_Sep_23).ipynb\" target=\"_parent\"><img src=\"https://colab.research.google.com/assets/colab-badge.svg\" alt=\"Open In Colab\"/></a>"
      ]
    },
    {
      "cell_type": "code",
      "execution_count": null,
      "metadata": {
        "colab": {
          "base_uri": "https://localhost:8080/"
        },
        "id": "lhl3dkCZ2hbQ",
        "outputId": "68ae8b4e-83a0-437f-9b85-ca0e29d44b60"
      },
      "outputs": [
        {
          "output_type": "stream",
          "name": "stdout",
          "text": [
            "Sun Sep 24 06:41:28 2023       \n",
            "+-----------------------------------------------------------------------------+\n",
            "| NVIDIA-SMI 525.105.17   Driver Version: 525.105.17   CUDA Version: 12.0     |\n",
            "|-------------------------------+----------------------+----------------------+\n",
            "| GPU  Name        Persistence-M| Bus-Id        Disp.A | Volatile Uncorr. ECC |\n",
            "| Fan  Temp  Perf  Pwr:Usage/Cap|         Memory-Usage | GPU-Util  Compute M. |\n",
            "|                               |                      |               MIG M. |\n",
            "|===============================+======================+======================|\n",
            "|   0  Tesla T4            Off  | 00000000:00:04.0 Off |                    0 |\n",
            "| N/A   44C    P8     9W /  70W |      0MiB / 15360MiB |      0%      Default |\n",
            "|                               |                      |                  N/A |\n",
            "+-------------------------------+----------------------+----------------------+\n",
            "                                                                               \n",
            "+-----------------------------------------------------------------------------+\n",
            "| Processes:                                                                  |\n",
            "|  GPU   GI   CI        PID   Type   Process name                  GPU Memory |\n",
            "|        ID   ID                                                   Usage      |\n",
            "|=============================================================================|\n",
            "|  No running processes found                                                 |\n",
            "+-----------------------------------------------------------------------------+\n"
          ]
        }
      ],
      "source": [
        "!nvidia-smi"
      ]
    },
    {
      "cell_type": "code",
      "source": [
        "pip install nltk"
      ],
      "metadata": {
        "colab": {
          "base_uri": "https://localhost:8080/"
        },
        "id": "ZHLY04s_6kHf",
        "outputId": "0844fa63-72c4-4c85-e89f-d540473d6c03"
      },
      "execution_count": null,
      "outputs": [
        {
          "output_type": "stream",
          "name": "stdout",
          "text": [
            "Requirement already satisfied: nltk in /usr/local/lib/python3.10/dist-packages (3.8.1)\n",
            "Requirement already satisfied: click in /usr/local/lib/python3.10/dist-packages (from nltk) (8.1.7)\n",
            "Requirement already satisfied: joblib in /usr/local/lib/python3.10/dist-packages (from nltk) (1.3.2)\n",
            "Requirement already satisfied: regex>=2021.8.3 in /usr/local/lib/python3.10/dist-packages (from nltk) (2023.6.3)\n",
            "Requirement already satisfied: tqdm in /usr/local/lib/python3.10/dist-packages (from nltk) (4.66.1)\n"
          ]
        }
      ]
    },
    {
      "cell_type": "code",
      "source": [
        "pip install python-docx"
      ],
      "metadata": {
        "colab": {
          "base_uri": "https://localhost:8080/"
        },
        "id": "c8yH1Ffo6lbM",
        "outputId": "d2d698de-7ad8-45c6-db63-64485557dbbd"
      },
      "execution_count": null,
      "outputs": [
        {
          "output_type": "stream",
          "name": "stdout",
          "text": [
            "Collecting python-docx\n",
            "  Downloading python-docx-0.8.11.tar.gz (5.6 MB)\n",
            "\u001b[?25l     \u001b[90m━━━━━━━━━━━━━━━━━━━━━━━━━━━━━━━━━━━━━━━━\u001b[0m \u001b[32m0.0/5.6 MB\u001b[0m \u001b[31m?\u001b[0m eta \u001b[36m-:--:--\u001b[0m\r\u001b[2K     \u001b[91m╸\u001b[0m\u001b[90m━━━━━━━━━━━━━━━━━━━━━━━━━━━━━━━━━━━━━━━\u001b[0m \u001b[32m0.1/5.6 MB\u001b[0m \u001b[31m4.2 MB/s\u001b[0m eta \u001b[36m0:00:02\u001b[0m\r\u001b[2K     \u001b[91m━━━━━━━━━━━━━━━━━━━\u001b[0m\u001b[90m╺\u001b[0m\u001b[90m━━━━━━━━━━━━━━━━━━━━\u001b[0m \u001b[32m2.7/5.6 MB\u001b[0m \u001b[31m42.8 MB/s\u001b[0m eta \u001b[36m0:00:01\u001b[0m\r\u001b[2K     \u001b[91m━━━━━━━━━━━━━━━━━━━━━━━━━━━━━━━━━━━━━━━\u001b[0m\u001b[91m╸\u001b[0m \u001b[32m5.6/5.6 MB\u001b[0m \u001b[31m71.5 MB/s\u001b[0m eta \u001b[36m0:00:01\u001b[0m\r\u001b[2K     \u001b[90m━━━━━━━━━━━━━━━━━━━━━━━━━━━━━━━━━━━━━━━━\u001b[0m \u001b[32m5.6/5.6 MB\u001b[0m \u001b[31m54.4 MB/s\u001b[0m eta \u001b[36m0:00:00\u001b[0m\n",
            "\u001b[?25h  Preparing metadata (setup.py) ... \u001b[?25l\u001b[?25hdone\n",
            "Requirement already satisfied: lxml>=2.3.2 in /usr/local/lib/python3.10/dist-packages (from python-docx) (4.9.3)\n",
            "Building wheels for collected packages: python-docx\n",
            "  Building wheel for python-docx (setup.py) ... \u001b[?25l\u001b[?25hdone\n",
            "  Created wheel for python-docx: filename=python_docx-0.8.11-py3-none-any.whl size=184487 sha256=97cdd854dbad895e299ba5a242339c6558344726c3a86b0be2b6e6501ba1cc9c\n",
            "  Stored in directory: /root/.cache/pip/wheels/80/27/06/837436d4c3bd989b957a91679966f207bfd71d358d63a8194d\n",
            "Successfully built python-docx\n",
            "Installing collected packages: python-docx\n",
            "Successfully installed python-docx-0.8.11\n"
          ]
        }
      ]
    },
    {
      "cell_type": "code",
      "source": [
        "pip install transformers sentencepiece"
      ],
      "metadata": {
        "colab": {
          "base_uri": "https://localhost:8080/"
        },
        "id": "sB1D3HmI6mqb",
        "outputId": "e5c18066-19d8-4200-ca12-646717d83b2c"
      },
      "execution_count": null,
      "outputs": [
        {
          "output_type": "stream",
          "name": "stdout",
          "text": [
            "Collecting transformers\n",
            "  Downloading transformers-4.33.2-py3-none-any.whl (7.6 MB)\n",
            "\u001b[2K     \u001b[90m━━━━━━━━━━━━━━━━━━━━━━━━━━━━━━━━━━━━━━━━\u001b[0m \u001b[32m7.6/7.6 MB\u001b[0m \u001b[31m44.2 MB/s\u001b[0m eta \u001b[36m0:00:00\u001b[0m\n",
            "\u001b[?25hCollecting sentencepiece\n",
            "  Downloading sentencepiece-0.1.99-cp310-cp310-manylinux_2_17_x86_64.manylinux2014_x86_64.whl (1.3 MB)\n",
            "\u001b[2K     \u001b[90m━━━━━━━━━━━━━━━━━━━━━━━━━━━━━━━━━━━━━━━━\u001b[0m \u001b[32m1.3/1.3 MB\u001b[0m \u001b[31m76.1 MB/s\u001b[0m eta \u001b[36m0:00:00\u001b[0m\n",
            "\u001b[?25hRequirement already satisfied: filelock in /usr/local/lib/python3.10/dist-packages (from transformers) (3.12.2)\n",
            "Collecting huggingface-hub<1.0,>=0.15.1 (from transformers)\n",
            "  Downloading huggingface_hub-0.17.2-py3-none-any.whl (294 kB)\n",
            "\u001b[2K     \u001b[90m━━━━━━━━━━━━━━━━━━━━━━━━━━━━━━━━━━━━━━\u001b[0m \u001b[32m294.9/294.9 kB\u001b[0m \u001b[31m35.5 MB/s\u001b[0m eta \u001b[36m0:00:00\u001b[0m\n",
            "\u001b[?25hRequirement already satisfied: numpy>=1.17 in /usr/local/lib/python3.10/dist-packages (from transformers) (1.23.5)\n",
            "Requirement already satisfied: packaging>=20.0 in /usr/local/lib/python3.10/dist-packages (from transformers) (23.1)\n",
            "Requirement already satisfied: pyyaml>=5.1 in /usr/local/lib/python3.10/dist-packages (from transformers) (6.0.1)\n",
            "Requirement already satisfied: regex!=2019.12.17 in /usr/local/lib/python3.10/dist-packages (from transformers) (2023.6.3)\n",
            "Requirement already satisfied: requests in /usr/local/lib/python3.10/dist-packages (from transformers) (2.31.0)\n",
            "Collecting tokenizers!=0.11.3,<0.14,>=0.11.1 (from transformers)\n",
            "  Downloading tokenizers-0.13.3-cp310-cp310-manylinux_2_17_x86_64.manylinux2014_x86_64.whl (7.8 MB)\n",
            "\u001b[2K     \u001b[90m━━━━━━━━━━━━━━━━━━━━━━━━━━━━━━━━━━━━━━━━\u001b[0m \u001b[32m7.8/7.8 MB\u001b[0m \u001b[31m119.1 MB/s\u001b[0m eta \u001b[36m0:00:00\u001b[0m\n",
            "\u001b[?25hCollecting safetensors>=0.3.1 (from transformers)\n",
            "  Downloading safetensors-0.3.3-cp310-cp310-manylinux_2_17_x86_64.manylinux2014_x86_64.whl (1.3 MB)\n",
            "\u001b[2K     \u001b[90m━━━━━━━━━━━━━━━━━━━━━━━━━━━━━━━━━━━━━━━━\u001b[0m \u001b[32m1.3/1.3 MB\u001b[0m \u001b[31m81.1 MB/s\u001b[0m eta \u001b[36m0:00:00\u001b[0m\n",
            "\u001b[?25hRequirement already satisfied: tqdm>=4.27 in /usr/local/lib/python3.10/dist-packages (from transformers) (4.66.1)\n",
            "Requirement already satisfied: fsspec in /usr/local/lib/python3.10/dist-packages (from huggingface-hub<1.0,>=0.15.1->transformers) (2023.6.0)\n",
            "Requirement already satisfied: typing-extensions>=3.7.4.3 in /usr/local/lib/python3.10/dist-packages (from huggingface-hub<1.0,>=0.15.1->transformers) (4.5.0)\n",
            "Requirement already satisfied: charset-normalizer<4,>=2 in /usr/local/lib/python3.10/dist-packages (from requests->transformers) (3.2.0)\n",
            "Requirement already satisfied: idna<4,>=2.5 in /usr/local/lib/python3.10/dist-packages (from requests->transformers) (3.4)\n",
            "Requirement already satisfied: urllib3<3,>=1.21.1 in /usr/local/lib/python3.10/dist-packages (from requests->transformers) (2.0.4)\n",
            "Requirement already satisfied: certifi>=2017.4.17 in /usr/local/lib/python3.10/dist-packages (from requests->transformers) (2023.7.22)\n",
            "Installing collected packages: tokenizers, sentencepiece, safetensors, huggingface-hub, transformers\n",
            "Successfully installed huggingface-hub-0.17.2 safetensors-0.3.3 sentencepiece-0.1.99 tokenizers-0.13.3 transformers-4.33.2\n"
          ]
        }
      ]
    },
    {
      "cell_type": "markdown",
      "source": [
        "- rouge : เปรียบเทียบการตัดประโยคที่เกิดขึ้นจาก Human และ Machine"
      ],
      "metadata": {
        "id": "4eVZ-IvO8xyI"
      }
    },
    {
      "cell_type": "code",
      "source": [
        "pip install rouge"
      ],
      "metadata": {
        "colab": {
          "base_uri": "https://localhost:8080/"
        },
        "id": "YHinmrp26ocz",
        "outputId": "fc6f73c3-ea9a-4b3a-c84f-b49beab19c68"
      },
      "execution_count": null,
      "outputs": [
        {
          "output_type": "stream",
          "name": "stdout",
          "text": [
            "Collecting rouge\n",
            "  Downloading rouge-1.0.1-py3-none-any.whl (13 kB)\n",
            "Requirement already satisfied: six in /usr/local/lib/python3.10/dist-packages (from rouge) (1.16.0)\n",
            "Installing collected packages: rouge\n",
            "Successfully installed rouge-1.0.1\n"
          ]
        }
      ]
    },
    {
      "cell_type": "code",
      "source": [
        "pip install pythainlp"
      ],
      "metadata": {
        "colab": {
          "base_uri": "https://localhost:8080/"
        },
        "id": "9L8_hAk96ppk",
        "outputId": "fbb105fb-e24d-4c51-d9f5-6685693f9e9f"
      },
      "execution_count": null,
      "outputs": [
        {
          "output_type": "stream",
          "name": "stdout",
          "text": [
            "Collecting pythainlp\n",
            "  Downloading pythainlp-4.0.2-py3-none-any.whl (13.4 MB)\n",
            "\u001b[2K     \u001b[90m━━━━━━━━━━━━━━━━━━━━━━━━━━━━━━━━━━━━━━━━\u001b[0m \u001b[32m13.4/13.4 MB\u001b[0m \u001b[31m97.0 MB/s\u001b[0m eta \u001b[36m0:00:00\u001b[0m\n",
            "\u001b[?25hRequirement already satisfied: requests>=2.22.0 in /usr/local/lib/python3.10/dist-packages (from pythainlp) (2.31.0)\n",
            "Requirement already satisfied: charset-normalizer<4,>=2 in /usr/local/lib/python3.10/dist-packages (from requests>=2.22.0->pythainlp) (3.2.0)\n",
            "Requirement already satisfied: idna<4,>=2.5 in /usr/local/lib/python3.10/dist-packages (from requests>=2.22.0->pythainlp) (3.4)\n",
            "Requirement already satisfied: urllib3<3,>=1.21.1 in /usr/local/lib/python3.10/dist-packages (from requests>=2.22.0->pythainlp) (2.0.4)\n",
            "Requirement already satisfied: certifi>=2017.4.17 in /usr/local/lib/python3.10/dist-packages (from requests>=2.22.0->pythainlp) (2023.7.22)\n",
            "Installing collected packages: pythainlp\n",
            "Successfully installed pythainlp-4.0.2\n"
          ]
        }
      ]
    },
    {
      "cell_type": "code",
      "source": [
        "from nltk.cluster.util import cosine_distance\n",
        "import numpy as np\n",
        "import networkx as nx\n",
        "import pandas as pd\n",
        "\n",
        "import docx\n",
        "from docx.enum.text import WD_COLOR_INDEX\n",
        "\n",
        "import rouge\n",
        "\n",
        "from transformers import AutoTokenizer, AutoModel\n",
        "\n",
        "from pythainlp.tokenize import word_tokenize"
      ],
      "metadata": {
        "id": "xydBjZ0C6rTR"
      },
      "execution_count": null,
      "outputs": []
    },
    {
      "cell_type": "code",
      "source": [
        "# ดึง pre-trained model เอามาใช้ในการสร้าง vector ของประโยค\n",
        "# Load Wangchanberta Model\n",
        "model_name = \"airesearch/wangchanberta-base-att-spm-uncased\"\n",
        "model = AutoModel.from_pretrained(model_name)"
      ],
      "metadata": {
        "colab": {
          "base_uri": "https://localhost:8080/",
          "height": 81,
          "referenced_widgets": [
            "b60e7378ef82499982a97e14b0f9f8ba",
            "e62ba99f28a4446db3806267a4201257",
            "aa4a905290c04a71bae13bec8a461ad2",
            "73a675eac9204750a7d69b9e8db534fd",
            "e287cc6f43084c57965234b1ec739535",
            "d5894359992a49359b8da55afd8c5dec",
            "05317c823ea64634905795c90b5dda67",
            "50c1aeb2ac2340629538aba5a94fc137",
            "6572332f14314b44a774a84ed8c10849",
            "0e0fe61f965b4f7cb1c4029e007a0b46",
            "974dd55104c544789bc6441a0f8b3b75",
            "30cd599181b1478a92f0e5ebf2aef53b",
            "0786e5f75d5f44229040985043b946b4",
            "080af154fa1742e0a957bb4ea4fe80de",
            "6012db15d717405a9bfa41ee4da1abaa",
            "84453b3750e54070a863d2addaa95bbf",
            "59d682f5c96c499e84ebc18925211e8f",
            "a3aa3417b13f436089f2ac42269e956d",
            "ab9c150131e24e28ada50244e71a2624",
            "1a6c2b5dca3945ad85f316ef2d57cd58",
            "3ac3e4fd224947de877c2648d9c9e246",
            "d9aa1189c54c4497b7c45ed4075207fe"
          ]
        },
        "id": "AZkZK8Ks6tfV",
        "outputId": "17560919-b031-4405-8d85-366a52c38520"
      },
      "execution_count": null,
      "outputs": [
        {
          "output_type": "display_data",
          "data": {
            "text/plain": [
              "Downloading (…)lve/main/config.json:   0%|          | 0.00/546 [00:00<?, ?B/s]"
            ],
            "application/vnd.jupyter.widget-view+json": {
              "version_major": 2,
              "version_minor": 0,
              "model_id": "b60e7378ef82499982a97e14b0f9f8ba"
            }
          },
          "metadata": {}
        },
        {
          "output_type": "display_data",
          "data": {
            "text/plain": [
              "Downloading model.safetensors:   0%|          | 0.00/423M [00:00<?, ?B/s]"
            ],
            "application/vnd.jupyter.widget-view+json": {
              "version_major": 2,
              "version_minor": 0,
              "model_id": "30cd599181b1478a92f0e5ebf2aef53b"
            }
          },
          "metadata": {}
        }
      ]
    },
    {
      "cell_type": "markdown",
      "source": [],
      "metadata": {
        "id": "0zmVqKsU9YO1"
      }
    },
    {
      "cell_type": "code",
      "source": [
        "tokenizer = AutoTokenizer.from_pretrained(model_name)"
      ],
      "metadata": {
        "colab": {
          "base_uri": "https://localhost:8080/",
          "height": 81,
          "referenced_widgets": [
            "c4c3832058a34da0b214499195b560ae",
            "2d29151987bc493cb90f1f240e49db7e",
            "c6abf21f43ca4656b26611f097c0442a",
            "4f4d4b073a9a4625b44c2513dc8c9049",
            "dd8a11818b88441eb1ae62d26bd807a7",
            "0f281cdfdd2c4dcabba6945ee82e512e",
            "c070935b6d7a494aadfe54d08a5bddf3",
            "30470535ada441a68f01d961524101b7",
            "2304d23c8d424d73b827289d06d675c2",
            "0f6e8eb3bb104c91b1259c09823eb530",
            "1d4211f1d5d343da9abf150f38e7bba9",
            "d63987d6674a46f1bcc9f56fe71eea0f",
            "b6d8e6b1312248259f2ed574417c0511",
            "5ec1c96d28cd41af8b557e9e082a9cfb",
            "2d884341136d4087b8fd3f69087cef69",
            "4771ad60c27141de8a43ba30e550d854",
            "32b07812db604baaa0ac216e1c3cbf36",
            "24fb760412ce4dfc9f41f6ac6723a28d",
            "8fdade7470eb48be9df5c414867f742d",
            "3cad472c560144e5995c46bec18ae0d9",
            "01495bc0b267428c88650a6b8b79b716",
            "59fa5870909646479ad917ee41da95df"
          ]
        },
        "id": "7yEV3LBm6uhT",
        "outputId": "0ded2282-3e7c-49aa-d4d6-ccc0f01ecfde"
      },
      "execution_count": null,
      "outputs": [
        {
          "output_type": "display_data",
          "data": {
            "text/plain": [
              "Downloading (…)okenizer_config.json:   0%|          | 0.00/282 [00:00<?, ?B/s]"
            ],
            "application/vnd.jupyter.widget-view+json": {
              "version_major": 2,
              "version_minor": 0,
              "model_id": "c4c3832058a34da0b214499195b560ae"
            }
          },
          "metadata": {}
        },
        {
          "output_type": "display_data",
          "data": {
            "text/plain": [
              "Downloading (…)tencepiece.bpe.model:   0%|          | 0.00/905k [00:00<?, ?B/s]"
            ],
            "application/vnd.jupyter.widget-view+json": {
              "version_major": 2,
              "version_minor": 0,
              "model_id": "d63987d6674a46f1bcc9f56fe71eea0f"
            }
          },
          "metadata": {}
        }
      ]
    },
    {
      "cell_type": "code",
      "source": [
        "subword = list(tokenizer.vocab.keys())\n",
        "df = pd.DataFrame(subword, columns =['subword'])\n",
        "df.shape"
      ],
      "metadata": {
        "colab": {
          "base_uri": "https://localhost:8080/"
        },
        "id": "ZqVS_thN6wiB",
        "outputId": "59cec1f1-245e-4830-d0c1-e2f0bb87fb77"
      },
      "execution_count": null,
      "outputs": [
        {
          "output_type": "execute_result",
          "data": {
            "text/plain": [
              "(25004, 1)"
            ]
          },
          "metadata": {},
          "execution_count": 11
        }
      ]
    },
    {
      "cell_type": "code",
      "source": [
        "df.head(10)"
      ],
      "metadata": {
        "colab": {
          "base_uri": "https://localhost:8080/",
          "height": 363
        },
        "id": "Jx5WZQnP6wer",
        "outputId": "85ec6dbb-9cba-40ef-d10e-f1ab4015217c"
      },
      "execution_count": null,
      "outputs": [
        {
          "output_type": "execute_result",
          "data": {
            "text/plain": [
              "      subword\n",
              "0         เลย\n",
              "1     พอสมควร\n",
              "2  ยังไม่ทราบ\n",
              "3    ลาออกจาก\n",
              "4        ผลึก\n",
              "5       กอนซา\n",
              "6      ประกอบ\n",
              "7       เฟอร์\n",
              "8      เสาะหา\n",
              "9   ผู้ชุมนุม"
            ],
            "text/html": [
              "\n",
              "  <div id=\"df-9158c755-56a6-472a-a751-4dc5fb92d742\" class=\"colab-df-container\">\n",
              "    <div>\n",
              "<style scoped>\n",
              "    .dataframe tbody tr th:only-of-type {\n",
              "        vertical-align: middle;\n",
              "    }\n",
              "\n",
              "    .dataframe tbody tr th {\n",
              "        vertical-align: top;\n",
              "    }\n",
              "\n",
              "    .dataframe thead th {\n",
              "        text-align: right;\n",
              "    }\n",
              "</style>\n",
              "<table border=\"1\" class=\"dataframe\">\n",
              "  <thead>\n",
              "    <tr style=\"text-align: right;\">\n",
              "      <th></th>\n",
              "      <th>subword</th>\n",
              "    </tr>\n",
              "  </thead>\n",
              "  <tbody>\n",
              "    <tr>\n",
              "      <th>0</th>\n",
              "      <td>เลย</td>\n",
              "    </tr>\n",
              "    <tr>\n",
              "      <th>1</th>\n",
              "      <td>พอสมควร</td>\n",
              "    </tr>\n",
              "    <tr>\n",
              "      <th>2</th>\n",
              "      <td>ยังไม่ทราบ</td>\n",
              "    </tr>\n",
              "    <tr>\n",
              "      <th>3</th>\n",
              "      <td>ลาออกจาก</td>\n",
              "    </tr>\n",
              "    <tr>\n",
              "      <th>4</th>\n",
              "      <td>ผลึก</td>\n",
              "    </tr>\n",
              "    <tr>\n",
              "      <th>5</th>\n",
              "      <td>กอนซา</td>\n",
              "    </tr>\n",
              "    <tr>\n",
              "      <th>6</th>\n",
              "      <td>ประกอบ</td>\n",
              "    </tr>\n",
              "    <tr>\n",
              "      <th>7</th>\n",
              "      <td>เฟอร์</td>\n",
              "    </tr>\n",
              "    <tr>\n",
              "      <th>8</th>\n",
              "      <td>เสาะหา</td>\n",
              "    </tr>\n",
              "    <tr>\n",
              "      <th>9</th>\n",
              "      <td>ผู้ชุมนุม</td>\n",
              "    </tr>\n",
              "  </tbody>\n",
              "</table>\n",
              "</div>\n",
              "    <div class=\"colab-df-buttons\">\n",
              "\n",
              "  <div class=\"colab-df-container\">\n",
              "    <button class=\"colab-df-convert\" onclick=\"convertToInteractive('df-9158c755-56a6-472a-a751-4dc5fb92d742')\"\n",
              "            title=\"Convert this dataframe to an interactive table.\"\n",
              "            style=\"display:none;\">\n",
              "\n",
              "  <svg xmlns=\"http://www.w3.org/2000/svg\" height=\"24px\" viewBox=\"0 -960 960 960\">\n",
              "    <path d=\"M120-120v-720h720v720H120Zm60-500h600v-160H180v160Zm220 220h160v-160H400v160Zm0 220h160v-160H400v160ZM180-400h160v-160H180v160Zm440 0h160v-160H620v160ZM180-180h160v-160H180v160Zm440 0h160v-160H620v160Z\"/>\n",
              "  </svg>\n",
              "    </button>\n",
              "\n",
              "  <style>\n",
              "    .colab-df-container {\n",
              "      display:flex;\n",
              "      gap: 12px;\n",
              "    }\n",
              "\n",
              "    .colab-df-convert {\n",
              "      background-color: #E8F0FE;\n",
              "      border: none;\n",
              "      border-radius: 50%;\n",
              "      cursor: pointer;\n",
              "      display: none;\n",
              "      fill: #1967D2;\n",
              "      height: 32px;\n",
              "      padding: 0 0 0 0;\n",
              "      width: 32px;\n",
              "    }\n",
              "\n",
              "    .colab-df-convert:hover {\n",
              "      background-color: #E2EBFA;\n",
              "      box-shadow: 0px 1px 2px rgba(60, 64, 67, 0.3), 0px 1px 3px 1px rgba(60, 64, 67, 0.15);\n",
              "      fill: #174EA6;\n",
              "    }\n",
              "\n",
              "    .colab-df-buttons div {\n",
              "      margin-bottom: 4px;\n",
              "    }\n",
              "\n",
              "    [theme=dark] .colab-df-convert {\n",
              "      background-color: #3B4455;\n",
              "      fill: #D2E3FC;\n",
              "    }\n",
              "\n",
              "    [theme=dark] .colab-df-convert:hover {\n",
              "      background-color: #434B5C;\n",
              "      box-shadow: 0px 1px 3px 1px rgba(0, 0, 0, 0.15);\n",
              "      filter: drop-shadow(0px 1px 2px rgba(0, 0, 0, 0.3));\n",
              "      fill: #FFFFFF;\n",
              "    }\n",
              "  </style>\n",
              "\n",
              "    <script>\n",
              "      const buttonEl =\n",
              "        document.querySelector('#df-9158c755-56a6-472a-a751-4dc5fb92d742 button.colab-df-convert');\n",
              "      buttonEl.style.display =\n",
              "        google.colab.kernel.accessAllowed ? 'block' : 'none';\n",
              "\n",
              "      async function convertToInteractive(key) {\n",
              "        const element = document.querySelector('#df-9158c755-56a6-472a-a751-4dc5fb92d742');\n",
              "        const dataTable =\n",
              "          await google.colab.kernel.invokeFunction('convertToInteractive',\n",
              "                                                    [key], {});\n",
              "        if (!dataTable) return;\n",
              "\n",
              "        const docLinkHtml = 'Like what you see? Visit the ' +\n",
              "          '<a target=\"_blank\" href=https://colab.research.google.com/notebooks/data_table.ipynb>data table notebook</a>'\n",
              "          + ' to learn more about interactive tables.';\n",
              "        element.innerHTML = '';\n",
              "        dataTable['output_type'] = 'display_data';\n",
              "        await google.colab.output.renderOutput(dataTable, element);\n",
              "        const docLink = document.createElement('div');\n",
              "        docLink.innerHTML = docLinkHtml;\n",
              "        element.appendChild(docLink);\n",
              "      }\n",
              "    </script>\n",
              "  </div>\n",
              "\n",
              "\n",
              "<div id=\"df-b3e746a9-8467-4eb5-bfb3-5700cf8f058b\">\n",
              "  <button class=\"colab-df-quickchart\" onclick=\"quickchart('df-b3e746a9-8467-4eb5-bfb3-5700cf8f058b')\"\n",
              "            title=\"Suggest charts.\"\n",
              "            style=\"display:none;\">\n",
              "\n",
              "<svg xmlns=\"http://www.w3.org/2000/svg\" height=\"24px\"viewBox=\"0 0 24 24\"\n",
              "     width=\"24px\">\n",
              "    <g>\n",
              "        <path d=\"M19 3H5c-1.1 0-2 .9-2 2v14c0 1.1.9 2 2 2h14c1.1 0 2-.9 2-2V5c0-1.1-.9-2-2-2zM9 17H7v-7h2v7zm4 0h-2V7h2v10zm4 0h-2v-4h2v4z\"/>\n",
              "    </g>\n",
              "</svg>\n",
              "  </button>\n",
              "\n",
              "<style>\n",
              "  .colab-df-quickchart {\n",
              "      --bg-color: #E8F0FE;\n",
              "      --fill-color: #1967D2;\n",
              "      --hover-bg-color: #E2EBFA;\n",
              "      --hover-fill-color: #174EA6;\n",
              "      --disabled-fill-color: #AAA;\n",
              "      --disabled-bg-color: #DDD;\n",
              "  }\n",
              "\n",
              "  [theme=dark] .colab-df-quickchart {\n",
              "      --bg-color: #3B4455;\n",
              "      --fill-color: #D2E3FC;\n",
              "      --hover-bg-color: #434B5C;\n",
              "      --hover-fill-color: #FFFFFF;\n",
              "      --disabled-bg-color: #3B4455;\n",
              "      --disabled-fill-color: #666;\n",
              "  }\n",
              "\n",
              "  .colab-df-quickchart {\n",
              "    background-color: var(--bg-color);\n",
              "    border: none;\n",
              "    border-radius: 50%;\n",
              "    cursor: pointer;\n",
              "    display: none;\n",
              "    fill: var(--fill-color);\n",
              "    height: 32px;\n",
              "    padding: 0;\n",
              "    width: 32px;\n",
              "  }\n",
              "\n",
              "  .colab-df-quickchart:hover {\n",
              "    background-color: var(--hover-bg-color);\n",
              "    box-shadow: 0 1px 2px rgba(60, 64, 67, 0.3), 0 1px 3px 1px rgba(60, 64, 67, 0.15);\n",
              "    fill: var(--button-hover-fill-color);\n",
              "  }\n",
              "\n",
              "  .colab-df-quickchart-complete:disabled,\n",
              "  .colab-df-quickchart-complete:disabled:hover {\n",
              "    background-color: var(--disabled-bg-color);\n",
              "    fill: var(--disabled-fill-color);\n",
              "    box-shadow: none;\n",
              "  }\n",
              "\n",
              "  .colab-df-spinner {\n",
              "    border: 2px solid var(--fill-color);\n",
              "    border-color: transparent;\n",
              "    border-bottom-color: var(--fill-color);\n",
              "    animation:\n",
              "      spin 1s steps(1) infinite;\n",
              "  }\n",
              "\n",
              "  @keyframes spin {\n",
              "    0% {\n",
              "      border-color: transparent;\n",
              "      border-bottom-color: var(--fill-color);\n",
              "      border-left-color: var(--fill-color);\n",
              "    }\n",
              "    20% {\n",
              "      border-color: transparent;\n",
              "      border-left-color: var(--fill-color);\n",
              "      border-top-color: var(--fill-color);\n",
              "    }\n",
              "    30% {\n",
              "      border-color: transparent;\n",
              "      border-left-color: var(--fill-color);\n",
              "      border-top-color: var(--fill-color);\n",
              "      border-right-color: var(--fill-color);\n",
              "    }\n",
              "    40% {\n",
              "      border-color: transparent;\n",
              "      border-right-color: var(--fill-color);\n",
              "      border-top-color: var(--fill-color);\n",
              "    }\n",
              "    60% {\n",
              "      border-color: transparent;\n",
              "      border-right-color: var(--fill-color);\n",
              "    }\n",
              "    80% {\n",
              "      border-color: transparent;\n",
              "      border-right-color: var(--fill-color);\n",
              "      border-bottom-color: var(--fill-color);\n",
              "    }\n",
              "    90% {\n",
              "      border-color: transparent;\n",
              "      border-bottom-color: var(--fill-color);\n",
              "    }\n",
              "  }\n",
              "</style>\n",
              "\n",
              "  <script>\n",
              "    async function quickchart(key) {\n",
              "      const quickchartButtonEl =\n",
              "        document.querySelector('#' + key + ' button');\n",
              "      quickchartButtonEl.disabled = true;  // To prevent multiple clicks.\n",
              "      quickchartButtonEl.classList.add('colab-df-spinner');\n",
              "      try {\n",
              "        const charts = await google.colab.kernel.invokeFunction(\n",
              "            'suggestCharts', [key], {});\n",
              "      } catch (error) {\n",
              "        console.error('Error during call to suggestCharts:', error);\n",
              "      }\n",
              "      quickchartButtonEl.classList.remove('colab-df-spinner');\n",
              "      quickchartButtonEl.classList.add('colab-df-quickchart-complete');\n",
              "    }\n",
              "    (() => {\n",
              "      let quickchartButtonEl =\n",
              "        document.querySelector('#df-b3e746a9-8467-4eb5-bfb3-5700cf8f058b button');\n",
              "      quickchartButtonEl.style.display =\n",
              "        google.colab.kernel.accessAllowed ? 'block' : 'none';\n",
              "    })();\n",
              "  </script>\n",
              "</div>\n",
              "    </div>\n",
              "  </div>\n"
            ]
          },
          "metadata": {},
          "execution_count": 12
        }
      ]
    },
    {
      "cell_type": "code",
      "source": [
        "tokenizer.tokenize('สวัสดีครับชาวโลก')"
      ],
      "metadata": {
        "colab": {
          "base_uri": "https://localhost:8080/"
        },
        "id": "0PXUZoZ56zly",
        "outputId": "6c467420-731c-46ee-ac81-f6b848d27ca3"
      },
      "execution_count": null,
      "outputs": [
        {
          "output_type": "execute_result",
          "data": {
            "text/plain": [
              "['▁', 'สวัสดีครับ', 'ชาวโลก']"
            ]
          },
          "metadata": {},
          "execution_count": 13
        }
      ]
    },
    {
      "cell_type": "code",
      "source": [
        "inputs = tokenizer('สวัสดีครับชาวโลก', return_tensors='pt')\n",
        "\n",
        "inputs"
      ],
      "metadata": {
        "colab": {
          "base_uri": "https://localhost:8080/"
        },
        "id": "sI-T2Lio61Yr",
        "outputId": "53c58fef-46a8-4437-8143-d7b5c8788e60"
      },
      "execution_count": null,
      "outputs": [
        {
          "output_type": "execute_result",
          "data": {
            "text/plain": [
              "{'input_ids': tensor([[    5,    10,  5533, 15873,     6]]), 'attention_mask': tensor([[1, 1, 1, 1, 1]])}"
            ]
          },
          "metadata": {},
          "execution_count": 14
        }
      ]
    },
    {
      "cell_type": "code",
      "source": [
        "inputs['input_ids']"
      ],
      "metadata": {
        "colab": {
          "base_uri": "https://localhost:8080/"
        },
        "id": "ML0CKMFY63U8",
        "outputId": "4970c752-fc72-4c90-8a27-b89ee3809acc"
      },
      "execution_count": null,
      "outputs": [
        {
          "output_type": "execute_result",
          "data": {
            "text/plain": [
              "tensor([[    5,    10,  5533, 15873,     6]])"
            ]
          },
          "metadata": {},
          "execution_count": 15
        }
      ]
    },
    {
      "cell_type": "code",
      "source": [
        "tokenizer.decode(inputs['input_ids'][0])"
      ],
      "metadata": {
        "colab": {
          "base_uri": "https://localhost:8080/",
          "height": 35
        },
        "id": "C_uqUu4S64p-",
        "outputId": "abff320d-bef4-48a6-9ce2-33e40b8a0cdf"
      },
      "execution_count": null,
      "outputs": [
        {
          "output_type": "execute_result",
          "data": {
            "text/plain": [
              "'<s> สวัสดีครับชาวโลก</s>'"
            ],
            "application/vnd.google.colaboratory.intrinsic+json": {
              "type": "string"
            }
          },
          "metadata": {},
          "execution_count": 16
        }
      ]
    },
    {
      "cell_type": "code",
      "source": [
        "outputs = model(**inputs)\n",
        "\n",
        "outputs[1].shape"
      ],
      "metadata": {
        "colab": {
          "base_uri": "https://localhost:8080/"
        },
        "id": "Ke88W4cs657A",
        "outputId": "7171617a-7ad0-4bcc-8a51-2cda33e7d881"
      },
      "execution_count": null,
      "outputs": [
        {
          "output_type": "execute_result",
          "data": {
            "text/plain": [
              "torch.Size([1, 768])"
            ]
          },
          "metadata": {},
          "execution_count": 19
        }
      ]
    },
    {
      "cell_type": "markdown",
      "source": [
        "- 768 จะเป็นจำนวนเวกเตอร์ ซึ่งจะนำไปคำนวณหา Sentence Similiarity"
      ],
      "metadata": {
        "id": "sGrfarYP-iki"
      }
    },
    {
      "cell_type": "code",
      "source": [
        "outputs[1]"
      ],
      "metadata": {
        "colab": {
          "base_uri": "https://localhost:8080/"
        },
        "id": "Mj17LO5v67HA",
        "outputId": "df176fa9-4fbf-4159-9cb1-be93fb28dc20"
      },
      "execution_count": null,
      "outputs": [
        {
          "output_type": "execute_result",
          "data": {
            "text/plain": [
              "tensor([[-1.7415e-03, -1.8435e-02,  1.6773e-03,  3.2724e-02, -4.5005e-01,\n",
              "          3.7407e-01,  2.3650e-01, -4.3904e-01,  5.3071e-01,  1.0394e-01,\n",
              "          2.5839e-01, -2.1191e-01, -4.9980e-02, -4.0315e-01, -4.9616e-01,\n",
              "          3.0455e-01, -3.9129e-01, -1.5483e-01,  1.1654e-01, -5.8820e-01,\n",
              "          8.7397e-02, -9.9180e-03,  5.7237e-03,  2.9143e-02,  3.9419e-01,\n",
              "          2.0283e-01,  3.5851e-01,  2.3526e-01,  2.4379e-01, -8.6311e-02,\n",
              "          1.2132e-01, -6.0768e-01,  1.0238e-01, -5.0157e-01,  4.9279e-01,\n",
              "          3.5147e-02,  2.9007e-01, -9.7012e-02, -1.0634e-01,  2.5652e-01,\n",
              "         -1.8373e-01,  6.6175e-02, -9.7855e-02, -2.6775e-01, -1.5677e-01,\n",
              "          1.9742e-01,  3.0807e-01, -3.6781e-01, -1.7246e-01,  2.3263e-01,\n",
              "          2.7887e-01,  1.8814e-01, -1.7076e-01, -9.1214e-03,  9.2614e-02,\n",
              "         -1.8832e-02, -1.5682e-02,  1.5432e-01,  2.3732e-02, -1.9179e-01,\n",
              "         -9.1010e-02, -2.3388e-01, -2.0219e-01, -1.9506e-01,  1.0827e-01,\n",
              "         -9.5903e-02, -4.1159e-02, -3.9606e-02, -1.4348e-01, -1.6756e-01,\n",
              "          6.5031e-04,  2.2616e-01, -1.0714e-01, -2.9539e-01, -1.5881e-01,\n",
              "         -1.7417e-01, -1.8302e-01, -7.0483e-01,  3.9635e-01, -5.4701e-02,\n",
              "         -3.4474e-01,  6.8416e-02,  2.3813e-01,  2.5555e-01, -1.6271e-01,\n",
              "          1.6569e-01,  1.1332e-01,  4.3169e-01, -7.1337e-02, -1.5229e-01,\n",
              "          2.3641e-01,  4.5821e-01, -4.6749e-01,  4.0129e-01, -1.8674e-01,\n",
              "         -1.0307e-01,  1.9183e-01,  3.5921e-01,  5.3416e-02,  1.3410e-01,\n",
              "         -1.0242e-01,  7.3182e-01,  1.1579e-01,  3.6259e-01, -1.6311e-01,\n",
              "         -3.3277e-01,  1.4772e-01,  3.5492e-01,  1.1856e-01,  1.2135e-01,\n",
              "          6.7160e-01,  1.7150e-01, -4.0114e-01,  4.3118e-02, -2.5930e-01,\n",
              "         -3.5345e-02, -2.3407e-01,  2.8107e-01,  2.0761e-01, -6.8764e-02,\n",
              "          3.1836e-05,  2.5444e-01,  4.6448e-01, -4.1728e-01, -2.3795e-01,\n",
              "         -1.1975e-01,  1.6236e-01,  2.7139e-01, -3.7238e-01, -6.9987e-02,\n",
              "          1.1189e-01, -3.1497e-01, -4.7699e-01,  2.3171e-01,  2.2287e-01,\n",
              "          1.6414e-01, -4.2833e-01, -2.5187e-01,  5.1433e-01, -3.4848e-01,\n",
              "         -3.7375e-01,  1.6812e-01,  2.0907e-01, -6.3344e-01, -3.7051e-01,\n",
              "         -2.6851e-01, -3.8018e-02,  3.1653e-01,  3.1452e-01,  7.6925e-02,\n",
              "         -1.4286e-02, -2.1776e-01, -1.2157e-01,  2.8723e-01, -1.4294e-01,\n",
              "         -4.8821e-01,  4.0401e-01, -1.3967e-01, -8.7572e-02,  3.9264e-01,\n",
              "          1.5298e-01,  4.4433e-01, -1.8172e-01, -2.7075e-01, -3.3102e-02,\n",
              "          4.8729e-01,  3.6434e-01, -5.6820e-02,  2.5563e-02,  2.8544e-01,\n",
              "          3.3715e-01, -1.8160e-01,  2.7369e-01, -1.7536e-01, -1.6032e-01,\n",
              "         -3.2272e-01,  4.0258e-01,  1.1499e-02,  5.9264e-01, -1.7716e-01,\n",
              "         -8.1790e-02,  6.4437e-01, -4.5712e-01, -4.3605e-01,  4.6470e-01,\n",
              "          1.2755e-01,  2.9174e-02,  4.3011e-01,  3.3265e-01,  3.0974e-01,\n",
              "          4.4927e-01, -1.5653e-01,  3.6505e-01,  4.3266e-02, -3.2050e-01,\n",
              "         -4.8552e-02, -4.5173e-01,  3.9156e-01, -3.8865e-01, -1.0834e-02,\n",
              "          7.8948e-03,  2.2778e-01,  9.5998e-03,  3.6069e-01, -7.0036e-03,\n",
              "         -4.3468e-01,  2.5751e-01, -1.6533e-01,  1.8270e-01, -1.9651e-01,\n",
              "          2.6596e-01,  3.3132e-01,  3.5505e-01,  3.5791e-02,  1.7561e-01,\n",
              "          8.9308e-02, -5.3612e-02, -1.6113e-01, -5.6101e-02, -4.5662e-01,\n",
              "         -3.6563e-01, -2.7653e-01,  1.4905e-01,  4.4085e-01,  1.8015e-01,\n",
              "         -4.8805e-01, -2.9844e-01,  1.5878e-01, -3.8792e-01,  2.5100e-01,\n",
              "          1.6992e-01, -2.8363e-01,  2.6130e-01, -2.7658e-01, -2.0592e-01,\n",
              "          2.2135e-01, -7.1309e-02, -1.4112e-01,  5.1051e-03, -1.5750e-01,\n",
              "          1.2414e-01, -2.6889e-01, -1.6079e-01, -2.4956e-01, -1.0762e-01,\n",
              "          6.5932e-02,  2.8334e-01, -4.9149e-02, -2.2924e-01,  1.8572e-01,\n",
              "          4.2800e-01,  3.7472e-01,  3.9997e-01, -2.0298e-01, -1.3090e-01,\n",
              "         -2.0603e-01, -2.0720e-01, -1.2740e-01, -4.2453e-01, -3.2867e-01,\n",
              "          4.6246e-02, -4.2917e-01,  2.1135e-01,  3.4869e-01,  1.7238e-01,\n",
              "          2.8607e-03,  2.5740e-01, -1.5108e-01,  2.7273e-01, -1.9850e-01,\n",
              "         -2.0665e-01,  6.7376e-02, -2.4606e-01,  2.4448e-01, -5.1077e-01,\n",
              "         -1.6839e-02, -2.5237e-01,  2.5190e-01,  2.8021e-02, -1.1496e-01,\n",
              "         -6.6505e-02, -2.7995e-03,  4.3298e-01,  1.5313e-01, -3.1283e-01,\n",
              "          1.8816e-01, -5.6514e-02, -2.1603e-01,  1.7195e-01, -1.0232e-01,\n",
              "         -7.5936e-01,  3.1909e-01, -1.4817e-01,  1.5814e-01,  1.3539e-01,\n",
              "          4.9041e-01,  2.1293e-01, -6.4421e-02,  2.3979e-01,  9.5484e-02,\n",
              "          2.7479e-01,  1.9693e-01, -1.3819e-01, -1.8753e-01,  1.8588e-01,\n",
              "         -1.3604e-01, -3.9496e-01,  1.7544e-01, -1.6113e-01,  3.6492e-01,\n",
              "          1.2491e-01,  4.7286e-01, -2.4494e-01,  9.3876e-02,  2.5445e-01,\n",
              "          5.6920e-01, -3.6732e-01,  8.6964e-02,  3.0173e-01, -4.0452e-01,\n",
              "         -3.5239e-01, -1.9258e-01,  4.0353e-01, -3.0656e-01, -1.3795e-01,\n",
              "         -8.3894e-03,  1.6838e-01, -5.2382e-02,  5.4599e-02,  1.8128e-01,\n",
              "          4.1307e-01,  2.4419e-01, -2.3215e-01, -2.3180e-01, -9.9386e-02,\n",
              "          3.7436e-01, -1.1198e-01, -4.1512e-01,  3.8767e-02,  1.8862e-01,\n",
              "         -9.7659e-02, -3.9555e-01,  9.1631e-02, -1.1346e-01, -1.3921e-01,\n",
              "         -5.0534e-02, -4.4458e-02, -2.7472e-01, -9.0415e-02, -4.5046e-01,\n",
              "         -2.8762e-01, -4.7129e-01, -7.5223e-02, -5.2047e-01,  2.3157e-01,\n",
              "          3.7234e-01,  3.0679e-01, -3.0741e-01,  9.1030e-02, -1.5950e-02,\n",
              "          4.8792e-01,  9.0618e-03,  2.1068e-01,  1.0096e-01, -4.3262e-01,\n",
              "          2.3323e-01,  3.0490e-01, -5.4292e-01, -4.0585e-01,  1.7818e-01,\n",
              "          4.5375e-01,  2.2440e-01,  3.5725e-01,  3.1195e-01, -2.3768e-01,\n",
              "         -1.6589e-01,  2.5787e-01,  2.2146e-01, -1.6357e-01,  3.0792e-01,\n",
              "          4.5067e-04,  1.5305e-01,  8.0964e-02, -9.0898e-02,  5.0334e-02,\n",
              "          7.5974e-02,  6.6406e-02,  1.8719e-01,  4.9266e-01,  3.2251e-01,\n",
              "         -2.4272e-01, -2.1990e-01,  3.3450e-01,  5.0086e-01,  7.0491e-01,\n",
              "          2.3972e-02,  4.6791e-02,  1.8603e-01, -1.2142e-01, -1.5872e-01,\n",
              "         -1.4646e-01,  1.8852e-02, -5.3433e-01,  3.9339e-02, -2.5602e-01,\n",
              "          4.3587e-01, -4.8928e-01, -4.0945e-02,  6.0300e-01,  8.9536e-02,\n",
              "          2.5031e-02, -2.7204e-01, -1.8075e-01,  1.7264e-01,  4.6296e-01,\n",
              "         -4.3083e-01, -3.0034e-02, -6.6213e-02, -2.9339e-01, -2.5866e-01,\n",
              "         -6.9728e-02,  8.3211e-02,  3.3305e-02,  3.4351e-01, -3.9571e-01,\n",
              "         -5.0609e-01, -3.9208e-01,  3.0305e-01, -1.6647e-01, -1.4084e-02,\n",
              "         -4.8662e-01,  1.5120e-02,  6.7756e-02, -2.8677e-01,  8.4194e-02,\n",
              "         -2.0773e-01,  3.0319e-01,  1.9826e-01,  2.2804e-01,  3.9142e-02,\n",
              "          2.1159e-01,  1.3098e-01, -5.9372e-01, -1.3291e-01,  1.3380e-01,\n",
              "         -1.9313e-02,  1.4418e-01,  1.2657e-01, -6.1786e-02,  1.2489e-02,\n",
              "          1.8859e-01, -5.9905e-03,  2.0788e-01,  1.4314e-01, -2.3901e-01,\n",
              "         -1.4191e-01, -1.6218e-01, -3.4704e-01, -1.1029e-02, -6.6385e-03,\n",
              "          2.1821e-01,  1.6040e-02, -4.1049e-03, -7.4669e-02, -2.8152e-01,\n",
              "         -5.2340e-02, -1.4560e-01,  2.9911e-01, -1.3927e-01,  3.2494e-01,\n",
              "          3.0512e-01,  2.0522e-01,  1.8567e-01,  3.8461e-02,  1.6223e-01,\n",
              "         -2.0064e-01,  8.0852e-02,  6.3562e-01,  1.2805e-01,  1.8328e-01,\n",
              "          9.8624e-02,  3.2603e-01, -5.5346e-01,  9.1351e-02,  1.5391e-01,\n",
              "         -4.0245e-01,  4.2078e-01, -2.7989e-02,  8.2431e-02, -4.0239e-01,\n",
              "          1.3221e-01,  2.6309e-01, -9.2084e-02,  4.0332e-01,  1.4919e-01,\n",
              "          1.7258e-02, -3.4659e-01,  4.4224e-01,  2.3059e-01,  1.6047e-01,\n",
              "         -5.6007e-02,  1.2242e-01,  6.0147e-02,  2.7843e-01, -4.9081e-01,\n",
              "         -1.7622e-01, -9.9431e-02, -1.6383e-02, -4.1011e-01,  5.1130e-01,\n",
              "          6.4290e-02,  3.3952e-01,  3.1539e-01,  3.6064e-01, -5.0059e-01,\n",
              "         -3.1461e-02, -1.4977e-01, -2.8747e-01, -1.2447e-01,  1.8354e-01,\n",
              "          1.5553e-01,  5.3199e-02, -5.3006e-02,  2.6385e-02,  3.5093e-01,\n",
              "         -3.3822e-01,  3.3169e-01,  3.4543e-01,  3.0302e-01, -3.6231e-01,\n",
              "          3.5246e-01,  4.0585e-01, -3.1402e-01, -1.5789e-02, -5.5595e-01,\n",
              "          1.0975e-01, -2.5999e-01,  3.7385e-01,  9.0777e-02, -2.0984e-01,\n",
              "          2.9299e-01, -4.5745e-01,  2.0157e-01, -4.8035e-01, -3.6853e-01,\n",
              "          2.0453e-01,  2.8992e-01, -2.0325e-01, -6.7978e-01,  5.0126e-01,\n",
              "          4.6098e-02,  1.0665e-01, -2.3219e-01, -8.8014e-02, -2.2220e-01,\n",
              "         -1.4179e-01, -5.3915e-02,  1.9424e-01,  2.0867e-01, -2.7177e-01,\n",
              "         -1.6971e-01,  1.5042e-01, -9.0740e-02, -3.2474e-02,  2.7354e-01,\n",
              "         -3.2802e-01,  3.5787e-01,  4.2135e-01, -3.9547e-01, -3.6229e-01,\n",
              "         -5.5116e-01,  3.9944e-01, -2.6198e-01,  1.7773e-01, -7.7454e-03,\n",
              "         -5.3846e-01,  2.7149e-02,  1.8318e-01, -4.8440e-01, -3.5874e-01,\n",
              "         -1.8963e-01, -8.9650e-02,  4.4823e-01, -3.0369e-01, -3.7745e-03,\n",
              "         -4.3151e-02, -2.2443e-02, -1.3647e-01, -1.7283e-01,  2.3796e-01,\n",
              "          5.3844e-02, -4.0567e-02, -2.5739e-01,  2.8183e-01, -4.2883e-01,\n",
              "         -1.1023e-01, -2.3477e-01,  5.8482e-01, -1.4275e-01,  1.1833e-01,\n",
              "         -4.3511e-01,  5.1500e-01,  5.1060e-01, -4.4167e-01, -2.5086e-01,\n",
              "         -1.5623e-01,  2.0953e-01,  3.7690e-02,  4.7366e-02,  1.0707e-01,\n",
              "          3.9714e-02,  3.4825e-01,  3.6011e-01,  1.3583e-01, -2.1148e-01,\n",
              "          1.1655e-01, -8.2794e-02, -1.7374e-02, -1.5282e-01,  1.2394e-01,\n",
              "          1.7672e-01,  2.9713e-01,  1.5432e-04,  2.4231e-02,  2.1194e-01,\n",
              "         -3.6974e-01,  1.4331e-01, -2.0242e-02,  1.8312e-01, -1.8184e-01,\n",
              "         -9.0364e-02, -7.7435e-02, -2.9756e-01,  2.1425e-01,  1.3156e-01,\n",
              "          1.4436e-01, -3.3461e-01,  3.6175e-01, -3.6112e-01,  2.2676e-01,\n",
              "          1.1400e-01,  4.4609e-01,  1.4660e-01, -1.9874e-01,  9.0703e-02,\n",
              "         -3.0309e-04, -1.5569e-01,  3.3365e-01, -1.1609e-01,  5.7975e-02,\n",
              "         -1.4620e-01,  2.3436e-01,  3.3076e-01,  1.4562e-01, -1.3522e-01,\n",
              "          8.9638e-02, -9.5119e-02,  1.2960e-01, -4.4471e-01, -4.1398e-02,\n",
              "         -5.8337e-01, -2.0111e-01,  5.0340e-01,  5.9811e-02,  1.2928e-01,\n",
              "         -1.3133e-01, -1.8716e-01, -4.9774e-01, -2.6069e-01, -1.9966e-01,\n",
              "         -3.1425e-01,  1.6474e-01, -3.7117e-02, -3.1592e-02,  1.2281e-01,\n",
              "          4.1775e-01,  1.4807e-01,  1.8718e-01, -1.0258e-01,  2.2289e-01,\n",
              "         -4.2553e-01, -9.9875e-02, -2.4755e-01, -2.8462e-01,  4.8103e-02,\n",
              "         -1.3207e-01,  1.0644e-01,  7.6554e-02,  1.8015e-01,  3.4341e-01,\n",
              "          7.5104e-02,  2.4878e-01,  8.9288e-02, -1.1980e-02,  4.1571e-01,\n",
              "         -1.1246e-01,  1.8465e-01, -5.2693e-01, -1.4293e-01,  6.4619e-01,\n",
              "          8.9896e-02, -1.9595e-01, -7.7040e-01, -2.8509e-01,  2.9170e-01,\n",
              "          1.5128e-01, -1.4414e-01, -3.2563e-01,  4.4130e-01,  2.0057e-02,\n",
              "         -2.4749e-01, -3.3062e-01,  2.9519e-01, -1.6046e-01,  9.2035e-03,\n",
              "          7.7831e-02,  2.6298e-01,  1.7577e-01,  2.7954e-01,  3.9858e-01,\n",
              "          2.0854e-01,  5.4513e-02,  1.5674e-02, -2.0938e-02, -3.1978e-01,\n",
              "          2.5862e-01,  6.7170e-02, -2.2487e-01,  2.2782e-01,  4.6849e-02,\n",
              "          2.5638e-01,  1.0991e-01, -5.6412e-01, -7.7988e-02,  5.7782e-02,\n",
              "         -4.1778e-01, -2.1792e-01,  3.3677e-01,  2.6087e-01, -2.3291e-01,\n",
              "          1.8483e-01,  7.8651e-02,  1.9356e-01,  2.2259e-01, -3.7450e-01,\n",
              "         -2.1854e-01, -1.5458e-01,  2.3763e-01, -1.5486e-01, -9.2958e-03,\n",
              "          3.3945e-01, -4.3091e-01, -1.4695e-01, -7.3128e-02,  2.7199e-01,\n",
              "          2.2585e-01, -2.3481e-01, -4.1012e-01, -5.6138e-01,  3.4767e-01,\n",
              "         -2.8447e-01, -1.0652e-01,  1.0047e-01,  6.1062e-02, -1.1077e-01,\n",
              "         -2.8879e-01,  1.2626e-01,  2.1895e-01]], grad_fn=<TanhBackward0>)"
            ]
          },
          "metadata": {},
          "execution_count": 18
        }
      ]
    },
    {
      "cell_type": "code",
      "source": [
        "file_name = 'test_project.txt'\n",
        "\n",
        "with open(file_name, 'r') as file:\n",
        "    corpus = file.read().splitlines()\n",
        "\n",
        "print(corpus)"
      ],
      "metadata": {
        "colab": {
          "base_uri": "https://localhost:8080/"
        },
        "id": "g21HLCpP686i",
        "outputId": "75ffd310-d1f5-4412-d4cc-28a167d642d2"
      },
      "execution_count": null,
      "outputs": [
        {
          "output_type": "stream",
          "name": "stdout",
          "text": [
            "['สัญลักษณ์ทางศิลปะ ไม่ว่าจะเป็นงานเขียนร้อยแก้ว ร้อยกรอง ดนตรี การร่ายรำ ภาพวาด สถาปัตยกรรม คือที่สิ่งบ่งบอกถึงความมีวัฒนธรรมของแต่ละชนชาติที่สืบเนื่องมายาวนาน ', 'ซึ่งร้อยกรองนับเป็นสุนทรียศาสตร์แขนงหนึ่งที่บ่งบอกถึงเรื่องราว และถ่ายทอดอารมณ์ ความรู้สึกนึกคิดของผู้คนในชนชาตินั้นและถูกใช้เป็นสื่อในการเผยแพร่ศิลปะและวัฒนธรรมของชนชาติตน ', 'ดังเช่นที่เราพบว่า ', 'งานประพันธ์ร้อยกรองจีน ร้อยกรองญี่ปุ่น ร้อยกรองอินเดีย ร้อยกรองภาษาอังกฤษ ได้รับความนิยมอย่างแพร่หลายในนานาประเทศ  ', 'และมีงานแปลร้อยกรองจีน ร้อยกรองญี่ปุ่น ร้อยกรองอินเดีย จำนวนมากที่แปลเป็นภาษาอังกฤษ  ', 'และเพื่อเป็นการเผยแพร่บทกวีทั้งต้นฉบับและฉบับแปลในยุคที่เทคโนโลยีสารสนเทศเข้ามามีบทบาท ', 'การเผยแพร่ผ่านสื่อออนไลน์หรือโซเชี่ยลมีเดียจึงเป็นช่องทางที่ได้รับความนิยม ', 'จากตัวอย่างที่มีการจัดตั้งเว็บไซต์ที่รวบรวมงานของเหล่ากวีนานาชาติและแปลเป็นภาษาอังกฤษ ชื่อเว็บไซต์  http://www.poetryintranslation.com/ ซึ่งมีบทกลอนจากหลายชาติ แต่ไม่มีบทกลอนจากกวีไทย ', 'หรือเว็บไซต์ The Poetry Translation Centre’s http://www.poetrytranslation.org ซึ่งมีบทกลอนของกวีนานาชาติ และบทกลอนของกวีไทย คือ นายอังคาร จัทราทิพย์ กวีซีไรต์เพียงท่านเดียว ', 'โดยเว็บไซต์นี้ไม่ได้แสดงบทกลอนต้นฉบับ และบทกลอนที่แปลแล้วก็ไม่ได้คงฉันทลักษณ์เดิมไว้   ', 'จากบทความชื่อ “บทร้อยกรองไทย (Thai Poetry)” ที่พบในเว็บไซต์ http://elearnthai.com/ กล่าวถึงการที่ชาวต่างชาติได้ให้ความสนใจการค้นหาบทร้อยกรองไทยบนสื่อออนไลน์ แต่เป็นเรื่องยากมากที่จะหาได้พบอันเนื่องมากจากปัญหาในเรื่องของการแปล ', 'ตามทัศนะของเจ้าของบทความเชื่อว่า ', 'สาเหตุที่ชาวต่างชาติให้ความสนใจค้นหากลอนไทยที่แปลเป็นภาษาอังกฤษ เพราะเมื่อชาวต่างชาติกลุ่มหนึ่งได้เรียนภาษาไทย พวกเขามักจะต้องการเรียนรู้ความหลากหลายในการใช้ภาษาไทยมากกว่าเนื้อหาพื้นฐานที่มีอยู่ในตำราภาษาไทย ', 'และร้อยกรองคือความสวยงามทางภาษาในมุมมองของชาวต่างชาติ (elernthai-staff,2012) ', 'ร้อยกรองของไทยคือวรรณศิลป์ที่ถ่ายทอดความเป็นไทย ', 'งานประพันธ์ประเภทของร้อยกรองไทย ประกอบด้วย โคลง ฉันท์ กาพย์ กลอน และ ร่าย ', 'ซึ่งร้อยกรองเรื่อง “พระอภัยมณี” ประพันธ์โดยกวีเอกของไทย “พระสุนทรโวหาร (สุนทรภู่)” ผู้ได้รับการยกย่องให้เป็นกวีเอกของโลก ได้รับการแปลโดย พระวรวงศ์เธอ พระองค์เจ้าเปรมบุรฉัตร ', 'โดยทรงแปลเป็นภาษาอังกฤษทั้งเรื่อง เมื่อปี พ.ศ. 2495 เพื่อเผยแพร่ให้นานาประเทศได้ชื่นชม และศึกษา  ', 'การแปลร้อยกรองนับว่ามีความแตกต่างอย่างยิ่งจากการแปลงานเขียนประเภทอื่น ', 'เนื่องจากร้อยกรองเป็นงานเขียนที่มีคุณลักษณะในเรื่องของเสียง (Sound based)  วากยสัมพันธ์ (Syntactic)  หรือโครงสร้าง (Structure) และสิ่งที่เรียกว่าปฏิบัตินิยม (Pragmatic) (Francis R. Jones, 2011) ', 'ทำให้การแปลร้อยกรองมีสิ่งที่ต้องคำนึงถึงมากกว่าเพียงแค่ความหมาย', '', 'ศาสตราจารย์เกียรติคุณศรีสุรางค์ พูนทรัพย์ กล่าวว่าการแปลบทกวีนับว่าเป็นการแปลที่ยากที่สุด เพราะบทกวีมีทั้งความหมายนัยตรงและนัยแฝง', 'การเปลี่ยนคำจากภาษาหนึ่งเป็นอีกภาษาหนึ่งอาจทำให้เสียความหมายแฝงไป  ', 'ไม่เฉพาะความหมายเท่านั้น การแปลบทกวีไทยเป็นภาษาอังกฤษซึ่งบทกวีบางบทเน้นเสียงและสัมผัสที่ไพเราะ ', 'เมื่อแปลเป็นภาษาอังกฤษแล้ว กลับกลายเป็นบทกวีธรรมดา หรือกลายเป็นข้อความภาษาอังกฤษที่ไม่มีความลึกซึ้ง ไม่มีเสียงสัมผัสตามฉันทลักษณ์', 'ศาสตราจารย์เกียรติคุณศรีสุรางค์ พูนทรัพย์ ได้แสดงทัศนะว่า “บทกวีที่ดีต้องดีทั้งเนื้อหาและวรรณศิลป์” (ศรีสุรางค์พูลทรัพย์, 2551 : 20)', 'การเสวนาเรื่องปัญหาของการแปลบทกลอนในการประชุมกวีโลกประจำปี 2015  (9th World poetry festival 2015) ซึ่งจัดโดยกระทวงวัฒนธรรมอินเดีย ที่เมืองโกลกัตตา เบงกอลตะวันตก ประเทศอินเดีย ', 'ได้หยิบยกประเด็นต่างๆเกี่ยวกับการแปลบทกวีจากภาษาต้นฉบับไปเป็นภาษาที่สอง ', 'รวมทั้งการแปลจากภาษาที่สองไปยังภาษาปลายทางใหม่ ', 'ประเด็นที่เป็นข้อถกเถียงในการเสวนาสรุปได้เป็น 2 ประเด็นหลักคือ ', '1) การแปลบทกลอน ควรแปลโดยคงลำดับการเล่าเรื่องของเจ้าของบทกลอน หรือควรแปลในลักษณะถอดความ และ ', '2) การแปลบทกลอนซึ่งมีสัมผัส มีรูปแบบเสียง จะทำอย่างไรให้คงไว้ได้ในกลอนที่เป็นภาษาปลายทาง  ', 'นอกจากนี้ ผู้วิจัยได้สัมภาษณ์นักกลอนชาวอิสราเอล และชาวอเมริกัน เกี่ยวกับมุมมองความคิดเห็นที่มีต่อการแปลบทกลอนจากภาษาต้นฉบับซึ่งมีฉันทลักษณ์   มีรูปแบบของเสียง ', 'เมื่อแปลไปเป็นภาษาปลายทางสิ่งใดเป็นสิ่งที่นักแปลซึ่งเป็นกวีให้ความสำคัญ ', 'พบว่าความสำคัญของการแปลกลอนคือการคงลำดับของการสื่อความหมาย อารมณ์ และรูปแบบเสียงสัมผัส ซึ่งเรื่องหลังนี้เป็นเรื่องที่นักแปลมักไม่ให้ความสำคัญเพราะเห็นว่าเป็นเรื่องยากหากจะคงเสียงสัมผัสและความหมายไว้ด้วยกัน ', 'กวีชาวอเมริกันนักศึกษาปริญญาเอกด้านภาษาจีนผู้เขียนบทกวีจีนกล่าวว่า ', '“ความสำคัญของการแปลกลอนอยู่ที่ความหมายและรูปแบบของกลอนที่ทำให้เกิดความไพเราะ ดังเช่นกลอนภาษาไทยที่คุณอ่าน ฉันยังไม่รู้ว่าคุณหมายถึงอะไรแต่ทำนอง และเสียงสัมผัสนั้นไพเราะมาก”', 'เมื่อผู้วิจัยได้รับเกียรติให้อ่านบทกลอนและอ่านเป็นทำนองเสนาะ ', 'นักกลอนต่างชาติต่างชื่นชอบในท่วงทำนองและสัมผัสของกลอนแปดหรือกลอนสุภาพ แม้จะยังไม่เข้าใจความหมาย ', 'เช่นเดียวกันกับนักกลอนท่านอื่นๆที่อ่านกลอนภาษาเบงกลีเป็นทำนอง ', 'แม้จะไม่เข้าใจความหมายแต่ผู้ฟังก็สัมผัสได้ถึงความไพเราะ ', 'นายกสมาคมกวีร่วมสมัยกล่าวว่า ', 'หากสามารถถ่ายทอดบทกลอนภาษาไทยเป็นภาษาอังกฤษได้ ในรูปของฉันทลักษณ์แบบไทย จะเป็นเรื่องที่น่ายินดีอย่างยิ่ง ', 'เพราะนักกลอนนานาชาติจะได้รับรู้ถึงความงดงามของฉันทลักษณ์ไทย  ', 'หากเราแปลกลอนไทยเป็นภาษาอังกฤษแบบประโยคร้อยแก้วธรรมดา แม้จะเข้าใจความหมายได้ชัดเจนกว่า แต่ก็จะไม่มีใครรู้จักรูปแบบความสวยงามของกลอนไทย', 'งานวิจัยทางวิทยาการคอมพิวเตอร์และเทคโนโลยีสารสนเทศที่เกี่ยวข้องกับการแปลภาษา หรือสร้างเครื่องแปลภาษา ล้วนมีเป้าหมายในการแปลภาษาจากภาษาหนึ่งไปยังอีกภาษาหนึ่ง ', 'เครื่องมือแปลภาษาถูกสร้างและพัฒนาขึ้นและเผยแพร่การใช้งานเป็นจำนวนมากโดยมุ่งเน้นการแปลข่าว แปลเอกสาร แปลประโยค  ', 'รวมถึงเครื่องมือแปลภาษาของนักวิจัยไทยเองก็เช่นกัน  ', 'และหากมองงานวิจัยกลุ่มแปลภาษาที่เกี่ยวข้องกับงานเขียน', 'พบว่า มีงานวิจัยที่แปลทั้งนวนิยาย เพลง และโดยเฉพาะร้อยกรองซึ่งเป็นงานศิลปะที่นักวิจัยผู้สร้างเครื่องมือแปลภาษาให้ความสนใจ ', 'เนื่องจากร้อยกรองเป็นภาษาธรรมชาติที่แม้จะถูกเขียนขึ้นอย่างมีแบบฟอร์ม แต่มีสัมผัสโทนเสียง  และจังหวะ ', 'แม้กระทั่งศูนย์วิจัยของบริษัทกูเกิ้ลก็ให้ความสนใจกับการสร้างตัวแปลร้อยกรองด้วย ', 'แต่อย่างไรก็ตามการแปลร้อยกรองไทยให้เป็นภาษาอังกฤษ และคงฉันทลักษณ์ไว้ให้ได้มากที่สุด นับเป็นเรื่องที่ท้าทายสำหรับวงการแปลภาษา และท้าทายสำหรับวงการคอมพิวเตอร์', 'งานวิจัยด้านวิทยาการคอมพิวเตอร์และเทคโนโลยีสารสนเทศเกี่ยวกับการแปลร้อยกรองในปัจจุบันนอกจากงานวิจัยของกูเกิ้ลแล้วพบว่า ', 'มีงานวิจัยที่แปลร้อยกรองจากภาษาฝรั่งเศส จีน ญี่ปุ่น สเปน ปากีสถาน ไปเป็นภาษาอังกฤษ และแปลจากภาษาอังกฤษ กลับไปเป็นภาษาเหล่านั้น', 'นอกจากนี้ยังมีงานวิจัยอีกกลุ่มหนึ่งที่สร้างบทกลอนญี่ปุ่น(ไฮกุ)  สร้างกลอนจีน ในรูปของภาษาอังกฤษ ', 'ซึ่งทำให้กลอนรูปแบบของแต่ละประเทศเหล่านั้นถูกนำเสนอในสากล ', 'เป็นการส่งเสริมและเผยแพร่วัฒนธรรมโดยผ่านเทคโนโลยี  ', 'ส่วนงานวิจัยด้านคอมพิวเตอร์และภาษาที่เกี่ยวข้องกับร้อยกรองไทย  ยังมีเพียงแค่การสร้างตัวตรวจทานฉันทลักษณ์คำประพันธ์ ซึ่งมีเพียง 3 วิจัย', 'โดยงานวิจัยเดิมของผู้วิจัยก็จัดอยู่ในกลุ่มนี้ ', 'เห็นได้ว่าถึงแม้กวีเอกของไทยจะเป็นกวีเอกของโลก ', 'แต่งานร้อยกรองของไทยโดยเฉพาะ “กลอนแปด” ที่มีทั้งสัมผัสนอก สัมผัสใน สัมผัสระหว่างบท ', 'มีความไพเราะจนเป็นที่ยอมรับไปทั่วโลก ', 'กลับไม่ถูกนำมาเป็นอินพุทที่นักวิจัยด้านคอมพิวเตอร์หยิบมาแปล ', 'ซึ่งอาจเป็นเพราะความซับซ้อนในเชิงฉันทลักษณ์ จังหวะ สัมผัส รวมถึงความหมายของคำไทย และความกำกวมของคำไทย เป็นต้น', 'งานวิจัยนี้จึงนำเสนอแนวคิด และขั้นตอนวิธีต้นแบบตัวแปลร้อยกรองไทยเป็นภาษาอังกฤษแบบยคงฉันทลักษณ์ร้อยกรองไทยและคงความหมาย', 'โดยร้อยกรองที่ใช้ในงานวิจัยนี้คือ ร้อยกรองประเภท “กลอนแปด” “กลอนดอกสร้อย” “กลอนสักวา”', 'ซึ่งเป็นคำประพันธ์ร้อยกรองชนิดที่ได้รับความนิยมกันทั่วไป ', 'เพราะเป็นร้อยกรองที่มีความเรียบง่ายต่อการสื่อความหมาย ', 'และสามารถสื่อได้อย่างไพเราะ ', 'เพื่อส่งเสริมให้รูปแบบและความสละสลวยของกลอนไทยได้รับการเผยแพร่มากขึ้นในระดับสากล ', 'และเพื่อสร้างต้นแบบของเครื่องมือที่จะได้ให้ผู้วิจัยอื่นๆได้นำต้นแบบแนวคิดนี้ไปต่อยอด', 'สร้างเครื่องมือทางเทคโนโลยีที่ช่วยสืบสานคุณค่า และมรดกทางวัฒนธรรมของไทยแขนงนี้ให้ดำรงอยู่ควบคู่กับความทันสมัยของเทคโนโลยี']\n"
          ]
        }
      ]
    },
    {
      "cell_type": "code",
      "source": [
        "sentences = [s.strip() for s in corpus]"
      ],
      "metadata": {
        "id": "XyK6TC7z6-NV"
      },
      "execution_count": null,
      "outputs": []
    },
    {
      "cell_type": "code",
      "source": [
        "sentence_size = len(sentences)\n",
        "sentence_size"
      ],
      "metadata": {
        "colab": {
          "base_uri": "https://localhost:8080/"
        },
        "id": "03BT_oSc6_Ju",
        "outputId": "916994c9-31a0-4f17-a7a2-05612b794b4c"
      },
      "execution_count": null,
      "outputs": [
        {
          "output_type": "execute_result",
          "data": {
            "text/plain": [
              "74"
            ]
          },
          "metadata": {},
          "execution_count": 22
        }
      ]
    },
    {
      "cell_type": "code",
      "source": [
        "sentences_tokens = [tokenizer(s, return_tensors=\"pt\") for s in sentences]"
      ],
      "metadata": {
        "id": "UMZs0nfL7ARK"
      },
      "execution_count": null,
      "outputs": []
    },
    {
      "cell_type": "code",
      "source": [
        "sentences_encode = [model(**token) for token in sentences_tokens]\n",
        "\n",
        "len(sentences_encode)"
      ],
      "metadata": {
        "colab": {
          "base_uri": "https://localhost:8080/"
        },
        "id": "yTvSFovB7C40",
        "outputId": "a13ab181-a439-4167-f49f-ac5a5df74c0f"
      },
      "execution_count": null,
      "outputs": [
        {
          "output_type": "execute_result",
          "data": {
            "text/plain": [
              "74"
            ]
          },
          "metadata": {},
          "execution_count": 24
        }
      ]
    },
    {
      "cell_type": "code",
      "source": [
        "sentences_encode[0][1].shape"
      ],
      "metadata": {
        "colab": {
          "base_uri": "https://localhost:8080/"
        },
        "id": "__1d0sNT7EBS",
        "outputId": "5f14e11b-a473-4322-fd89-e416b77b800f"
      },
      "execution_count": null,
      "outputs": [
        {
          "output_type": "execute_result",
          "data": {
            "text/plain": [
              "torch.Size([1, 768])"
            ]
          },
          "metadata": {},
          "execution_count": 25
        }
      ]
    },
    {
      "cell_type": "code",
      "source": [
        "sentences_vec = [np.squeeze(vec[1].detach().numpy()) for vec in sentences_encode]\n",
        "\n",
        "sentences_vec[0].shape"
      ],
      "metadata": {
        "colab": {
          "base_uri": "https://localhost:8080/"
        },
        "id": "x4vrQcZU72WG",
        "outputId": "bbf1ebc2-ffa7-4646-906c-2775b5071714"
      },
      "execution_count": null,
      "outputs": [
        {
          "output_type": "execute_result",
          "data": {
            "text/plain": [
              "(768,)"
            ]
          },
          "metadata": {},
          "execution_count": 26
        }
      ]
    },
    {
      "cell_type": "code",
      "source": [
        "def build_similarity_matrix(sentences):\n",
        "    similarity_matrix = np.zeros((len(sentences), len(sentences)))\n",
        "\n",
        "    for idx1 in range(len(sentences)):\n",
        "        for idx2 in range(len(sentences)):\n",
        "            if idx1 == idx2: #ignore if both are same sentences\n",
        "                continue\n",
        "            similarity_matrix[idx1][idx2] = sentence_similarity(sentences[idx1], sentences[idx2])\n",
        "\n",
        "    return similarity_matrix"
      ],
      "metadata": {
        "id": "ZLX0Vthg727A"
      },
      "execution_count": null,
      "outputs": []
    },
    {
      "cell_type": "code",
      "source": [
        "def sentence_similarity(sent1, sent2):\n",
        "    return 1 - cosine_distance(sent1, sent2)"
      ],
      "metadata": {
        "id": "ZmEAY0ij724Q"
      },
      "execution_count": null,
      "outputs": []
    },
    {
      "cell_type": "code",
      "source": [
        "sentence_similarity_martix = build_similarity_matrix(sentences_vec)\n",
        "\n",
        "sentence_similarity_martix.shape"
      ],
      "metadata": {
        "colab": {
          "base_uri": "https://localhost:8080/"
        },
        "id": "0sJTLRRi721U",
        "outputId": "c5e654aa-98f0-454b-a743-f47fa1cd5f19"
      },
      "execution_count": null,
      "outputs": [
        {
          "output_type": "execute_result",
          "data": {
            "text/plain": [
              "(74, 74)"
            ]
          },
          "metadata": {},
          "execution_count": 29
        }
      ]
    },
    {
      "cell_type": "code",
      "source": [
        "sentence_similarity_martix"
      ],
      "metadata": {
        "colab": {
          "base_uri": "https://localhost:8080/"
        },
        "id": "8hrNCxKp79ZB",
        "outputId": "707a0501-d872-4133-bff9-10009111e513"
      },
      "execution_count": null,
      "outputs": [
        {
          "output_type": "execute_result",
          "data": {
            "text/plain": [
              "array([[0.        , 0.55170355, 0.29108865, ..., 0.65645695, 0.13526786,\n",
              "        0.36934159],\n",
              "       [0.55170355, 0.        , 0.34053639, ..., 0.57727166, 0.11249352,\n",
              "        0.49919296],\n",
              "       [0.29108865, 0.34053639, 0.        , ..., 0.27752562, 0.18909414,\n",
              "        0.41737101],\n",
              "       ...,\n",
              "       [0.65645695, 0.57727166, 0.27752562, ..., 0.        , 0.13787499,\n",
              "        0.45929703],\n",
              "       [0.13526786, 0.11249352, 0.18909414, ..., 0.13787499, 0.        ,\n",
              "        0.17237095],\n",
              "       [0.36934159, 0.49919296, 0.41737101, ..., 0.45929703, 0.17237095,\n",
              "        0.        ]])"
            ]
          },
          "metadata": {},
          "execution_count": 30
        }
      ]
    },
    {
      "cell_type": "code",
      "source": [
        "G = nx.Graph()\n",
        "G.add_edge('A', 'B', weight=4)\n",
        "G.add_edge('B', 'D', weight=2)\n",
        "G.add_edge('A', 'C', weight=3)\n",
        "G.add_edge('C', 'D', weight=4)"
      ],
      "metadata": {
        "id": "muUjd6907-m0"
      },
      "execution_count": null,
      "outputs": []
    },
    {
      "cell_type": "code",
      "source": [
        "pos = nx.spring_layout(G, seed=4321)\n",
        "nx.draw(G,\n",
        "        pos=pos,\n",
        "        node_size=500,\n",
        "        node_color='#f86e00',\n",
        "        edge_color='blue',\n",
        "        with_labels=True)"
      ],
      "metadata": {
        "colab": {
          "base_uri": "https://localhost:8080/",
          "height": 516
        },
        "id": "z6rp9FiG8AET",
        "outputId": "8d044873-5a8c-4305-9ec5-5dc7e06d351b"
      },
      "execution_count": null,
      "outputs": [
        {
          "output_type": "display_data",
          "data": {
            "text/plain": [
              "<Figure size 640x480 with 1 Axes>"
            ],
            "image/png": "[encoded data removed]"
          },
          "metadata": {}
        }
      ]
    },
    {
      "cell_type": "code",
      "source": [
        "nx.shortest_path(G, 'A', 'D', weight='weight')"
      ],
      "metadata": {
        "colab": {
          "base_uri": "https://localhost:8080/"
        },
        "id": "aQrk8EPH8BX2",
        "outputId": "9134a013-d914-40a1-f47a-8a47a330fceb"
      },
      "execution_count": null,
      "outputs": [
        {
          "output_type": "execute_result",
          "data": {
            "text/plain": [
              "['A', 'B', 'D']"
            ]
          },
          "metadata": {},
          "execution_count": 33
        }
      ]
    },
    {
      "cell_type": "code",
      "source": [
        "matrixA = np.array([[0., 1., 1.],\n",
        "                    [0., 0., 0.],\n",
        "                    [0., 0., 0.]])\n",
        "\n",
        "g1 = nx.from_numpy_array(matrixA)"
      ],
      "metadata": {
        "id": "_dSr8FVM8Cmt"
      },
      "execution_count": null,
      "outputs": []
    },
    {
      "cell_type": "code",
      "source": [
        "pos = nx.spiral_layout(g1)\n",
        "\n",
        "nx.draw(g1,\n",
        "        pos=pos,\n",
        "        with_labels = True,\n",
        "        node_color=\"#f86e00\")"
      ],
      "metadata": {
        "colab": {
          "base_uri": "https://localhost:8080/",
          "height": 516
        },
        "id": "dRTK_F4j8Dk1",
        "outputId": "a6761601-b64d-4d42-a32a-b89cbfb03e9e"
      },
      "execution_count": null,
      "outputs": [
        {
          "output_type": "display_data",
          "data": {
            "text/plain": [
              "<Figure size 640x480 with 1 Axes>"
            ],
            "image/png": "[encoded data removed]"
          },
          "metadata": {}
        }
      ]
    },
    {
      "cell_type": "code",
      "source": [
        "nx.to_numpy_array(g1)"
      ],
      "metadata": {
        "colab": {
          "base_uri": "https://localhost:8080/"
        },
        "id": "MxFMxeKsAcZn",
        "outputId": "9847ebf6-f70f-4ee8-bdb0-a96c361d0104"
      },
      "execution_count": null,
      "outputs": [
        {
          "output_type": "execute_result",
          "data": {
            "text/plain": [
              "array([[0., 1., 1.],\n",
              "       [1., 0., 0.],\n",
              "       [1., 0., 0.]])"
            ]
          },
          "metadata": {},
          "execution_count": 36
        }
      ]
    },
    {
      "cell_type": "code",
      "source": [
        "sentence_similarity_graph = nx.from_numpy_array(sentence_similarity_martix)"
      ],
      "metadata": {
        "id": "siSnZhSSAdqJ"
      },
      "execution_count": null,
      "outputs": []
    },
    {
      "cell_type": "code",
      "source": [
        "pos = nx.spring_layout(sentence_similarity_graph, seed=999)\n",
        "\n",
        "nx.draw(sentence_similarity_graph,\n",
        "        pos=pos, node_size=500,\n",
        "        node_color='#f86e00',\n",
        "        edge_color='blue',\n",
        "        with_labels=True,\n",
        "        width=1)"
      ],
      "metadata": {
        "colab": {
          "base_uri": "https://localhost:8080/",
          "height": 516
        },
        "id": "QBiH7f4uBbnK",
        "outputId": "b4acbd42-a4e3-42d4-d869-c788cd7132be"
      },
      "execution_count": null,
      "outputs": [
        {
          "output_type": "display_data",
          "data": {
            "text/plain": [
              "<Figure size 640x480 with 1 Axes>"
            ],
            "image/png": "[encoded data removed]"
          },
          "metadata": {}
        }
      ]
    },
    {
      "cell_type": "markdown",
      "source": [
        "- ดึงค่า wt ออกมาดูได้ตามด้านล่าง"
      ],
      "metadata": {
        "id": "pXMDfRhWB0U9"
      }
    },
    {
      "cell_type": "code",
      "source": [
        "nx.get_edge_attributes(sentence_similarity_graph,'weight')"
      ],
      "metadata": {
        "colab": {
          "base_uri": "https://localhost:8080/"
        },
        "id": "_NiI-IZDBsQ4",
        "outputId": "c15e7266-7562-4198-dd4e-9e6e47562f1c"
      },
      "execution_count": null,
      "outputs": [
        {
          "output_type": "execute_result",
          "data": {
            "text/plain": [
              "{(0, 1): 0.5517035484151877,\n",
              " (0, 2): 0.29108865335389944,\n",
              " (0, 3): 0.6213261633089916,\n",
              " (0, 4): 0.6262557238148544,\n",
              " (0, 5): 0.2960928418728028,\n",
              " (0, 6): 0.46597685239676256,\n",
              " (0, 7): 0.618903028638443,\n",
              " (0, 8): 0.6053756278208869,\n",
              " (0, 9): 0.5917827221084058,\n",
              " (0, 10): 0.5354620157527451,\n",
              " (0, 11): 0.3423079613649762,\n",
              " (0, 12): 0.6048018632725869,\n",
              " (0, 13): 0.6820724402755244,\n",
              " (0, 14): 0.31573684856526585,\n",
              " (0, 15): 0.7205597798614445,\n",
              " (0, 16): 0.5976191421691275,\n",
              " (0, 17): 0.6046655223816066,\n",
              " (0, 18): 0.5869012549830317,\n",
              " (0, 19): 0.5884383089483136,\n",
              " (0, 20): 0.5417185463189547,\n",
              " (0, 21): 0.35576445527277667,\n",
              " (0, 22): 0.6208011883144912,\n",
              " (0, 23): 0.44869069237248316,\n",
              " (0, 24): 0.6589270568268423,\n",
              " (0, 25): 0.6256318348849145,\n",
              " (0, 26): 0.5802615677728298,\n",
              " (0, 27): 0.5894263982527208,\n",
              " (0, 28): 0.6210889084218978,\n",
              " (0, 29): 0.4947885655545321,\n",
              " (0, 30): 0.4749378257434851,\n",
              " (0, 31): 0.586459898735723,\n",
              " (0, 32): 0.6503193368582982,\n",
              " (0, 33): 0.5438410690237773,\n",
              " (0, 34): 0.5247795631283593,\n",
              " (0, 35): 0.6549649121421266,\n",
              " (0, 36): 0.43770212025923705,\n",
              " (0, 37): 0.6605476230495755,\n",
              " (0, 38): 0.06412909547190193,\n",
              " (0, 39): 0.6862860586096963,\n",
              " (0, 40): 0.5454999742579796,\n",
              " (0, 41): 0.3605920409893981,\n",
              " (0, 42): 0.43895703081734405,\n",
              " (0, 43): 0.6148539968259442,\n",
              " (0, 44): 0.5560202946872989,\n",
              " (0, 45): 0.6111372611321138,\n",
              " (0, 46): 0.5421925033175228,\n",
              " (0, 47): 0.5819952459631572,\n",
              " (0, 48): 0.2255208017912711,\n",
              " (0, 49): 0.3654117465620417,\n",
              " (0, 50): 0.13508148193500902,\n",
              " (0, 51): 0.5743399779659084,\n",
              " (0, 52): 0.4523997970356426,\n",
              " (0, 53): 0.5932839285012459,\n",
              " (0, 54): 0.4068117039718566,\n",
              " (0, 55): 0.5434691333622634,\n",
              " (0, 56): 0.6023806896079671,\n",
              " (0, 57): 0.4878429149731949,\n",
              " (0, 58): 0.3795066487611385,\n",
              " (0, 59): 0.6090035607661166,\n",
              " (0, 60): 0.19469392341646596,\n",
              " (0, 61): 0.3311650661985406,\n",
              " (0, 62): 0.6857678449016027,\n",
              " (0, 63): 0.2272007543411343,\n",
              " (0, 64): 0.2431349067892783,\n",
              " (0, 65): 0.6852675880893875,\n",
              " (0, 66): 0.5129370390777531,\n",
              " (0, 67): 0.4365097217791326,\n",
              " (0, 68): 0.44803586924652095,\n",
              " (0, 69): 0.1906680605624531,\n",
              " (0, 70): 0.22303792968358538,\n",
              " (0, 71): 0.6564569514621887,\n",
              " (0, 72): 0.13526785781246053,\n",
              " (0, 73): 0.36934158675871764,\n",
              " (1, 2): 0.34053639223918475,\n",
              " (1, 3): 0.5736743893496608,\n",
              " (1, 4): 0.5752900554134797,\n",
              " (1, 5): 0.5039335057148537,\n",
              " (1, 6): 0.486012270305044,\n",
              " (1, 7): 0.5356837818402711,\n",
              " (1, 8): 0.5730398653895,\n",
              " (1, 9): 0.543861342195433,\n",
              " (1, 10): 0.5269198484353425,\n",
              " (1, 11): 0.41933868157534704,\n",
              " (1, 12): 0.5490558145491379,\n",
              " (1, 13): 0.5097180257115874,\n",
              " (1, 14): 0.42473898859386117,\n",
              " (1, 15): 0.5359575176892946,\n",
              " (1, 16): 0.4933794501855987,\n",
              " (1, 17): 0.532237638380053,\n",
              " (1, 18): 0.561235901919194,\n",
              " (1, 19): 0.5135003432809061,\n",
              " (1, 20): 0.544685381431848,\n",
              " (1, 21): 0.4217433039587286,\n",
              " (1, 22): 0.4901729120831131,\n",
              " (1, 23): 0.5518400150297825,\n",
              " (1, 24): 0.5103744191774862,\n",
              " (1, 25): 0.48788385240666743,\n",
              " (1, 26): 0.5205819322314539,\n",
              " (1, 27): 0.5615350891503368,\n",
              " (1, 28): 0.5549643256282372,\n",
              " (1, 29): 0.45266142880909266,\n",
              " (1, 30): 0.46511818816013584,\n",
              " (1, 31): 0.46443143125105457,\n",
              " (1, 32): 0.5043488982699832,\n",
              " (1, 33): 0.542143682152571,\n",
              " (1, 34): 0.5560367183322215,\n",
              " (1, 35): 0.5361967601088222,\n",
              " (1, 36): 0.5958437511714959,\n",
              " (1, 37): 0.5164730658969348,\n",
              " (1, 38): 0.06750846929670329,\n",
              " (1, 39): 0.5200358478105304,\n",
              " (1, 40): 0.48160287305922433,\n",
              " (1, 41): 0.47115677924010413,\n",
              " (1, 42): 0.4999904714600363,\n",
              " (1, 43): 0.4639162394053269,\n",
              " (1, 44): 0.5824836860104122,\n",
              " (1, 45): 0.45209761496332856,\n",
              " (1, 46): 0.4864881215555503,\n",
              " (1, 47): 0.5796245268999238,\n",
              " (1, 48): 0.21515142342396,\n",
              " (1, 49): 0.41526323314039937,\n",
              " (1, 50): 0.31191270736345367,\n",
              " (1, 51): 0.5404587335008902,\n",
              " (1, 52): 0.44831785462729823,\n",
              " (1, 53): 0.5038335778159161,\n",
              " (1, 54): 0.5737260165065939,\n",
              " (1, 55): 0.49230628662441445,\n",
              " (1, 56): 0.5014210601371887,\n",
              " (1, 57): 0.6014008268991419,\n",
              " (1, 58): 0.35125960944522006,\n",
              " (1, 59): 0.5649529439938112,\n",
              " (1, 60): 0.2643315545214001,\n",
              " (1, 61): 0.5279204623131339,\n",
              " (1, 62): 0.5389888168019119,\n",
              " (1, 63): 0.35558893416396553,\n",
              " (1, 64): 0.24256582526427195,\n",
              " (1, 65): 0.5417783424171522,\n",
              " (1, 66): 0.45377692952481374,\n",
              " (1, 67): 0.6496471991823496,\n",
              " (1, 68): 0.5072281530636055,\n",
              " (1, 69): 0.16366722027666758,\n",
              " (1, 70): 0.358002458155695,\n",
              " (1, 71): 0.5772716634222395,\n",
              " (1, 72): 0.11249352389264855,\n",
              " (1, 73): 0.49919295820090115,\n",
              " (2, 3): 0.26169610833553736,\n",
              " (2, 4): 0.27734919428127913,\n",
              " (2, 5): 0.4111862781217228,\n",
              " (2, 6): 0.27903417504056494,\n",
              " (2, 7): 0.29175252188813994,\n",
              " (2, 8): 0.33209066143702537,\n",
              " (2, 9): 0.30307348357857333,\n",
              " (2, 10): 0.27724227342312313,\n",
              " (2, 11): 0.5511143885165841,\n",
              " (2, 12): 0.2472773162712989,\n",
              " (2, 13): 0.2717521193526251,\n",
              " (2, 14): 0.3536751835208437,\n",
              " (2, 15): 0.23537629216484213,\n",
              " (2, 16): 0.24511994695294126,\n",
              " (2, 17): 0.2518436687046707,\n",
              " (2, 18): 0.24874143196403142,\n",
              " (2, 19): 0.3065407559576656,\n",
              " (2, 20): 0.3905424532560776,\n",
              " (2, 21): 0.3217121838974615,\n",
              " (2, 22): 0.3247635989527343,\n",
              " (2, 23): 0.3775399225743711,\n",
              " (2, 24): 0.30653885522620405,\n",
              " (2, 25): 0.276961305359535,\n",
              " (2, 26): 0.23771095192924763,\n",
              " (2, 27): 0.3368838000190799,\n",
              " (2, 28): 0.3655936001431864,\n",
              " (2, 29): 0.30023110700793243,\n",
              " (2, 30): 0.3337561840521406,\n",
              " (2, 31): 0.27592585207577935,\n",
              " (2, 32): 0.24579591282206514,\n",
              " (2, 33): 0.25421214214471255,\n",
              " (2, 34): 0.31082967940797035,\n",
              " (2, 35): 0.2809069243996013,\n",
              " (2, 36): 0.450534736566953,\n",
              " (2, 37): 0.22294938200085346,\n",
              " (2, 38): 0.2033315939467646,\n",
              " (2, 39): 0.2527445423779089,\n",
              " (2, 40): 0.346376677573766,\n",
              " (2, 41): 0.44710959659605165,\n",
              " (2, 42): 0.44868272830114564,\n",
              " (2, 43): 0.30871105615705785,\n",
              " (2, 44): 0.4872569993655921,\n",
              " (2, 45): 0.2869583537438267,\n",
              " (2, 46): 0.22057806078454634,\n",
              " (2, 47): 0.23112076988889163,\n",
              " (2, 48): 0.16890231037609338,\n",
              " (2, 49): 0.505679757919448,\n",
              " (2, 50): 0.30744008882657825,\n",
              " (2, 51): 0.37193898718652574,\n",
              " (2, 52): 0.2761498909952318,\n",
              " (2, 53): 0.249703454425939,\n",
              " (2, 54): 0.42766630899042235,\n",
              " (2, 55): 0.2646198841457852,\n",
              " (2, 56): 0.3773577907325758,\n",
              " (2, 57): 0.2675602895892678,\n",
              " (2, 58): 0.4841772835224072,\n",
              " (2, 59): 0.2949997760199571,\n",
              " (2, 60): 0.23562535287607989,\n",
              " (2, 61): 0.4502029247482222,\n",
              " (2, 62): 0.2010149988786305,\n",
              " (2, 63): 0.2361173583611227,\n",
              " (2, 64): 0.17213650313761364,\n",
              " (2, 65): 0.2926551226089149,\n",
              " (2, 66): 0.3586672299893745,\n",
              " (2, 67): 0.32160820023675885,\n",
              " (2, 68): 0.34696217928889683,\n",
              " (2, 69): 0.16580331710139073,\n",
              " (2, 70): 0.23870595705063968,\n",
              " (2, 71): 0.277525624911497,\n",
              " (2, 72): 0.18909413538267716,\n",
              " (2, 73): 0.4173710102817161,\n",
              " (3, 4): 0.7553205153429773,\n",
              " (3, 5): 0.2858032715287686,\n",
              " (3, 6): 0.5258931815061734,\n",
              " (3, 7): 0.6833331464656641,\n",
              " (3, 8): 0.6533876610370768,\n",
              " (3, 9): 0.5700801912548255,\n",
              " (3, 10): 0.6013415690077937,\n",
              " (3, 11): 0.29464590927773093,\n",
              " (3, 12): 0.6212793517712386,\n",
              " (3, 13): 0.6579120411532096,\n",
              " (3, 14): 0.29974097057086424,\n",
              " (3, 15): 0.6994543942954131,\n",
              " (3, 16): 0.6776297604590246,\n",
              " (3, 17): 0.6433607966115403,\n",
              " (3, 18): 0.6244272828745749,\n",
              " (3, 19): 0.5510206566416458,\n",
              " (3, 20): 0.4244236972650707,\n",
              " (3, 21): 0.34823924865990974,\n",
              " (3, 22): 0.5985885711440746,\n",
              " (3, 23): 0.4655252825287126,\n",
              " (3, 24): 0.6556111433892856,\n",
              " (3, 25): 0.5970436525828132,\n",
              " (3, 26): 0.5661922892003701,\n",
              " (3, 27): 0.5954848341367115,\n",
              " (3, 28): 0.6184592377227079,\n",
              " (3, 29): 0.5344720418692829,\n",
              " (3, 30): 0.4720373076714711,\n",
              " (3, 31): 0.5962630818532202,\n",
              " (3, 32): 0.6305340609428625,\n",
              " (3, 33): 0.577257709219057,\n",
              " (3, 34): 0.5209850222161974,\n",
              " (3, 35): 0.5930294701799781,\n",
              " (3, 36): 0.47680279738654074,\n",
              " (3, 37): 0.5771177683559202,\n",
              " (3, 38): 0.06359289580531757,\n",
              " (3, 39): 0.6474524762008417,\n",
              " (3, 40): 0.6465095251926049,\n",
              " (3, 41): 0.3751898812656723,\n",
              " (3, 42): 0.3985368322344889,\n",
              " (3, 43): 0.6108149010784363,\n",
              " (3, 44): 0.5134041942462418,\n",
              " (3, 45): 0.6084872349621907,\n",
              " (3, 46): 0.5504969282848268,\n",
              " (3, 47): 0.6285164761399823,\n",
              " (3, 48): 0.20566507191125882,\n",
              " (3, 49): 0.28279751401466413,\n",
              " (3, 50): 0.15614261746132108,\n",
              " (3, 51): 0.6157869893717779,\n",
              " (3, 52): 0.5189657638285394,\n",
              " (3, 53): 0.6367312603260333,\n",
              " (3, 54): 0.43713878886232926,\n",
              " (3, 55): 0.6751403709109232,\n",
              " (3, 56): 0.6629262339648666,\n",
              " (3, 57): 0.5415225511948564,\n",
              " (3, 58): 0.25656155929835855,\n",
              " (3, 59): 0.613200619767778,\n",
              " (3, 60): 0.20199539664123023,\n",
              " (3, 61): 0.33516672903974243,\n",
              " (3, 62): 0.6777338103785396,\n",
              " (3, 63): 0.21884882843209874,\n",
              " (3, 64): 0.20809987940295582,\n",
              " (3, 65): 0.5838496145970855,\n",
              " (3, 66): 0.6041766212510439,\n",
              " (3, 67): 0.5079363998200755,\n",
              " (3, 68): 0.49267085057588245,\n",
              " (3, 69): 0.19358179944502774,\n",
              " (3, 70): 0.21695214220891224,\n",
              " (3, 71): 0.6579009167636267,\n",
              " (3, 72): 0.1424172880571145,\n",
              " (3, 73): 0.3232794636199362,\n",
              " (4, 5): 0.3588550168639577,\n",
              " (4, 6): 0.4871092024540695,\n",
              " (4, 7): 0.7013695627468531,\n",
              " (4, 8): 0.6823352092119777,\n",
              " (4, 9): 0.5897081345635196,\n",
              " (4, 10): 0.6246594233791107,\n",
              " (4, 11): 0.3481987670905533,\n",
              " (4, 12): 0.6593546395626956,\n",
              " (4, 13): 0.6558840214506003,\n",
              " (4, 14): 0.33483841744048726,\n",
              " (4, 15): 0.633918870103931,\n",
              " (4, 16): 0.578885194220969,\n",
              " (4, 17): 0.6365600547607566,\n",
              " (4, 18): 0.6139265321143663,\n",
              " (4, 19): 0.5722968452668504,\n",
              " (4, 20): 0.4760324868726561,\n",
              " (4, 21): 0.44069652506178925,\n",
              " (4, 22): 0.5966889953704659,\n",
              " (4, 23): 0.5242439796648198,\n",
              " (4, 24): 0.6745394764814493,\n",
              " (4, 25): 0.5950914952002739,\n",
              " (4, 26): 0.5435453764922555,\n",
              " (4, 27): 0.6177487718447726,\n",
              " (4, 28): 0.7316123956078919,\n",
              " (4, 29): 0.6263187407905919,\n",
              " (4, 30): 0.5141410460661111,\n",
              " (4, 31): 0.6126952150064108,\n",
              " (4, 32): 0.6468878417443201,\n",
              " (4, 33): 0.5708007594015646,\n",
              " (4, 34): 0.6496211682668541,\n",
              " (4, 35): 0.5967488122682433,\n",
              " (4, 36): 0.5295919685482973,\n",
              " (4, 37): 0.5417136742049401,\n",
              " (4, 38): 0.066886143230249,\n",
              " (4, 39): 0.6010243743312154,\n",
              " (4, 40): 0.6892020052376745,\n",
              " (4, 41): 0.44874674989868024,\n",
              " (4, 42): 0.4225327444281388,\n",
              " (4, 43): 0.6451626567527268,\n",
              " (4, 44): 0.5508860775075631,\n",
              " (4, 45): 0.661043034839683,\n",
              " (4, 46): 0.5410420012826815,\n",
              " (4, 47): 0.688540915736098,\n",
              " (4, 48): 0.2648273576075124,\n",
              " (4, 49): 0.4056016798171804,\n",
              " (4, 50): 0.13174326822060367,\n",
              " (4, 51): 0.6504488628240437,\n",
              " (4, 52): 0.575384118189043,\n",
              " (4, 53): 0.6623677507055444,\n",
              " (4, 54): 0.4674370152780465,\n",
              " (4, 55): 0.8173592798146068,\n",
              " (4, 56): 0.7111395476291126,\n",
              " (4, 57): 0.5570358683004603,\n",
              " (4, 58): 0.2912974424294552,\n",
              " (4, 59): 0.6514724031256238,\n",
              " (4, 60): 0.20911220768310979,\n",
              " (4, 61): 0.41424868211233545,\n",
              " (4, 62): 0.6685409023687471,\n",
              " (4, 63): 0.2351595529853645,\n",
              " (4, 64): 0.26213661345354855,\n",
              " (4, 65): 0.6326159589353693,\n",
              " (4, 66): 0.6039120911177922,\n",
              " (4, 67): 0.5208361421415739,\n",
              " (4, 68): 0.4379179279219326,\n",
              " (4, 69): 0.24571820574358183,\n",
              " (4, 70): 0.23190999308845872,\n",
              " (4, 71): 0.5977846661405725,\n",
              " (4, 72): 0.1392262696110914,\n",
              " (4, 73): 0.3860129753857413,\n",
              " (5, 6): 0.3498577975605124,\n",
              " (5, 7): 0.3280484589602557,\n",
              " (5, 8): 0.39284638165003727,\n",
              " (5, 9): 0.29906923447485656,\n",
              " (5, 10): 0.3366637646122721,\n",
              " (5, 11): 0.5870032255909559,\n",
              " (5, 12): 0.27270059200431507,\n",
              " (5, 13): 0.3696588656863282,\n",
              " (5, 14): 0.5662251566723838,\n",
              " (5, 15): 0.25655236831896766,\n",
              " (5, 16): 0.26834219278202975,\n",
              " (5, 17): 0.34364077184082276,\n",
              " (5, 18): 0.2644356751859853,\n",
              " (5, 19): 0.3321140209973138,\n",
              " (5, 20): 0.45765991776713655,\n",
              " (5, 21): 0.5224141870793928,\n",
              " (5, 22): 0.28252243659003584,\n",
              " (5, 23): 0.45732112356216403,\n",
              " (5, 24): 0.22814100331809894,\n",
              " (5, 25): 0.2812321910110891,\n",
              " (5, 26): 0.38237949780068714,\n",
              " (5, 27): 0.4048858489745183,\n",
              " (5, 28): 0.33915286434877223,\n",
              " (5, 29): 0.2709124311137321,\n",
              " (5, 30): 0.360946512732224,\n",
              " (5, 31): 0.25374292875433735,\n",
              " (5, 32): 0.22896832720339577,\n",
              " (5, 33): 0.24493877052660928,\n",
              " (5, 34): 0.36959938296320294,\n",
              " (5, 35): 0.2749906372873071,\n",
              " (5, 36): 0.5697531254805003,\n",
              " (5, 37): 0.26611135441117795,\n",
              " (5, 38): 0.145832082263599,\n",
              " (5, 39): 0.23661754188554207,\n",
              " (5, 40): 0.28569412394340366,\n",
              " (5, 41): 0.5042877295667759,\n",
              " (5, 42): 0.5909370241304335,\n",
              " (5, 43): 0.30619530429193165,\n",
              " (5, 44): 0.4710946846107451,\n",
              " (5, 45): 0.2679915895922558,\n",
              " (5, 46): 0.21826872171743938,\n",
              " (5, 47): 0.2915163427482954,\n",
              " (5, 48): 0.30312957635673066,\n",
              " (5, 49): 0.5594769007098206,\n",
              " (5, 50): 0.6112194444298192,\n",
              " (5, 51): 0.2859855685454029,\n",
              " (5, 52): 0.3595691778580188,\n",
              " (5, 53): 0.2683442354201928,\n",
              " (5, 54): 0.5529720595003299,\n",
              " (5, 55): 0.2970005464642723,\n",
              " (5, 56): 0.2586971185504561,\n",
              " (5, 57): 0.3953294211925511,\n",
              " (5, 58): 0.5389156545354918,\n",
              " (5, 59): 0.3271998921129595,\n",
              " (5, 60): 0.5773451185524014,\n",
              " (5, 61): 0.6758970399959143,\n",
              " (5, 62): 0.2449217805221371,\n",
              " (5, 63): 0.3831643814381783,\n",
              " (5, 64): 0.33080863892982126,\n",
              " (5, 65): 0.3349472054487116,\n",
              " (5, 66): 0.3078442881480008,\n",
              " (5, 67): 0.47951585821964837,\n",
              " (5, 68): 0.3636732766739097,\n",
              " (5, 69): 0.2341263591601619,\n",
              " (5, 70): 0.38676617554544546,\n",
              " (5, 71): 0.334241074763977,\n",
              " (5, 72): 0.18690484623829418,\n",
              " (5, 73): 0.6644364625333937,\n",
              " (6, 7): 0.5121937413244976,\n",
              " (6, 8): 0.49289914899335585,\n",
              " (6, 9): 0.3980397776050639,\n",
              " (6, 10): 0.5552843254252139,\n",
              " (6, 11): 0.3584096783054789,\n",
              " (6, 12): 0.5098093466996448,\n",
              " (6, 13): 0.5144230783643811,\n",
              " (6, 14): 0.25659491150201486,\n",
              " (6, 15): 0.3644503216083289,\n",
              " (6, 16): 0.33476515212913716,\n",
              " (6, 17): 0.5009133534203214,\n",
              " (6, 18): 0.4695704114764876,\n",
              " (6, 19): 0.46163335662030724,\n",
              " (6, 20): 0.45476954064987285,\n",
              " (6, 21): 0.3798325470294879,\n",
              " (6, 22): 0.44432266557667477,\n",
              " (6, 23): 0.4436225275606662,\n",
              " (6, 24): 0.3963470740533148,\n",
              " (6, 25): 0.4567112122526512,\n",
              " (6, 26): 0.3983846749133002,\n",
              " (6, 27): 0.48641477010915435,\n",
              " (6, 28): 0.48365136056775415,\n",
              " (6, 29): 0.44818214422936764,\n",
              " (6, 30): 0.39895454308263445,\n",
              " (6, 31): 0.38567921370138636,\n",
              " (6, 32): 0.41575827182770486,\n",
              " (6, 33): 0.41830361859827414,\n",
              " (6, 34): 0.3507366544439109,\n",
              " (6, 35): 0.49359464747381177,\n",
              " (6, 36): 0.4652238072124346,\n",
              " (6, 37): 0.4170958967898448,\n",
              " (6, 38): 0.11580242757626624,\n",
              " (6, 39): 0.49052149537872247,\n",
              " (6, 40): 0.41886695609669033,\n",
              " (6, 41): 0.3922915224927541,\n",
              " (6, 42): 0.3810026905772812,\n",
              " (6, 43): 0.4571585625968011,\n",
              " (6, 44): 0.4715754353875955,\n",
              " (6, 45): 0.43082933731914763,\n",
              " (6, 46): 0.5264523325637347,\n",
              " (6, 47): 0.5460805644249719,\n",
              " (6, 48): 0.2296837261654071,\n",
              " (6, 49): 0.30727720245010937,\n",
              " (6, 50): 0.1561793478686535,\n",
              " (6, 51): 0.5223323250333027,\n",
              " (6, 52): 0.5056647363097259,\n",
              " (6, 53): 0.5415365505390521,\n",
              " (6, 54): 0.4865556553559266,\n",
              " (6, 55): 0.4783868125809807,\n",
              " (6, 56): 0.46769842203825573,\n",
              " (6, 57): 0.5354560415241212,\n",
              " (6, 58): 0.2719005229401499,\n",
              " (6, 59): 0.510917361339314,\n",
              " (6, 60): 0.23570993259058604,\n",
              " (6, 61): 0.386229888556362,\n",
              " (6, 62): 0.3734188205730764,\n",
              " (6, 63): 0.18100258186583962,\n",
              " (6, 64): 0.2327396776760987,\n",
              " (6, 65): 0.471720408106036,\n",
              " (6, 66): 0.3394955573891665,\n",
              " (6, 67): 0.3381054934685366,\n",
              " (6, 68): 0.4970707956672631,\n",
              " (6, 69): 0.21348835384296183,\n",
              " (6, 70): 0.17793940991645796,\n",
              " (6, 71): 0.585982725185829,\n",
              " (6, 72): 0.11729000833007763,\n",
              " (6, 73): 0.3814218677168908,\n",
              " (7, 8): 0.8472879980315458,\n",
              " (7, 9): 0.6972628153788234,\n",
              " (7, 10): 0.8627831577502555,\n",
              " (7, 11): 0.35457053606848676,\n",
              " (7, 12): 0.7496026708282042,\n",
              " (7, 13): 0.7653127767540332,\n",
              " (7, 14): 0.31341799678277593,\n",
              " (7, 15): 0.6769799671580519,\n",
              " (7, 16): 0.7094647663534873,\n",
              " (7, 17): 0.7546421635083392,\n",
              " (7, 18): 0.6330787273338988,\n",
              " (7, 19): 0.6872011390587696,\n",
              " (7, 20): 0.4978590937568288,\n",
              " (7, 21): 0.42492349724356737,\n",
              " (7, 22): 0.7648489999894578,\n",
              " (7, 23): 0.49874564097107443,\n",
              " (7, 24): 0.643209172015208,\n",
              " (7, 25): 0.742754676052105,\n",
              " (7, 26): 0.7117871595945524,\n",
              " (7, 27): 0.7519266956529909,\n",
              " (7, 28): 0.6554336345471696,\n",
              " (7, 29): 0.5875312560507452,\n",
              " (7, 30): 0.6605282840688893,\n",
              " (7, 31): 0.7193940847166698,\n",
              " (7, 32): 0.7403617884570339,\n",
              " (7, 33): 0.7024825402896447,\n",
              " (7, 34): 0.6039968046485975,\n",
              " (7, 35): 0.720699179753798,\n",
              " (7, 36): 0.43852457641210907,\n",
              " (7, 37): 0.6478428213060946,\n",
              " (7, 38): 0.13475394136830288,\n",
              " (7, 39): 0.676350268743851,\n",
              " (7, 40): 0.6445750070250547,\n",
              " (7, 41): 0.43042752245269633,\n",
              " (7, 42): 0.4341905655991265,\n",
              " (7, 43): 0.7171598326882291,\n",
              " (7, 44): 0.5118128139963802,\n",
              " (7, 45): 0.707398679908546,\n",
              " (7, 46): 0.664284854533266,\n",
              " (7, 47): 0.708540179363182,\n",
              " (7, 48): 0.3028453048568822,\n",
              " (7, 49): 0.33980350613847343,\n",
              " (7, 50): 0.1793366855117704,\n",
              " (7, 51): 0.6107733020310255,\n",
              " (7, 52): 0.5184615551597138,\n",
              " (7, 53): 0.7595916678971714,\n",
              " (7, 54): 0.46914400601971185,\n",
              " (7, 55): 0.6912719838308353,\n",
              " (7, 56): 0.744919690761325,\n",
              " (7, 57): 0.5355836820188166,\n",
              " (7, 58): 0.2530321714093655,\n",
              " (7, 59): 0.7657296109383949,\n",
              " (7, 60): 0.2971630862047745,\n",
              " (7, 61): 0.3790796140235593,\n",
              " (7, 62): 0.6219201349743867,\n",
              " (7, 63): 0.25802460618593814,\n",
              " (7, 64): 0.30329988622585047,\n",
              " (7, 65): 0.6645661030727769,\n",
              " (7, 66): 0.5666186189791057,\n",
              " (7, 67): 0.44307100055624704,\n",
              " (7, 68): 0.5465753161420581,\n",
              " (7, 69): 0.2690142603452599,\n",
              " (7, 70): 0.25870109646952577,\n",
              " (7, 71): 0.6808050261426447,\n",
              " (7, 72): 0.17493913692896035,\n",
              " (7, 73): 0.4039172408681151,\n",
              " (8, 9): 0.7002272799534183,\n",
              " (8, 10): 0.8501337961709721,\n",
              " (8, 11): 0.4006062387014322,\n",
              " (8, 12): 0.6401209583266858,\n",
              " (8, 13): 0.7485168812593925,\n",
              " (8, 14): 0.4252598092824378,\n",
              " (8, 15): 0.7145801050472382,\n",
              " (8, 16): 0.7075453765572326,\n",
              " (8, 17): 0.7051706451053282,\n",
              " (8, 18): 0.6074591246901689,\n",
              " (8, 19): 0.7877632793475284,\n",
              " (8, 20): 0.5380855481962329,\n",
              " (8, 21): 0.49030580953287684,\n",
              " (8, 22): 0.7687308251810123,\n",
              " (8, 23): 0.5338397261896419,\n",
              " (8, 24): 0.6233008399009073,\n",
              " (8, 25): 0.6891002055208774,\n",
              " (8, 26): 0.7515321585952173,\n",
              " (8, 27): 0.7946076859851069,\n",
              " (8, 28): 0.6059495483965402,\n",
              " (8, 29): 0.5202623936592612,\n",
              " (8, 30): 0.6004194929737378,\n",
              " (8, 31): 0.6686258804361198,\n",
              " (8, 32): 0.6902825660657672,\n",
              " (8, 33): 0.6661347962175689,\n",
              " (8, 34): 0.5712988043420705,\n",
              " (8, 35): 0.6738183669289891,\n",
              " (8, 36): 0.5207158522423216,\n",
              " (8, 37): 0.6176511537377601,\n",
              " (8, 38): 0.17535615622302136,\n",
              " (8, 39): 0.6660033549773031,\n",
              " (8, 40): 0.654918061257966,\n",
              " (8, 41): 0.5095368708831252,\n",
              " (8, 42): 0.5435472711449454,\n",
              " (8, 43): 0.6674853760574194,\n",
              " (8, 44): 0.5464449368691549,\n",
              " (8, 45): 0.6213587780332689,\n",
              " (8, 46): 0.5918634169828324,\n",
              " (8, 47): 0.637259680790475,\n",
              " (8, 48): 0.3423350763367359,\n",
              " (8, 49): 0.38062420234480543,\n",
              " (8, 50): 0.27959435095590957,\n",
              " (8, 51): 0.5965857438598462,\n",
              " (8, 52): 0.5399223282274578,\n",
              " (8, 53): 0.7048225841218969,\n",
              " (8, 54): 0.48977515153715845,\n",
              " (8, 55): 0.6356954119034229,\n",
              " (8, 56): 0.694771698142855,\n",
              " (8, 57): 0.5148651478502877,\n",
              " (8, 58): 0.30549863068063665,\n",
              " (8, 59): 0.7383889788908882,\n",
              " (8, 60): 0.36034106582109005,\n",
              " (8, 61): 0.48712190558347945,\n",
              " (8, 62): 0.6341862742431406,\n",
              " (8, 63): 0.37882122607095026,\n",
              " (8, 64): 0.3388063329632327,\n",
              " (8, 65): 0.6649590701924862,\n",
              " (8, 66): 0.5247779022067023,\n",
              " (8, 67): 0.4876654600065101,\n",
              " (8, 68): 0.5068298581901796,\n",
              " (8, 69): 0.30321803969887906,\n",
              " (8, 70): 0.38090195202049504,\n",
              " (8, 71): 0.6378284366464326,\n",
              " (8, 72): 0.1539600802282325,\n",
              " (8, 73): 0.43599389827886215,\n",
              " (9, 10): 0.6328397428861516,\n",
              " (9, 11): 0.29892982790190503,\n",
              " (9, 12): 0.6855164295958704,\n",
              " (9, 13): 0.594643398352276,\n",
              " (9, 14): 0.3495895970677605,\n",
              " (9, 15): 0.7452327136967135,\n",
              " (9, 16): 0.6587346864409304,\n",
              " (9, 17): 0.6013842836641767,\n",
              " (9, 18): 0.6605603573374202,\n",
              " (9, 19): 0.6393466288220722,\n",
              " (9, 20): 0.5788840657126916,\n",
              " (9, 21): 0.41658042466177525,\n",
              " (9, 22): 0.7322613309461905,\n",
              " (9, 23): 0.5646835351462782,\n",
              " (9, 24): 0.8124257114193943,\n",
              " (9, 25): 0.8060452543881349,\n",
              " (9, 26): 0.6515389128286869,\n",
              " (9, 27): 0.5943104722786714,\n",
              " (9, 28): 0.7171738607645417,\n",
              " (9, 29): 0.5971534412574057,\n",
              " (9, 30): 0.5702456414093132,\n",
              " (9, 31): 0.7982114444340951,\n",
              " (9, 32): 0.8319775422580376,\n",
              " (9, 33): 0.7130847118760516,\n",
              " (9, 34): 0.6107912320034456,\n",
              " (9, 35): 0.7488070800378179,\n",
              " (9, 36): 0.4550397344658126,\n",
              " (9, 37): 0.7425942803697655,\n",
              " (9, 38): 0.09960350253550343,\n",
              " (9, 39): 0.7591721871171389,\n",
              " (9, 40): 0.7509457299181902,\n",
              " (9, 41): 0.4709234751155792,\n",
              " (9, 42): 0.4476262088698322,\n",
              " (9, 43): 0.751639198051662,\n",
              " (9, 44): 0.5730089630523965,\n",
              " (9, 45): 0.7269346156515436,\n",
              " (9, 46): 0.5871605078021772,\n",
              " (9, 47): 0.6573757499304508,\n",
              " (9, 48): 0.2543407995131064,\n",
              " (9, 49): 0.3853236248866694,\n",
              " (9, 50): 0.170586813538536,\n",
              " (9, 51): 0.6861130645846248,\n",
              " (9, 52): 0.49114047195394095,\n",
              " (9, 53): 0.7521929073195207,\n",
              " (9, 54): 0.42532623416368165,\n",
              " (9, 55): 0.587308380871626,\n",
              " (9, 56): 0.6428861686925336,\n",
              " (9, 57): 0.4996504701783947,\n",
              " (9, 58): 0.26947254788429764,\n",
              " (9, 59): 0.7142918884578413,\n",
              " (9, 60): 0.20257970409845005,\n",
              " (9, 61): 0.41112979999098753,\n",
              " (9, 62): 0.655243721060224,\n",
              " (9, 63): 0.30638475020187605,\n",
              " (9, 64): 0.26392182353173943,\n",
              " (9, 65): 0.7521614926610233,\n",
              " (9, 66): 0.7165843495192524,\n",
              " (9, 67): 0.527560747631945,\n",
              " (9, 68): 0.5346777237753944,\n",
              " (9, 69): 0.20553499716133428,\n",
              " (9, 70): 0.3075687581044716,\n",
              " (9, 71): 0.6719697894029667,\n",
              " (9, 72): 0.14018819909692115,\n",
              " (9, 73): 0.35989678223875154,\n",
              " (10, 11): 0.36578726754015445,\n",
              " (10, 12): 0.7404487670901054,\n",
              " (10, 13): 0.7404145839680533,\n",
              " (10, 14): 0.3160066775504553,\n",
              " (10, 15): 0.5972917522282635,\n",
              " (10, 16): 0.6447300392237235,\n",
              " (10, 17): 0.7230931783148511,\n",
              " (10, 18): 0.6594940955541317,\n",
              " (10, 19): 0.7338934028999473,\n",
              " (10, 20): 0.5699034438130949,\n",
              " (10, 21): 0.43940147148425057,\n",
              " (10, 22): 0.7337744727429893,\n",
              " (10, 23): 0.5168264965947826,\n",
              " (10, 24): 0.5636815401322033,\n",
              " (10, 25): 0.7140589610743978,\n",
              " (10, 26): 0.6942769311353241,\n",
              " (10, 27): 0.7160428927574913,\n",
              " (10, 28): 0.605299147856134,\n",
              " (10, 29): 0.5489596895557181,\n",
              " (10, 30): 0.6058037264672768,\n",
              " (10, 31): 0.6657460525160643,\n",
              " (10, 32): 0.6729625532675735,\n",
              " (10, 33): 0.6625856659204209,\n",
              " (10, 34): 0.5665195659483553,\n",
              " (10, 35): 0.7086125396054783,\n",
              " (10, 36): 0.4755477124712608,\n",
              " (10, 37): 0.6482489728476676,\n",
              " (10, 38): 0.17498953403250328,\n",
              " (10, 39): 0.633993560816245,\n",
              " (10, 40): 0.6034866372496632,\n",
              " (10, 41): 0.4441577350172361,\n",
              " (10, 42): 0.4515615893203164,\n",
              " (10, 43): 0.6592334861071212,\n",
              " (10, 44): 0.4836165979890634,\n",
              " (10, 45): 0.6454082169859507,\n",
              " (10, 46): 0.6454679167271277,\n",
              " (10, 47): 0.6935679832771013,\n",
              " (10, 48): 0.2761678006439685,\n",
              " (10, 49): 0.3249031037709076,\n",
              " (10, 50): 0.23403708819523306,\n",
              " (10, 51): 0.5736021715631966,\n",
              " (10, 52): 0.5428831588564035,\n",
              " (10, 53): 0.7492447105073243,\n",
              " (10, 54): 0.46739709641804816,\n",
              " (10, 55): 0.6278776529394205,\n",
              " (10, 56): 0.6933276267211387,\n",
              " (10, 57): 0.5086170610079719,\n",
              " (10, 58): 0.24800804604301818,\n",
              " (10, 59): 0.7268456182202199,\n",
              " (10, 60): 0.30439725537233353,\n",
              " (10, 61): 0.41925461609140746,\n",
              " (10, 62): 0.5614784070835003,\n",
              " (10, 63): 0.305832115233988,\n",
              " (10, 64): 0.27555394821550316,\n",
              " (10, 65): 0.6362104437897669,\n",
              " (10, 66): 0.5210478014910235,\n",
              " (10, 67): 0.40337246913912006,\n",
              " (10, 68): 0.5519578883876575,\n",
              " (10, 69): 0.23816095018574446,\n",
              " (10, 70): 0.3054028003511915,\n",
              " (10, 71): 0.640852132181694,\n",
              " (10, 72): 0.14098155310717786,\n",
              " (10, 73): 0.4086448001111004,\n",
              " (11, 12): 0.3061785002080566,\n",
              " (11, 13): 0.4128994323742934,\n",
              " (11, 14): 0.49790218014820753,\n",
              " (11, 15): 0.2824932996152558,\n",
              " (11, 16): 0.29507498100005125,\n",
              " (11, 17): 0.3425106959941393,\n",
              " (11, 18): 0.28746519648233426,\n",
              " (11, 19): 0.3849327894514083,\n",
              " (11, 20): 0.4130195507218861,\n",
              " (11, 21): 0.37691019894842226,\n",
              " (11, 22): 0.32740477909286214,\n",
              " (11, 23): 0.44152558947727893,\n",
              " (11, 24): 0.31436674645807294,\n",
              " (11, 25): 0.3477706877057163,\n",
              " (11, 26): 0.3576422039218765,\n",
              " (11, 27): 0.37810759067070454,\n",
              " (11, 28): 0.38841435222469234,\n",
              " (11, 29): 0.3103636828742393,\n",
              " (11, 30): 0.3417697661903275,\n",
              " (11, 31): 0.3028356358436889,\n",
              " (11, 32): 0.2880238925444817,\n",
              " (11, 33): 0.2821434862892034,\n",
              " (11, 34): 0.3647666436155933,\n",
              " (11, 35): 0.334859762259316,\n",
              " (11, 36): 0.526134826416875,\n",
              " (11, 37): 0.27622100092242863,\n",
              " (11, 38): 0.07632194234749612,\n",
              " (11, 39): 0.29662871491487786,\n",
              " (11, 40): 0.3524063462601741,\n",
              " (11, 41): 0.4444529576073052,\n",
              " (11, 42): 0.5709563500557802,\n",
              " (11, 43): 0.3036064022472895,\n",
              " (11, 44): 0.5192917481127769,\n",
              " (11, 45): 0.301258362970549,\n",
              " (11, 46): 0.2573145748635419,\n",
              " (11, 47): 0.26938294833677845,\n",
              " (11, 48): 0.20329940626526954,\n",
              " (11, 49): 0.6027922928465838,\n",
              " (11, 50): 0.5049549875116088,\n",
              " (11, 51): 0.3304720672666739,\n",
              " (11, 52): 0.28227533288935325,\n",
              " (11, 53): 0.3113542684534788,\n",
              " (11, 54): 0.4589498123113971,\n",
              " (11, 55): 0.3285197910940856,\n",
              " (11, 56): 0.39495044103994625,\n",
              " (11, 57): 0.32358112436866726,\n",
              " (11, 58): 0.6141057935481938,\n",
              " (11, 59): 0.31280421057911023,\n",
              " (11, 60): 0.45549060562641597,\n",
              " (11, 61): 0.5714582637643668,\n",
              " (11, 62): 0.27799193919319154,\n",
              " (11, 63): 0.29800107122080655,\n",
              " (11, 64): 0.20576100298126465,\n",
              " (11, 65): 0.3563670594865793,\n",
              " (11, 66): 0.36738270786861293,\n",
              " (11, 67): 0.3725572356658867,\n",
              " (11, 68): 0.3601544330190988,\n",
              " (11, 69): 0.1942581463939188,\n",
              " (11, 70): 0.3058763270851761,\n",
              " (11, 71): 0.3706427693590265,\n",
              " (11, 72): 0.1527274069396659,\n",
              " (11, 73): 0.6020362572133615,\n",
              " (12, 13): 0.6710637443535441,\n",
              " (12, 14): 0.23010051691114652,\n",
              " (12, 15): 0.627603068659636,\n",
              " (12, 16): 0.6078795015163297,\n",
              " (12, 17): 0.6601030596561787,\n",
              " (12, 18): 0.7329878064846106,\n",
              " (12, 19): 0.6635682611780622,\n",
              " (12, 20): 0.6022851088317516,\n",
              " (12, 21): 0.33374964221766135,\n",
              " (12, 22): 0.7311608291664525,\n",
              " (12, 23): 0.5585194278396587,\n",
              " (12, 24): 0.7198679357988927,\n",
              " (12, 25): 0.7902832085126799,\n",
              " (12, 26): 0.605224030188534,\n",
              " (12, 27): 0.5967223668008178,\n",
              " (12, 28): 0.7194089702324485,\n",
              " (12, 29): 0.707931017571166,\n",
              " (12, 30): 0.5998014722212578,\n",
              " (12, 31): 0.7397238505893896,\n",
              " (12, 32): 0.795037902891902,\n",
              " (12, 33): 0.7494862393342645,\n",
              " (12, 34): 0.683158861426986,\n",
              " (12, 35): 0.8140058622380778,\n",
              " (12, 36): 0.49918577347014614,\n",
              " (12, 37): 0.7795141717311584,\n",
              " (12, 38): 0.09802331246437934,\n",
              " (12, 39): 0.7668870802280535,\n",
              " (12, 40): 0.7157415825443368,\n",
              " (12, 41): 0.39872415140893946,\n",
              " (12, 42): 0.3472882293991262,\n",
              " (12, 43): 0.7466759223586147,\n",
              " (12, 44): 0.5221470105358578,\n",
              " (12, 45): 0.7748761701258476,\n",
              " (12, 46): 0.7294157073004911,\n",
              " (12, 47): 0.751575785842879,\n",
              " (12, 48): 0.1698548398892603,\n",
              " (12, 49): 0.36279598965355364,\n",
              " (12, 50): 0.11422310513038259,\n",
              " (12, 51): 0.6729520546003881,\n",
              " (12, 52): 0.5008727234104411,\n",
              " (12, 53): 0.8181149666871883,\n",
              " (12, 54): 0.41319860677897247,\n",
              " (12, 55): 0.6901166083659724,\n",
              " (12, 56): 0.7042578771648826,\n",
              " (12, 57): 0.5592983760096851,\n",
              " (12, 58): 0.21693995302888758,\n",
              " (12, 59): 0.7375448908537928,\n",
              " (12, 60): 0.18853145871186539,\n",
              " (12, 61): 0.29541407955335164,\n",
              " (12, 62): 0.6181755412277214,\n",
              " (12, 63): 0.19714615976969863,\n",
              " (12, 64): 0.18546638577811891,\n",
              " (12, 65): 0.7513550545660199,\n",
              " (12, 66): 0.6532871807747077,\n",
              " (12, 67): 0.3924383722491993,\n",
              " (12, 68): 0.5483840660478543,\n",
              " (12, 69): 0.14664083861366617,\n",
              " (12, 70): 0.19489816036398366,\n",
              " (12, 71): 0.6821964271891144,\n",
              " (12, 72): 0.1573662970309495,\n",
              " (12, 73): 0.3667664322918349,\n",
              " (13, 14): 0.3859248778247384,\n",
              " (13, 15): 0.6438814951802553,\n",
              " (13, 16): 0.6453833619458132,\n",
              " (13, 17): 0.6555590397407723,\n",
              " (13, 18): 0.6311499331571514,\n",
              " (13, 19): 0.7387660745420336,\n",
              " (13, 20): 0.5710854631438097,\n",
              " (13, 21): 0.47794730180897727,\n",
              " (13, 22): 0.6937271904676136,\n",
              " (13, 23): 0.5473705221449034,\n",
              " (13, 24): 0.5857423218991238,\n",
              " (13, 25): 0.6751993182428869,\n",
              " (13, 26): 0.6991191103698251,\n",
              " (13, 27): 0.7572081302736767,\n",
              " (13, 28): 0.5877048534924673,\n",
              " (13, 29): 0.5727538055812665,\n",
              " (13, 30): 0.6119389644133071,\n",
              " (13, 31): 0.62992562202783,\n",
              " (13, 32): 0.65760726010433,\n",
              " (13, 33): 0.6397248367541314,\n",
              " (13, 34): 0.5115388887882715,\n",
              " (13, 35): 0.7102615882450468,\n",
              " (13, 36): 0.472158933452262,\n",
              " (13, 37): 0.6311684604350847,\n",
              " (13, 38): 0.14585715943845567,\n",
              " (13, 39): 0.64523322703951,\n",
              " (13, 40): 0.6144465935180218,\n",
              " (13, 41): 0.4890612475705223,\n",
              " (13, 42): 0.49151250331969654,\n",
              " (13, 43): 0.6370251970721676,\n",
              " (13, 44): 0.5587819846495838,\n",
              " (13, 45): 0.6603434823380594,\n",
              " (13, 46): 0.613389297278165,\n",
              " (13, 47): 0.6155992290932173,\n",
              " (13, 48): 0.2640978465225876,\n",
              " (13, 49): 0.3721827289468679,\n",
              " (13, 50): 0.24887401103649842,\n",
              " (13, 51): 0.5753743434672373,\n",
              " (13, 52): 0.5057522572151094,\n",
              " (13, 53): 0.6760992680526398,\n",
              " (13, 54): 0.43349762652793555,\n",
              " (13, 55): 0.6143431408854352,\n",
              " (13, 56): 0.6585101818460116,\n",
              " (13, 57): 0.6099082053663537,\n",
              " (13, 58): 0.31077284898089985,\n",
              " (13, 59): 0.6762669360085292,\n",
              " (13, 60): 0.30934636400679905,\n",
              " (13, 61): 0.424264733039005,\n",
              " (13, 62): 0.6491568899057838,\n",
              " (13, 63): 0.2813494543515138,\n",
              " (13, 64): 0.2664423128593194,\n",
              " (13, 65): 0.6689142518914849,\n",
              " (13, 66): 0.5358890187247217,\n",
              " (13, 67): 0.4368106309214119,\n",
              " (13, 68): 0.513882848413086,\n",
              " (13, 69): 0.2530985573285811,\n",
              " (13, 70): 0.2832778775660443,\n",
              " (13, 71): 0.6826495393378047,\n",
              " (13, 72): 0.14566181749121843,\n",
              " (13, 73): 0.42840019467524315,\n",
              " (14, 15): 0.310679398077208,\n",
              " (14, 16): 0.30077771328262226,\n",
              " (14, 17): 0.31730700654853305,\n",
              " (14, 18): 0.23186019749648212,\n",
              " (14, 19): 0.3609346194543799,\n",
              " (14, 20): 0.42885324930651936,\n",
              " (14, 21): 0.6397254063141935,\n",
              " (14, 22): 0.3160771379156617,\n",
              " (14, 23): 0.4342186732382578,\n",
              " (14, 24): 0.258645411176764,\n",
              " (14, 25): 0.2870801468586537,\n",
              " (14, 26): 0.3850175576175252,\n",
              " (14, 27): 0.3853421635241461,\n",
              " (14, 28): 0.2943619919131484,\n",
              " (14, 29): 0.28130285855198056,\n",
              " (14, 30): 0.3411392111269047,\n",
              " (14, 31): 0.2684845566159426,\n",
              " (14, 32): 0.2709604580631374,\n",
              " (14, 33): 0.2596217716584761,\n",
              " (14, 34): 0.33000732394360077,\n",
              " (14, 35): 0.29017802338037557,\n",
              " (14, 36): 0.5241062315161031,\n",
              " (14, 37): 0.2934000518432719,\n",
              " (14, 38): 0.07663741874905072,\n",
              " (14, 39): 0.27246382618977394,\n",
              " (14, 40): 0.2893080453843109,\n",
              " (14, 41): 0.6294977282215665,\n",
              " (14, 42): 0.7706674182693491,\n",
              " (14, 43): 0.2822675289874288,\n",
              " (14, 44): 0.5041279148519262,\n",
              " (14, 45): 0.27235457932525664,\n",
              " (14, 46): 0.18283861996982476,\n",
              " (14, 47): 0.23112246574062478,\n",
              " (14, 48): 0.24400465677269711,\n",
              " (14, 49): 0.40748674281116126,\n",
              " (14, 50): 0.6053117943092065,\n",
              " (14, 51): 0.32712413729733325,\n",
              " (14, 52): 0.42458181809915585,\n",
              " (14, 53): 0.2876842366594722,\n",
              " (14, 54): 0.495319210343947,\n",
              " (14, 55): 0.26802961012858084,\n",
              " (14, 56): 0.3104663425523333,\n",
              " (14, 57): 0.276977084860761,\n",
              " (14, 58): 0.34081561399435534,\n",
              " (14, 59): 0.35158989240885785,\n",
              " (14, 60): 0.5013250683329415,\n",
              " (14, 61): 0.7606273341178205,\n",
              " (14, 62): 0.3219559299368875,\n",
              " (14, 63): 0.5986622841047161,\n",
              " (14, 64): 0.2532362454464263,\n",
              " (14, 65): 0.3455030262761126,\n",
              " (14, 66): 0.3119215233308881,\n",
              " (14, 67): 0.417432514864548,\n",
              " (14, 68): 0.2985951343933111,\n",
              " (14, 69): 0.21821024730539096,\n",
              " (14, 70): 0.6123055466295287,\n",
              " (14, 71): 0.29912198873650386,\n",
              " (14, 72): 0.08256188895623628,\n",
              " (14, 73): 0.6435259627310789,\n",
              " (15, 16): 0.748527962607619,\n",
              " (15, 17): 0.6253459317247296,\n",
              " (15, 18): 0.6098743889650178,\n",
              " (15, 19): 0.6269337497676398,\n",
              " (15, 20): 0.47519029976230365,\n",
              " (15, 21): 0.35019295005842355,\n",
              " (15, 22): 0.7038051378150578,\n",
              " (15, 23): 0.47436332130420733,\n",
              " (15, 24): 0.7577929052183239,\n",
              " (15, 25): 0.6908677088036315,\n",
              " ...}"
            ]
          },
          "metadata": {},
          "execution_count": 39
        }
      ]
    },
    {
      "cell_type": "code",
      "source": [
        "G = nx.DiGraph()\n",
        "\n",
        "[G.add_node(k) for k in ['A', 'B', 'C', 'D', 'E', 'F', 'G']]\n",
        "\n",
        "G.add_edges_from([('G','A'), ('A','G'),('B','A'),\n",
        "                  ('C','A'),('A','C'),('A','D'),\n",
        "                  ('E','A'),('F','A'),('D','B'),\n",
        "                  ('D','F')])"
      ],
      "metadata": {
        "id": "27pCWXhRBt9o"
      },
      "execution_count": null,
      "outputs": []
    },
    {
      "cell_type": "code",
      "source": [
        "pos = nx.spiral_layout(G)\n",
        "nx.draw(G,\n",
        "        pos=pos,\n",
        "        with_labels = True,\n",
        "        node_color=\"#f86e00\")"
      ],
      "metadata": {
        "colab": {
          "base_uri": "https://localhost:8080/",
          "height": 516
        },
        "id": "WMRi6E-3Bwf3",
        "outputId": "f255e4e5-c7f8-4846-bcf8-fa21850d77ea"
      },
      "execution_count": null,
      "outputs": [
        {
          "output_type": "display_data",
          "data": {
            "text/plain": [
              "<Figure size 640x480 with 1 Axes>"
            ],
            "image/png": "[encoded data removed]"
          },
          "metadata": {}
        }
      ]
    },
    {
      "cell_type": "code",
      "source": [
        "pr1 = nx.pagerank(G)\n",
        "\n",
        "pr1"
      ],
      "metadata": {
        "colab": {
          "base_uri": "https://localhost:8080/"
        },
        "id": "In_hXKAhB_kv",
        "outputId": "c1e3c250-890b-49fe-efce-3ab884a713f6"
      },
      "execution_count": null,
      "outputs": [
        {
          "output_type": "execute_result",
          "data": {
            "text/plain": [
              "{'A': 0.4080745143467559,\n",
              " 'B': 0.07967426232810562,\n",
              " 'C': 0.13704946318948705,\n",
              " 'D': 0.13704946318948705,\n",
              " 'E': 0.021428571428571432,\n",
              " 'F': 0.07967426232810562,\n",
              " 'G': 0.13704946318948705}"
            ]
          },
          "metadata": {},
          "execution_count": 42
        }
      ]
    },
    {
      "cell_type": "markdown",
      "source": [
        "- ปรับขนาด node ตามค่า PageRank"
      ],
      "metadata": {
        "id": "SNArHol1CLuF"
      }
    },
    {
      "cell_type": "code",
      "source": [
        "PR = [str(round(v * 100, 2)) + '%' for v in pr1.values()]\n",
        "\n",
        "PR"
      ],
      "metadata": {
        "colab": {
          "base_uri": "https://localhost:8080/"
        },
        "id": "S7RW3FblCAoU",
        "outputId": "4133c80b-3675-46d8-84ca-c5a1f1579457"
      },
      "execution_count": null,
      "outputs": [
        {
          "output_type": "execute_result",
          "data": {
            "text/plain": [
              "['40.81%', '7.97%', '13.7%', '13.7%', '2.14%', '7.97%', '13.7%']"
            ]
          },
          "metadata": {},
          "execution_count": 43
        }
      ]
    },
    {
      "cell_type": "code",
      "source": [
        "name = [k for k in G._node.keys()]\n",
        "\n",
        "name"
      ],
      "metadata": {
        "colab": {
          "base_uri": "https://localhost:8080/"
        },
        "id": "6l1b_OxaCBsq",
        "outputId": "f4ede794-6ce0-415c-ef28-7fb75a1d59e0"
      },
      "execution_count": null,
      "outputs": [
        {
          "output_type": "execute_result",
          "data": {
            "text/plain": [
              "['A', 'B', 'C', 'D', 'E', 'F', 'G']"
            ]
          },
          "metadata": {},
          "execution_count": 44
        }
      ]
    },
    {
      "cell_type": "code",
      "source": [
        "dict(zip(name, PR))"
      ],
      "metadata": {
        "colab": {
          "base_uri": "https://localhost:8080/"
        },
        "id": "4xzblGzeCDIG",
        "outputId": "b2bd5e48-3d16-4188-d48e-48f0ac8d900d"
      },
      "execution_count": null,
      "outputs": [
        {
          "output_type": "execute_result",
          "data": {
            "text/plain": [
              "{'A': '40.81%',\n",
              " 'B': '7.97%',\n",
              " 'C': '13.7%',\n",
              " 'D': '13.7%',\n",
              " 'E': '2.14%',\n",
              " 'F': '7.97%',\n",
              " 'G': '13.7%'}"
            ]
          },
          "metadata": {},
          "execution_count": 45
        }
      ]
    },
    {
      "cell_type": "code",
      "source": [
        "size = [v * 6000 for v in pr1.values()]"
      ],
      "metadata": {
        "id": "ugnX_5Z3CEN1"
      },
      "execution_count": null,
      "outputs": []
    },
    {
      "cell_type": "code",
      "source": [
        "pos = nx.spiral_layout(G)\n",
        "nx.draw(G,\n",
        "        pos=pos,\n",
        "        with_labels = True,\n",
        "        node_color=\"#f86e00\",\n",
        "        node_size=size)"
      ],
      "metadata": {
        "colab": {
          "base_uri": "https://localhost:8080/",
          "height": 516
        },
        "id": "PGdZU7UZCFPL",
        "outputId": "1ddac349-7852-4a46-d5c5-9ed2e08883f8"
      },
      "execution_count": null,
      "outputs": [
        {
          "output_type": "display_data",
          "data": {
            "text/plain": [
              "<Figure size 640x480 with 1 Axes>"
            ],
            "image/png": "[encoded data removed]"
          },
          "metadata": {}
        }
      ]
    },
    {
      "cell_type": "code",
      "source": [
        "nx.to_numpy_array(G)"
      ],
      "metadata": {
        "colab": {
          "base_uri": "https://localhost:8080/"
        },
        "id": "wkD_yVmBDCk2",
        "outputId": "d035321f-ba44-400f-88be-cb839b5bcbc4"
      },
      "execution_count": null,
      "outputs": [
        {
          "output_type": "execute_result",
          "data": {
            "text/plain": [
              "array([[0., 0., 1., 1., 0., 0., 1.],\n",
              "       [1., 0., 0., 0., 0., 0., 0.],\n",
              "       [1., 0., 0., 0., 0., 0., 0.],\n",
              "       [0., 1., 0., 0., 0., 1., 0.],\n",
              "       [1., 0., 0., 0., 0., 0., 0.],\n",
              "       [1., 0., 0., 0., 0., 0., 0.],\n",
              "       [1., 0., 0., 0., 0., 0., 0.]])"
            ]
          },
          "metadata": {},
          "execution_count": 48
        }
      ]
    },
    {
      "cell_type": "code",
      "source": [
        "G = nx.DiGraph()\n",
        "G.add_edge('B', 'A')\n",
        "G.add_edge('C', 'A')\n",
        "G.add_edge('D', 'A')\n",
        "G.add_edge('B', 'C')\n",
        "G.add_edge('D', 'B')\n",
        "G.add_edge('D', 'C')"
      ],
      "metadata": {
        "id": "AxRhLawaCc-Z"
      },
      "execution_count": null,
      "outputs": []
    },
    {
      "cell_type": "code",
      "source": [
        "pos = nx.spring_layout(G, seed=4321)\n",
        "nx.draw(G,\n",
        "        pos=pos,\n",
        "        node_size=500,\n",
        "        node_color='#f86e00',\n",
        "        edge_color='blue',\n",
        "        with_labels=True)"
      ],
      "metadata": {
        "colab": {
          "base_uri": "https://localhost:8080/",
          "height": 516
        },
        "id": "V8WIGcvRCeSc",
        "outputId": "8c7a91c0-9b57-4fbe-c5be-4161e9079322"
      },
      "execution_count": null,
      "outputs": [
        {
          "output_type": "display_data",
          "data": {
            "text/plain": [
              "<Figure size 640x480 with 1 Axes>"
            ],
            "image/png": "[encoded data removed]"
          },
          "metadata": {}
        }
      ]
    },
    {
      "cell_type": "code",
      "source": [
        "\"\"\"PR(A) = 0.25 PR(B) = 0.25 PR(C) = 0.25 PR(D) = 0.25\n",
        "\n",
        "สำหรับทุก Web Page q ที่ Connect มายัง Web Page A\n",
        "PR(A) = (1-d) + d*(PR(B)/On(B) + PR(C)/On(C) + PR(D)/On(D))\n",
        "\n",
        "โดย d หรือ damping factor = 0.85 และ\n",
        "On(q) เท่ากับจำนวน Link ขาออก (Outgoing Links) ของ Page q\n",
        "\n",
        "ดังนั้น PR(A) = 0.15 + 0.85(0.25/2 + 0.25/1 + 0.25/3) = 0.5395833333 \"\"\""
      ],
      "metadata": {
        "colab": {
          "base_uri": "https://localhost:8080/",
          "height": 70
        },
        "id": "0DMzuB14Cf95",
        "outputId": "d9667eb6-fba8-446a-efa7-42d205c3db08"
      },
      "execution_count": null,
      "outputs": [
        {
          "output_type": "execute_result",
          "data": {
            "text/plain": [
              "'PR(A) = 0.25 PR(B) = 0.25 PR(C) = 0.25 PR(D) = 0.25\\n\\nสำหรับทุก Web Page q ที่ Connect มายัง Web Page A\\nPR(A) = (1-d) + d*(PR(B)/On(B) + PR(C)/On(C) + PR(D)/On(D))\\n\\nโดย d หรือ damping factor = 0.85 และ\\nOn(q) เท่ากับจำนวน Link ขาออก (Outgoing Links) ของ Page q\\n\\nดังนั้น PR(A) = 0.15 + 0.85(0.25/2 + 0.25/1 + 0.25/3) = 0.5395833333 '"
            ],
            "application/vnd.google.colaboratory.intrinsic+json": {
              "type": "string"
            }
          },
          "metadata": {},
          "execution_count": 54
        }
      ]
    },
    {
      "cell_type": "code",
      "source": [
        "PR = nx.pagerank(G)\n",
        "\n",
        "PR"
      ],
      "metadata": {
        "colab": {
          "base_uri": "https://localhost:8080/"
        },
        "id": "--IHiS6HChaN",
        "outputId": "e7a498db-87f5-4fcd-d1ec-657f21272974"
      },
      "execution_count": null,
      "outputs": [
        {
          "output_type": "execute_result",
          "data": {
            "text/plain": [
              "{'B': 0.17121913703515862,\n",
              " 'A': 0.4513761585479028,\n",
              " 'C': 0.24398745873843833,\n",
              " 'D': 0.13341724567850016}"
            ]
          },
          "metadata": {},
          "execution_count": 52
        }
      ]
    },
    {
      "cell_type": "code",
      "source": [
        "nx.to_numpy_array(G)"
      ],
      "metadata": {
        "colab": {
          "base_uri": "https://localhost:8080/"
        },
        "id": "fFbJ7wLdCip8",
        "outputId": "5d16d707-b8a7-4276-cb6e-dd6c953709f3"
      },
      "execution_count": null,
      "outputs": [
        {
          "output_type": "execute_result",
          "data": {
            "text/plain": [
              "array([[0., 1., 1., 0.],\n",
              "       [0., 0., 0., 0.],\n",
              "       [0., 1., 0., 0.],\n",
              "       [1., 1., 1., 0.]])"
            ]
          },
          "metadata": {},
          "execution_count": 53
        }
      ]
    },
    {
      "cell_type": "code",
      "source": [
        "nx.to_numpy_array(G)"
      ],
      "metadata": {
        "colab": {
          "base_uri": "https://localhost:8080/"
        },
        "id": "1Wzd6TvLD4wM",
        "outputId": "232118c6-ca9b-4eac-c217-4697ac430355"
      },
      "execution_count": null,
      "outputs": [
        {
          "output_type": "execute_result",
          "data": {
            "text/plain": [
              "array([[0., 1., 1., 0.],\n",
              "       [0., 0., 0., 0.],\n",
              "       [0., 1., 0., 0.],\n",
              "       [1., 1., 1., 0.]])"
            ]
          },
          "metadata": {},
          "execution_count": 55
        }
      ]
    },
    {
      "cell_type": "code",
      "source": [
        "D=nx.DiGraph()\n",
        "\n",
        "D.add_edge('A', 'B')\n",
        "D.add_edge('A', 'C')"
      ],
      "metadata": {
        "id": "RnAH3upoD50f"
      },
      "execution_count": null,
      "outputs": []
    },
    {
      "cell_type": "code",
      "source": [
        "nx.draw(D,\n",
        "        pos=pos,\n",
        "        node_size=500,\n",
        "        node_color='#f86e00',\n",
        "        edge_color='blue',\n",
        "        with_labels=True)"
      ],
      "metadata": {
        "colab": {
          "base_uri": "https://localhost:8080/",
          "height": 516
        },
        "id": "A0ePODlKD61A",
        "outputId": "112dd4f5-a42c-4401-93b9-7b65a75a8c8d"
      },
      "execution_count": null,
      "outputs": [
        {
          "output_type": "display_data",
          "data": {
            "text/plain": [
              "<Figure size 640x480 with 1 Axes>"
            ],
            "image/png": "[encoded data removed]"
          },
          "metadata": {}
        }
      ]
    },
    {
      "cell_type": "code",
      "source": [
        "nx.to_numpy_array(D)"
      ],
      "metadata": {
        "colab": {
          "base_uri": "https://localhost:8080/"
        },
        "id": "vNdbtkWPEHoR",
        "outputId": "30921968-9134-4c02-cb7e-e566001193c7"
      },
      "execution_count": null,
      "outputs": [
        {
          "output_type": "execute_result",
          "data": {
            "text/plain": [
              "array([[0., 1., 1.],\n",
              "       [0., 0., 0.],\n",
              "       [0., 0., 0.]])"
            ]
          },
          "metadata": {},
          "execution_count": 58
        }
      ]
    },
    {
      "cell_type": "code",
      "source": [
        "nx.pagerank(D)"
      ],
      "metadata": {
        "colab": {
          "base_uri": "https://localhost:8080/"
        },
        "id": "T1kChnM0EIUf",
        "outputId": "c94e0617-906d-400f-f35a-7f5d24d8f32a"
      },
      "execution_count": null,
      "outputs": [
        {
          "output_type": "execute_result",
          "data": {
            "text/plain": [
              "{'A': 0.25974050510584634, 'B': 0.37012974744707666, 'C': 0.37012974744707666}"
            ]
          },
          "metadata": {},
          "execution_count": 59
        }
      ]
    },
    {
      "cell_type": "code",
      "source": [
        "D.add_weighted_edges_from([('A','B',0.5),('A','C',0.5)])\n",
        "\n",
        "nx.to_numpy_array(D)"
      ],
      "metadata": {
        "colab": {
          "base_uri": "https://localhost:8080/"
        },
        "id": "dhzJ241VEPSz",
        "outputId": "f09c28f2-7ade-4e90-96b8-0268cfcbc979"
      },
      "execution_count": null,
      "outputs": [
        {
          "output_type": "execute_result",
          "data": {
            "text/plain": [
              "array([[0. , 0.5, 0.5],\n",
              "       [0. , 0. , 0. ],\n",
              "       [0. , 0. , 0. ]])"
            ]
          },
          "metadata": {},
          "execution_count": 60
        }
      ]
    },
    {
      "cell_type": "code",
      "source": [
        "nx.pagerank(D)"
      ],
      "metadata": {
        "colab": {
          "base_uri": "https://localhost:8080/"
        },
        "id": "usV-7Q82EQfR",
        "outputId": "163941ae-ed6f-49ae-aff8-c6d7f2481ac5"
      },
      "execution_count": null,
      "outputs": [
        {
          "output_type": "execute_result",
          "data": {
            "text/plain": [
              "{'A': 0.25974050510584634, 'B': 0.37012974744707666, 'C': 0.37012974744707666}"
            ]
          },
          "metadata": {},
          "execution_count": 61
        }
      ]
    },
    {
      "cell_type": "code",
      "source": [
        "D['A']['C']['weight']=1\n",
        "\n",
        "nx.to_numpy_array(D)"
      ],
      "metadata": {
        "colab": {
          "base_uri": "https://localhost:8080/"
        },
        "id": "cgmRtj7IEWhh",
        "outputId": "c20fed5c-1cd3-4b9a-ad24-242534ff700b"
      },
      "execution_count": null,
      "outputs": [
        {
          "output_type": "execute_result",
          "data": {
            "text/plain": [
              "array([[0. , 0.5, 1. ],\n",
              "       [0. , 0. , 0. ],\n",
              "       [0. , 0. , 0. ]])"
            ]
          },
          "metadata": {},
          "execution_count": 62
        }
      ]
    },
    {
      "cell_type": "code",
      "source": [
        "nx.pagerank(D)"
      ],
      "metadata": {
        "colab": {
          "base_uri": "https://localhost:8080/"
        },
        "id": "YrlTt34qEXnP",
        "outputId": "0a8f7ad8-fda4-4bee-cd4e-1d4fa7fb7dea"
      },
      "execution_count": null,
      "outputs": [
        {
          "output_type": "execute_result",
          "data": {
            "text/plain": [
              "{'A': 0.25974050510584634, 'B': 0.3333333333333332, 'C': 0.40692616156082007}"
            ]
          },
          "metadata": {},
          "execution_count": 63
        }
      ]
    },
    {
      "cell_type": "code",
      "source": [
        "pos = nx.spring_layout(sentence_similarity_graph, seed=999)\n",
        "\n",
        "scores = nx.pagerank(sentence_similarity_graph)\n",
        "\n",
        "scores"
      ],
      "metadata": {
        "colab": {
          "base_uri": "https://localhost:8080/"
        },
        "id": "mKtTsoqKEZLA",
        "outputId": "673cdd7e-7935-4c24-d858-ecb5b6f47468"
      },
      "execution_count": null,
      "outputs": [
        {
          "output_type": "execute_result",
          "data": {
            "text/plain": [
              "{0: 0.014345838003153562,\n",
              " 1: 0.01403251719366217,\n",
              " 2: 0.00985366228542567,\n",
              " 3: 0.01448202271257487,\n",
              " 4: 0.015123071984170523,\n",
              " 5: 0.011320999952322814,\n",
              " 6: 0.012267462168802446,\n",
              " 7: 0.016026539782584198,\n",
              " 8: 0.016216303271004852,\n",
              " 9: 0.015787258796894202,\n",
              " 10: 0.015578477097956317,\n",
              " 11: 0.011214756238463812,\n",
              " 12: 0.0156602277512887,\n",
              " 13: 0.015607380108266133,\n",
              " 14: 0.011218658037647027,\n",
              " 15: 0.014904059312829123,\n",
              " 16: 0.014333394008184503,\n",
              " 17: 0.014863048784356462,\n",
              " 18: 0.014796798035272538,\n",
              " 19: 0.015374941597389365,\n",
              " 20: 0.014403482077949961,\n",
              " 21: 0.012345501841360221,\n",
              " 22: 0.015756219800243037,\n",
              " 23: 0.014225138098993718,\n",
              " 24: 0.015252721760790271,\n",
              " 25: 0.015910997636496605,\n",
              " 26: 0.014810685649435966,\n",
              " 27: 0.015271580924481918,\n",
              " 28: 0.015529954793784856,\n",
              " 29: 0.014361356827414252,\n",
              " 30: 0.01388687419241186,\n",
              " 31: 0.015358844476609351,\n",
              " 32: 0.01594397763390243,\n",
              " 33: 0.015016840229108847,\n",
              " 34: 0.014214291702403613,\n",
              " 35: 0.01608354223822321,\n",
              " 36: 0.013688845182866009,\n",
              " 37: 0.015008694255935632,\n",
              " 38: 0.004992341041628354,\n",
              " 39: 0.01523029321333894,\n",
              " 40: 0.015078601412210938,\n",
              " 41: 0.012918295306023881,\n",
              " 42: 0.01349664148092951,\n",
              " 43: 0.01546230550265677,\n",
              " 44: 0.014483891798633583,\n",
              " 45: 0.015331621031153098,\n",
              " 46: 0.014239915807783488,\n",
              " 47: 0.01511327564502648,\n",
              " 48: 0.00842439148875442,\n",
              " 49: 0.011526035119810138,\n",
              " 50: 0.00808106888378555,\n",
              " 51: 0.01510042648846728,\n",
              " 52: 0.013224027375611947,\n",
              " 53: 0.01603880623740886,\n",
              " 54: 0.012578108260423078,\n",
              " 55: 0.014573396305917547,\n",
              " 56: 0.01527938946417727,\n",
              " 57: 0.013176145440290344,\n",
              " 58: 0.00973186697645811,\n",
              " 59: 0.015952936641973055,\n",
              " 60: 0.00889398748561785,\n",
              " 61: 0.01279812810066704,\n",
              " 62: 0.01433428139360172,\n",
              " 63: 0.009284585916269194,\n",
              " 64: 0.008578122639219409,\n",
              " 65: 0.01590106861988747,\n",
              " 66: 0.014349024325433356,\n",
              " 67: 0.012363844042033802,\n",
              " 68: 0.013079622010306859,\n",
              " 69: 0.007634746820452794,\n",
              " 70: 0.009298747096610882,\n",
              " 71: 0.01515565032959341,\n",
              " 72: 0.005905245521093942,\n",
              " 73: 0.012312198332088522}"
            ]
          },
          "metadata": {},
          "execution_count": 64
        }
      ]
    },
    {
      "cell_type": "code",
      "source": [
        "size = [v * 20000 for v in scores.values()]\n",
        "\n",
        "nx.draw(sentence_similarity_graph,\n",
        "        pos=pos,\n",
        "        node_color='#f86e00',\n",
        "        edge_color='blue',\n",
        "        with_labels=True,\n",
        "        width=1,\n",
        "        node_size=size)"
      ],
      "metadata": {
        "colab": {
          "base_uri": "https://localhost:8080/",
          "height": 516
        },
        "id": "QpKzFoWtEkoJ",
        "outputId": "04a062a6-441a-44cb-b2cc-315526b38943"
      },
      "execution_count": null,
      "outputs": [
        {
          "output_type": "display_data",
          "data": {
            "text/plain": [
              "<Figure size 640x480 with 1 Axes>"
            ],
            "image/png": "[encoded data removed]"
          },
          "metadata": {}
        }
      ]
    },
    {
      "cell_type": "code",
      "source": [
        "ranked_sentence = sorted(((scores[i],s) for i, s in enumerate(sentences)), reverse=True)\n",
        "\n",
        "ranked_sentence"
      ],
      "metadata": {
        "colab": {
          "base_uri": "https://localhost:8080/"
        },
        "id": "-UOWnTFbEmP9",
        "outputId": "666526e8-7a13-4d70-809f-73954d8a2418"
      },
      "execution_count": null,
      "outputs": [
        {
          "output_type": "execute_result",
          "data": {
            "text/plain": [
              "[(0.016216303271004852,\n",
              "  'หรือเว็บไซต์ The Poetry Translation Centre’s http://www.poetrytranslation.org ซึ่งมีบทกลอนของกวีนานาชาติ และบทกลอนของกวีไทย คือ นายอังคาร จัทราทิพย์ กวีซีไรต์เพียงท่านเดียว'),\n",
              " (0.01608354223822321,\n",
              "  'พบว่าความสำคัญของการแปลกลอนคือการคงลำดับของการสื่อความหมาย อารมณ์ และรูปแบบเสียงสัมผัส ซึ่งเรื่องหลังนี้เป็นเรื่องที่นักแปลมักไม่ให้ความสำคัญเพราะเห็นว่าเป็นเรื่องยากหากจะคงเสียงสัมผัสและความหมายไว้ด้วยกัน'),\n",
              " (0.01603880623740886,\n",
              "  'แต่อย่างไรก็ตามการแปลร้อยกรองไทยให้เป็นภาษาอังกฤษ และคงฉันทลักษณ์ไว้ให้ได้มากที่สุด นับเป็นเรื่องที่ท้าทายสำหรับวงการแปลภาษา และท้าทายสำหรับวงการคอมพิวเตอร์'),\n",
              " (0.016026539782584198,\n",
              "  'จากตัวอย่างที่มีการจัดตั้งเว็บไซต์ที่รวบรวมงานของเหล่ากวีนานาชาติและแปลเป็นภาษาอังกฤษ ชื่อเว็บไซต์  http://www.poetryintranslation.com/ ซึ่งมีบทกลอนจากหลายชาติ แต่ไม่มีบทกลอนจากกวีไทย'),\n",
              " (0.015952936641973055,\n",
              "  'ส่วนงานวิจัยด้านคอมพิวเตอร์และภาษาที่เกี่ยวข้องกับร้อยกรองไทย  ยังมีเพียงแค่การสร้างตัวตรวจทานฉันทลักษณ์คำประพันธ์ ซึ่งมีเพียง 3 วิจัย'),\n",
              " (0.01594397763390243,\n",
              "  '2) การแปลบทกลอนซึ่งมีสัมผัส มีรูปแบบเสียง จะทำอย่างไรให้คงไว้ได้ในกลอนที่เป็นภาษาปลายทาง'),\n",
              " (0.015910997636496605,\n",
              "  'เมื่อแปลเป็นภาษาอังกฤษแล้ว กลับกลายเป็นบทกวีธรรมดา หรือกลายเป็นข้อความภาษาอังกฤษที่ไม่มีความลึกซึ้ง ไม่มีเสียงสัมผัสตามฉันทลักษณ์'),\n",
              " (0.01590106861988747,\n",
              "  'ซึ่งอาจเป็นเพราะความซับซ้อนในเชิงฉันทลักษณ์ จังหวะ สัมผัส รวมถึงความหมายของคำไทย และความกำกวมของคำไทย เป็นต้น'),\n",
              " (0.015787258796894202,\n",
              "  'โดยเว็บไซต์นี้ไม่ได้แสดงบทกลอนต้นฉบับ และบทกลอนที่แปลแล้วก็ไม่ได้คงฉันทลักษณ์เดิมไว้'),\n",
              " (0.015756219800243037,\n",
              "  'ศาสตราจารย์เกียรติคุณศรีสุรางค์ พูนทรัพย์ กล่าวว่าการแปลบทกวีนับว่าเป็นการแปลที่ยากที่สุด เพราะบทกวีมีทั้งความหมายนัยตรงและนัยแฝง'),\n",
              " (0.0156602277512887,\n",
              "  'สาเหตุที่ชาวต่างชาติให้ความสนใจค้นหากลอนไทยที่แปลเป็นภาษาอังกฤษ เพราะเมื่อชาวต่างชาติกลุ่มหนึ่งได้เรียนภาษาไทย พวกเขามักจะต้องการเรียนรู้ความหลากหลายในการใช้ภาษาไทยมากกว่าเนื้อหาพื้นฐานที่มีอยู่ในตำราภาษาไทย'),\n",
              " (0.015607380108266133,\n",
              "  'และร้อยกรองคือความสวยงามทางภาษาในมุมมองของชาวต่างชาติ (elernthai-staff,2012)'),\n",
              " (0.015578477097956317,\n",
              "  'จากบทความชื่อ “บทร้อยกรองไทย (Thai Poetry)” ที่พบในเว็บไซต์ http://elearnthai.com/ กล่าวถึงการที่ชาวต่างชาติได้ให้ความสนใจการค้นหาบทร้อยกรองไทยบนสื่อออนไลน์ แต่เป็นเรื่องยากมากที่จะหาได้พบอันเนื่องมากจากปัญหาในเรื่องของการแปล'),\n",
              " (0.015529954793784856,\n",
              "  'ได้หยิบยกประเด็นต่างๆเกี่ยวกับการแปลบทกวีจากภาษาต้นฉบับไปเป็นภาษาที่สอง'),\n",
              " (0.01546230550265677,\n",
              "  'หากสามารถถ่ายทอดบทกลอนภาษาไทยเป็นภาษาอังกฤษได้ ในรูปของฉันทลักษณ์แบบไทย จะเป็นเรื่องที่น่ายินดีอย่างยิ่ง'),\n",
              " (0.015374941597389365,\n",
              "  'เนื่องจากร้อยกรองเป็นงานเขียนที่มีคุณลักษณะในเรื่องของเสียง (Sound based)  วากยสัมพันธ์ (Syntactic)  หรือโครงสร้าง (Structure) และสิ่งที่เรียกว่าปฏิบัตินิยม (Pragmatic) (Francis R. Jones, 2011)'),\n",
              " (0.015358844476609351,\n",
              "  '1) การแปลบทกลอน ควรแปลโดยคงลำดับการเล่าเรื่องของเจ้าของบทกลอน หรือควรแปลในลักษณะถอดความ และ'),\n",
              " (0.015331621031153098,\n",
              "  'หากเราแปลกลอนไทยเป็นภาษาอังกฤษแบบประโยคร้อยแก้วธรรมดา แม้จะเข้าใจความหมายได้ชัดเจนกว่า แต่ก็จะไม่มีใครรู้จักรูปแบบความสวยงามของกลอนไทย'),\n",
              " (0.01527938946417727,\n",
              "  'นอกจากนี้ยังมีงานวิจัยอีกกลุ่มหนึ่งที่สร้างบทกลอนญี่ปุ่น(ไฮกุ)  สร้างกลอนจีน ในรูปของภาษาอังกฤษ'),\n",
              " (0.015271580924481918,\n",
              "  'การเสวนาเรื่องปัญหาของการแปลบทกลอนในการประชุมกวีโลกประจำปี 2015  (9th World poetry festival 2015) ซึ่งจัดโดยกระทวงวัฒนธรรมอินเดีย ที่เมืองโกลกัตตา เบงกอลตะวันตก ประเทศอินเดีย'),\n",
              " (0.015252721760790271,\n",
              "  'ไม่เฉพาะความหมายเท่านั้น การแปลบทกวีไทยเป็นภาษาอังกฤษซึ่งบทกวีบางบทเน้นเสียงและสัมผัสที่ไพเราะ'),\n",
              " (0.01523029321333894,\n",
              "  'นักกลอนต่างชาติต่างชื่นชอบในท่วงทำนองและสัมผัสของกลอนแปดหรือกลอนสุภาพ แม้จะยังไม่เข้าใจความหมาย'),\n",
              " (0.01515565032959341,\n",
              "  'เพื่อส่งเสริมให้รูปแบบและความสละสลวยของกลอนไทยได้รับการเผยแพร่มากขึ้นในระดับสากล'),\n",
              " (0.015123071984170523,\n",
              "  'และมีงานแปลร้อยกรองจีน ร้อยกรองญี่ปุ่น ร้อยกรองอินเดีย จำนวนมากที่แปลเป็นภาษาอังกฤษ'),\n",
              " (0.01511327564502648,\n",
              "  'เครื่องมือแปลภาษาถูกสร้างและพัฒนาขึ้นและเผยแพร่การใช้งานเป็นจำนวนมากโดยมุ่งเน้นการแปลข่าว แปลเอกสาร แปลประโยค'),\n",
              " (0.01510042648846728,\n",
              "  'เนื่องจากร้อยกรองเป็นภาษาธรรมชาติที่แม้จะถูกเขียนขึ้นอย่างมีแบบฟอร์ม แต่มีสัมผัสโทนเสียง  และจังหวะ'),\n",
              " (0.015078601412210938,\n",
              "  'เช่นเดียวกันกับนักกลอนท่านอื่นๆที่อ่านกลอนภาษาเบงกลีเป็นทำนอง'),\n",
              " (0.015016840229108847,\n",
              "  'นอกจากนี้ ผู้วิจัยได้สัมภาษณ์นักกลอนชาวอิสราเอล และชาวอเมริกัน เกี่ยวกับมุมมองความคิดเห็นที่มีต่อการแปลบทกลอนจากภาษาต้นฉบับซึ่งมีฉันทลักษณ์   มีรูปแบบของเสียง'),\n",
              " (0.015008694255935632,\n",
              "  '“ความสำคัญของการแปลกลอนอยู่ที่ความหมายและรูปแบบของกลอนที่ทำให้เกิดความไพเราะ ดังเช่นกลอนภาษาไทยที่คุณอ่าน ฉันยังไม่รู้ว่าคุณหมายถึงอะไรแต่ทำนอง และเสียงสัมผัสนั้นไพเราะมาก”'),\n",
              " (0.014904059312829123,\n",
              "  'งานประพันธ์ประเภทของร้อยกรองไทย ประกอบด้วย โคลง ฉันท์ กาพย์ กลอน และ ร่าย'),\n",
              " (0.014863048784356462,\n",
              "  'โดยทรงแปลเป็นภาษาอังกฤษทั้งเรื่อง เมื่อปี พ.ศ. 2495 เพื่อเผยแพร่ให้นานาประเทศได้ชื่นชม และศึกษา'),\n",
              " (0.014810685649435966,\n",
              "  'ศาสตราจารย์เกียรติคุณศรีสุรางค์ พูนทรัพย์ ได้แสดงทัศนะว่า “บทกวีที่ดีต้องดีทั้งเนื้อหาและวรรณศิลป์” (ศรีสุรางค์พูลทรัพย์, 2551 : 20)'),\n",
              " (0.014796798035272538,\n",
              "  'การแปลร้อยกรองนับว่ามีความแตกต่างอย่างยิ่งจากการแปลงานเขียนประเภทอื่น'),\n",
              " (0.014573396305917547,\n",
              "  'มีงานวิจัยที่แปลร้อยกรองจากภาษาฝรั่งเศส จีน ญี่ปุ่น สเปน ปากีสถาน ไปเป็นภาษาอังกฤษ และแปลจากภาษาอังกฤษ กลับไปเป็นภาษาเหล่านั้น'),\n",
              " (0.014483891798633583,\n",
              "  'เพราะนักกลอนนานาชาติจะได้รับรู้ถึงความงดงามของฉันทลักษณ์ไทย'),\n",
              " (0.01448202271257487,\n",
              "  'งานประพันธ์ร้อยกรองจีน ร้อยกรองญี่ปุ่น ร้อยกรองอินเดีย ร้อยกรองภาษาอังกฤษ ได้รับความนิยมอย่างแพร่หลายในนานาประเทศ'),\n",
              " (0.014403482077949961,\n",
              "  'ทำให้การแปลร้อยกรองมีสิ่งที่ต้องคำนึงถึงมากกว่าเพียงแค่ความหมาย'),\n",
              " (0.014361356827414252, 'รวมทั้งการแปลจากภาษาที่สองไปยังภาษาปลายทางใหม่'),\n",
              " (0.014349024325433356,\n",
              "  'งานวิจัยนี้จึงนำเสนอแนวคิด และขั้นตอนวิธีต้นแบบตัวแปลร้อยกรองไทยเป็นภาษาอังกฤษแบบยคงฉันทลักษณ์ร้อยกรองไทยและคงความหมาย'),\n",
              " (0.014345838003153562,\n",
              "  'สัญลักษณ์ทางศิลปะ ไม่ว่าจะเป็นงานเขียนร้อยแก้ว ร้อยกรอง ดนตรี การร่ายรำ ภาพวาด สถาปัตยกรรม คือที่สิ่งบ่งบอกถึงความมีวัฒนธรรมของแต่ละชนชาติที่สืบเนื่องมายาวนาน'),\n",
              " (0.01433428139360172,\n",
              "  'แต่งานร้อยกรองของไทยโดยเฉพาะ “กลอนแปด” ที่มีทั้งสัมผัสนอก สัมผัสใน สัมผัสระหว่างบท'),\n",
              " (0.014333394008184503,\n",
              "  'ซึ่งร้อยกรองเรื่อง “พระอภัยมณี” ประพันธ์โดยกวีเอกของไทย “พระสุนทรโวหาร (สุนทรภู่)” ผู้ได้รับการยกย่องให้เป็นกวีเอกของโลก ได้รับการแปลโดย พระวรวงศ์เธอ พระองค์เจ้าเปรมบุรฉัตร'),\n",
              " (0.014239915807783488,\n",
              "  'งานวิจัยทางวิทยาการคอมพิวเตอร์และเทคโนโลยีสารสนเทศที่เกี่ยวข้องกับการแปลภาษา หรือสร้างเครื่องแปลภาษา ล้วนมีเป้าหมายในการแปลภาษาจากภาษาหนึ่งไปยังอีกภาษาหนึ่ง'),\n",
              " (0.014225138098993718,\n",
              "  'การเปลี่ยนคำจากภาษาหนึ่งเป็นอีกภาษาหนึ่งอาจทำให้เสียความหมายแฝงไป'),\n",
              " (0.014214291702403613,\n",
              "  'เมื่อแปลไปเป็นภาษาปลายทางสิ่งใดเป็นสิ่งที่นักแปลซึ่งเป็นกวีให้ความสำคัญ'),\n",
              " (0.01403251719366217,\n",
              "  'ซึ่งร้อยกรองนับเป็นสุนทรียศาสตร์แขนงหนึ่งที่บ่งบอกถึงเรื่องราว และถ่ายทอดอารมณ์ ความรู้สึกนึกคิดของผู้คนในชนชาตินั้นและถูกใช้เป็นสื่อในการเผยแพร่ศิลปะและวัฒนธรรมของชนชาติตน'),\n",
              " (0.01388687419241186,\n",
              "  'ประเด็นที่เป็นข้อถกเถียงในการเสวนาสรุปได้เป็น 2 ประเด็นหลักคือ'),\n",
              " (0.013688845182866009,\n",
              "  'กวีชาวอเมริกันนักศึกษาปริญญาเอกด้านภาษาจีนผู้เขียนบทกวีจีนกล่าวว่า'),\n",
              " (0.01349664148092951, 'นายกสมาคมกวีร่วมสมัยกล่าวว่า'),\n",
              " (0.013224027375611947,\n",
              "  'แม้กระทั่งศูนย์วิจัยของบริษัทกูเกิ้ลก็ให้ความสนใจกับการสร้างตัวแปลร้อยกรองด้วย'),\n",
              " (0.013176145440290344,\n",
              "  'ซึ่งทำให้กลอนรูปแบบของแต่ละประเทศเหล่านั้นถูกนำเสนอในสากล'),\n",
              " (0.013079622010306859,\n",
              "  'ซึ่งเป็นคำประพันธ์ร้อยกรองชนิดที่ได้รับความนิยมกันทั่วไป'),\n",
              " (0.012918295306023881,\n",
              "  'แม้จะไม่เข้าใจความหมายแต่ผู้ฟังก็สัมผัสได้ถึงความไพเราะ'),\n",
              " (0.01279812810066704, 'เห็นได้ว่าถึงแม้กวีเอกของไทยจะเป็นกวีเอกของโลก'),\n",
              " (0.012578108260423078,\n",
              "  'งานวิจัยด้านวิทยาการคอมพิวเตอร์และเทคโนโลยีสารสนเทศเกี่ยวกับการแปลร้อยกรองในปัจจุบันนอกจากงานวิจัยของกูเกิ้ลแล้วพบว่า'),\n",
              " (0.012363844042033802,\n",
              "  'โดยร้อยกรองที่ใช้ในงานวิจัยนี้คือ ร้อยกรองประเภท “กลอนแปด” “กลอนดอกสร้อย” “กลอนสักวา”'),\n",
              " (0.012345501841360221, ''),\n",
              " (0.012312198332088522,\n",
              "  'สร้างเครื่องมือทางเทคโนโลยีที่ช่วยสืบสานคุณค่า และมรดกทางวัฒนธรรมของไทยแขนงนี้ให้ดำรงอยู่ควบคู่กับความทันสมัยของเทคโนโลยี'),\n",
              " (0.012267462168802446,\n",
              "  'การเผยแพร่ผ่านสื่อออนไลน์หรือโซเชี่ยลมีเดียจึงเป็นช่องทางที่ได้รับความนิยม'),\n",
              " (0.011526035119810138,\n",
              "  'และหากมองงานวิจัยกลุ่มแปลภาษาที่เกี่ยวข้องกับงานเขียน'),\n",
              " (0.011320999952322814,\n",
              "  'และเพื่อเป็นการเผยแพร่บทกวีทั้งต้นฉบับและฉบับแปลในยุคที่เทคโนโลยีสารสนเทศเข้ามามีบทบาท'),\n",
              " (0.011218658037647027, 'ร้อยกรองของไทยคือวรรณศิลป์ที่ถ่ายทอดความเป็นไทย'),\n",
              " (0.011214756238463812, 'ตามทัศนะของเจ้าของบทความเชื่อว่า'),\n",
              " (0.00985366228542567, 'ดังเช่นที่เราพบว่า'),\n",
              " (0.00973186697645811, 'เป็นการส่งเสริมและเผยแพร่วัฒนธรรมโดยผ่านเทคโนโลยี'),\n",
              " (0.009298747096610882, 'และสามารถสื่อได้อย่างไพเราะ'),\n",
              " (0.009284585916269194, 'มีความไพเราะจนเป็นที่ยอมรับไปทั่วโลก'),\n",
              " (0.00889398748561785, 'โดยงานวิจัยเดิมของผู้วิจัยก็จัดอยู่ในกลุ่มนี้'),\n",
              " (0.008578122639219409,\n",
              "  'กลับไม่ถูกนำมาเป็นอินพุทที่นักวิจัยด้านคอมพิวเตอร์หยิบมาแปล'),\n",
              " (0.00842439148875442, 'รวมถึงเครื่องมือแปลภาษาของนักวิจัยไทยเองก็เช่นกัน'),\n",
              " (0.00808106888378555,\n",
              "  'พบว่า มีงานวิจัยที่แปลทั้งนวนิยาย เพลง และโดยเฉพาะร้อยกรองซึ่งเป็นงานศิลปะที่นักวิจัยผู้สร้างเครื่องมือแปลภาษาให้ความสนใจ'),\n",
              " (0.007634746820452794,\n",
              "  'เพราะเป็นร้อยกรองที่มีความเรียบง่ายต่อการสื่อความหมาย'),\n",
              " (0.005905245521093942,\n",
              "  'และเพื่อสร้างต้นแบบของเครื่องมือที่จะได้ให้ผู้วิจัยอื่นๆได้นำต้นแบบแนวคิดนี้ไปต่อยอด'),\n",
              " (0.004992341041628354,\n",
              "  'เมื่อผู้วิจัยได้รับเกียรติให้อ่านบทกลอนและอ่านเป็นทำนองเสนาะ')]"
            ]
          },
          "metadata": {},
          "execution_count": 66
        }
      ]
    },
    {
      "cell_type": "code",
      "source": [
        "ranked_sentence[0][0]"
      ],
      "metadata": {
        "colab": {
          "base_uri": "https://localhost:8080/"
        },
        "id": "x9f3gonNE92R",
        "outputId": "bbdef5be-33bb-48cd-ac98-40a87bdc3abc"
      },
      "execution_count": null,
      "outputs": [
        {
          "output_type": "execute_result",
          "data": {
            "text/plain": [
              "0.016216303271004852"
            ]
          },
          "metadata": {},
          "execution_count": 67
        }
      ]
    },
    {
      "cell_type": "code",
      "source": [
        "ranked_sentence[0][1]"
      ],
      "metadata": {
        "colab": {
          "base_uri": "https://localhost:8080/",
          "height": 53
        },
        "id": "-p7CN5oOE_Dd",
        "outputId": "334dccd3-8650-4474-d838-679a1f2fedec"
      },
      "execution_count": null,
      "outputs": [
        {
          "output_type": "execute_result",
          "data": {
            "text/plain": [
              "'หรือเว็บไซต์ The Poetry Translation Centre’s http://www.poetrytranslation.org ซึ่งมีบทกลอนของกวีนานาชาติ และบทกลอนของกวีไทย คือ นายอังคาร จัทราทิพย์ กวีซีไรต์เพียงท่านเดียว'"
            ],
            "application/vnd.google.colaboratory.intrinsic+json": {
              "type": "string"
            }
          },
          "metadata": {},
          "execution_count": 68
        }
      ]
    },
    {
      "cell_type": "code",
      "source": [
        "top_n = round(sentence_size*0.2)\n",
        "\n",
        "top_n"
      ],
      "metadata": {
        "colab": {
          "base_uri": "https://localhost:8080/"
        },
        "id": "zt9NdOY5FKez",
        "outputId": "d0f4b829-a463-43bc-82ce-845696b9ff57"
      },
      "execution_count": null,
      "outputs": [
        {
          "output_type": "execute_result",
          "data": {
            "text/plain": [
              "15"
            ]
          },
          "metadata": {},
          "execution_count": 69
        }
      ]
    },
    {
      "cell_type": "code",
      "source": [
        "sum_text = ''\n",
        "for i in range(top_n):\n",
        "  sum_text = sum_text + '\\n' + ranked_sentence[i][1]"
      ],
      "metadata": {
        "id": "FpbSpQv-FQY5"
      },
      "execution_count": null,
      "outputs": []
    },
    {
      "cell_type": "code",
      "source": [
        "sum_list = []\n",
        "for i in range(top_n):\n",
        "  sum_list.append(ranked_sentence[i][1])"
      ],
      "metadata": {
        "id": "B6WesVkgFSPq"
      },
      "execution_count": null,
      "outputs": []
    },
    {
      "cell_type": "code",
      "source": [
        "original_text = ''\n",
        "for st in sentences:\n",
        "  original_text = original_text + '\\n' + st"
      ],
      "metadata": {
        "id": "yPkNBUM5FTkx"
      },
      "execution_count": null,
      "outputs": []
    },
    {
      "cell_type": "code",
      "source": [
        "print('\\nSummarize Text: \\n', sum_text)"
      ],
      "metadata": {
        "colab": {
          "base_uri": "https://localhost:8080/"
        },
        "id": "olOxzeqRFVH8",
        "outputId": "3731e5a7-b927-4449-9116-2e084a2f1413"
      },
      "execution_count": null,
      "outputs": [
        {
          "output_type": "stream",
          "name": "stdout",
          "text": [
            "\n",
            "Summarize Text: \n",
            " \n",
            "หรือเว็บไซต์ The Poetry Translation Centre’s http://www.poetrytranslation.org ซึ่งมีบทกลอนของกวีนานาชาติ และบทกลอนของกวีไทย คือ นายอังคาร จัทราทิพย์ กวีซีไรต์เพียงท่านเดียว\n",
            "พบว่าความสำคัญของการแปลกลอนคือการคงลำดับของการสื่อความหมาย อารมณ์ และรูปแบบเสียงสัมผัส ซึ่งเรื่องหลังนี้เป็นเรื่องที่นักแปลมักไม่ให้ความสำคัญเพราะเห็นว่าเป็นเรื่องยากหากจะคงเสียงสัมผัสและความหมายไว้ด้วยกัน\n",
            "แต่อย่างไรก็ตามการแปลร้อยกรองไทยให้เป็นภาษาอังกฤษ และคงฉันทลักษณ์ไว้ให้ได้มากที่สุด นับเป็นเรื่องที่ท้าทายสำหรับวงการแปลภาษา และท้าทายสำหรับวงการคอมพิวเตอร์\n",
            "จากตัวอย่างที่มีการจัดตั้งเว็บไซต์ที่รวบรวมงานของเหล่ากวีนานาชาติและแปลเป็นภาษาอังกฤษ ชื่อเว็บไซต์  http://www.poetryintranslation.com/ ซึ่งมีบทกลอนจากหลายชาติ แต่ไม่มีบทกลอนจากกวีไทย\n",
            "ส่วนงานวิจัยด้านคอมพิวเตอร์และภาษาที่เกี่ยวข้องกับร้อยกรองไทย  ยังมีเพียงแค่การสร้างตัวตรวจทานฉันทลักษณ์คำประพันธ์ ซึ่งมีเพียง 3 วิจัย\n",
            "2) การแปลบทกลอนซึ่งมีสัมผัส มีรูปแบบเสียง จะทำอย่างไรให้คงไว้ได้ในกลอนที่เป็นภาษาปลายทาง\n",
            "เมื่อแปลเป็นภาษาอังกฤษแล้ว กลับกลายเป็นบทกวีธรรมดา หรือกลายเป็นข้อความภาษาอังกฤษที่ไม่มีความลึกซึ้ง ไม่มีเสียงสัมผัสตามฉันทลักษณ์\n",
            "ซึ่งอาจเป็นเพราะความซับซ้อนในเชิงฉันทลักษณ์ จังหวะ สัมผัส รวมถึงความหมายของคำไทย และความกำกวมของคำไทย เป็นต้น\n",
            "โดยเว็บไซต์นี้ไม่ได้แสดงบทกลอนต้นฉบับ และบทกลอนที่แปลแล้วก็ไม่ได้คงฉันทลักษณ์เดิมไว้\n",
            "ศาสตราจารย์เกียรติคุณศรีสุรางค์ พูนทรัพย์ กล่าวว่าการแปลบทกวีนับว่าเป็นการแปลที่ยากที่สุด เพราะบทกวีมีทั้งความหมายนัยตรงและนัยแฝง\n",
            "สาเหตุที่ชาวต่างชาติให้ความสนใจค้นหากลอนไทยที่แปลเป็นภาษาอังกฤษ เพราะเมื่อชาวต่างชาติกลุ่มหนึ่งได้เรียนภาษาไทย พวกเขามักจะต้องการเรียนรู้ความหลากหลายในการใช้ภาษาไทยมากกว่าเนื้อหาพื้นฐานที่มีอยู่ในตำราภาษาไทย\n",
            "และร้อยกรองคือความสวยงามทางภาษาในมุมมองของชาวต่างชาติ (elernthai-staff,2012)\n",
            "จากบทความชื่อ “บทร้อยกรองไทย (Thai Poetry)” ที่พบในเว็บไซต์ http://elearnthai.com/ กล่าวถึงการที่ชาวต่างชาติได้ให้ความสนใจการค้นหาบทร้อยกรองไทยบนสื่อออนไลน์ แต่เป็นเรื่องยากมากที่จะหาได้พบอันเนื่องมากจากปัญหาในเรื่องของการแปล\n",
            "ได้หยิบยกประเด็นต่างๆเกี่ยวกับการแปลบทกวีจากภาษาต้นฉบับไปเป็นภาษาที่สอง\n",
            "หากสามารถถ่ายทอดบทกลอนภาษาไทยเป็นภาษาอังกฤษได้ ในรูปของฉันทลักษณ์แบบไทย จะเป็นเรื่องที่น่ายินดีอย่างยิ่ง\n"
          ]
        }
      ]
    },
    {
      "cell_type": "code",
      "source": [
        "print('\\nOriginal Text: \\n', original_text)"
      ],
      "metadata": {
        "colab": {
          "base_uri": "https://localhost:8080/"
        },
        "id": "eFZQZYztFWpy",
        "outputId": "35830a99-f7ae-402e-d229-f33ba77b8783"
      },
      "execution_count": null,
      "outputs": [
        {
          "output_type": "stream",
          "name": "stdout",
          "text": [
            "\n",
            "Original Text: \n",
            " \n",
            "สัญลักษณ์ทางศิลปะ ไม่ว่าจะเป็นงานเขียนร้อยแก้ว ร้อยกรอง ดนตรี การร่ายรำ ภาพวาด สถาปัตยกรรม คือที่สิ่งบ่งบอกถึงความมีวัฒนธรรมของแต่ละชนชาติที่สืบเนื่องมายาวนาน\n",
            "ซึ่งร้อยกรองนับเป็นสุนทรียศาสตร์แขนงหนึ่งที่บ่งบอกถึงเรื่องราว และถ่ายทอดอารมณ์ ความรู้สึกนึกคิดของผู้คนในชนชาตินั้นและถูกใช้เป็นสื่อในการเผยแพร่ศิลปะและวัฒนธรรมของชนชาติตน\n",
            "ดังเช่นที่เราพบว่า\n",
            "งานประพันธ์ร้อยกรองจีน ร้อยกรองญี่ปุ่น ร้อยกรองอินเดีย ร้อยกรองภาษาอังกฤษ ได้รับความนิยมอย่างแพร่หลายในนานาประเทศ\n",
            "และมีงานแปลร้อยกรองจีน ร้อยกรองญี่ปุ่น ร้อยกรองอินเดีย จำนวนมากที่แปลเป็นภาษาอังกฤษ\n",
            "และเพื่อเป็นการเผยแพร่บทกวีทั้งต้นฉบับและฉบับแปลในยุคที่เทคโนโลยีสารสนเทศเข้ามามีบทบาท\n",
            "การเผยแพร่ผ่านสื่อออนไลน์หรือโซเชี่ยลมีเดียจึงเป็นช่องทางที่ได้รับความนิยม\n",
            "จากตัวอย่างที่มีการจัดตั้งเว็บไซต์ที่รวบรวมงานของเหล่ากวีนานาชาติและแปลเป็นภาษาอังกฤษ ชื่อเว็บไซต์  http://www.poetryintranslation.com/ ซึ่งมีบทกลอนจากหลายชาติ แต่ไม่มีบทกลอนจากกวีไทย\n",
            "หรือเว็บไซต์ The Poetry Translation Centre’s http://www.poetrytranslation.org ซึ่งมีบทกลอนของกวีนานาชาติ และบทกลอนของกวีไทย คือ นายอังคาร จัทราทิพย์ กวีซีไรต์เพียงท่านเดียว\n",
            "โดยเว็บไซต์นี้ไม่ได้แสดงบทกลอนต้นฉบับ และบทกลอนที่แปลแล้วก็ไม่ได้คงฉันทลักษณ์เดิมไว้\n",
            "จากบทความชื่อ “บทร้อยกรองไทย (Thai Poetry)” ที่พบในเว็บไซต์ http://elearnthai.com/ กล่าวถึงการที่ชาวต่างชาติได้ให้ความสนใจการค้นหาบทร้อยกรองไทยบนสื่อออนไลน์ แต่เป็นเรื่องยากมากที่จะหาได้พบอันเนื่องมากจากปัญหาในเรื่องของการแปล\n",
            "ตามทัศนะของเจ้าของบทความเชื่อว่า\n",
            "สาเหตุที่ชาวต่างชาติให้ความสนใจค้นหากลอนไทยที่แปลเป็นภาษาอังกฤษ เพราะเมื่อชาวต่างชาติกลุ่มหนึ่งได้เรียนภาษาไทย พวกเขามักจะต้องการเรียนรู้ความหลากหลายในการใช้ภาษาไทยมากกว่าเนื้อหาพื้นฐานที่มีอยู่ในตำราภาษาไทย\n",
            "และร้อยกรองคือความสวยงามทางภาษาในมุมมองของชาวต่างชาติ (elernthai-staff,2012)\n",
            "ร้อยกรองของไทยคือวรรณศิลป์ที่ถ่ายทอดความเป็นไทย\n",
            "งานประพันธ์ประเภทของร้อยกรองไทย ประกอบด้วย โคลง ฉันท์ กาพย์ กลอน และ ร่าย\n",
            "ซึ่งร้อยกรองเรื่อง “พระอภัยมณี” ประพันธ์โดยกวีเอกของไทย “พระสุนทรโวหาร (สุนทรภู่)” ผู้ได้รับการยกย่องให้เป็นกวีเอกของโลก ได้รับการแปลโดย พระวรวงศ์เธอ พระองค์เจ้าเปรมบุรฉัตร\n",
            "โดยทรงแปลเป็นภาษาอังกฤษทั้งเรื่อง เมื่อปี พ.ศ. 2495 เพื่อเผยแพร่ให้นานาประเทศได้ชื่นชม และศึกษา\n",
            "การแปลร้อยกรองนับว่ามีความแตกต่างอย่างยิ่งจากการแปลงานเขียนประเภทอื่น\n",
            "เนื่องจากร้อยกรองเป็นงานเขียนที่มีคุณลักษณะในเรื่องของเสียง (Sound based)  วากยสัมพันธ์ (Syntactic)  หรือโครงสร้าง (Structure) และสิ่งที่เรียกว่าปฏิบัตินิยม (Pragmatic) (Francis R. Jones, 2011)\n",
            "ทำให้การแปลร้อยกรองมีสิ่งที่ต้องคำนึงถึงมากกว่าเพียงแค่ความหมาย\n",
            "\n",
            "ศาสตราจารย์เกียรติคุณศรีสุรางค์ พูนทรัพย์ กล่าวว่าการแปลบทกวีนับว่าเป็นการแปลที่ยากที่สุด เพราะบทกวีมีทั้งความหมายนัยตรงและนัยแฝง\n",
            "การเปลี่ยนคำจากภาษาหนึ่งเป็นอีกภาษาหนึ่งอาจทำให้เสียความหมายแฝงไป\n",
            "ไม่เฉพาะความหมายเท่านั้น การแปลบทกวีไทยเป็นภาษาอังกฤษซึ่งบทกวีบางบทเน้นเสียงและสัมผัสที่ไพเราะ\n",
            "เมื่อแปลเป็นภาษาอังกฤษแล้ว กลับกลายเป็นบทกวีธรรมดา หรือกลายเป็นข้อความภาษาอังกฤษที่ไม่มีความลึกซึ้ง ไม่มีเสียงสัมผัสตามฉันทลักษณ์\n",
            "ศาสตราจารย์เกียรติคุณศรีสุรางค์ พูนทรัพย์ ได้แสดงทัศนะว่า “บทกวีที่ดีต้องดีทั้งเนื้อหาและวรรณศิลป์” (ศรีสุรางค์พูลทรัพย์, 2551 : 20)\n",
            "การเสวนาเรื่องปัญหาของการแปลบทกลอนในการประชุมกวีโลกประจำปี 2015  (9th World poetry festival 2015) ซึ่งจัดโดยกระทวงวัฒนธรรมอินเดีย ที่เมืองโกลกัตตา เบงกอลตะวันตก ประเทศอินเดีย\n",
            "ได้หยิบยกประเด็นต่างๆเกี่ยวกับการแปลบทกวีจากภาษาต้นฉบับไปเป็นภาษาที่สอง\n",
            "รวมทั้งการแปลจากภาษาที่สองไปยังภาษาปลายทางใหม่\n",
            "ประเด็นที่เป็นข้อถกเถียงในการเสวนาสรุปได้เป็น 2 ประเด็นหลักคือ\n",
            "1) การแปลบทกลอน ควรแปลโดยคงลำดับการเล่าเรื่องของเจ้าของบทกลอน หรือควรแปลในลักษณะถอดความ และ\n",
            "2) การแปลบทกลอนซึ่งมีสัมผัส มีรูปแบบเสียง จะทำอย่างไรให้คงไว้ได้ในกลอนที่เป็นภาษาปลายทาง\n",
            "นอกจากนี้ ผู้วิจัยได้สัมภาษณ์นักกลอนชาวอิสราเอล และชาวอเมริกัน เกี่ยวกับมุมมองความคิดเห็นที่มีต่อการแปลบทกลอนจากภาษาต้นฉบับซึ่งมีฉันทลักษณ์   มีรูปแบบของเสียง\n",
            "เมื่อแปลไปเป็นภาษาปลายทางสิ่งใดเป็นสิ่งที่นักแปลซึ่งเป็นกวีให้ความสำคัญ\n",
            "พบว่าความสำคัญของการแปลกลอนคือการคงลำดับของการสื่อความหมาย อารมณ์ และรูปแบบเสียงสัมผัส ซึ่งเรื่องหลังนี้เป็นเรื่องที่นักแปลมักไม่ให้ความสำคัญเพราะเห็นว่าเป็นเรื่องยากหากจะคงเสียงสัมผัสและความหมายไว้ด้วยกัน\n",
            "กวีชาวอเมริกันนักศึกษาปริญญาเอกด้านภาษาจีนผู้เขียนบทกวีจีนกล่าวว่า\n",
            "“ความสำคัญของการแปลกลอนอยู่ที่ความหมายและรูปแบบของกลอนที่ทำให้เกิดความไพเราะ ดังเช่นกลอนภาษาไทยที่คุณอ่าน ฉันยังไม่รู้ว่าคุณหมายถึงอะไรแต่ทำนอง และเสียงสัมผัสนั้นไพเราะมาก”\n",
            "เมื่อผู้วิจัยได้รับเกียรติให้อ่านบทกลอนและอ่านเป็นทำนองเสนาะ\n",
            "นักกลอนต่างชาติต่างชื่นชอบในท่วงทำนองและสัมผัสของกลอนแปดหรือกลอนสุภาพ แม้จะยังไม่เข้าใจความหมาย\n",
            "เช่นเดียวกันกับนักกลอนท่านอื่นๆที่อ่านกลอนภาษาเบงกลีเป็นทำนอง\n",
            "แม้จะไม่เข้าใจความหมายแต่ผู้ฟังก็สัมผัสได้ถึงความไพเราะ\n",
            "นายกสมาคมกวีร่วมสมัยกล่าวว่า\n",
            "หากสามารถถ่ายทอดบทกลอนภาษาไทยเป็นภาษาอังกฤษได้ ในรูปของฉันทลักษณ์แบบไทย จะเป็นเรื่องที่น่ายินดีอย่างยิ่ง\n",
            "เพราะนักกลอนนานาชาติจะได้รับรู้ถึงความงดงามของฉันทลักษณ์ไทย\n",
            "หากเราแปลกลอนไทยเป็นภาษาอังกฤษแบบประโยคร้อยแก้วธรรมดา แม้จะเข้าใจความหมายได้ชัดเจนกว่า แต่ก็จะไม่มีใครรู้จักรูปแบบความสวยงามของกลอนไทย\n",
            "งานวิจัยทางวิทยาการคอมพิวเตอร์และเทคโนโลยีสารสนเทศที่เกี่ยวข้องกับการแปลภาษา หรือสร้างเครื่องแปลภาษา ล้วนมีเป้าหมายในการแปลภาษาจากภาษาหนึ่งไปยังอีกภาษาหนึ่ง\n",
            "เครื่องมือแปลภาษาถูกสร้างและพัฒนาขึ้นและเผยแพร่การใช้งานเป็นจำนวนมากโดยมุ่งเน้นการแปลข่าว แปลเอกสาร แปลประโยค\n",
            "รวมถึงเครื่องมือแปลภาษาของนักวิจัยไทยเองก็เช่นกัน\n",
            "และหากมองงานวิจัยกลุ่มแปลภาษาที่เกี่ยวข้องกับงานเขียน\n",
            "พบว่า มีงานวิจัยที่แปลทั้งนวนิยาย เพลง และโดยเฉพาะร้อยกรองซึ่งเป็นงานศิลปะที่นักวิจัยผู้สร้างเครื่องมือแปลภาษาให้ความสนใจ\n",
            "เนื่องจากร้อยกรองเป็นภาษาธรรมชาติที่แม้จะถูกเขียนขึ้นอย่างมีแบบฟอร์ม แต่มีสัมผัสโทนเสียง  และจังหวะ\n",
            "แม้กระทั่งศูนย์วิจัยของบริษัทกูเกิ้ลก็ให้ความสนใจกับการสร้างตัวแปลร้อยกรองด้วย\n",
            "แต่อย่างไรก็ตามการแปลร้อยกรองไทยให้เป็นภาษาอังกฤษ และคงฉันทลักษณ์ไว้ให้ได้มากที่สุด นับเป็นเรื่องที่ท้าทายสำหรับวงการแปลภาษา และท้าทายสำหรับวงการคอมพิวเตอร์\n",
            "งานวิจัยด้านวิทยาการคอมพิวเตอร์และเทคโนโลยีสารสนเทศเกี่ยวกับการแปลร้อยกรองในปัจจุบันนอกจากงานวิจัยของกูเกิ้ลแล้วพบว่า\n",
            "มีงานวิจัยที่แปลร้อยกรองจากภาษาฝรั่งเศส จีน ญี่ปุ่น สเปน ปากีสถาน ไปเป็นภาษาอังกฤษ และแปลจากภาษาอังกฤษ กลับไปเป็นภาษาเหล่านั้น\n",
            "นอกจากนี้ยังมีงานวิจัยอีกกลุ่มหนึ่งที่สร้างบทกลอนญี่ปุ่น(ไฮกุ)  สร้างกลอนจีน ในรูปของภาษาอังกฤษ\n",
            "ซึ่งทำให้กลอนรูปแบบของแต่ละประเทศเหล่านั้นถูกนำเสนอในสากล\n",
            "เป็นการส่งเสริมและเผยแพร่วัฒนธรรมโดยผ่านเทคโนโลยี\n",
            "ส่วนงานวิจัยด้านคอมพิวเตอร์และภาษาที่เกี่ยวข้องกับร้อยกรองไทย  ยังมีเพียงแค่การสร้างตัวตรวจทานฉันทลักษณ์คำประพันธ์ ซึ่งมีเพียง 3 วิจัย\n",
            "โดยงานวิจัยเดิมของผู้วิจัยก็จัดอยู่ในกลุ่มนี้\n",
            "เห็นได้ว่าถึงแม้กวีเอกของไทยจะเป็นกวีเอกของโลก\n",
            "แต่งานร้อยกรองของไทยโดยเฉพาะ “กลอนแปด” ที่มีทั้งสัมผัสนอก สัมผัสใน สัมผัสระหว่างบท\n",
            "มีความไพเราะจนเป็นที่ยอมรับไปทั่วโลก\n",
            "กลับไม่ถูกนำมาเป็นอินพุทที่นักวิจัยด้านคอมพิวเตอร์หยิบมาแปล\n",
            "ซึ่งอาจเป็นเพราะความซับซ้อนในเชิงฉันทลักษณ์ จังหวะ สัมผัส รวมถึงความหมายของคำไทย และความกำกวมของคำไทย เป็นต้น\n",
            "งานวิจัยนี้จึงนำเสนอแนวคิด และขั้นตอนวิธีต้นแบบตัวแปลร้อยกรองไทยเป็นภาษาอังกฤษแบบยคงฉันทลักษณ์ร้อยกรองไทยและคงความหมาย\n",
            "โดยร้อยกรองที่ใช้ในงานวิจัยนี้คือ ร้อยกรองประเภท “กลอนแปด” “กลอนดอกสร้อย” “กลอนสักวา”\n",
            "ซึ่งเป็นคำประพันธ์ร้อยกรองชนิดที่ได้รับความนิยมกันทั่วไป\n",
            "เพราะเป็นร้อยกรองที่มีความเรียบง่ายต่อการสื่อความหมาย\n",
            "และสามารถสื่อได้อย่างไพเราะ\n",
            "เพื่อส่งเสริมให้รูปแบบและความสละสลวยของกลอนไทยได้รับการเผยแพร่มากขึ้นในระดับสากล\n",
            "และเพื่อสร้างต้นแบบของเครื่องมือที่จะได้ให้ผู้วิจัยอื่นๆได้นำต้นแบบแนวคิดนี้ไปต่อยอด\n",
            "สร้างเครื่องมือทางเทคโนโลยีที่ช่วยสืบสานคุณค่า และมรดกทางวัฒนธรรมของไทยแขนงนี้ให้ดำรงอยู่ควบคู่กับความทันสมัยของเทคโนโลยี\n"
          ]
        }
      ]
    },
    {
      "cell_type": "code",
      "source": [
        "doc = docx.Document()\n",
        "\n",
        "doc.add_heading('Summarize Text', 0)\n",
        "\n",
        "para = doc.add_paragraph('''\\n''')\n",
        "\n",
        "for st in sentences:\n",
        "  if st.strip() in sum_list:\n",
        "    para.add_run(st+'\\n').font.highlight_color = WD_COLOR_INDEX.YELLOW\n",
        "  else:\n",
        "    para.add_run(st+'\\n')\n",
        "\n",
        "doc.save('summarize.docx')"
      ],
      "metadata": {
        "id": "Z0QV-QqlFYjh"
      },
      "execution_count": null,
      "outputs": []
    }
  ]
}