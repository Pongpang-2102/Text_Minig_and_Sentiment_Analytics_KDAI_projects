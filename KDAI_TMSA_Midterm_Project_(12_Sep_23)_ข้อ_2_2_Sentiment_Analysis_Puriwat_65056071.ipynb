{
  "nbformat": 4,
  "nbformat_minor": 0,
  "metadata": {
    "colab": {
      "provenance": [],
      "machine_shape": "hm",
      "gpuType": "T4",
      "toc_visible": true,
      "authorship_tag": "ABX9TyPca4jR+Hy3wdH9wEWe+uRX",
      "include_colab_link": true
    },
    "kernelspec": {
      "name": "python3",
      "display_name": "Python 3"
    },
    "language_info": {
      "name": "python"
    },
    "accelerator": "GPU"
  },
  "cells": [
    {
      "cell_type": "markdown",
      "metadata": {
        "id": "view-in-github",
        "colab_type": "text"
      },
      "source": [
        "<a href=\"https://colab.research.google.com/github/Pongpang-2102/Text_Mining_and_Sentiment_Analytics_KDAI_projects/blob/main/KDAI_TMSA_Midterm_Project_(12_Sep_23)_%E0%B8%82%E0%B9%89%E0%B8%AD_2_2_Sentiment_Analysis_Puriwat_65056071.ipynb\" target=\"_parent\"><img src=\"https://colab.research.google.com/assets/colab-badge.svg\" alt=\"Open In Colab\"/></a>"
      ]
    },
    {
      "cell_type": "markdown",
      "source": [
        "#  Midterm Project วิชา Text Mining and Sentiment Analytics (1/2566)"
      ],
      "metadata": {
        "id": "yGqC53gu-biz"
      }
    },
    {
      "cell_type": "markdown",
      "source": [
        "## Student info\n",
        "\n",
        "- Name : Puriwat Sangrawee ( นายภูริวัฒน์ แสงระวี)\n",
        "- Student ID : 65056071\n",
        "- สาขาวิชา : วิทยาการข้อมูลและการวิเคราะห์ (ชั้นปีที่ 2 )"
      ],
      "metadata": {
        "id": "L-jVGNjH-eZz"
      }
    },
    {
      "cell_type": "markdown",
      "source": [
        "# 2.2 Sentiment Analysis"
      ],
      "metadata": {
        "id": "CSjYcsxX-hQm"
      }
    },
    {
      "cell_type": "markdown",
      "source": [
        "### 00 : Data Prep"
      ],
      "metadata": {
        "id": "8CyqglAkIoMg"
      }
    },
    {
      "cell_type": "markdown",
      "source": [
        "**คำชี้แจง**\n",
        "- เปรียบเทียบระหว่างโมเดล LSTM และ CNN พร้อมอธิบายปัญหาที่พบและการทำ Pre-Process การปรับค่าต่าง ๆ เพื่อให้ได้ประสิทธิภาพที่ดีขึ้น"
      ],
      "metadata": {
        "id": "W8wU2hsu-XYu"
      }
    },
    {
      "cell_type": "markdown",
      "source": [
        "- Import package ที่จำเป็น & Mount drive"
      ],
      "metadata": {
        "id": "qwp_DAXHB6Hp"
      }
    },
    {
      "cell_type": "code",
      "source": [
        "!pip install pythainlp"
      ],
      "metadata": {
        "colab": {
          "base_uri": "https://localhost:8080/"
        },
        "id": "mLQ0PK_u9KZe",
        "outputId": "d32a9525-292b-48a9-9c72-d8b44287698a"
      },
      "execution_count": null,
      "outputs": [
        {
          "output_type": "stream",
          "name": "stdout",
          "text": [
            "Collecting pythainlp\n",
            "  Downloading pythainlp-4.0.2-py3-none-any.whl (13.4 MB)\n",
            "\u001b[2K     \u001b[90m━━━━━━━━━━━━━━━━━━━━━━━━━━━━━━━━━━━━━━━━\u001b[0m \u001b[32m13.4/13.4 MB\u001b[0m \u001b[31m40.9 MB/s\u001b[0m eta \u001b[36m0:00:00\u001b[0m\n",
            "\u001b[?25hRequirement already satisfied: requests>=2.22.0 in /usr/local/lib/python3.10/dist-packages (from pythainlp) (2.31.0)\n",
            "Requirement already satisfied: charset-normalizer<4,>=2 in /usr/local/lib/python3.10/dist-packages (from requests>=2.22.0->pythainlp) (3.2.0)\n",
            "Requirement already satisfied: idna<4,>=2.5 in /usr/local/lib/python3.10/dist-packages (from requests>=2.22.0->pythainlp) (3.4)\n",
            "Requirement already satisfied: urllib3<3,>=1.21.1 in /usr/local/lib/python3.10/dist-packages (from requests>=2.22.0->pythainlp) (2.0.4)\n",
            "Requirement already satisfied: certifi>=2017.4.17 in /usr/local/lib/python3.10/dist-packages (from requests>=2.22.0->pythainlp) (2023.7.22)\n",
            "Installing collected packages: pythainlp\n",
            "Successfully installed pythainlp-4.0.2\n"
          ]
        }
      ]
    },
    {
      "cell_type": "code",
      "source": [
        "pip install tensorflow --upgrade"
      ],
      "metadata": {
        "colab": {
          "base_uri": "https://localhost:8080/"
        },
        "id": "LadpeyxlblQQ",
        "outputId": "7c3af9ff-635b-414f-9cc1-5533e689cb82"
      },
      "execution_count": null,
      "outputs": [
        {
          "output_type": "stream",
          "name": "stdout",
          "text": [
            "Requirement already satisfied: tensorflow in /usr/local/lib/python3.10/dist-packages (2.13.0)\n",
            "Requirement already satisfied: absl-py>=1.0.0 in /usr/local/lib/python3.10/dist-packages (from tensorflow) (1.4.0)\n",
            "Requirement already satisfied: astunparse>=1.6.0 in /usr/local/lib/python3.10/dist-packages (from tensorflow) (1.6.3)\n",
            "Requirement already satisfied: flatbuffers>=23.1.21 in /usr/local/lib/python3.10/dist-packages (from tensorflow) (23.5.26)\n",
            "Requirement already satisfied: gast<=0.4.0,>=0.2.1 in /usr/local/lib/python3.10/dist-packages (from tensorflow) (0.4.0)\n",
            "Requirement already satisfied: google-pasta>=0.1.1 in /usr/local/lib/python3.10/dist-packages (from tensorflow) (0.2.0)\n",
            "Requirement already satisfied: grpcio<2.0,>=1.24.3 in /usr/local/lib/python3.10/dist-packages (from tensorflow) (1.57.0)\n",
            "Requirement already satisfied: h5py>=2.9.0 in /usr/local/lib/python3.10/dist-packages (from tensorflow) (3.9.0)\n",
            "Requirement already satisfied: keras<2.14,>=2.13.1 in /usr/local/lib/python3.10/dist-packages (from tensorflow) (2.13.1)\n",
            "Requirement already satisfied: libclang>=13.0.0 in /usr/local/lib/python3.10/dist-packages (from tensorflow) (16.0.6)\n",
            "Requirement already satisfied: numpy<=1.24.3,>=1.22 in /usr/local/lib/python3.10/dist-packages (from tensorflow) (1.23.5)\n",
            "Requirement already satisfied: opt-einsum>=2.3.2 in /usr/local/lib/python3.10/dist-packages (from tensorflow) (3.3.0)\n",
            "Requirement already satisfied: packaging in /usr/local/lib/python3.10/dist-packages (from tensorflow) (23.1)\n",
            "Requirement already satisfied: protobuf!=4.21.0,!=4.21.1,!=4.21.2,!=4.21.3,!=4.21.4,!=4.21.5,<5.0.0dev,>=3.20.3 in /usr/local/lib/python3.10/dist-packages (from tensorflow) (3.20.3)\n",
            "Requirement already satisfied: setuptools in /usr/local/lib/python3.10/dist-packages (from tensorflow) (67.7.2)\n",
            "Requirement already satisfied: six>=1.12.0 in /usr/local/lib/python3.10/dist-packages (from tensorflow) (1.16.0)\n",
            "Requirement already satisfied: tensorboard<2.14,>=2.13 in /usr/local/lib/python3.10/dist-packages (from tensorflow) (2.13.0)\n",
            "Requirement already satisfied: tensorflow-estimator<2.14,>=2.13.0 in /usr/local/lib/python3.10/dist-packages (from tensorflow) (2.13.0)\n",
            "Requirement already satisfied: termcolor>=1.1.0 in /usr/local/lib/python3.10/dist-packages (from tensorflow) (2.3.0)\n",
            "Requirement already satisfied: typing-extensions<4.6.0,>=3.6.6 in /usr/local/lib/python3.10/dist-packages (from tensorflow) (4.5.0)\n",
            "Requirement already satisfied: wrapt>=1.11.0 in /usr/local/lib/python3.10/dist-packages (from tensorflow) (1.15.0)\n",
            "Requirement already satisfied: tensorflow-io-gcs-filesystem>=0.23.1 in /usr/local/lib/python3.10/dist-packages (from tensorflow) (0.33.0)\n",
            "Requirement already satisfied: wheel<1.0,>=0.23.0 in /usr/local/lib/python3.10/dist-packages (from astunparse>=1.6.0->tensorflow) (0.41.2)\n",
            "Requirement already satisfied: google-auth<3,>=1.6.3 in /usr/local/lib/python3.10/dist-packages (from tensorboard<2.14,>=2.13->tensorflow) (2.17.3)\n",
            "Requirement already satisfied: google-auth-oauthlib<1.1,>=0.5 in /usr/local/lib/python3.10/dist-packages (from tensorboard<2.14,>=2.13->tensorflow) (1.0.0)\n",
            "Requirement already satisfied: markdown>=2.6.8 in /usr/local/lib/python3.10/dist-packages (from tensorboard<2.14,>=2.13->tensorflow) (3.4.4)\n",
            "Requirement already satisfied: requests<3,>=2.21.0 in /usr/local/lib/python3.10/dist-packages (from tensorboard<2.14,>=2.13->tensorflow) (2.31.0)\n",
            "Requirement already satisfied: tensorboard-data-server<0.8.0,>=0.7.0 in /usr/local/lib/python3.10/dist-packages (from tensorboard<2.14,>=2.13->tensorflow) (0.7.1)\n",
            "Requirement already satisfied: werkzeug>=1.0.1 in /usr/local/lib/python3.10/dist-packages (from tensorboard<2.14,>=2.13->tensorflow) (2.3.7)\n",
            "Requirement already satisfied: cachetools<6.0,>=2.0.0 in /usr/local/lib/python3.10/dist-packages (from google-auth<3,>=1.6.3->tensorboard<2.14,>=2.13->tensorflow) (5.3.1)\n",
            "Requirement already satisfied: pyasn1-modules>=0.2.1 in /usr/local/lib/python3.10/dist-packages (from google-auth<3,>=1.6.3->tensorboard<2.14,>=2.13->tensorflow) (0.3.0)\n",
            "Requirement already satisfied: rsa<5,>=3.1.4 in /usr/local/lib/python3.10/dist-packages (from google-auth<3,>=1.6.3->tensorboard<2.14,>=2.13->tensorflow) (4.9)\n",
            "Requirement already satisfied: requests-oauthlib>=0.7.0 in /usr/local/lib/python3.10/dist-packages (from google-auth-oauthlib<1.1,>=0.5->tensorboard<2.14,>=2.13->tensorflow) (1.3.1)\n",
            "Requirement already satisfied: charset-normalizer<4,>=2 in /usr/local/lib/python3.10/dist-packages (from requests<3,>=2.21.0->tensorboard<2.14,>=2.13->tensorflow) (3.2.0)\n",
            "Requirement already satisfied: idna<4,>=2.5 in /usr/local/lib/python3.10/dist-packages (from requests<3,>=2.21.0->tensorboard<2.14,>=2.13->tensorflow) (3.4)\n",
            "Requirement already satisfied: urllib3<3,>=1.21.1 in /usr/local/lib/python3.10/dist-packages (from requests<3,>=2.21.0->tensorboard<2.14,>=2.13->tensorflow) (2.0.4)\n",
            "Requirement already satisfied: certifi>=2017.4.17 in /usr/local/lib/python3.10/dist-packages (from requests<3,>=2.21.0->tensorboard<2.14,>=2.13->tensorflow) (2023.7.22)\n",
            "Requirement already satisfied: MarkupSafe>=2.1.1 in /usr/local/lib/python3.10/dist-packages (from werkzeug>=1.0.1->tensorboard<2.14,>=2.13->tensorflow) (2.1.3)\n",
            "Requirement already satisfied: pyasn1<0.6.0,>=0.4.6 in /usr/local/lib/python3.10/dist-packages (from pyasn1-modules>=0.2.1->google-auth<3,>=1.6.3->tensorboard<2.14,>=2.13->tensorflow) (0.5.0)\n",
            "Requirement already satisfied: oauthlib>=3.0.0 in /usr/local/lib/python3.10/dist-packages (from requests-oauthlib>=0.7.0->google-auth-oauthlib<1.1,>=0.5->tensorboard<2.14,>=2.13->tensorflow) (3.2.2)\n"
          ]
        }
      ]
    },
    {
      "cell_type": "code",
      "source": [
        "pip install keras --upgrade"
      ],
      "metadata": {
        "colab": {
          "base_uri": "https://localhost:8080/"
        },
        "id": "iXKIuvE2brgx",
        "outputId": "238eb47b-e68f-40dc-89ea-907c635f7ee3"
      },
      "execution_count": null,
      "outputs": [
        {
          "output_type": "stream",
          "name": "stdout",
          "text": [
            "Requirement already satisfied: keras in /usr/local/lib/python3.10/dist-packages (2.13.1)\n",
            "Collecting keras\n",
            "  Downloading keras-2.14.0-py3-none-any.whl (1.7 MB)\n",
            "\u001b[2K     \u001b[90m━━━━━━━━━━━━━━━━━━━━━━━━━━━━━━━━━━━━━━━━\u001b[0m \u001b[32m1.7/1.7 MB\u001b[0m \u001b[31m14.6 MB/s\u001b[0m eta \u001b[36m0:00:00\u001b[0m\n",
            "\u001b[?25hInstalling collected packages: keras\n",
            "  Attempting uninstall: keras\n",
            "    Found existing installation: keras 2.13.1\n",
            "    Uninstalling keras-2.13.1:\n",
            "      Successfully uninstalled keras-2.13.1\n",
            "\u001b[31mERROR: pip's dependency resolver does not currently take into account all the packages that are installed. This behaviour is the source of the following dependency conflicts.\n",
            "tensorflow 2.13.0 requires keras<2.14,>=2.13.1, but you have keras 2.14.0 which is incompatible.\u001b[0m\u001b[31m\n",
            "\u001b[0mSuccessfully installed keras-2.14.0\n"
          ]
        }
      ]
    },
    {
      "cell_type": "code",
      "execution_count": null,
      "metadata": {
        "id": "xa4E3alw91LG",
        "colab": {
          "base_uri": "https://localhost:8080/"
        },
        "outputId": "b10792af-59f3-489f-bc55-be8aad849be5"
      },
      "outputs": [
        {
          "output_type": "stream",
          "name": "stderr",
          "text": [
            "[nltk_data] Downloading package stopwords to /root/nltk_data...\n",
            "[nltk_data]   Unzipping corpora/stopwords.zip.\n"
          ]
        }
      ],
      "source": [
        "import tensorflow as tf\n",
        "Model = tf.keras.models.Model\n",
        "ModelCheckpoint = tf.keras.callbacks.ModelCheckpoint\n",
        "ReduceLROnPlateau = tf.keras.callbacks.ReduceLROnPlateau\n",
        "load_model = tf.keras.models.load_model\n",
        "\n",
        "import pandas as pd\n",
        "import re\n",
        "from nltk.tokenize import word_tokenize\n",
        "from pythainlp.tokenize import word_tokenize, Tokenizer\n",
        "from tensorflow.keras.preprocessing.text import Tokenizer\n",
        "KRTokenizer = tf.keras.preprocessing.text.Tokenizer\n",
        "\n",
        "pad_sequences = tf.keras.preprocessing.sequence.pad_sequences\n",
        "from sklearn.preprocessing import OneHotEncoder\n",
        "from sklearn.model_selection import train_test_split\n",
        "\n",
        "import numpy as np\n",
        "\n",
        "from tensorflow.keras.models import Sequential\n",
        "from tensorflow.keras.layers import Dense, GRU, LSTM, Bidirectional, Embedding, Dropout, BatchNormalization\n",
        "from tensorflow.keras.models import load_model\n",
        "from tensorflow.keras.callbacks import ModelCheckpoint\n",
        "\n",
        "from tensorflow.keras.optimizers import Adam\n",
        "\n",
        "import seaborn as sn\n",
        "import matplotlib.pyplot as plt\n",
        "\n",
        "import pickle as p\n",
        "import plotly\n",
        "import plotly.graph_objs as go\n",
        "\n",
        "from sklearn.metrics import confusion_matrix\n",
        "from sklearn.metrics import classification_report\n",
        "\n",
        "import string\n",
        "# from os import listdir\n",
        "from string import punctuation\n",
        "# from os import listdir\n",
        "\n",
        "#########################\n",
        "from pythainlp.tokenize import word_tokenize #, Tokenizer\n",
        "from pythainlp.corpus.common import thai_words\n",
        "\n",
        "import nltk\n",
        "nltk.download('stopwords')\n",
        "\n",
        "from nltk.corpus import stopwords\n",
        "stop_words = stopwords.words('english')\n",
        "\n",
        "from pythainlp.corpus import thai_stopwords\n",
        "\n",
        "from gensim.models import Word2Vec\n",
        "\n",
        "import seaborn as sn\n",
        "import matplotlib.pyplot as plt"
      ]
    },
    {
      "cell_type": "code",
      "source": [
        "from google.colab import drive\n",
        "drive.mount('/content/drive')"
      ],
      "metadata": {
        "colab": {
          "base_uri": "https://localhost:8080/"
        },
        "id": "-ZLBmF7O9NrM",
        "outputId": "870c2780-2797-4823-b398-bb6cde279195"
      },
      "execution_count": null,
      "outputs": [
        {
          "output_type": "stream",
          "name": "stdout",
          "text": [
            "Mounted at /content/drive\n"
          ]
        }
      ]
    },
    {
      "cell_type": "markdown",
      "source": [
        "- กำหนดจำนวน EPOCHS และ Batch Size ดังต่อไปนี้"
      ],
      "metadata": {
        "id": "poVmpdYX29sL"
      }
    },
    {
      "cell_type": "markdown",
      "source": [
        "- Load Dataset ซึ่งประกอบด้วย ข้อความ (comments), ผลเฉลย (labels)"
      ],
      "metadata": {
        "id": "MAZfbTwv8i-_"
      }
    },
    {
      "cell_type": "markdown",
      "source": [
        "#### 00-1 Rerun Model Here"
      ],
      "metadata": {
        "id": "6TQqN6ico_T9"
      }
    },
    {
      "cell_type": "code",
      "source": [
        "comments = []\n",
        "labels = []\n",
        "\n",
        "# upload file : femcomment.txt as training data\n",
        "\n",
        "# with open(\"train.txt\",encoding=\"utf-8\") as f:\n",
        "with open(\"/content/drive/MyDrive/# KDAI_TextMining/Exam 4-10 Sep 23/Problem02/femcomment.txt\",encoding=\"utf-8\") as f:\n",
        "    for line in f:\n",
        "        comments.append(line.strip())\n",
        "\n",
        "# upload file : femcomment_label.txt as label\n",
        "# with open(\"train_label.txt\",encoding=\"utf-8\") as f:\n",
        "with open(\"/content/drive/MyDrive/# KDAI_TextMining/Exam 4-10 Sep 23/Problem02/femcomment_label.txt\",encoding=\"utf-8\") as f:\n",
        "    for line in f:\n",
        "        labels.append(line.strip())"
      ],
      "metadata": {
        "id": "fIUYdcHBBhg5"
      },
      "execution_count": null,
      "outputs": []
    },
    {
      "cell_type": "code",
      "source": [
        "df = pd.DataFrame({ \"category\": labels, \"comments\": comments })"
      ],
      "metadata": {
        "id": "75dmMlPQ_MC6"
      },
      "execution_count": null,
      "outputs": []
    },
    {
      "cell_type": "code",
      "source": [
        "# to view column name\n",
        "df.columns"
      ],
      "metadata": {
        "colab": {
          "base_uri": "https://localhost:8080/"
        },
        "id": "POGHyhIdBS0F",
        "outputId": "5c23e9c4-5b32-4f26-d2e5-baf290aaf318"
      },
      "execution_count": null,
      "outputs": [
        {
          "output_type": "execute_result",
          "data": {
            "text/plain": [
              "Index(['category', 'comments'], dtype='object')"
            ]
          },
          "metadata": {},
          "execution_count": 200
        }
      ]
    },
    {
      "cell_type": "code",
      "source": [
        "print(f\"number of record : {df.shape[0]}\")\n",
        "print(f\"number of  column : {df.shape[1]}\")"
      ],
      "metadata": {
        "colab": {
          "base_uri": "https://localhost:8080/"
        },
        "id": "okcEHn6bBNea",
        "outputId": "bb47dfad-4c17-43e1-f5d8-4526e0efa878"
      },
      "execution_count": null,
      "outputs": [
        {
          "output_type": "stream",
          "name": "stdout",
          "text": [
            "number of record : 500\n",
            "number of  column : 2\n"
          ]
        }
      ]
    },
    {
      "cell_type": "markdown",
      "source": [
        "- เรียกดูข้อมูล dataframe ที่เราเพิ่งสร้าง"
      ],
      "metadata": {
        "id": "dI82n83i_Dk0"
      }
    },
    {
      "cell_type": "code",
      "source": [
        "df.head()"
      ],
      "metadata": {
        "id": "SBHMgUSrBhec",
        "colab": {
          "base_uri": "https://localhost:8080/",
          "height": 206
        },
        "outputId": "217472fa-f26b-42ad-fe82-a89e0ad32977"
      },
      "execution_count": null,
      "outputs": [
        {
          "output_type": "execute_result",
          "data": {
            "text/plain": [
              "  category                                           comments\n",
              "0      neg  เฟมทวิตคือคนที่ลากทุกอย่างไปเป็นเรื่อง ความไม่...\n",
              "1      neg  จะเฟมินิสต์หรือเฟมทวิต ก็ไม่เคยเป็นคำที่ได้รับ...\n",
              "2      neg  และถ้าเทียบการพยายามดิสเครดิต ก็เทียบได้กับคำว...\n",
              "3      neg                 เฟมทวิตดูโง่เพราะคนอย่างนี้แหละค่ะ\n",
              "4      neg                เฟมทวิตไม่น่าจะอยากคุยกับคนแบบมึงนะ"
            ],
            "text/html": [
              "\n",
              "  <div id=\"df-b6df0c35-d6e1-4454-9145-83d69b2b0382\" class=\"colab-df-container\">\n",
              "    <div>\n",
              "<style scoped>\n",
              "    .dataframe tbody tr th:only-of-type {\n",
              "        vertical-align: middle;\n",
              "    }\n",
              "\n",
              "    .dataframe tbody tr th {\n",
              "        vertical-align: top;\n",
              "    }\n",
              "\n",
              "    .dataframe thead th {\n",
              "        text-align: right;\n",
              "    }\n",
              "</style>\n",
              "<table border=\"1\" class=\"dataframe\">\n",
              "  <thead>\n",
              "    <tr style=\"text-align: right;\">\n",
              "      <th></th>\n",
              "      <th>category</th>\n",
              "      <th>comments</th>\n",
              "    </tr>\n",
              "  </thead>\n",
              "  <tbody>\n",
              "    <tr>\n",
              "      <th>0</th>\n",
              "      <td>neg</td>\n",
              "      <td>เฟมทวิตคือคนที่ลากทุกอย่างไปเป็นเรื่อง ความไม่...</td>\n",
              "    </tr>\n",
              "    <tr>\n",
              "      <th>1</th>\n",
              "      <td>neg</td>\n",
              "      <td>จะเฟมินิสต์หรือเฟมทวิต ก็ไม่เคยเป็นคำที่ได้รับ...</td>\n",
              "    </tr>\n",
              "    <tr>\n",
              "      <th>2</th>\n",
              "      <td>neg</td>\n",
              "      <td>และถ้าเทียบการพยายามดิสเครดิต ก็เทียบได้กับคำว...</td>\n",
              "    </tr>\n",
              "    <tr>\n",
              "      <th>3</th>\n",
              "      <td>neg</td>\n",
              "      <td>เฟมทวิตดูโง่เพราะคนอย่างนี้แหละค่ะ</td>\n",
              "    </tr>\n",
              "    <tr>\n",
              "      <th>4</th>\n",
              "      <td>neg</td>\n",
              "      <td>เฟมทวิตไม่น่าจะอยากคุยกับคนแบบมึงนะ</td>\n",
              "    </tr>\n",
              "  </tbody>\n",
              "</table>\n",
              "</div>\n",
              "    <div class=\"colab-df-buttons\">\n",
              "\n",
              "  <div class=\"colab-df-container\">\n",
              "    <button class=\"colab-df-convert\" onclick=\"convertToInteractive('df-b6df0c35-d6e1-4454-9145-83d69b2b0382')\"\n",
              "            title=\"Convert this dataframe to an interactive table.\"\n",
              "            style=\"display:none;\">\n",
              "\n",
              "  <svg xmlns=\"http://www.w3.org/2000/svg\" height=\"24px\" viewBox=\"0 -960 960 960\">\n",
              "    <path d=\"M120-120v-720h720v720H120Zm60-500h600v-160H180v160Zm220 220h160v-160H400v160Zm0 220h160v-160H400v160ZM180-400h160v-160H180v160Zm440 0h160v-160H620v160ZM180-180h160v-160H180v160Zm440 0h160v-160H620v160Z\"/>\n",
              "  </svg>\n",
              "    </button>\n",
              "\n",
              "  <style>\n",
              "    .colab-df-container {\n",
              "      display:flex;\n",
              "      gap: 12px;\n",
              "    }\n",
              "\n",
              "    .colab-df-convert {\n",
              "      background-color: #E8F0FE;\n",
              "      border: none;\n",
              "      border-radius: 50%;\n",
              "      cursor: pointer;\n",
              "      display: none;\n",
              "      fill: #1967D2;\n",
              "      height: 32px;\n",
              "      padding: 0 0 0 0;\n",
              "      width: 32px;\n",
              "    }\n",
              "\n",
              "    .colab-df-convert:hover {\n",
              "      background-color: #E2EBFA;\n",
              "      box-shadow: 0px 1px 2px rgba(60, 64, 67, 0.3), 0px 1px 3px 1px rgba(60, 64, 67, 0.15);\n",
              "      fill: #174EA6;\n",
              "    }\n",
              "\n",
              "    .colab-df-buttons div {\n",
              "      margin-bottom: 4px;\n",
              "    }\n",
              "\n",
              "    [theme=dark] .colab-df-convert {\n",
              "      background-color: #3B4455;\n",
              "      fill: #D2E3FC;\n",
              "    }\n",
              "\n",
              "    [theme=dark] .colab-df-convert:hover {\n",
              "      background-color: #434B5C;\n",
              "      box-shadow: 0px 1px 3px 1px rgba(0, 0, 0, 0.15);\n",
              "      filter: drop-shadow(0px 1px 2px rgba(0, 0, 0, 0.3));\n",
              "      fill: #FFFFFF;\n",
              "    }\n",
              "  </style>\n",
              "\n",
              "    <script>\n",
              "      const buttonEl =\n",
              "        document.querySelector('#df-b6df0c35-d6e1-4454-9145-83d69b2b0382 button.colab-df-convert');\n",
              "      buttonEl.style.display =\n",
              "        google.colab.kernel.accessAllowed ? 'block' : 'none';\n",
              "\n",
              "      async function convertToInteractive(key) {\n",
              "        const element = document.querySelector('#df-b6df0c35-d6e1-4454-9145-83d69b2b0382');\n",
              "        const dataTable =\n",
              "          await google.colab.kernel.invokeFunction('convertToInteractive',\n",
              "                                                    [key], {});\n",
              "        if (!dataTable) return;\n",
              "\n",
              "        const docLinkHtml = 'Like what you see? Visit the ' +\n",
              "          '<a target=\"_blank\" href=https://colab.research.google.com/notebooks/data_table.ipynb>data table notebook</a>'\n",
              "          + ' to learn more about interactive tables.';\n",
              "        element.innerHTML = '';\n",
              "        dataTable['output_type'] = 'display_data';\n",
              "        await google.colab.output.renderOutput(dataTable, element);\n",
              "        const docLink = document.createElement('div');\n",
              "        docLink.innerHTML = docLinkHtml;\n",
              "        element.appendChild(docLink);\n",
              "      }\n",
              "    </script>\n",
              "  </div>\n",
              "\n",
              "\n",
              "<div id=\"df-95de7c43-cde5-42f9-a5bf-109234810e00\">\n",
              "  <button class=\"colab-df-quickchart\" onclick=\"quickchart('df-95de7c43-cde5-42f9-a5bf-109234810e00')\"\n",
              "            title=\"Suggest charts.\"\n",
              "            style=\"display:none;\">\n",
              "\n",
              "<svg xmlns=\"http://www.w3.org/2000/svg\" height=\"24px\"viewBox=\"0 0 24 24\"\n",
              "     width=\"24px\">\n",
              "    <g>\n",
              "        <path d=\"M19 3H5c-1.1 0-2 .9-2 2v14c0 1.1.9 2 2 2h14c1.1 0 2-.9 2-2V5c0-1.1-.9-2-2-2zM9 17H7v-7h2v7zm4 0h-2V7h2v10zm4 0h-2v-4h2v4z\"/>\n",
              "    </g>\n",
              "</svg>\n",
              "  </button>\n",
              "\n",
              "<style>\n",
              "  .colab-df-quickchart {\n",
              "      --bg-color: #E8F0FE;\n",
              "      --fill-color: #1967D2;\n",
              "      --hover-bg-color: #E2EBFA;\n",
              "      --hover-fill-color: #174EA6;\n",
              "      --disabled-fill-color: #AAA;\n",
              "      --disabled-bg-color: #DDD;\n",
              "  }\n",
              "\n",
              "  [theme=dark] .colab-df-quickchart {\n",
              "      --bg-color: #3B4455;\n",
              "      --fill-color: #D2E3FC;\n",
              "      --hover-bg-color: #434B5C;\n",
              "      --hover-fill-color: #FFFFFF;\n",
              "      --disabled-bg-color: #3B4455;\n",
              "      --disabled-fill-color: #666;\n",
              "  }\n",
              "\n",
              "  .colab-df-quickchart {\n",
              "    background-color: var(--bg-color);\n",
              "    border: none;\n",
              "    border-radius: 50%;\n",
              "    cursor: pointer;\n",
              "    display: none;\n",
              "    fill: var(--fill-color);\n",
              "    height: 32px;\n",
              "    padding: 0;\n",
              "    width: 32px;\n",
              "  }\n",
              "\n",
              "  .colab-df-quickchart:hover {\n",
              "    background-color: var(--hover-bg-color);\n",
              "    box-shadow: 0 1px 2px rgba(60, 64, 67, 0.3), 0 1px 3px 1px rgba(60, 64, 67, 0.15);\n",
              "    fill: var(--button-hover-fill-color);\n",
              "  }\n",
              "\n",
              "  .colab-df-quickchart-complete:disabled,\n",
              "  .colab-df-quickchart-complete:disabled:hover {\n",
              "    background-color: var(--disabled-bg-color);\n",
              "    fill: var(--disabled-fill-color);\n",
              "    box-shadow: none;\n",
              "  }\n",
              "\n",
              "  .colab-df-spinner {\n",
              "    border: 2px solid var(--fill-color);\n",
              "    border-color: transparent;\n",
              "    border-bottom-color: var(--fill-color);\n",
              "    animation:\n",
              "      spin 1s steps(1) infinite;\n",
              "  }\n",
              "\n",
              "  @keyframes spin {\n",
              "    0% {\n",
              "      border-color: transparent;\n",
              "      border-bottom-color: var(--fill-color);\n",
              "      border-left-color: var(--fill-color);\n",
              "    }\n",
              "    20% {\n",
              "      border-color: transparent;\n",
              "      border-left-color: var(--fill-color);\n",
              "      border-top-color: var(--fill-color);\n",
              "    }\n",
              "    30% {\n",
              "      border-color: transparent;\n",
              "      border-left-color: var(--fill-color);\n",
              "      border-top-color: var(--fill-color);\n",
              "      border-right-color: var(--fill-color);\n",
              "    }\n",
              "    40% {\n",
              "      border-color: transparent;\n",
              "      border-right-color: var(--fill-color);\n",
              "      border-top-color: var(--fill-color);\n",
              "    }\n",
              "    60% {\n",
              "      border-color: transparent;\n",
              "      border-right-color: var(--fill-color);\n",
              "    }\n",
              "    80% {\n",
              "      border-color: transparent;\n",
              "      border-right-color: var(--fill-color);\n",
              "      border-bottom-color: var(--fill-color);\n",
              "    }\n",
              "    90% {\n",
              "      border-color: transparent;\n",
              "      border-bottom-color: var(--fill-color);\n",
              "    }\n",
              "  }\n",
              "</style>\n",
              "\n",
              "  <script>\n",
              "    async function quickchart(key) {\n",
              "      const quickchartButtonEl =\n",
              "        document.querySelector('#' + key + ' button');\n",
              "      quickchartButtonEl.disabled = true;  // To prevent multiple clicks.\n",
              "      quickchartButtonEl.classList.add('colab-df-spinner');\n",
              "      try {\n",
              "        const charts = await google.colab.kernel.invokeFunction(\n",
              "            'suggestCharts', [key], {});\n",
              "      } catch (error) {\n",
              "        console.error('Error during call to suggestCharts:', error);\n",
              "      }\n",
              "      quickchartButtonEl.classList.remove('colab-df-spinner');\n",
              "      quickchartButtonEl.classList.add('colab-df-quickchart-complete');\n",
              "    }\n",
              "    (() => {\n",
              "      let quickchartButtonEl =\n",
              "        document.querySelector('#df-95de7c43-cde5-42f9-a5bf-109234810e00 button');\n",
              "      quickchartButtonEl.style.display =\n",
              "        google.colab.kernel.accessAllowed ? 'block' : 'none';\n",
              "    })();\n",
              "  </script>\n",
              "</div>\n",
              "    </div>\n",
              "  </div>\n"
            ]
          },
          "metadata": {},
          "execution_count": 202
        }
      ]
    },
    {
      "cell_type": "markdown",
      "source": [
        "- ลบข้อมูลซ้ำ (ถ้ามี)"
      ],
      "metadata": {
        "id": "J_qhRfTmApXV"
      }
    },
    {
      "cell_type": "code",
      "source": [
        "df = df.drop_duplicates()"
      ],
      "metadata": {
        "id": "MmQvDRoXBhYX"
      },
      "execution_count": null,
      "outputs": []
    },
    {
      "cell_type": "markdown",
      "source": [
        "- ดูจำนวน record หลังลบข้อมูลซ้ำ"
      ],
      "metadata": {
        "id": "ZGZg1TP_CRFl"
      }
    },
    {
      "cell_type": "code",
      "source": [
        "print(f\"number of record : {df.shape[0]}\")\n",
        "print(f\"number of  column : {df.shape[1]}\")"
      ],
      "metadata": {
        "id": "tIGu6ZyM-iuc",
        "colab": {
          "base_uri": "https://localhost:8080/"
        },
        "outputId": "8c60707b-9a59-4489-daa0-a96e6b1482c0"
      },
      "execution_count": null,
      "outputs": [
        {
          "output_type": "stream",
          "name": "stdout",
          "text": [
            "number of record : 500\n",
            "number of  column : 2\n"
          ]
        }
      ]
    },
    {
      "cell_type": "markdown",
      "source": [
        "- ดูว่าข้อมูลต้นฉบับที่โจทย์ให้มา มี Positive (pos) หรือ Negative (neg) อย่างละเท่าไหร่บ้าง"
      ],
      "metadata": {
        "id": "dYt_CZEGFZoy"
      }
    },
    {
      "cell_type": "code",
      "source": [
        "positive_comment = (df['category'] == \"pos\").sum()\n",
        "negative_comment = (df['category'] == \"neg\").sum()\n",
        "\n",
        "print(f\"Positive comment : {positive_comment}\")\n",
        "print(f\"Negative comment : {negative_comment}\")"
      ],
      "metadata": {
        "colab": {
          "base_uri": "https://localhost:8080/"
        },
        "id": "Pm-xnGH8FMmM",
        "outputId": "d7ada392-ec9e-4701-bccb-f2d4b12219c6"
      },
      "execution_count": null,
      "outputs": [
        {
          "output_type": "stream",
          "name": "stdout",
          "text": [
            "Positive comment : 250\n",
            "Negative comment : 250\n"
          ]
        }
      ]
    },
    {
      "cell_type": "markdown",
      "source": [
        "- ลองดูตัวอย่างข้อมูลแต่ละกลุ่ม"
      ],
      "metadata": {
        "id": "LqnzvaD_JYWY"
      }
    },
    {
      "cell_type": "code",
      "source": [
        "df[df['category'] == \"neg\"].head()"
      ],
      "metadata": {
        "colab": {
          "base_uri": "https://localhost:8080/",
          "height": 206
        },
        "id": "gNRedn7RJEFc",
        "outputId": "d4999e26-fa8f-4e6c-f83e-5f1f61893be9"
      },
      "execution_count": null,
      "outputs": [
        {
          "output_type": "execute_result",
          "data": {
            "text/plain": [
              "  category                                           comments\n",
              "0      neg  เฟมทวิตคือคนที่ลากทุกอย่างไปเป็นเรื่อง ความไม่...\n",
              "1      neg  จะเฟมินิสต์หรือเฟมทวิต ก็ไม่เคยเป็นคำที่ได้รับ...\n",
              "2      neg  และถ้าเทียบการพยายามดิสเครดิต ก็เทียบได้กับคำว...\n",
              "3      neg                 เฟมทวิตดูโง่เพราะคนอย่างนี้แหละค่ะ\n",
              "4      neg                เฟมทวิตไม่น่าจะอยากคุยกับคนแบบมึงนะ"
            ],
            "text/html": [
              "\n",
              "  <div id=\"df-09d56f36-104c-4015-87a5-cf5326a327a3\" class=\"colab-df-container\">\n",
              "    <div>\n",
              "<style scoped>\n",
              "    .dataframe tbody tr th:only-of-type {\n",
              "        vertical-align: middle;\n",
              "    }\n",
              "\n",
              "    .dataframe tbody tr th {\n",
              "        vertical-align: top;\n",
              "    }\n",
              "\n",
              "    .dataframe thead th {\n",
              "        text-align: right;\n",
              "    }\n",
              "</style>\n",
              "<table border=\"1\" class=\"dataframe\">\n",
              "  <thead>\n",
              "    <tr style=\"text-align: right;\">\n",
              "      <th></th>\n",
              "      <th>category</th>\n",
              "      <th>comments</th>\n",
              "    </tr>\n",
              "  </thead>\n",
              "  <tbody>\n",
              "    <tr>\n",
              "      <th>0</th>\n",
              "      <td>neg</td>\n",
              "      <td>เฟมทวิตคือคนที่ลากทุกอย่างไปเป็นเรื่อง ความไม่...</td>\n",
              "    </tr>\n",
              "    <tr>\n",
              "      <th>1</th>\n",
              "      <td>neg</td>\n",
              "      <td>จะเฟมินิสต์หรือเฟมทวิต ก็ไม่เคยเป็นคำที่ได้รับ...</td>\n",
              "    </tr>\n",
              "    <tr>\n",
              "      <th>2</th>\n",
              "      <td>neg</td>\n",
              "      <td>และถ้าเทียบการพยายามดิสเครดิต ก็เทียบได้กับคำว...</td>\n",
              "    </tr>\n",
              "    <tr>\n",
              "      <th>3</th>\n",
              "      <td>neg</td>\n",
              "      <td>เฟมทวิตดูโง่เพราะคนอย่างนี้แหละค่ะ</td>\n",
              "    </tr>\n",
              "    <tr>\n",
              "      <th>4</th>\n",
              "      <td>neg</td>\n",
              "      <td>เฟมทวิตไม่น่าจะอยากคุยกับคนแบบมึงนะ</td>\n",
              "    </tr>\n",
              "  </tbody>\n",
              "</table>\n",
              "</div>\n",
              "    <div class=\"colab-df-buttons\">\n",
              "\n",
              "  <div class=\"colab-df-container\">\n",
              "    <button class=\"colab-df-convert\" onclick=\"convertToInteractive('df-09d56f36-104c-4015-87a5-cf5326a327a3')\"\n",
              "            title=\"Convert this dataframe to an interactive table.\"\n",
              "            style=\"display:none;\">\n",
              "\n",
              "  <svg xmlns=\"http://www.w3.org/2000/svg\" height=\"24px\" viewBox=\"0 -960 960 960\">\n",
              "    <path d=\"M120-120v-720h720v720H120Zm60-500h600v-160H180v160Zm220 220h160v-160H400v160Zm0 220h160v-160H400v160ZM180-400h160v-160H180v160Zm440 0h160v-160H620v160ZM180-180h160v-160H180v160Zm440 0h160v-160H620v160Z\"/>\n",
              "  </svg>\n",
              "    </button>\n",
              "\n",
              "  <style>\n",
              "    .colab-df-container {\n",
              "      display:flex;\n",
              "      gap: 12px;\n",
              "    }\n",
              "\n",
              "    .colab-df-convert {\n",
              "      background-color: #E8F0FE;\n",
              "      border: none;\n",
              "      border-radius: 50%;\n",
              "      cursor: pointer;\n",
              "      display: none;\n",
              "      fill: #1967D2;\n",
              "      height: 32px;\n",
              "      padding: 0 0 0 0;\n",
              "      width: 32px;\n",
              "    }\n",
              "\n",
              "    .colab-df-convert:hover {\n",
              "      background-color: #E2EBFA;\n",
              "      box-shadow: 0px 1px 2px rgba(60, 64, 67, 0.3), 0px 1px 3px 1px rgba(60, 64, 67, 0.15);\n",
              "      fill: #174EA6;\n",
              "    }\n",
              "\n",
              "    .colab-df-buttons div {\n",
              "      margin-bottom: 4px;\n",
              "    }\n",
              "\n",
              "    [theme=dark] .colab-df-convert {\n",
              "      background-color: #3B4455;\n",
              "      fill: #D2E3FC;\n",
              "    }\n",
              "\n",
              "    [theme=dark] .colab-df-convert:hover {\n",
              "      background-color: #434B5C;\n",
              "      box-shadow: 0px 1px 3px 1px rgba(0, 0, 0, 0.15);\n",
              "      filter: drop-shadow(0px 1px 2px rgba(0, 0, 0, 0.3));\n",
              "      fill: #FFFFFF;\n",
              "    }\n",
              "  </style>\n",
              "\n",
              "    <script>\n",
              "      const buttonEl =\n",
              "        document.querySelector('#df-09d56f36-104c-4015-87a5-cf5326a327a3 button.colab-df-convert');\n",
              "      buttonEl.style.display =\n",
              "        google.colab.kernel.accessAllowed ? 'block' : 'none';\n",
              "\n",
              "      async function convertToInteractive(key) {\n",
              "        const element = document.querySelector('#df-09d56f36-104c-4015-87a5-cf5326a327a3');\n",
              "        const dataTable =\n",
              "          await google.colab.kernel.invokeFunction('convertToInteractive',\n",
              "                                                    [key], {});\n",
              "        if (!dataTable) return;\n",
              "\n",
              "        const docLinkHtml = 'Like what you see? Visit the ' +\n",
              "          '<a target=\"_blank\" href=https://colab.research.google.com/notebooks/data_table.ipynb>data table notebook</a>'\n",
              "          + ' to learn more about interactive tables.';\n",
              "        element.innerHTML = '';\n",
              "        dataTable['output_type'] = 'display_data';\n",
              "        await google.colab.output.renderOutput(dataTable, element);\n",
              "        const docLink = document.createElement('div');\n",
              "        docLink.innerHTML = docLinkHtml;\n",
              "        element.appendChild(docLink);\n",
              "      }\n",
              "    </script>\n",
              "  </div>\n",
              "\n",
              "\n",
              "<div id=\"df-4f0aee67-2ea9-47d7-bdd3-47a2bc515bfc\">\n",
              "  <button class=\"colab-df-quickchart\" onclick=\"quickchart('df-4f0aee67-2ea9-47d7-bdd3-47a2bc515bfc')\"\n",
              "            title=\"Suggest charts.\"\n",
              "            style=\"display:none;\">\n",
              "\n",
              "<svg xmlns=\"http://www.w3.org/2000/svg\" height=\"24px\"viewBox=\"0 0 24 24\"\n",
              "     width=\"24px\">\n",
              "    <g>\n",
              "        <path d=\"M19 3H5c-1.1 0-2 .9-2 2v14c0 1.1.9 2 2 2h14c1.1 0 2-.9 2-2V5c0-1.1-.9-2-2-2zM9 17H7v-7h2v7zm4 0h-2V7h2v10zm4 0h-2v-4h2v4z\"/>\n",
              "    </g>\n",
              "</svg>\n",
              "  </button>\n",
              "\n",
              "<style>\n",
              "  .colab-df-quickchart {\n",
              "      --bg-color: #E8F0FE;\n",
              "      --fill-color: #1967D2;\n",
              "      --hover-bg-color: #E2EBFA;\n",
              "      --hover-fill-color: #174EA6;\n",
              "      --disabled-fill-color: #AAA;\n",
              "      --disabled-bg-color: #DDD;\n",
              "  }\n",
              "\n",
              "  [theme=dark] .colab-df-quickchart {\n",
              "      --bg-color: #3B4455;\n",
              "      --fill-color: #D2E3FC;\n",
              "      --hover-bg-color: #434B5C;\n",
              "      --hover-fill-color: #FFFFFF;\n",
              "      --disabled-bg-color: #3B4455;\n",
              "      --disabled-fill-color: #666;\n",
              "  }\n",
              "\n",
              "  .colab-df-quickchart {\n",
              "    background-color: var(--bg-color);\n",
              "    border: none;\n",
              "    border-radius: 50%;\n",
              "    cursor: pointer;\n",
              "    display: none;\n",
              "    fill: var(--fill-color);\n",
              "    height: 32px;\n",
              "    padding: 0;\n",
              "    width: 32px;\n",
              "  }\n",
              "\n",
              "  .colab-df-quickchart:hover {\n",
              "    background-color: var(--hover-bg-color);\n",
              "    box-shadow: 0 1px 2px rgba(60, 64, 67, 0.3), 0 1px 3px 1px rgba(60, 64, 67, 0.15);\n",
              "    fill: var(--button-hover-fill-color);\n",
              "  }\n",
              "\n",
              "  .colab-df-quickchart-complete:disabled,\n",
              "  .colab-df-quickchart-complete:disabled:hover {\n",
              "    background-color: var(--disabled-bg-color);\n",
              "    fill: var(--disabled-fill-color);\n",
              "    box-shadow: none;\n",
              "  }\n",
              "\n",
              "  .colab-df-spinner {\n",
              "    border: 2px solid var(--fill-color);\n",
              "    border-color: transparent;\n",
              "    border-bottom-color: var(--fill-color);\n",
              "    animation:\n",
              "      spin 1s steps(1) infinite;\n",
              "  }\n",
              "\n",
              "  @keyframes spin {\n",
              "    0% {\n",
              "      border-color: transparent;\n",
              "      border-bottom-color: var(--fill-color);\n",
              "      border-left-color: var(--fill-color);\n",
              "    }\n",
              "    20% {\n",
              "      border-color: transparent;\n",
              "      border-left-color: var(--fill-color);\n",
              "      border-top-color: var(--fill-color);\n",
              "    }\n",
              "    30% {\n",
              "      border-color: transparent;\n",
              "      border-left-color: var(--fill-color);\n",
              "      border-top-color: var(--fill-color);\n",
              "      border-right-color: var(--fill-color);\n",
              "    }\n",
              "    40% {\n",
              "      border-color: transparent;\n",
              "      border-right-color: var(--fill-color);\n",
              "      border-top-color: var(--fill-color);\n",
              "    }\n",
              "    60% {\n",
              "      border-color: transparent;\n",
              "      border-right-color: var(--fill-color);\n",
              "    }\n",
              "    80% {\n",
              "      border-color: transparent;\n",
              "      border-right-color: var(--fill-color);\n",
              "      border-bottom-color: var(--fill-color);\n",
              "    }\n",
              "    90% {\n",
              "      border-color: transparent;\n",
              "      border-bottom-color: var(--fill-color);\n",
              "    }\n",
              "  }\n",
              "</style>\n",
              "\n",
              "  <script>\n",
              "    async function quickchart(key) {\n",
              "      const quickchartButtonEl =\n",
              "        document.querySelector('#' + key + ' button');\n",
              "      quickchartButtonEl.disabled = true;  // To prevent multiple clicks.\n",
              "      quickchartButtonEl.classList.add('colab-df-spinner');\n",
              "      try {\n",
              "        const charts = await google.colab.kernel.invokeFunction(\n",
              "            'suggestCharts', [key], {});\n",
              "      } catch (error) {\n",
              "        console.error('Error during call to suggestCharts:', error);\n",
              "      }\n",
              "      quickchartButtonEl.classList.remove('colab-df-spinner');\n",
              "      quickchartButtonEl.classList.add('colab-df-quickchart-complete');\n",
              "    }\n",
              "    (() => {\n",
              "      let quickchartButtonEl =\n",
              "        document.querySelector('#df-4f0aee67-2ea9-47d7-bdd3-47a2bc515bfc button');\n",
              "      quickchartButtonEl.style.display =\n",
              "        google.colab.kernel.accessAllowed ? 'block' : 'none';\n",
              "    })();\n",
              "  </script>\n",
              "</div>\n",
              "    </div>\n",
              "  </div>\n"
            ]
          },
          "metadata": {},
          "execution_count": 206
        }
      ]
    },
    {
      "cell_type": "code",
      "source": [
        "df[df['category'] == \"neg\"].tail()"
      ],
      "metadata": {
        "colab": {
          "base_uri": "https://localhost:8080/",
          "height": 206
        },
        "id": "SvrL8QxsJM5R",
        "outputId": "ce55b784-94c7-4f33-f4a6-28a124a0138c"
      },
      "execution_count": null,
      "outputs": [
        {
          "output_type": "execute_result",
          "data": {
            "text/plain": [
              "    category                                           comments\n",
              "245      neg  บอกว่ากุด่าผช(ที่ไปคอมเม้นเหี้ยๆในโพสยิปซี)ว่า...\n",
              "246      neg  คือพอเค้าดิสคัสกันเรื่องความเท่าเทียมทางเพศนี่...\n",
              "247      neg  ถ้าเท่าเทียมแล้วผมต่อยผู้หญิงได้มั้ย/ถ้าเท่าเท...\n",
              "248      neg  ต่อให้เกาหลีพัฒนาไปมากแค่ไหน แต่ก็คือบ้งเรื่อง...\n",
              "249      neg                      เฟมทวิตไม่ควรมีชีวิตอยู่บนโลก"
            ],
            "text/html": [
              "\n",
              "  <div id=\"df-daee8d17-7c89-4c4d-ac64-1a5a3f5dcb8e\" class=\"colab-df-container\">\n",
              "    <div>\n",
              "<style scoped>\n",
              "    .dataframe tbody tr th:only-of-type {\n",
              "        vertical-align: middle;\n",
              "    }\n",
              "\n",
              "    .dataframe tbody tr th {\n",
              "        vertical-align: top;\n",
              "    }\n",
              "\n",
              "    .dataframe thead th {\n",
              "        text-align: right;\n",
              "    }\n",
              "</style>\n",
              "<table border=\"1\" class=\"dataframe\">\n",
              "  <thead>\n",
              "    <tr style=\"text-align: right;\">\n",
              "      <th></th>\n",
              "      <th>category</th>\n",
              "      <th>comments</th>\n",
              "    </tr>\n",
              "  </thead>\n",
              "  <tbody>\n",
              "    <tr>\n",
              "      <th>245</th>\n",
              "      <td>neg</td>\n",
              "      <td>บอกว่ากุด่าผช(ที่ไปคอมเม้นเหี้ยๆในโพสยิปซี)ว่า...</td>\n",
              "    </tr>\n",
              "    <tr>\n",
              "      <th>246</th>\n",
              "      <td>neg</td>\n",
              "      <td>คือพอเค้าดิสคัสกันเรื่องความเท่าเทียมทางเพศนี่...</td>\n",
              "    </tr>\n",
              "    <tr>\n",
              "      <th>247</th>\n",
              "      <td>neg</td>\n",
              "      <td>ถ้าเท่าเทียมแล้วผมต่อยผู้หญิงได้มั้ย/ถ้าเท่าเท...</td>\n",
              "    </tr>\n",
              "    <tr>\n",
              "      <th>248</th>\n",
              "      <td>neg</td>\n",
              "      <td>ต่อให้เกาหลีพัฒนาไปมากแค่ไหน แต่ก็คือบ้งเรื่อง...</td>\n",
              "    </tr>\n",
              "    <tr>\n",
              "      <th>249</th>\n",
              "      <td>neg</td>\n",
              "      <td>เฟมทวิตไม่ควรมีชีวิตอยู่บนโลก</td>\n",
              "    </tr>\n",
              "  </tbody>\n",
              "</table>\n",
              "</div>\n",
              "    <div class=\"colab-df-buttons\">\n",
              "\n",
              "  <div class=\"colab-df-container\">\n",
              "    <button class=\"colab-df-convert\" onclick=\"convertToInteractive('df-daee8d17-7c89-4c4d-ac64-1a5a3f5dcb8e')\"\n",
              "            title=\"Convert this dataframe to an interactive table.\"\n",
              "            style=\"display:none;\">\n",
              "\n",
              "  <svg xmlns=\"http://www.w3.org/2000/svg\" height=\"24px\" viewBox=\"0 -960 960 960\">\n",
              "    <path d=\"M120-120v-720h720v720H120Zm60-500h600v-160H180v160Zm220 220h160v-160H400v160Zm0 220h160v-160H400v160ZM180-400h160v-160H180v160Zm440 0h160v-160H620v160ZM180-180h160v-160H180v160Zm440 0h160v-160H620v160Z\"/>\n",
              "  </svg>\n",
              "    </button>\n",
              "\n",
              "  <style>\n",
              "    .colab-df-container {\n",
              "      display:flex;\n",
              "      gap: 12px;\n",
              "    }\n",
              "\n",
              "    .colab-df-convert {\n",
              "      background-color: #E8F0FE;\n",
              "      border: none;\n",
              "      border-radius: 50%;\n",
              "      cursor: pointer;\n",
              "      display: none;\n",
              "      fill: #1967D2;\n",
              "      height: 32px;\n",
              "      padding: 0 0 0 0;\n",
              "      width: 32px;\n",
              "    }\n",
              "\n",
              "    .colab-df-convert:hover {\n",
              "      background-color: #E2EBFA;\n",
              "      box-shadow: 0px 1px 2px rgba(60, 64, 67, 0.3), 0px 1px 3px 1px rgba(60, 64, 67, 0.15);\n",
              "      fill: #174EA6;\n",
              "    }\n",
              "\n",
              "    .colab-df-buttons div {\n",
              "      margin-bottom: 4px;\n",
              "    }\n",
              "\n",
              "    [theme=dark] .colab-df-convert {\n",
              "      background-color: #3B4455;\n",
              "      fill: #D2E3FC;\n",
              "    }\n",
              "\n",
              "    [theme=dark] .colab-df-convert:hover {\n",
              "      background-color: #434B5C;\n",
              "      box-shadow: 0px 1px 3px 1px rgba(0, 0, 0, 0.15);\n",
              "      filter: drop-shadow(0px 1px 2px rgba(0, 0, 0, 0.3));\n",
              "      fill: #FFFFFF;\n",
              "    }\n",
              "  </style>\n",
              "\n",
              "    <script>\n",
              "      const buttonEl =\n",
              "        document.querySelector('#df-daee8d17-7c89-4c4d-ac64-1a5a3f5dcb8e button.colab-df-convert');\n",
              "      buttonEl.style.display =\n",
              "        google.colab.kernel.accessAllowed ? 'block' : 'none';\n",
              "\n",
              "      async function convertToInteractive(key) {\n",
              "        const element = document.querySelector('#df-daee8d17-7c89-4c4d-ac64-1a5a3f5dcb8e');\n",
              "        const dataTable =\n",
              "          await google.colab.kernel.invokeFunction('convertToInteractive',\n",
              "                                                    [key], {});\n",
              "        if (!dataTable) return;\n",
              "\n",
              "        const docLinkHtml = 'Like what you see? Visit the ' +\n",
              "          '<a target=\"_blank\" href=https://colab.research.google.com/notebooks/data_table.ipynb>data table notebook</a>'\n",
              "          + ' to learn more about interactive tables.';\n",
              "        element.innerHTML = '';\n",
              "        dataTable['output_type'] = 'display_data';\n",
              "        await google.colab.output.renderOutput(dataTable, element);\n",
              "        const docLink = document.createElement('div');\n",
              "        docLink.innerHTML = docLinkHtml;\n",
              "        element.appendChild(docLink);\n",
              "      }\n",
              "    </script>\n",
              "  </div>\n",
              "\n",
              "\n",
              "<div id=\"df-aecb6ab9-1a88-4323-a2b5-6fb02e3a2c9b\">\n",
              "  <button class=\"colab-df-quickchart\" onclick=\"quickchart('df-aecb6ab9-1a88-4323-a2b5-6fb02e3a2c9b')\"\n",
              "            title=\"Suggest charts.\"\n",
              "            style=\"display:none;\">\n",
              "\n",
              "<svg xmlns=\"http://www.w3.org/2000/svg\" height=\"24px\"viewBox=\"0 0 24 24\"\n",
              "     width=\"24px\">\n",
              "    <g>\n",
              "        <path d=\"M19 3H5c-1.1 0-2 .9-2 2v14c0 1.1.9 2 2 2h14c1.1 0 2-.9 2-2V5c0-1.1-.9-2-2-2zM9 17H7v-7h2v7zm4 0h-2V7h2v10zm4 0h-2v-4h2v4z\"/>\n",
              "    </g>\n",
              "</svg>\n",
              "  </button>\n",
              "\n",
              "<style>\n",
              "  .colab-df-quickchart {\n",
              "      --bg-color: #E8F0FE;\n",
              "      --fill-color: #1967D2;\n",
              "      --hover-bg-color: #E2EBFA;\n",
              "      --hover-fill-color: #174EA6;\n",
              "      --disabled-fill-color: #AAA;\n",
              "      --disabled-bg-color: #DDD;\n",
              "  }\n",
              "\n",
              "  [theme=dark] .colab-df-quickchart {\n",
              "      --bg-color: #3B4455;\n",
              "      --fill-color: #D2E3FC;\n",
              "      --hover-bg-color: #434B5C;\n",
              "      --hover-fill-color: #FFFFFF;\n",
              "      --disabled-bg-color: #3B4455;\n",
              "      --disabled-fill-color: #666;\n",
              "  }\n",
              "\n",
              "  .colab-df-quickchart {\n",
              "    background-color: var(--bg-color);\n",
              "    border: none;\n",
              "    border-radius: 50%;\n",
              "    cursor: pointer;\n",
              "    display: none;\n",
              "    fill: var(--fill-color);\n",
              "    height: 32px;\n",
              "    padding: 0;\n",
              "    width: 32px;\n",
              "  }\n",
              "\n",
              "  .colab-df-quickchart:hover {\n",
              "    background-color: var(--hover-bg-color);\n",
              "    box-shadow: 0 1px 2px rgba(60, 64, 67, 0.3), 0 1px 3px 1px rgba(60, 64, 67, 0.15);\n",
              "    fill: var(--button-hover-fill-color);\n",
              "  }\n",
              "\n",
              "  .colab-df-quickchart-complete:disabled,\n",
              "  .colab-df-quickchart-complete:disabled:hover {\n",
              "    background-color: var(--disabled-bg-color);\n",
              "    fill: var(--disabled-fill-color);\n",
              "    box-shadow: none;\n",
              "  }\n",
              "\n",
              "  .colab-df-spinner {\n",
              "    border: 2px solid var(--fill-color);\n",
              "    border-color: transparent;\n",
              "    border-bottom-color: var(--fill-color);\n",
              "    animation:\n",
              "      spin 1s steps(1) infinite;\n",
              "  }\n",
              "\n",
              "  @keyframes spin {\n",
              "    0% {\n",
              "      border-color: transparent;\n",
              "      border-bottom-color: var(--fill-color);\n",
              "      border-left-color: var(--fill-color);\n",
              "    }\n",
              "    20% {\n",
              "      border-color: transparent;\n",
              "      border-left-color: var(--fill-color);\n",
              "      border-top-color: var(--fill-color);\n",
              "    }\n",
              "    30% {\n",
              "      border-color: transparent;\n",
              "      border-left-color: var(--fill-color);\n",
              "      border-top-color: var(--fill-color);\n",
              "      border-right-color: var(--fill-color);\n",
              "    }\n",
              "    40% {\n",
              "      border-color: transparent;\n",
              "      border-right-color: var(--fill-color);\n",
              "      border-top-color: var(--fill-color);\n",
              "    }\n",
              "    60% {\n",
              "      border-color: transparent;\n",
              "      border-right-color: var(--fill-color);\n",
              "    }\n",
              "    80% {\n",
              "      border-color: transparent;\n",
              "      border-right-color: var(--fill-color);\n",
              "      border-bottom-color: var(--fill-color);\n",
              "    }\n",
              "    90% {\n",
              "      border-color: transparent;\n",
              "      border-bottom-color: var(--fill-color);\n",
              "    }\n",
              "  }\n",
              "</style>\n",
              "\n",
              "  <script>\n",
              "    async function quickchart(key) {\n",
              "      const quickchartButtonEl =\n",
              "        document.querySelector('#' + key + ' button');\n",
              "      quickchartButtonEl.disabled = true;  // To prevent multiple clicks.\n",
              "      quickchartButtonEl.classList.add('colab-df-spinner');\n",
              "      try {\n",
              "        const charts = await google.colab.kernel.invokeFunction(\n",
              "            'suggestCharts', [key], {});\n",
              "      } catch (error) {\n",
              "        console.error('Error during call to suggestCharts:', error);\n",
              "      }\n",
              "      quickchartButtonEl.classList.remove('colab-df-spinner');\n",
              "      quickchartButtonEl.classList.add('colab-df-quickchart-complete');\n",
              "    }\n",
              "    (() => {\n",
              "      let quickchartButtonEl =\n",
              "        document.querySelector('#df-aecb6ab9-1a88-4323-a2b5-6fb02e3a2c9b button');\n",
              "      quickchartButtonEl.style.display =\n",
              "        google.colab.kernel.accessAllowed ? 'block' : 'none';\n",
              "    })();\n",
              "  </script>\n",
              "</div>\n",
              "    </div>\n",
              "  </div>\n"
            ]
          },
          "metadata": {},
          "execution_count": 207
        }
      ]
    },
    {
      "cell_type": "code",
      "source": [
        "df[df['category'] == \"pos\"].head()"
      ],
      "metadata": {
        "colab": {
          "base_uri": "https://localhost:8080/",
          "height": 206
        },
        "id": "9rtWQOD1I7u1",
        "outputId": "3d268625-4f2e-45c2-bf5f-45ab89160d8e"
      },
      "execution_count": null,
      "outputs": [
        {
          "output_type": "execute_result",
          "data": {
            "text/plain": [
              "    category                                           comments\n",
              "250      pos           ให้มีความเสมอภาคกันมากที่สุดแบบนี้ตังหาก\n",
              "251      pos  สมาคมฟ้าสีรุ้งฯ ยื่นโฆษก กมธ. ยกร่างข้อบังคับฯ...\n",
              "252      pos  เพื่อศึกษาสร้างความเข้าใจ และร่วมผลักดันในระดั...\n",
              "253      pos  คือการประชุมสุดยอดที่ว่าด้วยเรื่องความเท่าเทีย...\n",
              "254      pos    ความเท่าเทียมกันของมนุษย์ และความหลากหลายทางเพศ"
            ],
            "text/html": [
              "\n",
              "  <div id=\"df-81bf2ed1-cff8-4f64-8c79-3f3584975bdf\" class=\"colab-df-container\">\n",
              "    <div>\n",
              "<style scoped>\n",
              "    .dataframe tbody tr th:only-of-type {\n",
              "        vertical-align: middle;\n",
              "    }\n",
              "\n",
              "    .dataframe tbody tr th {\n",
              "        vertical-align: top;\n",
              "    }\n",
              "\n",
              "    .dataframe thead th {\n",
              "        text-align: right;\n",
              "    }\n",
              "</style>\n",
              "<table border=\"1\" class=\"dataframe\">\n",
              "  <thead>\n",
              "    <tr style=\"text-align: right;\">\n",
              "      <th></th>\n",
              "      <th>category</th>\n",
              "      <th>comments</th>\n",
              "    </tr>\n",
              "  </thead>\n",
              "  <tbody>\n",
              "    <tr>\n",
              "      <th>250</th>\n",
              "      <td>pos</td>\n",
              "      <td>ให้มีความเสมอภาคกันมากที่สุดแบบนี้ตังหาก</td>\n",
              "    </tr>\n",
              "    <tr>\n",
              "      <th>251</th>\n",
              "      <td>pos</td>\n",
              "      <td>สมาคมฟ้าสีรุ้งฯ ยื่นโฆษก กมธ. ยกร่างข้อบังคับฯ...</td>\n",
              "    </tr>\n",
              "    <tr>\n",
              "      <th>252</th>\n",
              "      <td>pos</td>\n",
              "      <td>เพื่อศึกษาสร้างความเข้าใจ และร่วมผลักดันในระดั...</td>\n",
              "    </tr>\n",
              "    <tr>\n",
              "      <th>253</th>\n",
              "      <td>pos</td>\n",
              "      <td>คือการประชุมสุดยอดที่ว่าด้วยเรื่องความเท่าเทีย...</td>\n",
              "    </tr>\n",
              "    <tr>\n",
              "      <th>254</th>\n",
              "      <td>pos</td>\n",
              "      <td>ความเท่าเทียมกันของมนุษย์ และความหลากหลายทางเพศ</td>\n",
              "    </tr>\n",
              "  </tbody>\n",
              "</table>\n",
              "</div>\n",
              "    <div class=\"colab-df-buttons\">\n",
              "\n",
              "  <div class=\"colab-df-container\">\n",
              "    <button class=\"colab-df-convert\" onclick=\"convertToInteractive('df-81bf2ed1-cff8-4f64-8c79-3f3584975bdf')\"\n",
              "            title=\"Convert this dataframe to an interactive table.\"\n",
              "            style=\"display:none;\">\n",
              "\n",
              "  <svg xmlns=\"http://www.w3.org/2000/svg\" height=\"24px\" viewBox=\"0 -960 960 960\">\n",
              "    <path d=\"M120-120v-720h720v720H120Zm60-500h600v-160H180v160Zm220 220h160v-160H400v160Zm0 220h160v-160H400v160ZM180-400h160v-160H180v160Zm440 0h160v-160H620v160ZM180-180h160v-160H180v160Zm440 0h160v-160H620v160Z\"/>\n",
              "  </svg>\n",
              "    </button>\n",
              "\n",
              "  <style>\n",
              "    .colab-df-container {\n",
              "      display:flex;\n",
              "      gap: 12px;\n",
              "    }\n",
              "\n",
              "    .colab-df-convert {\n",
              "      background-color: #E8F0FE;\n",
              "      border: none;\n",
              "      border-radius: 50%;\n",
              "      cursor: pointer;\n",
              "      display: none;\n",
              "      fill: #1967D2;\n",
              "      height: 32px;\n",
              "      padding: 0 0 0 0;\n",
              "      width: 32px;\n",
              "    }\n",
              "\n",
              "    .colab-df-convert:hover {\n",
              "      background-color: #E2EBFA;\n",
              "      box-shadow: 0px 1px 2px rgba(60, 64, 67, 0.3), 0px 1px 3px 1px rgba(60, 64, 67, 0.15);\n",
              "      fill: #174EA6;\n",
              "    }\n",
              "\n",
              "    .colab-df-buttons div {\n",
              "      margin-bottom: 4px;\n",
              "    }\n",
              "\n",
              "    [theme=dark] .colab-df-convert {\n",
              "      background-color: #3B4455;\n",
              "      fill: #D2E3FC;\n",
              "    }\n",
              "\n",
              "    [theme=dark] .colab-df-convert:hover {\n",
              "      background-color: #434B5C;\n",
              "      box-shadow: 0px 1px 3px 1px rgba(0, 0, 0, 0.15);\n",
              "      filter: drop-shadow(0px 1px 2px rgba(0, 0, 0, 0.3));\n",
              "      fill: #FFFFFF;\n",
              "    }\n",
              "  </style>\n",
              "\n",
              "    <script>\n",
              "      const buttonEl =\n",
              "        document.querySelector('#df-81bf2ed1-cff8-4f64-8c79-3f3584975bdf button.colab-df-convert');\n",
              "      buttonEl.style.display =\n",
              "        google.colab.kernel.accessAllowed ? 'block' : 'none';\n",
              "\n",
              "      async function convertToInteractive(key) {\n",
              "        const element = document.querySelector('#df-81bf2ed1-cff8-4f64-8c79-3f3584975bdf');\n",
              "        const dataTable =\n",
              "          await google.colab.kernel.invokeFunction('convertToInteractive',\n",
              "                                                    [key], {});\n",
              "        if (!dataTable) return;\n",
              "\n",
              "        const docLinkHtml = 'Like what you see? Visit the ' +\n",
              "          '<a target=\"_blank\" href=https://colab.research.google.com/notebooks/data_table.ipynb>data table notebook</a>'\n",
              "          + ' to learn more about interactive tables.';\n",
              "        element.innerHTML = '';\n",
              "        dataTable['output_type'] = 'display_data';\n",
              "        await google.colab.output.renderOutput(dataTable, element);\n",
              "        const docLink = document.createElement('div');\n",
              "        docLink.innerHTML = docLinkHtml;\n",
              "        element.appendChild(docLink);\n",
              "      }\n",
              "    </script>\n",
              "  </div>\n",
              "\n",
              "\n",
              "<div id=\"df-afedfd19-3ea2-459c-b8c6-8ea119089a9c\">\n",
              "  <button class=\"colab-df-quickchart\" onclick=\"quickchart('df-afedfd19-3ea2-459c-b8c6-8ea119089a9c')\"\n",
              "            title=\"Suggest charts.\"\n",
              "            style=\"display:none;\">\n",
              "\n",
              "<svg xmlns=\"http://www.w3.org/2000/svg\" height=\"24px\"viewBox=\"0 0 24 24\"\n",
              "     width=\"24px\">\n",
              "    <g>\n",
              "        <path d=\"M19 3H5c-1.1 0-2 .9-2 2v14c0 1.1.9 2 2 2h14c1.1 0 2-.9 2-2V5c0-1.1-.9-2-2-2zM9 17H7v-7h2v7zm4 0h-2V7h2v10zm4 0h-2v-4h2v4z\"/>\n",
              "    </g>\n",
              "</svg>\n",
              "  </button>\n",
              "\n",
              "<style>\n",
              "  .colab-df-quickchart {\n",
              "      --bg-color: #E8F0FE;\n",
              "      --fill-color: #1967D2;\n",
              "      --hover-bg-color: #E2EBFA;\n",
              "      --hover-fill-color: #174EA6;\n",
              "      --disabled-fill-color: #AAA;\n",
              "      --disabled-bg-color: #DDD;\n",
              "  }\n",
              "\n",
              "  [theme=dark] .colab-df-quickchart {\n",
              "      --bg-color: #3B4455;\n",
              "      --fill-color: #D2E3FC;\n",
              "      --hover-bg-color: #434B5C;\n",
              "      --hover-fill-color: #FFFFFF;\n",
              "      --disabled-bg-color: #3B4455;\n",
              "      --disabled-fill-color: #666;\n",
              "  }\n",
              "\n",
              "  .colab-df-quickchart {\n",
              "    background-color: var(--bg-color);\n",
              "    border: none;\n",
              "    border-radius: 50%;\n",
              "    cursor: pointer;\n",
              "    display: none;\n",
              "    fill: var(--fill-color);\n",
              "    height: 32px;\n",
              "    padding: 0;\n",
              "    width: 32px;\n",
              "  }\n",
              "\n",
              "  .colab-df-quickchart:hover {\n",
              "    background-color: var(--hover-bg-color);\n",
              "    box-shadow: 0 1px 2px rgba(60, 64, 67, 0.3), 0 1px 3px 1px rgba(60, 64, 67, 0.15);\n",
              "    fill: var(--button-hover-fill-color);\n",
              "  }\n",
              "\n",
              "  .colab-df-quickchart-complete:disabled,\n",
              "  .colab-df-quickchart-complete:disabled:hover {\n",
              "    background-color: var(--disabled-bg-color);\n",
              "    fill: var(--disabled-fill-color);\n",
              "    box-shadow: none;\n",
              "  }\n",
              "\n",
              "  .colab-df-spinner {\n",
              "    border: 2px solid var(--fill-color);\n",
              "    border-color: transparent;\n",
              "    border-bottom-color: var(--fill-color);\n",
              "    animation:\n",
              "      spin 1s steps(1) infinite;\n",
              "  }\n",
              "\n",
              "  @keyframes spin {\n",
              "    0% {\n",
              "      border-color: transparent;\n",
              "      border-bottom-color: var(--fill-color);\n",
              "      border-left-color: var(--fill-color);\n",
              "    }\n",
              "    20% {\n",
              "      border-color: transparent;\n",
              "      border-left-color: var(--fill-color);\n",
              "      border-top-color: var(--fill-color);\n",
              "    }\n",
              "    30% {\n",
              "      border-color: transparent;\n",
              "      border-left-color: var(--fill-color);\n",
              "      border-top-color: var(--fill-color);\n",
              "      border-right-color: var(--fill-color);\n",
              "    }\n",
              "    40% {\n",
              "      border-color: transparent;\n",
              "      border-right-color: var(--fill-color);\n",
              "      border-top-color: var(--fill-color);\n",
              "    }\n",
              "    60% {\n",
              "      border-color: transparent;\n",
              "      border-right-color: var(--fill-color);\n",
              "    }\n",
              "    80% {\n",
              "      border-color: transparent;\n",
              "      border-right-color: var(--fill-color);\n",
              "      border-bottom-color: var(--fill-color);\n",
              "    }\n",
              "    90% {\n",
              "      border-color: transparent;\n",
              "      border-bottom-color: var(--fill-color);\n",
              "    }\n",
              "  }\n",
              "</style>\n",
              "\n",
              "  <script>\n",
              "    async function quickchart(key) {\n",
              "      const quickchartButtonEl =\n",
              "        document.querySelector('#' + key + ' button');\n",
              "      quickchartButtonEl.disabled = true;  // To prevent multiple clicks.\n",
              "      quickchartButtonEl.classList.add('colab-df-spinner');\n",
              "      try {\n",
              "        const charts = await google.colab.kernel.invokeFunction(\n",
              "            'suggestCharts', [key], {});\n",
              "      } catch (error) {\n",
              "        console.error('Error during call to suggestCharts:', error);\n",
              "      }\n",
              "      quickchartButtonEl.classList.remove('colab-df-spinner');\n",
              "      quickchartButtonEl.classList.add('colab-df-quickchart-complete');\n",
              "    }\n",
              "    (() => {\n",
              "      let quickchartButtonEl =\n",
              "        document.querySelector('#df-afedfd19-3ea2-459c-b8c6-8ea119089a9c button');\n",
              "      quickchartButtonEl.style.display =\n",
              "        google.colab.kernel.accessAllowed ? 'block' : 'none';\n",
              "    })();\n",
              "  </script>\n",
              "</div>\n",
              "    </div>\n",
              "  </div>\n"
            ]
          },
          "metadata": {},
          "execution_count": 208
        }
      ]
    },
    {
      "cell_type": "code",
      "source": [
        "df[df['category'] == \"pos\"].tail()"
      ],
      "metadata": {
        "colab": {
          "base_uri": "https://localhost:8080/",
          "height": 206
        },
        "id": "WYH8ZCKhJRAB",
        "outputId": "76e2dd56-c4aa-4b20-8276-950d178487ef"
      },
      "execution_count": null,
      "outputs": [
        {
          "output_type": "execute_result",
          "data": {
            "text/plain": [
              "    category                                           comments\n",
              "495      pos  หากให้สิทธิที่เท่าเทียมกับพวกเขา พวกเขาก็จะมีค...\n",
              "496      pos  แต่ทุกคนต้องมีความเท่าเทียมกันในฐานะมนุษย์ มีส...\n",
              "497      pos  และการศึกษาก็ควรจะเป็นสิ่งที่ทำให้เข้าถึงง่ายใ...\n",
              "498      pos  แต่สิ่งที่ควรทำคือ ควรจะผลักดันให้เกิดความเท่า...\n",
              "499      pos  เพื่อให้ทุกโอกาสเข้าไปถึงคนทุกชนชั้น คนทุกเพศ ..."
            ],
            "text/html": [
              "\n",
              "  <div id=\"df-a8e8f20d-b9e3-471f-9b50-c6e3a6d2c351\" class=\"colab-df-container\">\n",
              "    <div>\n",
              "<style scoped>\n",
              "    .dataframe tbody tr th:only-of-type {\n",
              "        vertical-align: middle;\n",
              "    }\n",
              "\n",
              "    .dataframe tbody tr th {\n",
              "        vertical-align: top;\n",
              "    }\n",
              "\n",
              "    .dataframe thead th {\n",
              "        text-align: right;\n",
              "    }\n",
              "</style>\n",
              "<table border=\"1\" class=\"dataframe\">\n",
              "  <thead>\n",
              "    <tr style=\"text-align: right;\">\n",
              "      <th></th>\n",
              "      <th>category</th>\n",
              "      <th>comments</th>\n",
              "    </tr>\n",
              "  </thead>\n",
              "  <tbody>\n",
              "    <tr>\n",
              "      <th>495</th>\n",
              "      <td>pos</td>\n",
              "      <td>หากให้สิทธิที่เท่าเทียมกับพวกเขา พวกเขาก็จะมีค...</td>\n",
              "    </tr>\n",
              "    <tr>\n",
              "      <th>496</th>\n",
              "      <td>pos</td>\n",
              "      <td>แต่ทุกคนต้องมีความเท่าเทียมกันในฐานะมนุษย์ มีส...</td>\n",
              "    </tr>\n",
              "    <tr>\n",
              "      <th>497</th>\n",
              "      <td>pos</td>\n",
              "      <td>และการศึกษาก็ควรจะเป็นสิ่งที่ทำให้เข้าถึงง่ายใ...</td>\n",
              "    </tr>\n",
              "    <tr>\n",
              "      <th>498</th>\n",
              "      <td>pos</td>\n",
              "      <td>แต่สิ่งที่ควรทำคือ ควรจะผลักดันให้เกิดความเท่า...</td>\n",
              "    </tr>\n",
              "    <tr>\n",
              "      <th>499</th>\n",
              "      <td>pos</td>\n",
              "      <td>เพื่อให้ทุกโอกาสเข้าไปถึงคนทุกชนชั้น คนทุกเพศ ...</td>\n",
              "    </tr>\n",
              "  </tbody>\n",
              "</table>\n",
              "</div>\n",
              "    <div class=\"colab-df-buttons\">\n",
              "\n",
              "  <div class=\"colab-df-container\">\n",
              "    <button class=\"colab-df-convert\" onclick=\"convertToInteractive('df-a8e8f20d-b9e3-471f-9b50-c6e3a6d2c351')\"\n",
              "            title=\"Convert this dataframe to an interactive table.\"\n",
              "            style=\"display:none;\">\n",
              "\n",
              "  <svg xmlns=\"http://www.w3.org/2000/svg\" height=\"24px\" viewBox=\"0 -960 960 960\">\n",
              "    <path d=\"M120-120v-720h720v720H120Zm60-500h600v-160H180v160Zm220 220h160v-160H400v160Zm0 220h160v-160H400v160ZM180-400h160v-160H180v160Zm440 0h160v-160H620v160ZM180-180h160v-160H180v160Zm440 0h160v-160H620v160Z\"/>\n",
              "  </svg>\n",
              "    </button>\n",
              "\n",
              "  <style>\n",
              "    .colab-df-container {\n",
              "      display:flex;\n",
              "      gap: 12px;\n",
              "    }\n",
              "\n",
              "    .colab-df-convert {\n",
              "      background-color: #E8F0FE;\n",
              "      border: none;\n",
              "      border-radius: 50%;\n",
              "      cursor: pointer;\n",
              "      display: none;\n",
              "      fill: #1967D2;\n",
              "      height: 32px;\n",
              "      padding: 0 0 0 0;\n",
              "      width: 32px;\n",
              "    }\n",
              "\n",
              "    .colab-df-convert:hover {\n",
              "      background-color: #E2EBFA;\n",
              "      box-shadow: 0px 1px 2px rgba(60, 64, 67, 0.3), 0px 1px 3px 1px rgba(60, 64, 67, 0.15);\n",
              "      fill: #174EA6;\n",
              "    }\n",
              "\n",
              "    .colab-df-buttons div {\n",
              "      margin-bottom: 4px;\n",
              "    }\n",
              "\n",
              "    [theme=dark] .colab-df-convert {\n",
              "      background-color: #3B4455;\n",
              "      fill: #D2E3FC;\n",
              "    }\n",
              "\n",
              "    [theme=dark] .colab-df-convert:hover {\n",
              "      background-color: #434B5C;\n",
              "      box-shadow: 0px 1px 3px 1px rgba(0, 0, 0, 0.15);\n",
              "      filter: drop-shadow(0px 1px 2px rgba(0, 0, 0, 0.3));\n",
              "      fill: #FFFFFF;\n",
              "    }\n",
              "  </style>\n",
              "\n",
              "    <script>\n",
              "      const buttonEl =\n",
              "        document.querySelector('#df-a8e8f20d-b9e3-471f-9b50-c6e3a6d2c351 button.colab-df-convert');\n",
              "      buttonEl.style.display =\n",
              "        google.colab.kernel.accessAllowed ? 'block' : 'none';\n",
              "\n",
              "      async function convertToInteractive(key) {\n",
              "        const element = document.querySelector('#df-a8e8f20d-b9e3-471f-9b50-c6e3a6d2c351');\n",
              "        const dataTable =\n",
              "          await google.colab.kernel.invokeFunction('convertToInteractive',\n",
              "                                                    [key], {});\n",
              "        if (!dataTable) return;\n",
              "\n",
              "        const docLinkHtml = 'Like what you see? Visit the ' +\n",
              "          '<a target=\"_blank\" href=https://colab.research.google.com/notebooks/data_table.ipynb>data table notebook</a>'\n",
              "          + ' to learn more about interactive tables.';\n",
              "        element.innerHTML = '';\n",
              "        dataTable['output_type'] = 'display_data';\n",
              "        await google.colab.output.renderOutput(dataTable, element);\n",
              "        const docLink = document.createElement('div');\n",
              "        docLink.innerHTML = docLinkHtml;\n",
              "        element.appendChild(docLink);\n",
              "      }\n",
              "    </script>\n",
              "  </div>\n",
              "\n",
              "\n",
              "<div id=\"df-58277f03-0178-4ec4-93c1-1ee19ff07288\">\n",
              "  <button class=\"colab-df-quickchart\" onclick=\"quickchart('df-58277f03-0178-4ec4-93c1-1ee19ff07288')\"\n",
              "            title=\"Suggest charts.\"\n",
              "            style=\"display:none;\">\n",
              "\n",
              "<svg xmlns=\"http://www.w3.org/2000/svg\" height=\"24px\"viewBox=\"0 0 24 24\"\n",
              "     width=\"24px\">\n",
              "    <g>\n",
              "        <path d=\"M19 3H5c-1.1 0-2 .9-2 2v14c0 1.1.9 2 2 2h14c1.1 0 2-.9 2-2V5c0-1.1-.9-2-2-2zM9 17H7v-7h2v7zm4 0h-2V7h2v10zm4 0h-2v-4h2v4z\"/>\n",
              "    </g>\n",
              "</svg>\n",
              "  </button>\n",
              "\n",
              "<style>\n",
              "  .colab-df-quickchart {\n",
              "      --bg-color: #E8F0FE;\n",
              "      --fill-color: #1967D2;\n",
              "      --hover-bg-color: #E2EBFA;\n",
              "      --hover-fill-color: #174EA6;\n",
              "      --disabled-fill-color: #AAA;\n",
              "      --disabled-bg-color: #DDD;\n",
              "  }\n",
              "\n",
              "  [theme=dark] .colab-df-quickchart {\n",
              "      --bg-color: #3B4455;\n",
              "      --fill-color: #D2E3FC;\n",
              "      --hover-bg-color: #434B5C;\n",
              "      --hover-fill-color: #FFFFFF;\n",
              "      --disabled-bg-color: #3B4455;\n",
              "      --disabled-fill-color: #666;\n",
              "  }\n",
              "\n",
              "  .colab-df-quickchart {\n",
              "    background-color: var(--bg-color);\n",
              "    border: none;\n",
              "    border-radius: 50%;\n",
              "    cursor: pointer;\n",
              "    display: none;\n",
              "    fill: var(--fill-color);\n",
              "    height: 32px;\n",
              "    padding: 0;\n",
              "    width: 32px;\n",
              "  }\n",
              "\n",
              "  .colab-df-quickchart:hover {\n",
              "    background-color: var(--hover-bg-color);\n",
              "    box-shadow: 0 1px 2px rgba(60, 64, 67, 0.3), 0 1px 3px 1px rgba(60, 64, 67, 0.15);\n",
              "    fill: var(--button-hover-fill-color);\n",
              "  }\n",
              "\n",
              "  .colab-df-quickchart-complete:disabled,\n",
              "  .colab-df-quickchart-complete:disabled:hover {\n",
              "    background-color: var(--disabled-bg-color);\n",
              "    fill: var(--disabled-fill-color);\n",
              "    box-shadow: none;\n",
              "  }\n",
              "\n",
              "  .colab-df-spinner {\n",
              "    border: 2px solid var(--fill-color);\n",
              "    border-color: transparent;\n",
              "    border-bottom-color: var(--fill-color);\n",
              "    animation:\n",
              "      spin 1s steps(1) infinite;\n",
              "  }\n",
              "\n",
              "  @keyframes spin {\n",
              "    0% {\n",
              "      border-color: transparent;\n",
              "      border-bottom-color: var(--fill-color);\n",
              "      border-left-color: var(--fill-color);\n",
              "    }\n",
              "    20% {\n",
              "      border-color: transparent;\n",
              "      border-left-color: var(--fill-color);\n",
              "      border-top-color: var(--fill-color);\n",
              "    }\n",
              "    30% {\n",
              "      border-color: transparent;\n",
              "      border-left-color: var(--fill-color);\n",
              "      border-top-color: var(--fill-color);\n",
              "      border-right-color: var(--fill-color);\n",
              "    }\n",
              "    40% {\n",
              "      border-color: transparent;\n",
              "      border-right-color: var(--fill-color);\n",
              "      border-top-color: var(--fill-color);\n",
              "    }\n",
              "    60% {\n",
              "      border-color: transparent;\n",
              "      border-right-color: var(--fill-color);\n",
              "    }\n",
              "    80% {\n",
              "      border-color: transparent;\n",
              "      border-right-color: var(--fill-color);\n",
              "      border-bottom-color: var(--fill-color);\n",
              "    }\n",
              "    90% {\n",
              "      border-color: transparent;\n",
              "      border-bottom-color: var(--fill-color);\n",
              "    }\n",
              "  }\n",
              "</style>\n",
              "\n",
              "  <script>\n",
              "    async function quickchart(key) {\n",
              "      const quickchartButtonEl =\n",
              "        document.querySelector('#' + key + ' button');\n",
              "      quickchartButtonEl.disabled = true;  // To prevent multiple clicks.\n",
              "      quickchartButtonEl.classList.add('colab-df-spinner');\n",
              "      try {\n",
              "        const charts = await google.colab.kernel.invokeFunction(\n",
              "            'suggestCharts', [key], {});\n",
              "      } catch (error) {\n",
              "        console.error('Error during call to suggestCharts:', error);\n",
              "      }\n",
              "      quickchartButtonEl.classList.remove('colab-df-spinner');\n",
              "      quickchartButtonEl.classList.add('colab-df-quickchart-complete');\n",
              "    }\n",
              "    (() => {\n",
              "      let quickchartButtonEl =\n",
              "        document.querySelector('#df-58277f03-0178-4ec4-93c1-1ee19ff07288 button');\n",
              "      quickchartButtonEl.style.display =\n",
              "        google.colab.kernel.accessAllowed ? 'block' : 'none';\n",
              "    })();\n",
              "  </script>\n",
              "</div>\n",
              "    </div>\n",
              "  </div>\n"
            ]
          },
          "metadata": {},
          "execution_count": 209
        }
      ]
    },
    {
      "cell_type": "markdown",
      "source": [
        "- กำหนดอักขระที่ไม่ต้องการ"
      ],
      "metadata": {
        "id": "XEuVQ6nLvj3c"
      }
    },
    {
      "cell_type": "code",
      "source": [
        "pun = '\"#\\'()*,-.;<=>[\\\\]^_`{|}~'\n",
        "pun"
      ],
      "metadata": {
        "colab": {
          "base_uri": "https://localhost:8080/",
          "height": 35
        },
        "id": "61chOkbvvg3K",
        "outputId": "7ce4fd96-7909-4741-e662-f116075ed5ed"
      },
      "execution_count": null,
      "outputs": [
        {
          "output_type": "execute_result",
          "data": {
            "text/plain": [
              "'\"#\\'()*,-.;<=>[\\\\]^_`{|}~'"
            ],
            "application/vnd.google.colaboratory.intrinsic+json": {
              "type": "string"
            }
          },
          "metadata": {},
          "execution_count": 210
        }
      ]
    },
    {
      "cell_type": "markdown",
      "source": [
        "- ลบอักขระที่ไม่ต้องการ"
      ],
      "metadata": {
        "id": "65U_ACk0vvAv"
      }
    },
    {
      "cell_type": "code",
      "source": [
        "df['comments']= df['comments'].str.replace(r'[%s]' % (pun), '', regex=True)"
      ],
      "metadata": {
        "id": "myVXISrFvuUy"
      },
      "execution_count": null,
      "outputs": []
    },
    {
      "cell_type": "code",
      "source": [
        "df.sample(3)"
      ],
      "metadata": {
        "colab": {
          "base_uri": "https://localhost:8080/",
          "height": 143
        },
        "id": "nsodRiSrwqTb",
        "outputId": "d41a2a83-34ed-4dd8-a71c-4b06fc28af80"
      },
      "execution_count": null,
      "outputs": [
        {
          "output_type": "execute_result",
          "data": {
            "text/plain": [
              "    category                                           comments\n",
              "279      pos      พัฒนาความเท่าเทียมทางเพศในทุกมิติให้ดีขึ้นได้\n",
              "38       neg  ทำให้เมื่อผู้ชายโดนข่มขืนและล่วงละเมิดทางเพศ พ...\n",
              "107      neg  เสือกไร มึงเมนชั่นมาหากู กูก็จะด่า มึงรุ้ปะ เพ..."
            ],
            "text/html": [
              "\n",
              "  <div id=\"df-abbe5c8f-c177-425d-ab60-ba0a546fcb2c\" class=\"colab-df-container\">\n",
              "    <div>\n",
              "<style scoped>\n",
              "    .dataframe tbody tr th:only-of-type {\n",
              "        vertical-align: middle;\n",
              "    }\n",
              "\n",
              "    .dataframe tbody tr th {\n",
              "        vertical-align: top;\n",
              "    }\n",
              "\n",
              "    .dataframe thead th {\n",
              "        text-align: right;\n",
              "    }\n",
              "</style>\n",
              "<table border=\"1\" class=\"dataframe\">\n",
              "  <thead>\n",
              "    <tr style=\"text-align: right;\">\n",
              "      <th></th>\n",
              "      <th>category</th>\n",
              "      <th>comments</th>\n",
              "    </tr>\n",
              "  </thead>\n",
              "  <tbody>\n",
              "    <tr>\n",
              "      <th>279</th>\n",
              "      <td>pos</td>\n",
              "      <td>พัฒนาความเท่าเทียมทางเพศในทุกมิติให้ดีขึ้นได้</td>\n",
              "    </tr>\n",
              "    <tr>\n",
              "      <th>38</th>\n",
              "      <td>neg</td>\n",
              "      <td>ทำให้เมื่อผู้ชายโดนข่มขืนและล่วงละเมิดทางเพศ พ...</td>\n",
              "    </tr>\n",
              "    <tr>\n",
              "      <th>107</th>\n",
              "      <td>neg</td>\n",
              "      <td>เสือกไร มึงเมนชั่นมาหากู กูก็จะด่า มึงรุ้ปะ เพ...</td>\n",
              "    </tr>\n",
              "  </tbody>\n",
              "</table>\n",
              "</div>\n",
              "    <div class=\"colab-df-buttons\">\n",
              "\n",
              "  <div class=\"colab-df-container\">\n",
              "    <button class=\"colab-df-convert\" onclick=\"convertToInteractive('df-abbe5c8f-c177-425d-ab60-ba0a546fcb2c')\"\n",
              "            title=\"Convert this dataframe to an interactive table.\"\n",
              "            style=\"display:none;\">\n",
              "\n",
              "  <svg xmlns=\"http://www.w3.org/2000/svg\" height=\"24px\" viewBox=\"0 -960 960 960\">\n",
              "    <path d=\"M120-120v-720h720v720H120Zm60-500h600v-160H180v160Zm220 220h160v-160H400v160Zm0 220h160v-160H400v160ZM180-400h160v-160H180v160Zm440 0h160v-160H620v160ZM180-180h160v-160H180v160Zm440 0h160v-160H620v160Z\"/>\n",
              "  </svg>\n",
              "    </button>\n",
              "\n",
              "  <style>\n",
              "    .colab-df-container {\n",
              "      display:flex;\n",
              "      gap: 12px;\n",
              "    }\n",
              "\n",
              "    .colab-df-convert {\n",
              "      background-color: #E8F0FE;\n",
              "      border: none;\n",
              "      border-radius: 50%;\n",
              "      cursor: pointer;\n",
              "      display: none;\n",
              "      fill: #1967D2;\n",
              "      height: 32px;\n",
              "      padding: 0 0 0 0;\n",
              "      width: 32px;\n",
              "    }\n",
              "\n",
              "    .colab-df-convert:hover {\n",
              "      background-color: #E2EBFA;\n",
              "      box-shadow: 0px 1px 2px rgba(60, 64, 67, 0.3), 0px 1px 3px 1px rgba(60, 64, 67, 0.15);\n",
              "      fill: #174EA6;\n",
              "    }\n",
              "\n",
              "    .colab-df-buttons div {\n",
              "      margin-bottom: 4px;\n",
              "    }\n",
              "\n",
              "    [theme=dark] .colab-df-convert {\n",
              "      background-color: #3B4455;\n",
              "      fill: #D2E3FC;\n",
              "    }\n",
              "\n",
              "    [theme=dark] .colab-df-convert:hover {\n",
              "      background-color: #434B5C;\n",
              "      box-shadow: 0px 1px 3px 1px rgba(0, 0, 0, 0.15);\n",
              "      filter: drop-shadow(0px 1px 2px rgba(0, 0, 0, 0.3));\n",
              "      fill: #FFFFFF;\n",
              "    }\n",
              "  </style>\n",
              "\n",
              "    <script>\n",
              "      const buttonEl =\n",
              "        document.querySelector('#df-abbe5c8f-c177-425d-ab60-ba0a546fcb2c button.colab-df-convert');\n",
              "      buttonEl.style.display =\n",
              "        google.colab.kernel.accessAllowed ? 'block' : 'none';\n",
              "\n",
              "      async function convertToInteractive(key) {\n",
              "        const element = document.querySelector('#df-abbe5c8f-c177-425d-ab60-ba0a546fcb2c');\n",
              "        const dataTable =\n",
              "          await google.colab.kernel.invokeFunction('convertToInteractive',\n",
              "                                                    [key], {});\n",
              "        if (!dataTable) return;\n",
              "\n",
              "        const docLinkHtml = 'Like what you see? Visit the ' +\n",
              "          '<a target=\"_blank\" href=https://colab.research.google.com/notebooks/data_table.ipynb>data table notebook</a>'\n",
              "          + ' to learn more about interactive tables.';\n",
              "        element.innerHTML = '';\n",
              "        dataTable['output_type'] = 'display_data';\n",
              "        await google.colab.output.renderOutput(dataTable, element);\n",
              "        const docLink = document.createElement('div');\n",
              "        docLink.innerHTML = docLinkHtml;\n",
              "        element.appendChild(docLink);\n",
              "      }\n",
              "    </script>\n",
              "  </div>\n",
              "\n",
              "\n",
              "<div id=\"df-940e2ae5-f6ef-4cf3-8ed8-0f669d64f9ea\">\n",
              "  <button class=\"colab-df-quickchart\" onclick=\"quickchart('df-940e2ae5-f6ef-4cf3-8ed8-0f669d64f9ea')\"\n",
              "            title=\"Suggest charts.\"\n",
              "            style=\"display:none;\">\n",
              "\n",
              "<svg xmlns=\"http://www.w3.org/2000/svg\" height=\"24px\"viewBox=\"0 0 24 24\"\n",
              "     width=\"24px\">\n",
              "    <g>\n",
              "        <path d=\"M19 3H5c-1.1 0-2 .9-2 2v14c0 1.1.9 2 2 2h14c1.1 0 2-.9 2-2V5c0-1.1-.9-2-2-2zM9 17H7v-7h2v7zm4 0h-2V7h2v10zm4 0h-2v-4h2v4z\"/>\n",
              "    </g>\n",
              "</svg>\n",
              "  </button>\n",
              "\n",
              "<style>\n",
              "  .colab-df-quickchart {\n",
              "      --bg-color: #E8F0FE;\n",
              "      --fill-color: #1967D2;\n",
              "      --hover-bg-color: #E2EBFA;\n",
              "      --hover-fill-color: #174EA6;\n",
              "      --disabled-fill-color: #AAA;\n",
              "      --disabled-bg-color: #DDD;\n",
              "  }\n",
              "\n",
              "  [theme=dark] .colab-df-quickchart {\n",
              "      --bg-color: #3B4455;\n",
              "      --fill-color: #D2E3FC;\n",
              "      --hover-bg-color: #434B5C;\n",
              "      --hover-fill-color: #FFFFFF;\n",
              "      --disabled-bg-color: #3B4455;\n",
              "      --disabled-fill-color: #666;\n",
              "  }\n",
              "\n",
              "  .colab-df-quickchart {\n",
              "    background-color: var(--bg-color);\n",
              "    border: none;\n",
              "    border-radius: 50%;\n",
              "    cursor: pointer;\n",
              "    display: none;\n",
              "    fill: var(--fill-color);\n",
              "    height: 32px;\n",
              "    padding: 0;\n",
              "    width: 32px;\n",
              "  }\n",
              "\n",
              "  .colab-df-quickchart:hover {\n",
              "    background-color: var(--hover-bg-color);\n",
              "    box-shadow: 0 1px 2px rgba(60, 64, 67, 0.3), 0 1px 3px 1px rgba(60, 64, 67, 0.15);\n",
              "    fill: var(--button-hover-fill-color);\n",
              "  }\n",
              "\n",
              "  .colab-df-quickchart-complete:disabled,\n",
              "  .colab-df-quickchart-complete:disabled:hover {\n",
              "    background-color: var(--disabled-bg-color);\n",
              "    fill: var(--disabled-fill-color);\n",
              "    box-shadow: none;\n",
              "  }\n",
              "\n",
              "  .colab-df-spinner {\n",
              "    border: 2px solid var(--fill-color);\n",
              "    border-color: transparent;\n",
              "    border-bottom-color: var(--fill-color);\n",
              "    animation:\n",
              "      spin 1s steps(1) infinite;\n",
              "  }\n",
              "\n",
              "  @keyframes spin {\n",
              "    0% {\n",
              "      border-color: transparent;\n",
              "      border-bottom-color: var(--fill-color);\n",
              "      border-left-color: var(--fill-color);\n",
              "    }\n",
              "    20% {\n",
              "      border-color: transparent;\n",
              "      border-left-color: var(--fill-color);\n",
              "      border-top-color: var(--fill-color);\n",
              "    }\n",
              "    30% {\n",
              "      border-color: transparent;\n",
              "      border-left-color: var(--fill-color);\n",
              "      border-top-color: var(--fill-color);\n",
              "      border-right-color: var(--fill-color);\n",
              "    }\n",
              "    40% {\n",
              "      border-color: transparent;\n",
              "      border-right-color: var(--fill-color);\n",
              "      border-top-color: var(--fill-color);\n",
              "    }\n",
              "    60% {\n",
              "      border-color: transparent;\n",
              "      border-right-color: var(--fill-color);\n",
              "    }\n",
              "    80% {\n",
              "      border-color: transparent;\n",
              "      border-right-color: var(--fill-color);\n",
              "      border-bottom-color: var(--fill-color);\n",
              "    }\n",
              "    90% {\n",
              "      border-color: transparent;\n",
              "      border-bottom-color: var(--fill-color);\n",
              "    }\n",
              "  }\n",
              "</style>\n",
              "\n",
              "  <script>\n",
              "    async function quickchart(key) {\n",
              "      const quickchartButtonEl =\n",
              "        document.querySelector('#' + key + ' button');\n",
              "      quickchartButtonEl.disabled = true;  // To prevent multiple clicks.\n",
              "      quickchartButtonEl.classList.add('colab-df-spinner');\n",
              "      try {\n",
              "        const charts = await google.colab.kernel.invokeFunction(\n",
              "            'suggestCharts', [key], {});\n",
              "      } catch (error) {\n",
              "        console.error('Error during call to suggestCharts:', error);\n",
              "      }\n",
              "      quickchartButtonEl.classList.remove('colab-df-spinner');\n",
              "      quickchartButtonEl.classList.add('colab-df-quickchart-complete');\n",
              "    }\n",
              "    (() => {\n",
              "      let quickchartButtonEl =\n",
              "        document.querySelector('#df-940e2ae5-f6ef-4cf3-8ed8-0f669d64f9ea button');\n",
              "      quickchartButtonEl.style.display =\n",
              "        google.colab.kernel.accessAllowed ? 'block' : 'none';\n",
              "    })();\n",
              "  </script>\n",
              "</div>\n",
              "    </div>\n",
              "  </div>\n"
            ]
          },
          "metadata": {},
          "execution_count": 212
        }
      ]
    },
    {
      "cell_type": "code",
      "source": [
        "category = df.category.values\n",
        "category.shape"
      ],
      "metadata": {
        "colab": {
          "base_uri": "https://localhost:8080/"
        },
        "id": "MgJLG2MDZ6oV",
        "outputId": "2d886c73-e5a3-4e04-d79a-c533c462f1ce"
      },
      "execution_count": null,
      "outputs": [
        {
          "output_type": "execute_result",
          "data": {
            "text/plain": [
              "(500,)"
            ]
          },
          "metadata": {},
          "execution_count": 213
        }
      ]
    },
    {
      "cell_type": "markdown",
      "source": [
        "- สร้างฟังก์ชันเพื่อทำความสะอาดข้อมูล  ซึ่งเราจะรับเข้าทุกภาษา หากเป็นภาษาอังกฤษเราจะแปลงเป็นอักษรตัวเล็ก (lowercase) จากนั้นเก็บแต่ละคำของแต่ละประโยคไว้ใน List (temp) เพื่อหาความยาวของประโยค รวมทั้งเก็บแต่ละประโยคแบบ String (words) เพื่อสร้าง Train Data"
      ],
      "metadata": {
        "id": "Zo1ikkPIJvRP"
      }
    },
    {
      "cell_type": "code",
      "source": [
        "def cleaning(sentences):\n",
        "  words = []\n",
        "  temp = []\n",
        "  for s in sentences:\n",
        "    # clean = re.sub(r'[^ก-๙]', \"\", s)\n",
        "    #w = word_tokenize(clean)\n",
        "    w = word_tokenize(s)\n",
        "\n",
        "    # ปรับตัวอักษรภาษาอังกฤษ ให้เป็น lowercase\n",
        "    temp.append([i.lower() for i in w])\n",
        "    words.append(' '.join(w).lower())\n",
        "\n",
        "  return words, temp"
      ],
      "metadata": {
        "id": "KwPu7TJwKW9d"
      },
      "execution_count": null,
      "outputs": []
    },
    {
      "cell_type": "markdown",
      "source": [
        "- Clean ประโยคทั้งหมด"
      ],
      "metadata": {
        "id": "8JUrDRauKkiu"
      }
    },
    {
      "cell_type": "code",
      "source": [
        "cleaned_words, temp = cleaning(comments)\n",
        "print(len(cleaned_words))\n",
        "print(cleaned_words[495:])"
      ],
      "metadata": {
        "colab": {
          "base_uri": "https://localhost:8080/"
        },
        "id": "i3V_vivPKkKa",
        "outputId": "1f92f8b2-4ef1-44ad-8212-a951c7122228"
      },
      "execution_count": null,
      "outputs": [
        {
          "output_type": "stream",
          "name": "stdout",
          "text": [
            "500\n",
            "['หาก ให้ สิทธิ ที่ เท่าเทียม กับ พวกเขา   พวกเขา ก็ จะ มีความสุข มากขึ้น', 'แต่ ทุกคน ต้อง มี ความเท่าเทียมกัน ใน ฐานะ มนุษย์   มี สิทธิ ที่จะ แสดงออก อย่าง เท่าเทียมกัน จ้ะ', 'และ การศึกษา ก็ ควรจะเป็น สิ่ง ที่ ทำให้ เข้าถึง ง่าย ให้ เกิด ความเท่าเทียม มาก ที่สุด เพื่อ ไม่ ให้ เกิด ความเหลื่อมล้ำ ทางสังคม', 'แต่ สิ่ง ที่ ควร ทำ คือ   ควรจะ ผลักดัน ให้ เกิด ความเท่าเทียมกัน มาก ที่สุด', 'เพื่อให้ ทุก โอกาส เข้าไป ถึง คน ทุก ชนชั้น   คน ทุก เพศ   คน ทุก วัย']\n"
          ]
        }
      ]
    },
    {
      "cell_type": "markdown",
      "source": [
        "- นิยาม Function `create_tokenizer` เพื่อสร้าง `Keras TokenizerObject`"
      ],
      "metadata": {
        "id": "zyc7DqGrKxXl"
      }
    },
    {
      "cell_type": "code",
      "source": [
        "def create_tokenizer(words, filters = ''):\n",
        "    token = Tokenizer(filters=filters)\n",
        "    token.fit_on_texts(words)\n",
        "    return token"
      ],
      "metadata": {
        "id": "QtJjGd4nIfdJ"
      },
      "execution_count": null,
      "outputs": []
    },
    {
      "cell_type": "markdown",
      "source": [
        "- สร้าง Keras Tokenizer Object ที่มีการ Train ด้วย Sentence ที่ถูก Cleaning แล้ว ซึ่งเราจะได้ `Bag of Word` และ `จำนวนคำศัพท์` ของ Bag of Word จาก Keras Tokenizer ดังภาพด้านล่าง"
      ],
      "metadata": {
        "id": "k_Vkvf3EK8xA"
      }
    },
    {
      "cell_type": "code",
      "source": [
        "train_word_tokenizer = create_tokenizer(cleaned_words)\n",
        "vocab_size = len(train_word_tokenizer.word_index) +1"
      ],
      "metadata": {
        "id": "1P3RdM-eKwW7"
      },
      "execution_count": null,
      "outputs": []
    },
    {
      "cell_type": "code",
      "source": [
        "vocab_size"
      ],
      "metadata": {
        "colab": {
          "base_uri": "https://localhost:8080/"
        },
        "id": "9A7YQPL8Yzey",
        "outputId": "4d6c95ec-3aa6-4caa-aba2-b56b634d1761"
      },
      "execution_count": null,
      "outputs": [
        {
          "output_type": "execute_result",
          "data": {
            "text/plain": [
              "1694"
            ]
          },
          "metadata": {},
          "execution_count": 218
        }
      ]
    },
    {
      "cell_type": "code",
      "source": [
        "train_word_tokenizer.word_index"
      ],
      "metadata": {
        "colab": {
          "base_uri": "https://localhost:8080/"
        },
        "id": "NwcyeK8AYycY",
        "outputId": "c0740eed-21f7-4292-b4f7-42c6d3ed0dc5"
      },
      "execution_count": null,
      "outputs": [
        {
          "output_type": "execute_result",
          "data": {
            "text/plain": [
              "{'ทางเพศ': 1,\n",
              " 'ที่': 2,\n",
              " 'ไม่': 3,\n",
              " 'ทวิ': 4,\n",
              " 'ต': 5,\n",
              " 'เฟม': 6,\n",
              " 'ความเท่าเทียม': 7,\n",
              " 'ก็': 8,\n",
              " 'เป็น': 9,\n",
              " 'และ': 10,\n",
              " 'มี': 11,\n",
              " 'จะ': 12,\n",
              " 'ใน': 13,\n",
              " 'ได้': 14,\n",
              " 'ว่า': 15,\n",
              " 'ของ': 16,\n",
              " 'ให้': 17,\n",
              " 'เพศ': 18,\n",
              " 'เรื่อง': 19,\n",
              " 'คน': 20,\n",
              " 'ไป': 21,\n",
              " 'พวก': 22,\n",
              " 'แต่': 23,\n",
              " 'มึง': 24,\n",
              " 'ขยะสังคม': 25,\n",
              " 'กัน': 26,\n",
              " 'การ': 27,\n",
              " 'เรา': 28,\n",
              " 'ผู้ชาย': 29,\n",
              " 'มา': 30,\n",
              " 'มัน': 31,\n",
              " 'ผู้หญิง': 32,\n",
              " 'ๆ': 33,\n",
              " 'ความเท่าเทียมกัน': 34,\n",
              " 'นะ': 35,\n",
              " 'คือ': 36,\n",
              " 'เลย': 37,\n",
              " 'กับ': 38,\n",
              " 'แล้ว': 39,\n",
              " 'เรียกร้อง': 40,\n",
              " 'เฟมินิสต์': 41,\n",
              " 'ทุกคน': 42,\n",
              " 'เพื่อ': 43,\n",
              " 'อะไร': 44,\n",
              " 'ทุก': 45,\n",
              " 'สนับสนุน': 46,\n",
              " 'กู': 47,\n",
              " 'เท่าเทียมกัน': 48,\n",
              " 'อี': 49,\n",
              " 'ความหลากหลาย': 50,\n",
              " 'เพราะ': 51,\n",
              " 'ต้อง': 52,\n",
              " 'มาก': 53,\n",
              " 'อยาก': 54,\n",
              " 'ถ้า': 55,\n",
              " 'เหี้ย': 56,\n",
              " 'อยู่': 57,\n",
              " 'ด่า': 58,\n",
              " 'สังคม': 59,\n",
              " 'ควร': 60,\n",
              " 'สิทธิ': 61,\n",
              " 'อย่าง': 62,\n",
              " 'ชาย': 63,\n",
              " 'แค่': 64,\n",
              " 'เท่าเทียม': 65,\n",
              " 'ค่ะ': 66,\n",
              " 'ด้วย': 67,\n",
              " '\\u200b': 68,\n",
              " 'กว่า': 69,\n",
              " 'ตัวเอง': 70,\n",
              " 'หรือ': 71,\n",
              " 'อะ': 72,\n",
              " 'เกาหลี': 73,\n",
              " 'แบบ': 74,\n",
              " 'ไหน': 75,\n",
              " 'นี้': 76,\n",
              " 'หญิง': 77,\n",
              " 'ถูก': 78,\n",
              " 'เขา': 79,\n",
              " 'เห็น': 80,\n",
              " 'บอก': 81,\n",
              " 'ความ': 82,\n",
              " 'ใช่': 83,\n",
              " 'สร้าง': 84,\n",
              " 'มนุษย์': 85,\n",
              " 'แม่': 86,\n",
              " 'ใคร': 87,\n",
              " 'ยัง': 88,\n",
              " 'เอา': 89,\n",
              " 'ดู': 90,\n",
              " 'นี่': 91,\n",
              " 'เท่ากัน': 92,\n",
              " 'โดน': 93,\n",
              " 'ทำให้': 94,\n",
              " 'อิ': 95,\n",
              " 'คุกคาม': 96,\n",
              " 'ถึง': 97,\n",
              " 'ร่วม': 98,\n",
              " 'คนอื่น': 99,\n",
              " 'ที่จะ': 100,\n",
              " 'ทั้ง': 101,\n",
              " 'ก่อน': 102,\n",
              " 'เค้า': 103,\n",
              " 'เหมือน': 104,\n",
              " 'จาก': 105,\n",
              " 'ทำ': 106,\n",
              " 'จริงๆ': 107,\n",
              " 'นั้น': 108,\n",
              " 'อีก': 109,\n",
              " 'คุณ': 110,\n",
              " 'ผู้': 111,\n",
              " 'คำ': 112,\n",
              " 'เป็นใหญ่': 113,\n",
              " 'คิด': 114,\n",
              " 'กุ': 115,\n",
              " 'ครับ': 116,\n",
              " 'ดี': 117,\n",
              " 'ขอ': 118,\n",
              " 'เหมือนกัน': 119,\n",
              " 'เสือก': 120,\n",
              " 'ผลักดัน': 121,\n",
              " '#': 122,\n",
              " 'ไร': 123,\n",
              " 'โลก': 124,\n",
              " 'ง': 125,\n",
              " 'พูด': 126,\n",
              " 'ออกมา': 127,\n",
              " 'สิ่ง': 128,\n",
              " 'ประชาธิปไตย': 129,\n",
              " 'ได้รับ': 130,\n",
              " 'โง่': 131,\n",
              " 'ละ': 132,\n",
              " 'ชอบ': 133,\n",
              " 'แบบนี้': 134,\n",
              " 'เข้าใจ': 135,\n",
              " 'หรอ': 136,\n",
              " 'กด': 137,\n",
              " 'ความคิด': 138,\n",
              " 'ขยะ': 139,\n",
              " 'เสียง': 140,\n",
              " 'ประเด็น': 141,\n",
              " 'เป็นเรื่อง': 142,\n",
              " 'ยอมรับ': 143,\n",
              " 'ต้องการ': 144,\n",
              " 'นะคะ': 145,\n",
              " 'เคารพ': 146,\n",
              " 'ฐานะ': 147,\n",
              " 'ส่งเสริม': 148,\n",
              " 'ผช.': 149,\n",
              " 'เกลียด': 150,\n",
              " 'มิ': 151,\n",
              " 'ต่าง': 152,\n",
              " 'ประสาท': 153,\n",
              " 'แดก': 154,\n",
              " 'หน้า': 155,\n",
              " 'อ่ะ': 156,\n",
              " 'บาง': 157,\n",
              " 'พวกเขา': 158,\n",
              " 'เกิดขึ้น': 159,\n",
              " 'กดขี่': 160,\n",
              " 'feminist': 161,\n",
              " 'ต่อ': 162,\n",
              " 'กลุ่ม': 163,\n",
              " 'รู้สึก': 164,\n",
              " 'เนี่ย': 165,\n",
              " 'รู้': 166,\n",
              " 'เกิด': 167,\n",
              " 'บน': 168,\n",
              " 'หาก': 169,\n",
              " 'มากขึ้น': 170,\n",
              " 'หลากหลาย': 171,\n",
              " 'งง': 172,\n",
              " 'ผม': 173,\n",
              " 'เก่ง': 174,\n",
              " 'เลิก': 175,\n",
              " 'ควาย': 176,\n",
              " 'ทับ': 177,\n",
              " 'ด้วยกัน': 178,\n",
              " 'ตาย': 179,\n",
              " 'ประเทศ': 180,\n",
              " 'กลับ': 181,\n",
              " 'ไม่ต้อง': 182,\n",
              " 'ผช': 183,\n",
              " 'ปัญหา': 184,\n",
              " 'วัน': 185,\n",
              " 'ฉัน': 186,\n",
              " '\"': 187,\n",
              " 'ซึ่ง': 188,\n",
              " 'พร้อม': 189,\n",
              " 'มีสิทธิ์': 190,\n",
              " 'นโยบาย': 191,\n",
              " 'แสดง': 192,\n",
              " 'ความเป็นมนุษย์': 193,\n",
              " 'เคย': 194,\n",
              " 'พยายาม': 195,\n",
              " 'คนใน': 196,\n",
              " 'บอ': 197,\n",
              " 'น่า': 198,\n",
              " 'หรอก': 199,\n",
              " 'เยอะ': 200,\n",
              " 'หี': 201,\n",
              " 'อย่า': 202,\n",
              " 'ถาม': 203,\n",
              " 'ก็ได้': 204,\n",
              " 'พอ': 205,\n",
              " 'ปิตาธิปไตย': 206,\n",
              " 'สามารถ': 207,\n",
              " 'ตัว': 208,\n",
              " 'ช่วย': 209,\n",
              " 'ต่อสู้': 210,\n",
              " 'เสรีภาพ': 211,\n",
              " 'ผ่าน': 212,\n",
              " 'ความเข้าใจ': 213,\n",
              " 'การต่อสู้': 214,\n",
              " 'นึง': 215,\n",
              " 'เชื่อ': 216,\n",
              " 'สิทธิมนุษยชน': 217,\n",
              " 'หลาย': 218,\n",
              " 'กฎหมาย': 219,\n",
              " 'สมรส': 220,\n",
              " 'ทาง': 221,\n",
              " 'ยุค': 222,\n",
              " 'ตอนนี้': 223,\n",
              " 'ต่อต้าน': 224,\n",
              " 'เธอ': 225,\n",
              " 'ไอ': 226,\n",
              " 'ย': 227,\n",
              " 'เฟส': 228,\n",
              " 'โยง': 229,\n",
              " 'แก': 230,\n",
              " 'ตลอด': 231,\n",
              " 'ปสด.': 232,\n",
              " 'บ': 233,\n",
              " 'แอนตี้': 234,\n",
              " 'ปัญญาอ่อน': 235,\n",
              " 'ปสด': 236,\n",
              " 'เอง': 237,\n",
              " 'เมื่อ': 238,\n",
              " 'ระบบ': 239,\n",
              " '...': 240,\n",
              " 'แต่งงาน': 241,\n",
              " 'กลายเป็น': 242,\n",
              " 'แหละ': 243,\n",
              " 'ขนาด': 244,\n",
              " 'คะ': 245,\n",
              " 'พูดถึง': 246,\n",
              " 'ควย': 247,\n",
              " 'หนึ่ง': 248,\n",
              " 'กลัว': 249,\n",
              " 'จุดยืน': 250,\n",
              " 'แย่': 251,\n",
              " 'เล่น': 252,\n",
              " 'จริง': 253,\n",
              " 'ทัศนคติ': 254,\n",
              " 'เป็นการ': 255,\n",
              " 'เพศหญิง': 256,\n",
              " 'อ่าน': 257,\n",
              " 'ศิลปิน': 258,\n",
              " 'ทำไม': 259,\n",
              " 'หลัง': 260,\n",
              " '#เฟม': 261,\n",
              " 'เข้ามา': 262,\n",
              " 'เด็ก': 263,\n",
              " 'ธง': 264,\n",
              " 'โดย': 265,\n",
              " 'เ': 266,\n",
              " 'เพื่อให้': 267,\n",
              " 'คนไทย': 268,\n",
              " 'อื่น': 269,\n",
              " 'ขึ้น': 270,\n",
              " 'พัฒนา': 271,\n",
              " 'ประชาชน': 272,\n",
              " 'เดียวกัน': 273,\n",
              " 'เกี่ยวกับ': 274,\n",
              " 'เช่นกัน': 275,\n",
              " 'พื้นฐาน': 276,\n",
              " 'หมด': 277,\n",
              " 'ใช้': 278,\n",
              " 'น่าจะ': 279,\n",
              " 'คุย': 280,\n",
              " 'ผัว': 281,\n",
              " 'ก': 282,\n",
              " 'ไว้': 283,\n",
              " 'เจอ': 284,\n",
              " 'เนอะ': 285,\n",
              " 'พ่อ': 286,\n",
              " 'นั่ง': 287,\n",
              " 'ที่ว่า': 288,\n",
              " 'นิสต์': 289,\n",
              " 'ตอน': 290,\n",
              " 'ค': 291,\n",
              " 'วะ': 292,\n",
              " 'ไหม': 293,\n",
              " 'เลือก': 294,\n",
              " 'เป็นหนึ่ง': 295,\n",
              " 'ยังมี': 296,\n",
              " 'เพื่อน': 297,\n",
              " 'บางคน': 298,\n",
              " 'สิ': 299,\n",
              " 'มอง': 300,\n",
              " 'แนวคิด': 301,\n",
              " 'เหนือ': 302,\n",
              " 'ส่งเสียง': 303,\n",
              " 'มองว่า': 304,\n",
              " 'ใส่': 305,\n",
              " 'สั้น': 306,\n",
              " 'ส่ง': 307,\n",
              " 'คลิป': 308,\n",
              " 'ยก': 309,\n",
              " 'หมา': 310,\n",
              " 'เฟ': 311,\n",
              " 'เบียว': 312,\n",
              " 'ฟัง': 313,\n",
              " 'เท่ากับ': 314,\n",
              " 'เต็มที่': 315,\n",
              " 'ไง': 316,\n",
              " 'เมน': 317,\n",
              " 'ที': 318,\n",
              " 'แท็ก': 319,\n",
              " 'มาจาก': 320,\n",
              " 'บ้าง': 321,\n",
              " 'โดยเฉพาะ': 322,\n",
              " 'ดีกว่า': 323,\n",
              " 'ปาก': 324,\n",
              " 'แท้จริง': 325,\n",
              " 'หวัง': 326,\n",
              " 'ส': 327,\n",
              " ')': 328,\n",
              " 'สมอง': 329,\n",
              " 'รุ้ง': 330,\n",
              " 'ดิ้น': 331,\n",
              " 'ย้อน': 332,\n",
              " 'แย้ง': 333,\n",
              " 'ช่วยกัน': 334,\n",
              " 'บ้ง': 335,\n",
              " 'เริ่ม': 336,\n",
              " 'ล้วน': 337,\n",
              " 'มินิ': 338,\n",
              " 'พลัง': 339,\n",
              " 'ชุด': 340,\n",
              " 'ลด': 341,\n",
              " 'ไทย': 342,\n",
              " 'ออก': 343,\n",
              " 'ความเสมอภาค': 344,\n",
              " 'ที่สุด': 345,\n",
              " 'ฯ': 346,\n",
              " '-': 347,\n",
              " 'ให้เกียรติ': 348,\n",
              " 'ใด': 349,\n",
              " 'ขับเคลื่อน': 350,\n",
              " 'ร่วมกัน': 351,\n",
              " 'แสดงออก': 352,\n",
              " 'มีคุณค่า': 353,\n",
              " 'ปลดแอก': 354,\n",
              " 'พร้อมกัน': 355,\n",
              " 'ทุกอย่าง': 356,\n",
              " 'อยู่แล้ว': 357,\n",
              " 'เทียบ': 358,\n",
              " 'ฝ่าย': 359,\n",
              " 'รี': 360,\n",
              " 'นาน': 361,\n",
              " 'อยากได้': 362,\n",
              " 'เอ้ย': 363,\n",
              " 'ว': 364,\n",
              " 'นิ': 365,\n",
              " 'ยย': 366,\n",
              " 'น้อง': 367,\n",
              " 'ก้': 368,\n",
              " 'เหรอ': 369,\n",
              " 'อิด': 370,\n",
              " 'อก': 371,\n",
              " 'จ้า': 372,\n",
              " 'แตก': 373,\n",
              " 'พิมพ์': 374,\n",
              " 'เถอะ': 375,\n",
              " 'ป่ะ': 376,\n",
              " 'ล่า': 377,\n",
              " 'ด่าว่า': 378,\n",
              " 'ทวีต': 379,\n",
              " 'มั้ย': 380,\n",
              " 'ข่มขืน': 381,\n",
              " 'ความรุนแรง': 382,\n",
              " 'ความแตกต่าง': 383,\n",
              " 'ยังไง': 384,\n",
              " 'มองเห็น': 385,\n",
              " 'เม้น': 386,\n",
              " 'ความรู้': 387,\n",
              " 'ด': 388,\n",
              " 'วัย': 389,\n",
              " 'โคตร': 390,\n",
              " 'ยิง': 391,\n",
              " 'ดีแต่': 392,\n",
              " 'นาง': 393,\n",
              " 'ลดทอน': 394,\n",
              " 'หน่อย': 395,\n",
              " 'ชาว': 396,\n",
              " 'ตกเป็น': 397,\n",
              " 'เข้า': 398,\n",
              " 'ตรรกะ': 399,\n",
              " '=': 400,\n",
              " '?': 401,\n",
              " 'ตูด': 402,\n",
              " 'กลาย': 403,\n",
              " 'เพจ': 404,\n",
              " 'เข้าไป': 405,\n",
              " 'ผญ': 406,\n",
              " 'ชั้น': 407,\n",
              " 'ผญ.': 408,\n",
              " 'คุณค่า': 409,\n",
              " 'มองข้าม': 410,\n",
              " 'แล้วก็': 411,\n",
              " 'สภาพ': 412,\n",
              " 'ใหญ่': 413,\n",
              " 'ดิ': 414,\n",
              " 'จัง': 415,\n",
              " 'เวลา': 416,\n",
              " 'ฉอด': 417,\n",
              " 'อา': 418,\n",
              " 'หัว': 419,\n",
              " 'หอม': 420,\n",
              " 'ติ่ง': 421,\n",
              " 'เอก': 422,\n",
              " 'ชิบหาย': 423,\n",
              " 'รอ': 424,\n",
              " 'มากกว่า': 425,\n",
              " 'งี้': 426,\n",
              " 'อัน': 427,\n",
              " 'ซ้าย': 428,\n",
              " 'ลง': 429,\n",
              " 'รัก': 430,\n",
              " 'กระแส': 431,\n",
              " 'ปกป้อง': 432,\n",
              " 'ม็อบ': 433,\n",
              " 'ส่วน': 434,\n",
              " 'แทน': 435,\n",
              " 'โอเค': 436,\n",
              " '(': 437,\n",
              " 'วันนี้': 438,\n",
              " 'เส': 439,\n",
              " 'นี่แหละ': 440,\n",
              " 'ไล่': 441,\n",
              " 'หา': 442,\n",
              " 'ติด': 443,\n",
              " 'ทางสังคม': 444,\n",
              " 'พี่': 445,\n",
              " 'สนใจ': 446,\n",
              " 'คำพูด': 447,\n",
              " 'เสมอ': 448,\n",
              " 'ทั้งๆ': 449,\n",
              " 'กำลัง': 450,\n",
              " 'คง': 451,\n",
              " 'ยืนยัน': 452,\n",
              " 'การกระทำ': 453,\n",
              " 'ความรู้สึก': 454,\n",
              " 'ควรจะ': 455,\n",
              " 'หมายถึง': 456,\n",
              " 'ครอบครัว': 457,\n",
              " 'รร': 458,\n",
              " 'ผิด': 459,\n",
              " 'อีกครั้ง': 460,\n",
              " 'ห่า': 461,\n",
              " 'ชีวิต': 462,\n",
              " 'ใหม่': 463,\n",
              " 'บรรลุ': 464,\n",
              " 'ความเห็น': 465,\n",
              " '/': 466,\n",
              " 'ชนชั้น': 467,\n",
              " 'สถานะ': 468,\n",
              " 'ทางการเมือง': 469,\n",
              " 'แบรนด์': 470,\n",
              " 'แห่ง': 471,\n",
              " 'กลุ่มคน': 472,\n",
              " 'ปฏิบัติ': 473,\n",
              " 'มิติ': 474,\n",
              " 'ดีขึ้น': 475,\n",
              " 'แต่ละคน': 476,\n",
              " 'สภา': 477,\n",
              " 'พรรค': 478,\n",
              " 'พร้อมกับ': 479,\n",
              " 'สู่': 480,\n",
              " 'การเมือง': 481,\n",
              " 'ความตระหนัก': 482,\n",
              " 'ขบวนการ': 483,\n",
              " 'คำนึงถึง': 484,\n",
              " 'ดีมาก': 485,\n",
              " 'สถานการณ์': 486,\n",
              " 'สาม': 487,\n",
              " 'คล้ายๆ': 488,\n",
              " 'ปัง': 489,\n",
              " 'กี้': 490,\n",
              " 'เปน': 491,\n",
              " 'นักหนา': 492,\n",
              " 'วิ': 493,\n",
              " 'ให้ได้': 494,\n",
              " 'นั่น': 495,\n",
              " 'ทุกวัน': 496,\n",
              " 'จำ': 497,\n",
              " 'เนี้ย': 498,\n",
              " 'สไลด์': 499,\n",
              " 'โอ': 500,\n",
              " 'ว่ะ': 501,\n",
              " 'นี่เอง': 502,\n",
              " 'ทุเรศ': 503,\n",
              " 'เช่น': 504,\n",
              " 'ทั่ว': 505,\n",
              " 'เป็นไร': 506,\n",
              " 'สลิ่ม': 507,\n",
              " 'ต้น': 508,\n",
              " 'ล่วงละเมิด': 509,\n",
              " 'เงียบ': 510,\n",
              " 'เเล้ว': 511,\n",
              " 'เกณฑ์ทหาร': 512,\n",
              " 'น่าเศร้า': 513,\n",
              " 'จำนวนมาก': 514,\n",
              " 'ยอม': 515,\n",
              " 'ส่วนใหญ่': 516,\n",
              " 'เอาเรื่อง': 517,\n",
              " 'เมีย': 518,\n",
              " 'ทั้งนั้น': 519,\n",
              " 'หย่า': 520,\n",
              " 'บริสุทธิ์': 521,\n",
              " 'แต่งตัว': 522,\n",
              " 'มีชู้': 523,\n",
              " 'เหอะ': 524,\n",
              " 'ธนู': 525,\n",
              " 'เปราะบาง': 526,\n",
              " 'ตลอดเวลา': 527,\n",
              " '55': 528,\n",
              " 'อื่นๆ': 529,\n",
              " 'ทั่วโลก': 530,\n",
              " 'รวมถึง': 531,\n",
              " 'ชอบใจ': 532,\n",
              " 'หัวรุนแรง': 533,\n",
              " 'เหยื่อ': 534,\n",
              " 'หนังสือ': 535,\n",
              " 'เล่ม': 536,\n",
              " 'นำเสนอ': 537,\n",
              " 'มุมมอง': 538,\n",
              " 'เป็นธรรม': 539,\n",
              " 'สามี': 540,\n",
              " 'แสน': 541,\n",
              " 'ตัดผม': 542,\n",
              " 'โห': 543,\n",
              " 'เกิน': 544,\n",
              " 'เป็นปกติ': 545,\n",
              " 'ให้การ': 546,\n",
              " 'โพสต์': 547,\n",
              " 'ข้อมูล': 548,\n",
              " 'ศึกษา': 549,\n",
              " 'นิยาม': 550,\n",
              " 'แทบตาย': 551,\n",
              " 'แคร์': 552,\n",
              " 'ต่อไป': 553,\n",
              " 'ญาติ': 554,\n",
              " 'ยี้': 555,\n",
              " 'ล้อเลียน': 556,\n",
              " 'นอกจาก': 557,\n",
              " 'ประสบการณ์': 558,\n",
              " 'อำนาจ': 559,\n",
              " 'ลุก': 560,\n",
              " 'อีกด้วย': 561,\n",
              " 'เศร้า': 562,\n",
              " 'อวย': 563,\n",
              " 'รูปแบบ': 564,\n",
              " 'ทวิตเตอร์': 565,\n",
              " 'ท': 566,\n",
              " 'ตี': 567,\n",
              " 'เวร': 568,\n",
              " '/เฟม': 569,\n",
              " 'ขยะแขยง': 570,\n",
              " 'ต่ำ': 571,\n",
              " 'สัน': 572,\n",
              " 'เมื่อไหร่': 573,\n",
              " 'ความหวัง': 574,\n",
              " 'ชั่น': 575,\n",
              " 'อ้อม': 576,\n",
              " 'ตอ': 577,\n",
              " 'ล': 578,\n",
              " 'ใหญ่โต': 579,\n",
              " 'หน้าที่': 580,\n",
              " 'ม': 581,\n",
              " 'ปี': 582,\n",
              " 'บังคับ': 583,\n",
              " 'นัก': 584,\n",
              " 'ออกจาก': 585,\n",
              " 'ทีหลัง': 586,\n",
              " 'ลอง': 587,\n",
              " 'ตะ': 588,\n",
              " 'เย': 589,\n",
              " 'เหยียด': 590,\n",
              " '!': 591,\n",
              " 'รอบ': 592,\n",
              " 'เข็ด': 593,\n",
              " 'แหก': 594,\n",
              " 'แรง': 595,\n",
              " 'เดียว': 596,\n",
              " 'จาบจ้วง': 597,\n",
              " 'ขณะที่': 598,\n",
              " 'ทั้งคู่': 599,\n",
              " 'เย็ด': 600,\n",
              " 'เรื่อย': 601,\n",
              " 'ใจ': 602,\n",
              " 'หุบปาก': 603,\n",
              " 'ล่อ': 604,\n",
              " 'เอ้': 605,\n",
              " 'แท้': 606,\n",
              " 'ไอ้': 607,\n",
              " 'สม': 608,\n",
              " 'เท': 609,\n",
              " 'ร้อน': 610,\n",
              " 'ประวัติศาสตร์': 611,\n",
              " 'ทุกวันนี้': 612,\n",
              " 'ค่า': 613,\n",
              " 'น่ะ': 614,\n",
              " 'เคส': 615,\n",
              " 'เกินไป': 616,\n",
              " 'ยังคง': 617,\n",
              " 'ผู้พูด': 618,\n",
              " 'บริบท': 619,\n",
              " 'อกแตก': 620,\n",
              " 'บางที': 621,\n",
              " 'สอง': 622,\n",
              " 'ซะ': 623,\n",
              " 'า': 624,\n",
              " 'แซะ': 625,\n",
              " 'สวย': 626,\n",
              " 'คนโง่': 627,\n",
              " 'ชาวบ้าน': 628,\n",
              " 'กิน': 629,\n",
              " 'ส้นตีน': 630,\n",
              " 'คุณภาพ': 631,\n",
              " 'พึ่ง': 632,\n",
              " 'จุด': 633,\n",
              " 'สันดาน': 634,\n",
              " 'พอใจ': 635,\n",
              " 'ปัจจุบัน': 636,\n",
              " 'ได้มา': 637,\n",
              " 'ที่ผ่านมา': 638,\n",
              " 'การเคลื่อนไหว': 639,\n",
              " 'จน': 640,\n",
              " 'ความขัดแย้ง': 641,\n",
              " 'ถล่ม': 642,\n",
              " 'อย่างไร': 643,\n",
              " 'ขี้': 644,\n",
              " 'เขียน': 645,\n",
              " 'ฟิค': 646,\n",
              " 'โชว์': 647,\n",
              " 'คีย์บอร์ด': 648,\n",
              " 'บ้า': 649,\n",
              " 'ภาครัฐ': 650,\n",
              " 'ปญ': 651,\n",
              " 'อ.': 652,\n",
              " 'ลา': 653,\n",
              " 'ทั้งหลาย': 654,\n",
              " 'ติดตาม': 655,\n",
              " 'บวก': 656,\n",
              " 'เหว': 657,\n",
              " 'ทั้งสิ้น': 658,\n",
              " 'ตัง': 659,\n",
              " 'สบาย': 660,\n",
              " 'เอ่ย': 661,\n",
              " 'ยอมให้': 662,\n",
              " 'คอม': 663,\n",
              " 'โพส': 664,\n",
              " 'มีชีวิต': 665,\n",
              " 'สี': 666,\n",
              " 'กม': 667,\n",
              " 'ธ.': 668,\n",
              " 'ข้อบังคับ': 669,\n",
              " 'ตั้ง': 670,\n",
              " 'คุ้มครอง': 671,\n",
              " 'ว่าด้วย': 672,\n",
              " 'อายุ': 673,\n",
              " 'มีศักดิ์ศรี': 674,\n",
              " 'เคลื่อนไหว': 675,\n",
              " 'ที่มา': 676,\n",
              " 'ห': 677,\n",
              " 'อนุญาต': 678,\n",
              " 'มก': 679,\n",
              " 'ฏ': 680,\n",
              " 'หมาย': 681,\n",
              " 'เดือน': 682,\n",
              " 'ต่างๆ': 683,\n",
              " 'เดินขบวน': 684,\n",
              " 'สอน': 685,\n",
              " 'บุคคล': 686,\n",
              " 'โดยที่': 687,\n",
              " 'ช่อง': 688,\n",
              " 'ชัด': 689,\n",
              " 'ทุกๆ': 690,\n",
              " 'โต': 691,\n",
              " 'ชัดเจน': 692,\n",
              " 'ความเชื่อ': 693,\n",
              " 'สิทธิสตรี': 694,\n",
              " 'สำคัญ': 695,\n",
              " '‘': 696,\n",
              " '’': 697,\n",
              " 'สงบสุข': 698,\n",
              " 'การประชุม': 699,\n",
              " 'อนาคต': 700,\n",
              " 'คณะ': 701,\n",
              " 'ต่างหาก': 702,\n",
              " 'ส.ส.': 703,\n",
              " 'เพียง': 704,\n",
              " 'ประ': 705,\n",
              " 'ที่สาม': 706,\n",
              " 'แปล': 707,\n",
              " 'ศักยภาพ': 708,\n",
              " 'หนัง': 709,\n",
              " 'แสดงให้เห็น': 710,\n",
              " 'สะท้อน': 711,\n",
              " 'หนัก': 712,\n",
              " 'เด็กผู้หญิง': 713,\n",
              " 'รับฟัง': 714,\n",
              " 'เช่นเดียวกัน': 715,\n",
              " 'การสมรส': 716,\n",
              " 'แก้ไข': 717,\n",
              " 'คู่รัก': 718,\n",
              " 'เบ่งบาน': 719,\n",
              " 'ครึ่ง': 720,\n",
              " 'เปลี่ยน': 721,\n",
              " 'ปกติ': 722,\n",
              " 'อิน': 723,\n",
              " 'ดีใจ': 724,\n",
              " 'ควรจะเป็น': 725,\n",
              " 'สำหรับ': 726,\n",
              " 'ยาก': 727,\n",
              " 'ง่าย': 728,\n",
              " 'ทั้งหมด': 729,\n",
              " 'รวม': 730,\n",
              " 'ทางเศรษฐกิจ': 731,\n",
              " 'เปิดโอกาส': 732,\n",
              " 'มีส่วนร่วม': 733,\n",
              " '1': 734,\n",
              " 'ทางเลือก': 735,\n",
              " 'ตระหนัก': 736,\n",
              " 'แยก': 737,\n",
              " 'รณรงค์': 738,\n",
              " 'ความฝัน': 739,\n",
              " 'เดิม': 740,\n",
              " 'ความเป็นธรรม': 741,\n",
              " 'เคลื่อน': 742,\n",
              " 'ไพ': 743,\n",
              " 'รด์': 744,\n",
              " 'หัวข้อ': 745,\n",
              " 'อิทธิพล': 746,\n",
              " 'ความเหลื่อมล้ำ': 747,\n",
              " 'จุดประสงค์': 748,\n",
              " 'กิจกรรม': 749,\n",
              " 'เผด็จการ': 750,\n",
              " 'ขอบคุณ': 751,\n",
              " 'ฐาน': 752,\n",
              " 'ความเคารพ': 753,\n",
              " 'สู้': 754,\n",
              " 'การศึกษา': 755,\n",
              " 'มัก': 756,\n",
              " 'ที่อยู่': 757,\n",
              " 'ด้วยซ้ำ': 758,\n",
              " 'คาดหวัง': 759,\n",
              " 'สตรี': 760,\n",
              " 'รับรอง': 761,\n",
              " 'ยกระดับ': 762,\n",
              " 'หลักการ': 763,\n",
              " 'ฝาก': 764,\n",
              " 'กระทรวงศึกษาธิการ': 765,\n",
              " 'ตระหนักถึง': 766,\n",
              " 'กระบอกเสียง': 767,\n",
              " 'แก่': 768,\n",
              " 'รวมกัน': 769,\n",
              " 'มีค่า': 770,\n",
              " 'หยิบ': 771,\n",
              " 'ยืด': 772,\n",
              " 'หยัด': 773,\n",
              " 'เละ': 774,\n",
              " 'ยุติ': 775,\n",
              " 'คนรัก': 776,\n",
              " 'ข้าม': 777,\n",
              " 'ส่วนหนึ่ง': 778,\n",
              " 'ให้ความสำคัญ': 779,\n",
              " 'แบ่งแยก': 780,\n",
              " 'ชั้นประถม': 781,\n",
              " 'ทำงาน': 782,\n",
              " 'ลาก': 783,\n",
              " 'ชญ.': 784,\n",
              " 'ลักษณะ': 785,\n",
              " 'คล้าย': 786,\n",
              " 'feminism': 787,\n",
              " 'บุกเบิก': 788,\n",
              " 'เวลคัม': 789,\n",
              " 'ดิสเครดิต': 790,\n",
              " 'กีบ': 791,\n",
              " 'ปชต.': 792,\n",
              " 'แปะ': 793,\n",
              " 'ป้าย': 794,\n",
              " 'เคลม': 795,\n",
              " 'นี้แหละ': 796,\n",
              " 'เฉลย': 797,\n",
              " 'นู่น': 798,\n",
              " 'อี๊': 799,\n",
              " 'ดิชั้น': 800,\n",
              " 'ทัก': 801,\n",
              " 'เฟมทพ': 802,\n",
              " 'ม่าย': 803,\n",
              " 'งับ': 804,\n",
              " 'หาง': 805,\n",
              " 'เอะอะ': 806,\n",
              " 'อ้าง': 807,\n",
              " 'โตมา': 808,\n",
              " 'คลาน': 809,\n",
              " 'พนมมือ': 810,\n",
              " 'กราบ': 811,\n",
              " 'ฝังใจ': 812,\n",
              " 'หลอน': 813,\n",
              " 'บ้าน': 814,\n",
              " 'ขึ้นเสียง': 815,\n",
              " 'หน้าจ๋อย': 816,\n",
              " 'เผือก': 817,\n",
              " 'รู้เรื่อง': 818,\n",
              " 'กวน': 819,\n",
              " 'ตีนเขา': 820,\n",
              " 'รึเปล่า': 821,\n",
              " 'สาระแน': 822,\n",
              " 'ถามหา': 823,\n",
              " 'เคก็ควร': 824,\n",
              " 'เรียก': 825,\n",
              " 'เบื่อ': 826,\n",
              " 'ต=': 827,\n",
              " 'ตปสด': 828,\n",
              " 'ล้อ': 829,\n",
              " 'จบ': 830,\n",
              " 'รำ': 831,\n",
              " 'คาน': 832,\n",
              " 'ละโลก': 833,\n",
              " 'แก๊ง': 834,\n",
              " 'กราด': 835,\n",
              " 'นู้น': 836,\n",
              " 'ยัน': 837,\n",
              " 'วน': 838,\n",
              " 'กลับมา': 839,\n",
              " 'ปลอม': 840,\n",
              " 'อธิบาย': 841,\n",
              " 'รำคาญ': 842,\n",
              " 'อิสัส': 843,\n",
              " 'ตัวดี': 844,\n",
              " 'นิสัย': 845,\n",
              " 'แอ๊บ': 846,\n",
              " 'ปชต': 847,\n",
              " 'ตรี': 848,\n",
              " 'ตัวอย่าง': 849,\n",
              " 'เสียหาย': 850,\n",
              " 'สมยอม': 851,\n",
              " 'หรือเปล่า': 852,\n",
              " 'ผลลัพธ์': 853,\n",
              " 'เชิง': 854,\n",
              " 'คับ': 855,\n",
              " 'ท่าจะ': 856,\n",
              " 'เผชิญ': 857,\n",
              " 'เครื่องมือ': 858,\n",
              " 'ตามกฎหมาย': 859,\n",
              " 'โดยธรรมชาติ': 860,\n",
              " 'ร้อย': 861,\n",
              " 'เปอร์': 862,\n",
              " 'เซน': 863,\n",
              " 'สิทธิ์': 864,\n",
              " 'ต่อเมื่อ': 865,\n",
              " 'เสียเปรียบ': 866,\n",
              " 'อ่า': 867,\n",
              " 'เรย': 868,\n",
              " 'ไม่เป็นไร': 869,\n",
              " 'ตราบาป': 870,\n",
              " 'เซ็กซ์': 871,\n",
              " 'การข่มขืน': 872,\n",
              " 'ความผิด': 873,\n",
              " 'ยั่ว': 874,\n",
              " 'กิ๊ก': 875,\n",
              " 'ปรกติ': 876,\n",
              " 'คนเดียว': 877,\n",
              " 'ทันที': 878,\n",
              " 'ตบ': 879,\n",
              " 'ห้าม': 880,\n",
              " 'ดักดาน': 881,\n",
              " 'มูฟ': 882,\n",
              " 'ไปหา': 883,\n",
              " 'แหวะ': 884,\n",
              " 'ทุ': 885,\n",
              " 'เร่': 886,\n",
              " 'บูด': 887,\n",
              " 'งาย': 888,\n",
              " 'ยยย': 889,\n",
              " 'เห่า': 890,\n",
              " 'ง่ายๆ': 891,\n",
              " 'มจ': 892,\n",
              " 'ในแง่': 893,\n",
              " 'ลบ': 894,\n",
              " 'ยู': 895,\n",
              " 'เซ็ก': 896,\n",
              " 'คร่า': 897,\n",
              " 'าาาาา': 898,\n",
              " 'เหนียม': 899,\n",
              " 'ขัด': 900,\n",
              " 'เต็ม': 901,\n",
              " 'บอบบาง': 902,\n",
              " 'เบอร์': 903,\n",
              " 'เหลือเกิน': 904,\n",
              " 'นิดๆ': 905,\n",
              " 'กันเอง': 906,\n",
              " 'บางส่วน': 907,\n",
              " 'ภาพ': 908,\n",
              " 'ฝังหัว': 909,\n",
              " 'ก้าวร้าว': 910,\n",
              " 'กรม': 911,\n",
              " 'บิดเบี้ยว': 912,\n",
              " 'ใส่ร้าย': 913,\n",
              " 'ตัวละคร': 914,\n",
              " 'เกรี้ยวกราด': 915,\n",
              " 'ผู้ทำงาน': 916,\n",
              " 'ขยันขันแข็ง': 917,\n",
              " 'ซาบซึ้ง': 918,\n",
              " '555555555': 919,\n",
              " 'บ้าคลั่ง': 920,\n",
              " 'พอดี': 921,\n",
              " 'เฟซ': 922,\n",
              " 'เนื้อหา': 923,\n",
              " 'นอสต์': 924,\n",
              " 'หาย': 925,\n",
              " 'ค้นหา': 926,\n",
              " 'ว้อท': 927,\n",
              " 'แค่นี้': 928,\n",
              " 'เปิด': 929,\n",
              " 'กูเกิ้ล': 930,\n",
              " 'แฟค': 931,\n",
              " 'กันลอง': 932,\n",
              " 'ห้อง': 933,\n",
              " 'เต็มไปด้วย': 934,\n",
              " 'ขาด': 935,\n",
              " 'จิตใจ': 936,\n",
              " 'แข็งแรง': 937,\n",
              " 'ขัดขา': 938,\n",
              " 'ปิดปาก': 939,\n",
              " 'เออ': 940,\n",
              " 'อ่อ': 941,\n",
              " 'น้องสาว': 942,\n",
              " 'ผชคน': 943,\n",
              " 'ตรงกัน': 944,\n",
              " 'คบ': 945,\n",
              " 'สุดท้าย': 946,\n",
              " 'มุกตลก': 947,\n",
              " 'ลุกขึ้น': 948,\n",
              " 'การล้อเลียน': 949,\n",
              " 'กลบ': 950,\n",
              " 'มีปัญหา': 951,\n",
              " 'รังเกียจ': 952,\n",
              " 'อีดอก': 953,\n",
              " 'ที่ทำงาน': 954,\n",
              " 'ราช': 955,\n",
              " 'ชชชช': 956,\n",
              " 'ท้อง': 957,\n",
              " 'หยิก': 958,\n",
              " 'เพศชาย': 959,\n",
              " 'อันนี้': 960,\n",
              " 'ทำร้ายร่างกาย': 961,\n",
              " 'เอาผิด': 962,\n",
              " 'ไหว': 963,\n",
              " 'เห็นด้วย': 964,\n",
              " 'บล็อค': 965,\n",
              " 'ดาร': 966,\n",
              " 'ชั้นต่ำ': 967,\n",
              " 'เอาไว้': 968,\n",
              " 'น้ำหน้า': 969,\n",
              " 'เจ็บ': 970,\n",
              " 'ขอโทษ': 971,\n",
              " 'เวทนา': 972,\n",
              " 'สูญสิ้น': 973,\n",
              " 'อยู่ร่วม': 974,\n",
              " 'ชะนี': 975,\n",
              " 'เปนผง': 976,\n",
              " 'เชี่ย': 977,\n",
              " 'ได้ใจ': 978,\n",
              " 'เอาใหญ่': 979,\n",
              " 'แต่ละ': 980,\n",
              " 'แล้': 981,\n",
              " 'วจะ': 982,\n",
              " 'อ้วก': 983,\n",
              " 'ดีแล้ว': 984,\n",
              " 'ภูมิใจ': 985,\n",
              " 'ทน': 986,\n",
              " 'เบียด': 987,\n",
              " 'ขวา': 988,\n",
              " 'อีกต่อไป': 989,\n",
              " 'มาหา': 990,\n",
              " 'รุ้': 991,\n",
              " 'ปะ': 992,\n",
              " 'อริ': 993,\n",
              " 'จิ': 994,\n",
              " 'นอ': 995,\n",
              " 'ตอแหล': 996,\n",
              " 'ปั่น': 997,\n",
              " 'ตก': 998,\n",
              " 'พิทักษ์': 999,\n",
              " 'ลอยตัว': 1000,\n",
              " ...}"
            ]
          },
          "metadata": {},
          "execution_count": 219
        }
      ]
    },
    {
      "cell_type": "markdown",
      "source": [
        "- นิยาม Function เพื่อหาความยาวสูงสุดของคำในประโยค ซึ่งเราจะค้นหาประโยคที่มีความยาวสูงสูดโดยใช้  Parameter key = len และนับคำในประโยคโดยใช้ Function len"
      ],
      "metadata": {
        "id": "lL42TiIpLKQ4"
      }
    },
    {
      "cell_type": "code",
      "source": [
        "def max_length(words):\n",
        "    return(len(max(words, key = len)))"
      ],
      "metadata": {
        "id": "rLbBmZ0nLerP"
      },
      "execution_count": null,
      "outputs": []
    },
    {
      "cell_type": "markdown",
      "source": [
        "- กำหนด`ความยาวสูงสุด`ของ`คำในประโยค`ให้กับ max_length เพื่อเตรียมทำ `Padding` และกำหนด`จำนวน Step` ของ `LSTM Network` ซึ่งพบว่า *ประโยคยาวที่สุดมีความยาว 51 คำ*"
      ],
      "metadata": {
        "id": "D196WSCtLgfT"
      }
    },
    {
      "cell_type": "code",
      "source": [
        "max_length = max_length(temp)\n",
        "max_length"
      ],
      "metadata": {
        "colab": {
          "base_uri": "https://localhost:8080/"
        },
        "id": "A0kHYllfLfST",
        "outputId": "68cc1be4-c010-41f6-c267-eb8449a0cb17"
      },
      "execution_count": null,
      "outputs": [
        {
          "output_type": "execute_result",
          "data": {
            "text/plain": [
              "51"
            ]
          },
          "metadata": {},
          "execution_count": 221
        }
      ]
    },
    {
      "cell_type": "markdown",
      "source": [
        "- นิยาม Function เพื่อแปลงคำเป็นตัวเลข"
      ],
      "metadata": {
        "id": "0ITQcKH2L1mp"
      }
    },
    {
      "cell_type": "code",
      "source": [
        "def encoding_doc(token, words):\n",
        "    return(token.texts_to_sequences(words))"
      ],
      "metadata": {
        "id": "fq-N6XypL4Rx"
      },
      "execution_count": null,
      "outputs": []
    },
    {
      "cell_type": "markdown",
      "source": [
        "- แปลงคำในประโยคที่ได้ทำ Cleaning เป็นตัวเลข ด้วย Keras Tokenizer Object ที่ถูก Train แล้ว"
      ],
      "metadata": {
        "id": "McRJuSH2L9Jc"
      }
    },
    {
      "cell_type": "code",
      "source": [
        "encoded_doc = encoding_doc(train_word_tokenizer, cleaned_words)\n",
        "\n",
        "print(cleaned_words[0])\n",
        "print(encoded_doc[0])"
      ],
      "metadata": {
        "colab": {
          "base_uri": "https://localhost:8080/"
        },
        "id": "IkJs9unFL-5x",
        "outputId": "d97b5284-6f6f-4df9-b0cd-a82e6f90e535"
      },
      "execution_count": null,
      "outputs": [
        {
          "output_type": "stream",
          "name": "stdout",
          "text": [
            "เฟม ทวิ ต คือ คน ที่ ลาก ทุกอย่าง ไป เป็นเรื่อง   ความ ไม่ เท่าเทียมกัน ของ ชญ. ได้ หมด   เพื่อ ด่า ผช.   มี ลักษณะ คล้าย   feminism   ยุค บุกเบิก\n",
            "[6, 4, 5, 36, 20, 2, 783, 356, 21, 142, 82, 3, 48, 16, 784, 14, 277, 43, 58, 149, 11, 785, 786, 787, 222, 788]\n"
          ]
        }
      ]
    },
    {
      "cell_type": "markdown",
      "source": [
        "- นิยาม Function เพื่อทำ Padding ตัวเลขที่แทนแต่ละคำในประโยค โดยกำหนดให้มีการเติม 0 เพื่อให้แต่ละประโยคมีความยาวเท่ากัน (51 คำ)"
      ],
      "metadata": {
        "id": "s5OWHmBoMAyD"
      }
    },
    {
      "cell_type": "code",
      "source": [
        "def padding_doc(encoded_doc, max_length):\n",
        "    return(pad_sequences(encoded_doc, maxlen = max_length, padding = \"post\"))"
      ],
      "metadata": {
        "id": "6GRuqQcwMEDA"
      },
      "execution_count": null,
      "outputs": []
    },
    {
      "cell_type": "markdown",
      "source": [
        "- ทำ Padding"
      ],
      "metadata": {
        "id": "lx_Sj2eJMFkU"
      }
    },
    {
      "cell_type": "code",
      "source": [
        "padded_doc = padding_doc(encoded_doc, max_length)\n",
        "print(\"Shape of padded docs = \",padded_doc.shape)\n",
        "\n",
        "print(cleaned_words[0])\n",
        "print(encoded_doc[0])\n",
        "print(padded_doc[0])"
      ],
      "metadata": {
        "colab": {
          "base_uri": "https://localhost:8080/"
        },
        "id": "b44ma5ARMFVR",
        "outputId": "4f32e04e-3941-4636-80ce-0b6bfe36b505"
      },
      "execution_count": null,
      "outputs": [
        {
          "output_type": "stream",
          "name": "stdout",
          "text": [
            "Shape of padded docs =  (500, 51)\n",
            "เฟม ทวิ ต คือ คน ที่ ลาก ทุกอย่าง ไป เป็นเรื่อง   ความ ไม่ เท่าเทียมกัน ของ ชญ. ได้ หมด   เพื่อ ด่า ผช.   มี ลักษณะ คล้าย   feminism   ยุค บุกเบิก\n",
            "[6, 4, 5, 36, 20, 2, 783, 356, 21, 142, 82, 3, 48, 16, 784, 14, 277, 43, 58, 149, 11, 785, 786, 787, 222, 788]\n",
            "[  6   4   5  36  20   2 783 356  21 142  82   3  48  16 784  14 277  43\n",
            "  58 149  11 785 786 787 222 788   0   0   0   0   0   0   0   0   0   0\n",
            "   0   0   0   0   0   0   0   0   0   0   0   0   0   0   0]\n"
          ]
        }
      ]
    },
    {
      "cell_type": "code",
      "source": [
        "unique_category = list(set(category))\n",
        "unique_category"
      ],
      "metadata": {
        "colab": {
          "base_uri": "https://localhost:8080/"
        },
        "id": "Bk7-M3GWMJKZ",
        "outputId": "24aac232-597e-4f3f-ba20-418716056521"
      },
      "execution_count": null,
      "outputs": [
        {
          "output_type": "execute_result",
          "data": {
            "text/plain": [
              "['pos', 'neg']"
            ]
          },
          "metadata": {},
          "execution_count": 226
        }
      ]
    },
    {
      "cell_type": "markdown",
      "source": [
        "- สร้าง output_tokenizer ด้วยการ Train tokenizer ด้วยชื่อ Class ทั้งหมด 2 Class"
      ],
      "metadata": {
        "id": "gWEL7yGrMKg8"
      }
    },
    {
      "cell_type": "code",
      "source": [
        "output_tokenizer = create_tokenizer(unique_category)"
      ],
      "metadata": {
        "id": "cwyQLGVnMMRZ"
      },
      "execution_count": null,
      "outputs": []
    },
    {
      "cell_type": "markdown",
      "source": [
        "- แปลงผลเฉลยเป็นตัวเลขโดยใช้ output_tokenizer"
      ],
      "metadata": {
        "id": "pSK_DDAHMMzo"
      }
    },
    {
      "cell_type": "code",
      "source": [
        "encoded_output = encoding_doc(output_tokenizer, category)\n",
        "print(category[0:5])\n",
        "print(encoded_output[0:5])"
      ],
      "metadata": {
        "colab": {
          "base_uri": "https://localhost:8080/"
        },
        "id": "Hsa1hj8QMNPY",
        "outputId": "297eaafc-3920-4bba-e92c-faea18bcc378"
      },
      "execution_count": null,
      "outputs": [
        {
          "output_type": "stream",
          "name": "stdout",
          "text": [
            "['neg' 'neg' 'neg' 'neg' 'neg']\n",
            "[[2], [2], [2], [2], [2]]\n"
          ]
        }
      ]
    },
    {
      "cell_type": "markdown",
      "source": [
        "- เพิ่มมิติของผลเฉลยจาก `500` เป็น `500 x 1` สำหรับการเข้ารหัสผลเฉลยแบบ `One Hot`"
      ],
      "metadata": {
        "id": "aPgBeeCmMSD6"
      }
    },
    {
      "cell_type": "code",
      "source": [
        "encoded_output = np.array(encoded_output).reshape(len(encoded_output), 1)\n",
        "encoded_output.shape"
      ],
      "metadata": {
        "colab": {
          "base_uri": "https://localhost:8080/"
        },
        "id": "iFMiubkiMXn1",
        "outputId": "9981f793-953d-43a6-fa20-db6ea6f17d01"
      },
      "execution_count": null,
      "outputs": [
        {
          "output_type": "execute_result",
          "data": {
            "text/plain": [
              "(500, 1)"
            ]
          },
          "metadata": {},
          "execution_count": 229
        }
      ]
    },
    {
      "cell_type": "markdown",
      "source": [
        "- นิยาม Function การเข้ารหัสผลเฉลยแบบ One Hot"
      ],
      "metadata": {
        "id": "fTx3uBnjNNUM"
      }
    },
    {
      "cell_type": "code",
      "source": [
        "def one_hot(encode):\n",
        "  oh = OneHotEncoder(sparse = False)\n",
        "  return(oh.fit_transform(encode))"
      ],
      "metadata": {
        "id": "qdFJb_C5NQOF"
      },
      "execution_count": null,
      "outputs": []
    },
    {
      "cell_type": "markdown",
      "source": [
        "- เข้ารหัสผลเฉลยแบบ One Hot"
      ],
      "metadata": {
        "id": "htUGo3heNTO9"
      }
    },
    {
      "cell_type": "code",
      "source": [
        "output_one_hot = one_hot(encoded_output)\n",
        "print(encoded_output[0])\n",
        "print(output_one_hot[0])"
      ],
      "metadata": {
        "colab": {
          "base_uri": "https://localhost:8080/"
        },
        "id": "15em8yynNTna",
        "outputId": "e26480ff-c3a2-4ada-9327-caf552192ed8"
      },
      "execution_count": null,
      "outputs": [
        {
          "output_type": "stream",
          "name": "stdout",
          "text": [
            "[2]\n",
            "[0. 1.]\n"
          ]
        },
        {
          "output_type": "stream",
          "name": "stderr",
          "text": [
            "/usr/local/lib/python3.10/dist-packages/sklearn/preprocessing/_encoders.py:868: FutureWarning:\n",
            "\n",
            "`sparse` was renamed to `sparse_output` in version 1.2 and will be removed in 1.4. `sparse_output` is ignored unless you leave `sparse` to its default value.\n",
            "\n"
          ]
        }
      ]
    },
    {
      "cell_type": "markdown",
      "source": [
        "- แบ่ง Input Data พร้อมผลเฉลย (Dataset) สำหรับ Train 80% และ Validate 20% โดยใช้ Parameter แบบ `Stratified Sampling` เพื่อให้มั่นใจว่าจะได้ Validate Dataset ที่มีข้อมูลครบทุก Intent"
      ],
      "metadata": {
        "id": "Zks6Up-cNPbq"
      }
    },
    {
      "cell_type": "code",
      "source": [
        "train_X, val_X, train_Y, val_Y = train_test_split(padded_doc, output_one_hot, shuffle = True, test_size = 0.2, stratify=output_one_hot)"
      ],
      "metadata": {
        "id": "R7Hg1oWQNqKi"
      },
      "execution_count": null,
      "outputs": []
    },
    {
      "cell_type": "markdown",
      "source": [
        "- Print Shape ของ Dataset"
      ],
      "metadata": {
        "id": "-HjkDPqJNvxk"
      }
    },
    {
      "cell_type": "code",
      "source": [
        "print(\"Shape of train_X = %s and train_Y = %s\" % (train_X.shape, train_Y.shape))\n",
        "print(\"Shape of val_X = %s and val_Y = %s\" % (val_X.shape, val_Y.shape))"
      ],
      "metadata": {
        "colab": {
          "base_uri": "https://localhost:8080/"
        },
        "id": "lQcnUN-RNxzU",
        "outputId": "a18f831d-04d4-44c4-d6b8-a761eabbfc50"
      },
      "execution_count": null,
      "outputs": [
        {
          "output_type": "stream",
          "name": "stdout",
          "text": [
            "Shape of train_X = (400, 51) and train_Y = (400, 2)\n",
            "Shape of val_X = (100, 51) and val_Y = (100, 2)\n"
          ]
        }
      ]
    },
    {
      "cell_type": "markdown",
      "source": [
        "- กำหนดจำนวน Intent ให้กับ num_classes สำหรับนิยามจำนวน Output Node ของ `LSTM`"
      ],
      "metadata": {
        "id": "3JS8Z0zPN05l"
      }
    },
    {
      "cell_type": "code",
      "source": [
        "num_classes = len(unique_category)\n",
        "num_classes"
      ],
      "metadata": {
        "colab": {
          "base_uri": "https://localhost:8080/"
        },
        "id": "hm6gLjntN79z",
        "outputId": "b698c495-1189-45fe-ded6-8e8dc3381f98"
      },
      "execution_count": null,
      "outputs": [
        {
          "output_type": "execute_result",
          "data": {
            "text/plain": [
              "2"
            ]
          },
          "metadata": {},
          "execution_count": 234
        }
      ]
    },
    {
      "cell_type": "markdown",
      "source": [
        "## 01 : RNN - LSTM"
      ],
      "metadata": {
        "id": "A3b_4hmUBfV7"
      }
    },
    {
      "cell_type": "markdown",
      "source": [
        "- นิยาม Model แบบ `LSTM` ซึ่งเป็น Recurrent Neural Network (RNN) แบบหนึ่ง โดยกำหนดค่า learning rate (lr) ให้เป็น 0.0001  "
      ],
      "metadata": {
        "id": "MHNjMwylOdlU"
      }
    },
    {
      "cell_type": "code",
      "source": [
        "# from tensorflow.keras.optimizers import Adam\n",
        "adam = Adam(learning_rate = 0.0001)"
      ],
      "metadata": {
        "id": "3Y-UYlOWOjIk"
      },
      "execution_count": null,
      "outputs": []
    },
    {
      "cell_type": "code",
      "source": [
        "# pip install tensorflow"
      ],
      "metadata": {
        "id": "E0YnSbLWhW8x"
      },
      "execution_count": null,
      "outputs": []
    },
    {
      "cell_type": "code",
      "source": [
        "from tensorflow.keras.models import Sequential\n",
        "from tensorflow.keras.layers import Embedding, Bidirectional, LSTM, Dense, Dropout, BatchNormalization"
      ],
      "metadata": {
        "id": "CDGKMtT5fr_k"
      },
      "execution_count": null,
      "outputs": []
    },
    {
      "cell_type": "code",
      "source": [
        "def create_model(vocab_size, max_length, num_classes):\n",
        "    model = Sequential()\n",
        "\n",
        "    model.add(Embedding(vocab_size, 128, input_length=max_length, trainable=True))\n",
        "\n",
        "    # model required : LSTM\n",
        "    model.add(Bidirectional(LSTM(128), merge_mode=\"concat\"))\n",
        "\n",
        "    # ซึ่งนอกจากต่อแบบ concat แล้ว ยังมีการต่อแบบอื่น ๆ คือ sum, mul และ ave\n",
        "\n",
        "    # Hidden layer\n",
        "    model.add(Dense(128, activation=\"relu\"))\n",
        "    model.add(Dropout(0.5))\n",
        "    model.add(Dense(64, activation=\"relu\"))\n",
        "    model.add(Dropout(0.5))\n",
        "    model.add(Dense(64, activation=\"relu\"))\n",
        "    model.add(Dropout(0.5))\n",
        "    #model.add(Dense(64, activation=\"relu\"))\n",
        "    #model.add(Dropout(0.5))\n",
        "    model.add(BatchNormalization())\n",
        "\n",
        "    # output layer\n",
        "    model.add(Dense(num_classes, activation=\"softmax\"))\n",
        "\n",
        "    return model\n",
        "\n",
        "#vocab_size = 1694\n",
        "#max_length = 51\n",
        "#num_classes = 2\n",
        "\n",
        "model = create_model(vocab_size, max_length , num_classes)"
      ],
      "metadata": {
        "id": "GFMt8knFfwOs"
      },
      "execution_count": null,
      "outputs": []
    },
    {
      "cell_type": "markdown",
      "source": [
        "- Compile และ Print `ชนิดของ Layer`, `Output Shape` และ`จำนวน Parameter` ของ Model"
      ],
      "metadata": {
        "id": "nGfor4PAOpZs"
      }
    },
    {
      "cell_type": "code",
      "source": [
        "model.compile(loss = \"categorical_crossentropy\", optimizer = adam, metrics = [\"accuracy\"])\n",
        "model.summary()"
      ],
      "metadata": {
        "colab": {
          "base_uri": "https://localhost:8080/"
        },
        "id": "lGDvyjCgOwGZ",
        "outputId": "50a1c7ed-1c1b-45a7-e183-edda204a1355"
      },
      "execution_count": null,
      "outputs": [
        {
          "output_type": "stream",
          "name": "stdout",
          "text": [
            "Model: \"sequential_2\"\n",
            "_________________________________________________________________\n",
            " Layer (type)                Output Shape              Param #   \n",
            "=================================================================\n",
            " embedding_17 (Embedding)    (None, 51, 128)           216832    \n",
            "                                                                 \n",
            " bidirectional_2 (Bidirecti  (None, 256)               263168    \n",
            " onal)                                                           \n",
            "                                                                 \n",
            " dense_18 (Dense)            (None, 128)               32896     \n",
            "                                                                 \n",
            " dropout_21 (Dropout)        (None, 128)               0         \n",
            "                                                                 \n",
            " dense_19 (Dense)            (None, 64)                8256      \n",
            "                                                                 \n",
            " dropout_22 (Dropout)        (None, 64)                0         \n",
            "                                                                 \n",
            " dense_20 (Dense)            (None, 64)                4160      \n",
            "                                                                 \n",
            " dropout_23 (Dropout)        (None, 64)                0         \n",
            "                                                                 \n",
            " batch_normalization_2 (Bat  (None, 64)                256       \n",
            " chNormalization)                                                \n",
            "                                                                 \n",
            " dense_21 (Dense)            (None, 2)                 130       \n",
            "                                                                 \n",
            "=================================================================\n",
            "Total params: 525698 (2.01 MB)\n",
            "Trainable params: 525570 (2.00 MB)\n",
            "Non-trainable params: 128 (512.00 Byte)\n",
            "_________________________________________________________________\n"
          ]
        }
      ]
    },
    {
      "cell_type": "markdown",
      "source": [
        "- สร้างจุด Check Point เพื่อ `Save Model` เฉพาะ `Epoch` ที่มี `val_loss น้อยที่สุด`"
      ],
      "metadata": {
        "id": "YJRJImBAOy2-"
      }
    },
    {
      "cell_type": "code",
      "source": [
        "filename = 'model_tmsa_sentiment_lstm.h5'\n",
        "checkpoint = ModelCheckpoint(filename, monitor='val_loss', verbose=1, save_best_only=True, mode='min')"
      ],
      "metadata": {
        "id": "jEgslGrbO7CW"
      },
      "execution_count": null,
      "outputs": []
    },
    {
      "cell_type": "markdown",
      "source": [
        "- Train Model"
      ],
      "metadata": {
        "id": "s8ubTqsIO_WV"
      }
    },
    {
      "cell_type": "code",
      "source": [
        "# specify epoch and batch size number\n",
        "EPOCHS = 70\n",
        "BS = 32\n",
        "\n",
        "# โมเดลจำพวก transfer learning จะมีกระบวนการข้างในค่อนข้างเยอะ\n",
        "# ทำให้การใช้จำนวนรอบ batch size น้อย การทำงานก็จะไวขึ้น"
      ],
      "metadata": {
        "id": "c8yEpbxBmIz_"
      },
      "execution_count": null,
      "outputs": []
    },
    {
      "cell_type": "code",
      "source": [
        "hist = model.fit(train_X, train_Y, epochs = EPOCHS, batch_size = BS, validation_data = (val_X, val_Y), callbacks = [checkpoint])"
      ],
      "metadata": {
        "colab": {
          "base_uri": "https://localhost:8080/"
        },
        "id": "bGg3qbf8PCmi",
        "outputId": "18553b54-ec24-41fc-cb55-a9910f06427f"
      },
      "execution_count": null,
      "outputs": [
        {
          "output_type": "stream",
          "name": "stdout",
          "text": [
            "Epoch 1/70\n",
            "13/13 [==============================] - ETA: 0s - loss: 0.7156 - accuracy: 0.5450\n",
            "Epoch 1: val_loss improved from inf to 0.69295, saving model to model_tmsa_sentiment_lstm.h5\n",
            "13/13 [==============================] - 7s 218ms/step - loss: 0.7156 - accuracy: 0.5450 - val_loss: 0.6930 - val_accuracy: 0.6100\n",
            "Epoch 2/70\n",
            " 1/13 [=>............................] - ETA: 1s - loss: 0.6991 - accuracy: 0.5312"
          ]
        },
        {
          "output_type": "stream",
          "name": "stderr",
          "text": [
            "/usr/local/lib/python3.10/dist-packages/keras/src/engine/training.py:3079: UserWarning:\n",
            "\n",
            "You are saving your model as an HDF5 file via `model.save()`. This file format is considered legacy. We recommend using instead the native Keras format, e.g. `model.save('my_model.keras')`.\n",
            "\n"
          ]
        },
        {
          "output_type": "stream",
          "name": "stdout",
          "text": [
            "13/13 [==============================] - ETA: 0s - loss: 0.7281 - accuracy: 0.5450\n",
            "Epoch 2: val_loss improved from 0.69295 to 0.69279, saving model to model_tmsa_sentiment_lstm.h5\n",
            "13/13 [==============================] - 1s 109ms/step - loss: 0.7281 - accuracy: 0.5450 - val_loss: 0.6928 - val_accuracy: 0.6100\n",
            "Epoch 3/70\n",
            "13/13 [==============================] - ETA: 0s - loss: 0.6980 - accuracy: 0.5325\n",
            "Epoch 3: val_loss improved from 0.69279 to 0.69269, saving model to model_tmsa_sentiment_lstm.h5\n",
            "13/13 [==============================] - 2s 115ms/step - loss: 0.6980 - accuracy: 0.5325 - val_loss: 0.6927 - val_accuracy: 0.6800\n",
            "Epoch 4/70\n",
            "13/13 [==============================] - ETA: 0s - loss: 0.6723 - accuracy: 0.6025\n",
            "Epoch 4: val_loss improved from 0.69269 to 0.69240, saving model to model_tmsa_sentiment_lstm.h5\n",
            "13/13 [==============================] - 1s 106ms/step - loss: 0.6723 - accuracy: 0.6025 - val_loss: 0.6924 - val_accuracy: 0.6000\n",
            "Epoch 5/70\n",
            "13/13 [==============================] - ETA: 0s - loss: 0.6692 - accuracy: 0.5800\n",
            "Epoch 5: val_loss improved from 0.69240 to 0.69183, saving model to model_tmsa_sentiment_lstm.h5\n",
            "13/13 [==============================] - 1s 94ms/step - loss: 0.6692 - accuracy: 0.5800 - val_loss: 0.6918 - val_accuracy: 0.6800\n",
            "Epoch 6/70\n",
            " 9/13 [===================>..........] - ETA: 0s - loss: 0.6700 - accuracy: 0.5764\n",
            "Epoch 6: val_loss improved from 0.69183 to 0.69131, saving model to model_tmsa_sentiment_lstm.h5\n",
            "13/13 [==============================] - 1s 52ms/step - loss: 0.6664 - accuracy: 0.5950 - val_loss: 0.6913 - val_accuracy: 0.7500\n",
            "Epoch 7/70\n",
            "13/13 [==============================] - ETA: 0s - loss: 0.6705 - accuracy: 0.5675\n",
            "Epoch 7: val_loss improved from 0.69131 to 0.69039, saving model to model_tmsa_sentiment_lstm.h5\n",
            "13/13 [==============================] - 1s 93ms/step - loss: 0.6705 - accuracy: 0.5675 - val_loss: 0.6904 - val_accuracy: 0.7800\n",
            "Epoch 8/70\n",
            "13/13 [==============================] - ETA: 0s - loss: 0.6374 - accuracy: 0.6300\n",
            "Epoch 8: val_loss improved from 0.69039 to 0.68859, saving model to model_tmsa_sentiment_lstm.h5\n",
            "13/13 [==============================] - 1s 51ms/step - loss: 0.6374 - accuracy: 0.6300 - val_loss: 0.6886 - val_accuracy: 0.7800\n",
            "Epoch 9/70\n",
            "13/13 [==============================] - ETA: 0s - loss: 0.5977 - accuracy: 0.6900\n",
            "Epoch 9: val_loss improved from 0.68859 to 0.68561, saving model to model_tmsa_sentiment_lstm.h5\n",
            "13/13 [==============================] - 1s 86ms/step - loss: 0.5977 - accuracy: 0.6900 - val_loss: 0.6856 - val_accuracy: 0.8400\n",
            "Epoch 10/70\n",
            "13/13 [==============================] - ETA: 0s - loss: 0.5961 - accuracy: 0.6900\n",
            "Epoch 10: val_loss improved from 0.68561 to 0.68170, saving model to model_tmsa_sentiment_lstm.h5\n",
            "13/13 [==============================] - 1s 65ms/step - loss: 0.5961 - accuracy: 0.6900 - val_loss: 0.6817 - val_accuracy: 0.8900\n",
            "Epoch 11/70\n",
            "13/13 [==============================] - ETA: 0s - loss: 0.5547 - accuracy: 0.7500\n",
            "Epoch 11: val_loss improved from 0.68170 to 0.67687, saving model to model_tmsa_sentiment_lstm.h5\n",
            "13/13 [==============================] - 1s 55ms/step - loss: 0.5547 - accuracy: 0.7500 - val_loss: 0.6769 - val_accuracy: 0.9000\n",
            "Epoch 12/70\n",
            "13/13 [==============================] - ETA: 0s - loss: 0.5178 - accuracy: 0.7900\n",
            "Epoch 12: val_loss improved from 0.67687 to 0.67037, saving model to model_tmsa_sentiment_lstm.h5\n",
            "13/13 [==============================] - 1s 46ms/step - loss: 0.5178 - accuracy: 0.7900 - val_loss: 0.6704 - val_accuracy: 0.8900\n",
            "Epoch 13/70\n",
            "13/13 [==============================] - ETA: 0s - loss: 0.4878 - accuracy: 0.8025\n",
            "Epoch 13: val_loss improved from 0.67037 to 0.66059, saving model to model_tmsa_sentiment_lstm.h5\n",
            "13/13 [==============================] - 1s 57ms/step - loss: 0.4878 - accuracy: 0.8025 - val_loss: 0.6606 - val_accuracy: 0.9000\n",
            "Epoch 14/70\n",
            "13/13 [==============================] - ETA: 0s - loss: 0.4022 - accuracy: 0.8725\n",
            "Epoch 14: val_loss improved from 0.66059 to 0.64805, saving model to model_tmsa_sentiment_lstm.h5\n",
            "13/13 [==============================] - 1s 102ms/step - loss: 0.4022 - accuracy: 0.8725 - val_loss: 0.6480 - val_accuracy: 0.9100\n",
            "Epoch 15/70\n",
            "13/13 [==============================] - ETA: 0s - loss: 0.3713 - accuracy: 0.8675\n",
            "Epoch 15: val_loss improved from 0.64805 to 0.63378, saving model to model_tmsa_sentiment_lstm.h5\n",
            "13/13 [==============================] - 1s 33ms/step - loss: 0.3713 - accuracy: 0.8675 - val_loss: 0.6338 - val_accuracy: 0.8200\n",
            "Epoch 16/70\n",
            "13/13 [==============================] - ETA: 0s - loss: 0.3420 - accuracy: 0.8725\n",
            "Epoch 16: val_loss improved from 0.63378 to 0.61587, saving model to model_tmsa_sentiment_lstm.h5\n",
            "13/13 [==============================] - 1s 58ms/step - loss: 0.3420 - accuracy: 0.8725 - val_loss: 0.6159 - val_accuracy: 0.9000\n",
            "Epoch 17/70\n",
            "10/13 [======================>.......] - ETA: 0s - loss: 0.3241 - accuracy: 0.8719\n",
            "Epoch 17: val_loss improved from 0.61587 to 0.59785, saving model to model_tmsa_sentiment_lstm.h5\n",
            "13/13 [==============================] - 0s 32ms/step - loss: 0.3248 - accuracy: 0.8775 - val_loss: 0.5978 - val_accuracy: 0.9000\n",
            "Epoch 18/70\n",
            "13/13 [==============================] - ETA: 0s - loss: 0.2703 - accuracy: 0.9225\n",
            "Epoch 18: val_loss improved from 0.59785 to 0.57769, saving model to model_tmsa_sentiment_lstm.h5\n",
            "13/13 [==============================] - 1s 32ms/step - loss: 0.2703 - accuracy: 0.9225 - val_loss: 0.5777 - val_accuracy: 0.9100\n",
            "Epoch 19/70\n",
            "12/13 [==========================>...] - ETA: 0s - loss: 0.2581 - accuracy: 0.9349\n",
            "Epoch 19: val_loss improved from 0.57769 to 0.55770, saving model to model_tmsa_sentiment_lstm.h5\n",
            "13/13 [==============================] - 1s 43ms/step - loss: 0.2626 - accuracy: 0.9300 - val_loss: 0.5577 - val_accuracy: 0.9100\n",
            "Epoch 20/70\n",
            "13/13 [==============================] - ETA: 0s - loss: 0.2241 - accuracy: 0.9325\n",
            "Epoch 20: val_loss improved from 0.55770 to 0.53323, saving model to model_tmsa_sentiment_lstm.h5\n",
            "13/13 [==============================] - 1s 55ms/step - loss: 0.2241 - accuracy: 0.9325 - val_loss: 0.5332 - val_accuracy: 0.9200\n",
            "Epoch 21/70\n",
            "11/13 [========================>.....] - ETA: 0s - loss: 0.2083 - accuracy: 0.9403\n",
            "Epoch 21: val_loss improved from 0.53323 to 0.51260, saving model to model_tmsa_sentiment_lstm.h5\n",
            "13/13 [==============================] - 0s 32ms/step - loss: 0.2040 - accuracy: 0.9475 - val_loss: 0.5126 - val_accuracy: 0.9100\n",
            "Epoch 22/70\n",
            "13/13 [==============================] - ETA: 0s - loss: 0.2169 - accuracy: 0.9425\n",
            "Epoch 22: val_loss improved from 0.51260 to 0.49039, saving model to model_tmsa_sentiment_lstm.h5\n",
            "13/13 [==============================] - 0s 37ms/step - loss: 0.2169 - accuracy: 0.9425 - val_loss: 0.4904 - val_accuracy: 0.9100\n",
            "Epoch 23/70\n",
            " 9/13 [===================>..........] - ETA: 0s - loss: 0.1935 - accuracy: 0.9514\n",
            "Epoch 23: val_loss improved from 0.49039 to 0.46827, saving model to model_tmsa_sentiment_lstm.h5\n",
            "13/13 [==============================] - 0s 33ms/step - loss: 0.1848 - accuracy: 0.9575 - val_loss: 0.4683 - val_accuracy: 0.9200\n",
            "Epoch 24/70\n",
            "13/13 [==============================] - ETA: 0s - loss: 0.1828 - accuracy: 0.9525\n",
            "Epoch 24: val_loss improved from 0.46827 to 0.44700, saving model to model_tmsa_sentiment_lstm.h5\n",
            "13/13 [==============================] - 1s 55ms/step - loss: 0.1828 - accuracy: 0.9525 - val_loss: 0.4470 - val_accuracy: 0.9100\n",
            "Epoch 25/70\n",
            "11/13 [========================>.....] - ETA: 0s - loss: 0.1566 - accuracy: 0.9688\n",
            "Epoch 25: val_loss improved from 0.44700 to 0.42409, saving model to model_tmsa_sentiment_lstm.h5\n",
            "13/13 [==============================] - 0s 20ms/step - loss: 0.1573 - accuracy: 0.9725 - val_loss: 0.4241 - val_accuracy: 0.9200\n",
            "Epoch 26/70\n",
            "13/13 [==============================] - ETA: 0s - loss: 0.1674 - accuracy: 0.9425\n",
            "Epoch 26: val_loss improved from 0.42409 to 0.40841, saving model to model_tmsa_sentiment_lstm.h5\n",
            "13/13 [==============================] - 0s 31ms/step - loss: 0.1674 - accuracy: 0.9425 - val_loss: 0.4084 - val_accuracy: 0.9100\n",
            "Epoch 27/70\n",
            "13/13 [==============================] - ETA: 0s - loss: 0.1307 - accuracy: 0.9725\n",
            "Epoch 27: val_loss improved from 0.40841 to 0.38946, saving model to model_tmsa_sentiment_lstm.h5\n",
            "13/13 [==============================] - 0s 32ms/step - loss: 0.1307 - accuracy: 0.9725 - val_loss: 0.3895 - val_accuracy: 0.9100\n",
            "Epoch 28/70\n",
            "11/13 [========================>.....] - ETA: 0s - loss: 0.1405 - accuracy: 0.9716\n",
            "Epoch 28: val_loss improved from 0.38946 to 0.37707, saving model to model_tmsa_sentiment_lstm.h5\n",
            "13/13 [==============================] - 0s 19ms/step - loss: 0.1409 - accuracy: 0.9675 - val_loss: 0.3771 - val_accuracy: 0.8800\n",
            "Epoch 29/70\n",
            "13/13 [==============================] - ETA: 0s - loss: 0.1450 - accuracy: 0.9725\n",
            "Epoch 29: val_loss improved from 0.37707 to 0.34751, saving model to model_tmsa_sentiment_lstm.h5\n",
            "13/13 [==============================] - 1s 30ms/step - loss: 0.1450 - accuracy: 0.9725 - val_loss: 0.3475 - val_accuracy: 0.9200\n",
            "Epoch 30/70\n",
            "13/13 [==============================] - ETA: 0s - loss: 0.1198 - accuracy: 0.9675\n",
            "Epoch 30: val_loss improved from 0.34751 to 0.33150, saving model to model_tmsa_sentiment_lstm.h5\n",
            "13/13 [==============================] - 0s 32ms/step - loss: 0.1198 - accuracy: 0.9675 - val_loss: 0.3315 - val_accuracy: 0.9200\n",
            "Epoch 31/70\n",
            "13/13 [==============================] - ETA: 0s - loss: 0.1099 - accuracy: 0.9850\n",
            "Epoch 31: val_loss improved from 0.33150 to 0.31601, saving model to model_tmsa_sentiment_lstm.h5\n",
            "13/13 [==============================] - 0s 31ms/step - loss: 0.1099 - accuracy: 0.9850 - val_loss: 0.3160 - val_accuracy: 0.9200\n",
            "Epoch 32/70\n",
            "13/13 [==============================] - ETA: 0s - loss: 0.0863 - accuracy: 0.9825\n",
            "Epoch 32: val_loss improved from 0.31601 to 0.30815, saving model to model_tmsa_sentiment_lstm.h5\n",
            "13/13 [==============================] - 1s 55ms/step - loss: 0.0863 - accuracy: 0.9825 - val_loss: 0.3081 - val_accuracy: 0.9100\n",
            "Epoch 33/70\n",
            "13/13 [==============================] - ETA: 0s - loss: 0.0977 - accuracy: 0.9825\n",
            "Epoch 33: val_loss improved from 0.30815 to 0.29053, saving model to model_tmsa_sentiment_lstm.h5\n",
            "13/13 [==============================] - 1s 45ms/step - loss: 0.0977 - accuracy: 0.9825 - val_loss: 0.2905 - val_accuracy: 0.9200\n",
            "Epoch 34/70\n",
            "11/13 [========================>.....] - ETA: 0s - loss: 0.0988 - accuracy: 0.9915\n",
            "Epoch 34: val_loss improved from 0.29053 to 0.28911, saving model to model_tmsa_sentiment_lstm.h5\n",
            "13/13 [==============================] - 0s 19ms/step - loss: 0.0971 - accuracy: 0.9925 - val_loss: 0.2891 - val_accuracy: 0.9100\n",
            "Epoch 35/70\n",
            "11/13 [========================>.....] - ETA: 0s - loss: 0.0947 - accuracy: 0.9915\n",
            "Epoch 35: val_loss improved from 0.28911 to 0.26911, saving model to model_tmsa_sentiment_lstm.h5\n",
            "13/13 [==============================] - 0s 19ms/step - loss: 0.0918 - accuracy: 0.9900 - val_loss: 0.2691 - val_accuracy: 0.9100\n",
            "Epoch 36/70\n",
            "13/13 [==============================] - ETA: 0s - loss: 0.0869 - accuracy: 0.9875\n",
            "Epoch 36: val_loss did not improve from 0.26911\n",
            "13/13 [==============================] - 0s 25ms/step - loss: 0.0869 - accuracy: 0.9875 - val_loss: 0.2712 - val_accuracy: 0.9100\n",
            "Epoch 37/70\n",
            "13/13 [==============================] - ETA: 0s - loss: 0.1045 - accuracy: 0.9775\n",
            "Epoch 37: val_loss did not improve from 0.26911\n",
            "13/13 [==============================] - 0s 13ms/step - loss: 0.1045 - accuracy: 0.9775 - val_loss: 0.3373 - val_accuracy: 0.8800\n",
            "Epoch 38/70\n",
            "13/13 [==============================] - ETA: 0s - loss: 0.0726 - accuracy: 0.9875\n",
            "Epoch 38: val_loss improved from 0.26911 to 0.25949, saving model to model_tmsa_sentiment_lstm.h5\n",
            "13/13 [==============================] - 0s 17ms/step - loss: 0.0726 - accuracy: 0.9875 - val_loss: 0.2595 - val_accuracy: 0.9200\n",
            "Epoch 39/70\n",
            "13/13 [==============================] - ETA: 0s - loss: 0.0800 - accuracy: 0.9850\n",
            "Epoch 39: val_loss improved from 0.25949 to 0.25852, saving model to model_tmsa_sentiment_lstm.h5\n",
            "13/13 [==============================] - 0s 28ms/step - loss: 0.0800 - accuracy: 0.9850 - val_loss: 0.2585 - val_accuracy: 0.9200\n",
            "Epoch 40/70\n",
            "11/13 [========================>.....] - ETA: 0s - loss: 0.0751 - accuracy: 0.9858\n",
            "Epoch 40: val_loss did not improve from 0.25852\n",
            "13/13 [==============================] - 0s 23ms/step - loss: 0.0789 - accuracy: 0.9850 - val_loss: 0.2640 - val_accuracy: 0.9200\n",
            "Epoch 41/70\n",
            " 7/13 [===============>..............] - ETA: 0s - loss: 0.0584 - accuracy: 0.9955\n",
            "Epoch 41: val_loss improved from 0.25852 to 0.25458, saving model to model_tmsa_sentiment_lstm.h5\n",
            "13/13 [==============================] - 0s 16ms/step - loss: 0.0605 - accuracy: 0.9925 - val_loss: 0.2546 - val_accuracy: 0.9200\n",
            "Epoch 42/70\n",
            " 7/13 [===============>..............] - ETA: 0s - loss: 0.0754 - accuracy: 0.9821\n",
            "Epoch 42: val_loss did not improve from 0.25458\n",
            "13/13 [==============================] - 0s 12ms/step - loss: 0.0693 - accuracy: 0.9875 - val_loss: 0.2607 - val_accuracy: 0.9200\n",
            "Epoch 43/70\n",
            "13/13 [==============================] - ETA: 0s - loss: 0.0721 - accuracy: 0.9900\n",
            "Epoch 43: val_loss did not improve from 0.25458\n",
            "13/13 [==============================] - 1s 49ms/step - loss: 0.0721 - accuracy: 0.9900 - val_loss: 0.2580 - val_accuracy: 0.9200\n",
            "Epoch 44/70\n",
            "13/13 [==============================] - ETA: 0s - loss: 0.0706 - accuracy: 0.9925\n",
            "Epoch 44: val_loss did not improve from 0.25458\n",
            "13/13 [==============================] - 0s 23ms/step - loss: 0.0706 - accuracy: 0.9925 - val_loss: 0.2599 - val_accuracy: 0.9200\n",
            "Epoch 45/70\n",
            "13/13 [==============================] - ETA: 0s - loss: 0.0667 - accuracy: 0.9850\n",
            "Epoch 45: val_loss did not improve from 0.25458\n",
            "13/13 [==============================] - 0s 23ms/step - loss: 0.0667 - accuracy: 0.9850 - val_loss: 0.2652 - val_accuracy: 0.9200\n",
            "Epoch 46/70\n",
            "13/13 [==============================] - ETA: 0s - loss: 0.0516 - accuracy: 0.9950\n",
            "Epoch 46: val_loss did not improve from 0.25458\n",
            "13/13 [==============================] - 0s 13ms/step - loss: 0.0516 - accuracy: 0.9950 - val_loss: 0.2752 - val_accuracy: 0.9100\n",
            "Epoch 47/70\n",
            "13/13 [==============================] - ETA: 0s - loss: 0.0564 - accuracy: 0.9925\n",
            "Epoch 47: val_loss did not improve from 0.25458\n",
            "13/13 [==============================] - 0s 13ms/step - loss: 0.0564 - accuracy: 0.9925 - val_loss: 0.2737 - val_accuracy: 0.9100\n",
            "Epoch 48/70\n",
            "13/13 [==============================] - ETA: 0s - loss: 0.0607 - accuracy: 0.9900\n",
            "Epoch 48: val_loss did not improve from 0.25458\n",
            "13/13 [==============================] - 0s 33ms/step - loss: 0.0607 - accuracy: 0.9900 - val_loss: 0.2943 - val_accuracy: 0.9100\n",
            "Epoch 49/70\n",
            "13/13 [==============================] - ETA: 0s - loss: 0.0662 - accuracy: 0.9875\n",
            "Epoch 49: val_loss did not improve from 0.25458\n",
            "13/13 [==============================] - 0s 22ms/step - loss: 0.0662 - accuracy: 0.9875 - val_loss: 0.2702 - val_accuracy: 0.9200\n",
            "Epoch 50/70\n",
            "13/13 [==============================] - ETA: 0s - loss: 0.0487 - accuracy: 0.9950\n",
            "Epoch 50: val_loss did not improve from 0.25458\n",
            "13/13 [==============================] - 0s 33ms/step - loss: 0.0487 - accuracy: 0.9950 - val_loss: 0.2774 - val_accuracy: 0.9100\n",
            "Epoch 51/70\n",
            " 8/13 [=================>............] - ETA: 0s - loss: 0.0490 - accuracy: 0.9961\n",
            "Epoch 51: val_loss did not improve from 0.25458\n",
            "13/13 [==============================] - 0s 12ms/step - loss: 0.0455 - accuracy: 0.9975 - val_loss: 0.3015 - val_accuracy: 0.9100\n",
            "Epoch 52/70\n",
            "13/13 [==============================] - ETA: 0s - loss: 0.0608 - accuracy: 0.9900\n",
            "Epoch 52: val_loss did not improve from 0.25458\n",
            "13/13 [==============================] - 0s 12ms/step - loss: 0.0608 - accuracy: 0.9900 - val_loss: 0.2918 - val_accuracy: 0.9100\n",
            "Epoch 53/70\n",
            "13/13 [==============================] - ETA: 0s - loss: 0.0568 - accuracy: 0.9950\n",
            "Epoch 53: val_loss did not improve from 0.25458\n",
            "13/13 [==============================] - 0s 22ms/step - loss: 0.0568 - accuracy: 0.9950 - val_loss: 0.2880 - val_accuracy: 0.9200\n",
            "Epoch 54/70\n",
            "13/13 [==============================] - ETA: 0s - loss: 0.0630 - accuracy: 0.9850\n",
            "Epoch 54: val_loss did not improve from 0.25458\n",
            "13/13 [==============================] - 0s 38ms/step - loss: 0.0630 - accuracy: 0.9850 - val_loss: 0.2941 - val_accuracy: 0.9100\n",
            "Epoch 55/70\n",
            " 8/13 [=================>............] - ETA: 0s - loss: 0.0439 - accuracy: 0.9922\n",
            "Epoch 55: val_loss did not improve from 0.25458\n",
            "13/13 [==============================] - 0s 11ms/step - loss: 0.0437 - accuracy: 0.9925 - val_loss: 0.2898 - val_accuracy: 0.9100\n",
            "Epoch 56/70\n",
            " 8/13 [=================>............] - ETA: 0s - loss: 0.0361 - accuracy: 1.0000\n",
            "Epoch 56: val_loss did not improve from 0.25458\n",
            "13/13 [==============================] - 0s 12ms/step - loss: 0.0392 - accuracy: 0.9975 - val_loss: 0.3199 - val_accuracy: 0.9100\n",
            "Epoch 57/70\n",
            "13/13 [==============================] - ETA: 0s - loss: 0.0392 - accuracy: 1.0000\n",
            "Epoch 57: val_loss did not improve from 0.25458\n",
            "13/13 [==============================] - 0s 22ms/step - loss: 0.0392 - accuracy: 1.0000 - val_loss: 0.2927 - val_accuracy: 0.9100\n",
            "Epoch 58/70\n",
            " 9/13 [===================>..........] - ETA: 0s - loss: 0.0436 - accuracy: 0.9931\n",
            "Epoch 58: val_loss did not improve from 0.25458\n",
            "13/13 [==============================] - 0s 27ms/step - loss: 0.0384 - accuracy: 0.9950 - val_loss: 0.3012 - val_accuracy: 0.9200\n",
            "Epoch 59/70\n",
            " 8/13 [=================>............] - ETA: 0s - loss: 0.0733 - accuracy: 0.9805\n",
            "Epoch 59: val_loss did not improve from 0.25458\n",
            "13/13 [==============================] - 0s 11ms/step - loss: 0.0661 - accuracy: 0.9850 - val_loss: 0.3115 - val_accuracy: 0.9100\n",
            "Epoch 60/70\n",
            " 7/13 [===============>..............] - ETA: 0s - loss: 0.0330 - accuracy: 1.0000\n",
            "Epoch 60: val_loss did not improve from 0.25458\n",
            "13/13 [==============================] - 0s 11ms/step - loss: 0.0423 - accuracy: 0.9950 - val_loss: 0.3162 - val_accuracy: 0.9100\n",
            "Epoch 61/70\n",
            "13/13 [==============================] - ETA: 0s - loss: 0.0428 - accuracy: 0.9925\n",
            "Epoch 61: val_loss did not improve from 0.25458\n",
            "13/13 [==============================] - 0s 12ms/step - loss: 0.0428 - accuracy: 0.9925 - val_loss: 0.3113 - val_accuracy: 0.9200\n",
            "Epoch 62/70\n",
            " 8/13 [=================>............] - ETA: 0s - loss: 0.0408 - accuracy: 0.9961\n",
            "Epoch 62: val_loss did not improve from 0.25458\n",
            "13/13 [==============================] - 0s 11ms/step - loss: 0.0417 - accuracy: 0.9950 - val_loss: 0.3083 - val_accuracy: 0.9200\n",
            "Epoch 63/70\n",
            "13/13 [==============================] - ETA: 0s - loss: 0.0479 - accuracy: 0.9925\n",
            "Epoch 63: val_loss did not improve from 0.25458\n",
            "13/13 [==============================] - 0s 22ms/step - loss: 0.0479 - accuracy: 0.9925 - val_loss: 0.3215 - val_accuracy: 0.9100\n",
            "Epoch 64/70\n",
            "13/13 [==============================] - ETA: 0s - loss: 0.0362 - accuracy: 0.9950\n",
            "Epoch 64: val_loss did not improve from 0.25458\n",
            "13/13 [==============================] - 0s 22ms/step - loss: 0.0362 - accuracy: 0.9950 - val_loss: 0.3160 - val_accuracy: 0.9100\n",
            "Epoch 65/70\n",
            " 8/13 [=================>............] - ETA: 0s - loss: 0.0313 - accuracy: 1.0000\n",
            "Epoch 65: val_loss did not improve from 0.25458\n",
            "13/13 [==============================] - 0s 12ms/step - loss: 0.0391 - accuracy: 0.9950 - val_loss: 0.3124 - val_accuracy: 0.9200\n",
            "Epoch 66/70\n",
            " 8/13 [=================>............] - ETA: 0s - loss: 0.0456 - accuracy: 0.9844\n",
            "Epoch 66: val_loss did not improve from 0.25458\n",
            "13/13 [==============================] - 0s 12ms/step - loss: 0.0427 - accuracy: 0.9875 - val_loss: 0.3403 - val_accuracy: 0.9200\n",
            "Epoch 67/70\n",
            " 7/13 [===============>..............] - ETA: 0s - loss: 0.0278 - accuracy: 1.0000\n",
            "Epoch 67: val_loss did not improve from 0.25458\n",
            "13/13 [==============================] - 0s 12ms/step - loss: 0.0292 - accuracy: 1.0000 - val_loss: 0.3301 - val_accuracy: 0.9100\n",
            "Epoch 68/70\n",
            "13/13 [==============================] - ETA: 0s - loss: 0.0252 - accuracy: 1.0000\n",
            "Epoch 68: val_loss did not improve from 0.25458\n",
            "13/13 [==============================] - 0s 12ms/step - loss: 0.0252 - accuracy: 1.0000 - val_loss: 0.3263 - val_accuracy: 0.9100\n",
            "Epoch 69/70\n",
            "13/13 [==============================] - ETA: 0s - loss: 0.0466 - accuracy: 0.9925\n",
            "Epoch 69: val_loss did not improve from 0.25458\n",
            "13/13 [==============================] - 0s 22ms/step - loss: 0.0466 - accuracy: 0.9925 - val_loss: 0.3123 - val_accuracy: 0.9200\n",
            "Epoch 70/70\n",
            " 8/13 [=================>............] - ETA: 0s - loss: 0.0290 - accuracy: 0.9961\n",
            "Epoch 70: val_loss did not improve from 0.25458\n",
            "13/13 [==============================] - 0s 11ms/step - loss: 0.0355 - accuracy: 0.9925 - val_loss: 0.3251 - val_accuracy: 0.9100\n"
          ]
        }
      ]
    },
    {
      "cell_type": "markdown",
      "source": [
        "- Save History"
      ],
      "metadata": {
        "id": "ZOt7NQJTPGKC"
      }
    },
    {
      "cell_type": "code",
      "source": [
        "with open('history_model_tmsa_sentiment_lstm', 'wb') as file:\n",
        "    p.dump(hist.history, file)"
      ],
      "metadata": {
        "id": "93KNIBpCPHip"
      },
      "execution_count": null,
      "outputs": []
    },
    {
      "cell_type": "markdown",
      "source": [
        "- Load History"
      ],
      "metadata": {
        "id": "SihzL0MyPQlH"
      }
    },
    {
      "cell_type": "code",
      "source": [
        "with open('history_model_tmsa_sentiment_lstm', 'rb') as file:\n",
        "    his = p.load(file)"
      ],
      "metadata": {
        "id": "xyAsBIczPHgV"
      },
      "execution_count": null,
      "outputs": []
    },
    {
      "cell_type": "markdown",
      "source": [
        "- Plot `Loss` และ `Validate Loss`"
      ],
      "metadata": {
        "id": "JhH7-i5GPWek"
      }
    },
    {
      "cell_type": "code",
      "source": [
        "h1 = go.Scatter(y=his['loss'],\n",
        "                    mode=\"lines\", line=dict(\n",
        "                    width=2,\n",
        "                    color='blue'),\n",
        "                    name=\"loss\"\n",
        "                   )\n",
        "h2 = go.Scatter(y=his['val_loss'],\n",
        "                    mode=\"lines\", line=dict(\n",
        "                    width=2,\n",
        "                    color='red'),\n",
        "                    name=\"val_loss\"\n",
        "                   )\n",
        "\n",
        "data = [h1,h2]\n",
        "layout1 = go.Layout(title='Loss',\n",
        "                   xaxis=dict(title='epochs'),\n",
        "                   yaxis=dict(title=''))\n",
        "fig1 = go.Figure(data = data, layout=layout1)\n",
        "fig1.show()"
      ],
      "metadata": {
        "colab": {
          "base_uri": "https://localhost:8080/",
          "height": 542
        },
        "id": "_sXlAS4yPHeY",
        "outputId": "c17a8288-c56a-4546-8f4d-3c828c24dc0f"
      },
      "execution_count": null,
      "outputs": [
        {
          "output_type": "display_data",
          "data": {
            "text/html": [
              "<html>\n",
              "<head><meta charset=\"utf-8\" /></head>\n",
              "<body>\n",
              "    <div>            <script src=\"https://cdnjs.cloudflare.com/ajax/libs/mathjax/2.7.5/MathJax.js?config=TeX-AMS-MML_SVG\"></script><script type=\"text/javascript\">if (window.MathJax && window.MathJax.Hub && window.MathJax.Hub.Config) {window.MathJax.Hub.Config({SVG: {font: \"STIX-Web\"}});}</script>                <script type=\"text/javascript\">window.PlotlyConfig = {MathJaxConfig: 'local'};</script>\n",
              "        <script charset=\"utf-8\" src=\"https://cdn.plot.ly/plotly-2.24.1.min.js\"></script>                <div id=\"fdc70d88-20db-4ccb-82fc-1fc22deccb54\" class=\"plotly-graph-div\" style=\"height:525px; width:100%;\"></div>            <script type=\"text/javascript\">                                    window.PLOTLYENV=window.PLOTLYENV || {};                                    if (document.getElementById(\"fdc70d88-20db-4ccb-82fc-1fc22deccb54\")) {                    Plotly.newPlot(                        \"fdc70d88-20db-4ccb-82fc-1fc22deccb54\",                        [{\"line\":{\"color\":\"blue\",\"width\":2},\"mode\":\"lines\",\"name\":\"loss\",\"y\":[0.7155590057373047,0.7280710339546204,0.6980125308036804,0.6723169088363647,0.6692111492156982,0.6663971543312073,0.6704899668693542,0.6374000310897827,0.5977022051811218,0.5961207747459412,0.5547268986701965,0.5178375244140625,0.4878218472003937,0.4021780788898468,0.37131741642951965,0.34200718998908997,0.324778288602829,0.270347535610199,0.2626458704471588,0.22410836815834045,0.20402318239212036,0.2168823480606079,0.18475766479969025,0.1828182190656662,0.15727734565734863,0.167433962225914,0.13071037828922272,0.14087241888046265,0.14497467875480652,0.11982349306344986,0.10990652441978455,0.08629690110683441,0.09774783253669739,0.09710488468408585,0.09177044779062271,0.08685781806707382,0.10450901836156845,0.07259925454854965,0.07996506989002228,0.0788739025592804,0.060451097786426544,0.06926623731851578,0.07206694036722183,0.07064710557460785,0.06673064082860947,0.0515589714050293,0.05635732784867287,0.06070442497730255,0.0661877989768982,0.048709917813539505,0.045450955629348755,0.060782693326473236,0.05676297843456268,0.06295625120401382,0.04366098344326019,0.03921940177679062,0.039215873926877975,0.038394566625356674,0.06613680720329285,0.04227825626730919,0.042836952954530716,0.04165056347846985,0.04789792001247406,0.03619496524333954,0.039062462747097015,0.04271651431918144,0.029150739312171936,0.025237197056412697,0.04661288112401962,0.03547074645757675],\"type\":\"scatter\"},{\"line\":{\"color\":\"red\",\"width\":2},\"mode\":\"lines\",\"name\":\"val_loss\",\"y\":[0.6929530501365662,0.6927934288978577,0.6926879286766052,0.6924041509628296,0.6918305158615112,0.6913127303123474,0.6903875470161438,0.6885910630226135,0.685609757900238,0.6816997528076172,0.6768722534179688,0.670365571975708,0.6605862379074097,0.6480457186698914,0.6337792873382568,0.6158655285835266,0.5978468060493469,0.5776918530464172,0.557695746421814,0.5332288146018982,0.5125978589057922,0.4903927743434906,0.46826809644699097,0.4470028579235077,0.4240899980068207,0.40841004252433777,0.38945767283439636,0.37707069516181946,0.3475129008293152,0.3314976394176483,0.3160091042518616,0.308146595954895,0.2905299663543701,0.2891126573085785,0.26910600066185,0.2711956202983856,0.3373066186904907,0.25949257612228394,0.2585199773311615,0.264019250869751,0.25457847118377686,0.2607027590274811,0.2579617202281952,0.2599359154701233,0.26519575715065,0.2752099931240082,0.27368471026420593,0.29426905512809753,0.27022209763526917,0.27743059396743774,0.30146247148513794,0.29182198643684387,0.28799891471862793,0.29411160945892334,0.2897845506668091,0.3198607563972473,0.2927001118659973,0.3012412488460541,0.3114943206310272,0.3162418007850647,0.31129148602485657,0.3082864582538605,0.32150334119796753,0.31603386998176575,0.3123689889907837,0.34029215574264526,0.3301021158695221,0.3262746334075928,0.31231269240379333,0.32510143518447876],\"type\":\"scatter\"}],                        {\"title\":{\"text\":\"Loss\"},\"xaxis\":{\"title\":{\"text\":\"epochs\"}},\"yaxis\":{\"title\":{\"text\":\"\"}},\"template\":{\"data\":{\"histogram2dcontour\":[{\"type\":\"histogram2dcontour\",\"colorbar\":{\"outlinewidth\":0,\"ticks\":\"\"},\"colorscale\":[[0.0,\"#0d0887\"],[0.1111111111111111,\"#46039f\"],[0.2222222222222222,\"#7201a8\"],[0.3333333333333333,\"#9c179e\"],[0.4444444444444444,\"#bd3786\"],[0.5555555555555556,\"#d8576b\"],[0.6666666666666666,\"#ed7953\"],[0.7777777777777778,\"#fb9f3a\"],[0.8888888888888888,\"#fdca26\"],[1.0,\"#f0f921\"]]}],\"choropleth\":[{\"type\":\"choropleth\",\"colorbar\":{\"outlinewidth\":0,\"ticks\":\"\"}}],\"histogram2d\":[{\"type\":\"histogram2d\",\"colorbar\":{\"outlinewidth\":0,\"ticks\":\"\"},\"colorscale\":[[0.0,\"#0d0887\"],[0.1111111111111111,\"#46039f\"],[0.2222222222222222,\"#7201a8\"],[0.3333333333333333,\"#9c179e\"],[0.4444444444444444,\"#bd3786\"],[0.5555555555555556,\"#d8576b\"],[0.6666666666666666,\"#ed7953\"],[0.7777777777777778,\"#fb9f3a\"],[0.8888888888888888,\"#fdca26\"],[1.0,\"#f0f921\"]]}],\"heatmap\":[{\"type\":\"heatmap\",\"colorbar\":{\"outlinewidth\":0,\"ticks\":\"\"},\"colorscale\":[[0.0,\"#0d0887\"],[0.1111111111111111,\"#46039f\"],[0.2222222222222222,\"#7201a8\"],[0.3333333333333333,\"#9c179e\"],[0.4444444444444444,\"#bd3786\"],[0.5555555555555556,\"#d8576b\"],[0.6666666666666666,\"#ed7953\"],[0.7777777777777778,\"#fb9f3a\"],[0.8888888888888888,\"#fdca26\"],[1.0,\"#f0f921\"]]}],\"heatmapgl\":[{\"type\":\"heatmapgl\",\"colorbar\":{\"outlinewidth\":0,\"ticks\":\"\"},\"colorscale\":[[0.0,\"#0d0887\"],[0.1111111111111111,\"#46039f\"],[0.2222222222222222,\"#7201a8\"],[0.3333333333333333,\"#9c179e\"],[0.4444444444444444,\"#bd3786\"],[0.5555555555555556,\"#d8576b\"],[0.6666666666666666,\"#ed7953\"],[0.7777777777777778,\"#fb9f3a\"],[0.8888888888888888,\"#fdca26\"],[1.0,\"#f0f921\"]]}],\"contourcarpet\":[{\"type\":\"contourcarpet\",\"colorbar\":{\"outlinewidth\":0,\"ticks\":\"\"}}],\"contour\":[{\"type\":\"contour\",\"colorbar\":{\"outlinewidth\":0,\"ticks\":\"\"},\"colorscale\":[[0.0,\"#0d0887\"],[0.1111111111111111,\"#46039f\"],[0.2222222222222222,\"#7201a8\"],[0.3333333333333333,\"#9c179e\"],[0.4444444444444444,\"#bd3786\"],[0.5555555555555556,\"#d8576b\"],[0.6666666666666666,\"#ed7953\"],[0.7777777777777778,\"#fb9f3a\"],[0.8888888888888888,\"#fdca26\"],[1.0,\"#f0f921\"]]}],\"surface\":[{\"type\":\"surface\",\"colorbar\":{\"outlinewidth\":0,\"ticks\":\"\"},\"colorscale\":[[0.0,\"#0d0887\"],[0.1111111111111111,\"#46039f\"],[0.2222222222222222,\"#7201a8\"],[0.3333333333333333,\"#9c179e\"],[0.4444444444444444,\"#bd3786\"],[0.5555555555555556,\"#d8576b\"],[0.6666666666666666,\"#ed7953\"],[0.7777777777777778,\"#fb9f3a\"],[0.8888888888888888,\"#fdca26\"],[1.0,\"#f0f921\"]]}],\"mesh3d\":[{\"type\":\"mesh3d\",\"colorbar\":{\"outlinewidth\":0,\"ticks\":\"\"}}],\"scatter\":[{\"fillpattern\":{\"fillmode\":\"overlay\",\"size\":10,\"solidity\":0.2},\"type\":\"scatter\"}],\"parcoords\":[{\"type\":\"parcoords\",\"line\":{\"colorbar\":{\"outlinewidth\":0,\"ticks\":\"\"}}}],\"scatterpolargl\":[{\"type\":\"scatterpolargl\",\"marker\":{\"colorbar\":{\"outlinewidth\":0,\"ticks\":\"\"}}}],\"bar\":[{\"error_x\":{\"color\":\"#2a3f5f\"},\"error_y\":{\"color\":\"#2a3f5f\"},\"marker\":{\"line\":{\"color\":\"#E5ECF6\",\"width\":0.5},\"pattern\":{\"fillmode\":\"overlay\",\"size\":10,\"solidity\":0.2}},\"type\":\"bar\"}],\"scattergeo\":[{\"type\":\"scattergeo\",\"marker\":{\"colorbar\":{\"outlinewidth\":0,\"ticks\":\"\"}}}],\"scatterpolar\":[{\"type\":\"scatterpolar\",\"marker\":{\"colorbar\":{\"outlinewidth\":0,\"ticks\":\"\"}}}],\"histogram\":[{\"marker\":{\"pattern\":{\"fillmode\":\"overlay\",\"size\":10,\"solidity\":0.2}},\"type\":\"histogram\"}],\"scattergl\":[{\"type\":\"scattergl\",\"marker\":{\"colorbar\":{\"outlinewidth\":0,\"ticks\":\"\"}}}],\"scatter3d\":[{\"type\":\"scatter3d\",\"line\":{\"colorbar\":{\"outlinewidth\":0,\"ticks\":\"\"}},\"marker\":{\"colorbar\":{\"outlinewidth\":0,\"ticks\":\"\"}}}],\"scattermapbox\":[{\"type\":\"scattermapbox\",\"marker\":{\"colorbar\":{\"outlinewidth\":0,\"ticks\":\"\"}}}],\"scatterternary\":[{\"type\":\"scatterternary\",\"marker\":{\"colorbar\":{\"outlinewidth\":0,\"ticks\":\"\"}}}],\"scattercarpet\":[{\"type\":\"scattercarpet\",\"marker\":{\"colorbar\":{\"outlinewidth\":0,\"ticks\":\"\"}}}],\"carpet\":[{\"aaxis\":{\"endlinecolor\":\"#2a3f5f\",\"gridcolor\":\"white\",\"linecolor\":\"white\",\"minorgridcolor\":\"white\",\"startlinecolor\":\"#2a3f5f\"},\"baxis\":{\"endlinecolor\":\"#2a3f5f\",\"gridcolor\":\"white\",\"linecolor\":\"white\",\"minorgridcolor\":\"white\",\"startlinecolor\":\"#2a3f5f\"},\"type\":\"carpet\"}],\"table\":[{\"cells\":{\"fill\":{\"color\":\"#EBF0F8\"},\"line\":{\"color\":\"white\"}},\"header\":{\"fill\":{\"color\":\"#C8D4E3\"},\"line\":{\"color\":\"white\"}},\"type\":\"table\"}],\"barpolar\":[{\"marker\":{\"line\":{\"color\":\"#E5ECF6\",\"width\":0.5},\"pattern\":{\"fillmode\":\"overlay\",\"size\":10,\"solidity\":0.2}},\"type\":\"barpolar\"}],\"pie\":[{\"automargin\":true,\"type\":\"pie\"}]},\"layout\":{\"autotypenumbers\":\"strict\",\"colorway\":[\"#636efa\",\"#EF553B\",\"#00cc96\",\"#ab63fa\",\"#FFA15A\",\"#19d3f3\",\"#FF6692\",\"#B6E880\",\"#FF97FF\",\"#FECB52\"],\"font\":{\"color\":\"#2a3f5f\"},\"hovermode\":\"closest\",\"hoverlabel\":{\"align\":\"left\"},\"paper_bgcolor\":\"white\",\"plot_bgcolor\":\"#E5ECF6\",\"polar\":{\"bgcolor\":\"#E5ECF6\",\"angularaxis\":{\"gridcolor\":\"white\",\"linecolor\":\"white\",\"ticks\":\"\"},\"radialaxis\":{\"gridcolor\":\"white\",\"linecolor\":\"white\",\"ticks\":\"\"}},\"ternary\":{\"bgcolor\":\"#E5ECF6\",\"aaxis\":{\"gridcolor\":\"white\",\"linecolor\":\"white\",\"ticks\":\"\"},\"baxis\":{\"gridcolor\":\"white\",\"linecolor\":\"white\",\"ticks\":\"\"},\"caxis\":{\"gridcolor\":\"white\",\"linecolor\":\"white\",\"ticks\":\"\"}},\"coloraxis\":{\"colorbar\":{\"outlinewidth\":0,\"ticks\":\"\"}},\"colorscale\":{\"sequential\":[[0.0,\"#0d0887\"],[0.1111111111111111,\"#46039f\"],[0.2222222222222222,\"#7201a8\"],[0.3333333333333333,\"#9c179e\"],[0.4444444444444444,\"#bd3786\"],[0.5555555555555556,\"#d8576b\"],[0.6666666666666666,\"#ed7953\"],[0.7777777777777778,\"#fb9f3a\"],[0.8888888888888888,\"#fdca26\"],[1.0,\"#f0f921\"]],\"sequentialminus\":[[0.0,\"#0d0887\"],[0.1111111111111111,\"#46039f\"],[0.2222222222222222,\"#7201a8\"],[0.3333333333333333,\"#9c179e\"],[0.4444444444444444,\"#bd3786\"],[0.5555555555555556,\"#d8576b\"],[0.6666666666666666,\"#ed7953\"],[0.7777777777777778,\"#fb9f3a\"],[0.8888888888888888,\"#fdca26\"],[1.0,\"#f0f921\"]],\"diverging\":[[0,\"#8e0152\"],[0.1,\"#c51b7d\"],[0.2,\"#de77ae\"],[0.3,\"#f1b6da\"],[0.4,\"#fde0ef\"],[0.5,\"#f7f7f7\"],[0.6,\"#e6f5d0\"],[0.7,\"#b8e186\"],[0.8,\"#7fbc41\"],[0.9,\"#4d9221\"],[1,\"#276419\"]]},\"xaxis\":{\"gridcolor\":\"white\",\"linecolor\":\"white\",\"ticks\":\"\",\"title\":{\"standoff\":15},\"zerolinecolor\":\"white\",\"automargin\":true,\"zerolinewidth\":2},\"yaxis\":{\"gridcolor\":\"white\",\"linecolor\":\"white\",\"ticks\":\"\",\"title\":{\"standoff\":15},\"zerolinecolor\":\"white\",\"automargin\":true,\"zerolinewidth\":2},\"scene\":{\"xaxis\":{\"backgroundcolor\":\"#E5ECF6\",\"gridcolor\":\"white\",\"linecolor\":\"white\",\"showbackground\":true,\"ticks\":\"\",\"zerolinecolor\":\"white\",\"gridwidth\":2},\"yaxis\":{\"backgroundcolor\":\"#E5ECF6\",\"gridcolor\":\"white\",\"linecolor\":\"white\",\"showbackground\":true,\"ticks\":\"\",\"zerolinecolor\":\"white\",\"gridwidth\":2},\"zaxis\":{\"backgroundcolor\":\"#E5ECF6\",\"gridcolor\":\"white\",\"linecolor\":\"white\",\"showbackground\":true,\"ticks\":\"\",\"zerolinecolor\":\"white\",\"gridwidth\":2}},\"shapedefaults\":{\"line\":{\"color\":\"#2a3f5f\"}},\"annotationdefaults\":{\"arrowcolor\":\"#2a3f5f\",\"arrowhead\":0,\"arrowwidth\":1},\"geo\":{\"bgcolor\":\"white\",\"landcolor\":\"#E5ECF6\",\"subunitcolor\":\"white\",\"showland\":true,\"showlakes\":true,\"lakecolor\":\"white\"},\"title\":{\"x\":0.05},\"mapbox\":{\"style\":\"light\"}}}},                        {\"responsive\": true}                    ).then(function(){\n",
              "                            \n",
              "var gd = document.getElementById('fdc70d88-20db-4ccb-82fc-1fc22deccb54');\n",
              "var x = new MutationObserver(function (mutations, observer) {{\n",
              "        var display = window.getComputedStyle(gd).display;\n",
              "        if (!display || display === 'none') {{\n",
              "            console.log([gd, 'removed!']);\n",
              "            Plotly.purge(gd);\n",
              "            observer.disconnect();\n",
              "        }}\n",
              "}});\n",
              "\n",
              "// Listen for the removal of the full notebook cells\n",
              "var notebookContainer = gd.closest('#notebook-container');\n",
              "if (notebookContainer) {{\n",
              "    x.observe(notebookContainer, {childList: true});\n",
              "}}\n",
              "\n",
              "// Listen for the clearing of the current output cell\n",
              "var outputEl = gd.closest('.output');\n",
              "if (outputEl) {{\n",
              "    x.observe(outputEl, {childList: true});\n",
              "}}\n",
              "\n",
              "                        })                };                            </script>        </div>\n",
              "</body>\n",
              "</html>"
            ]
          },
          "metadata": {}
        }
      ]
    },
    {
      "cell_type": "markdown",
      "source": [
        "Plot `Accuracy` และ `Validate Accuracy`"
      ],
      "metadata": {
        "id": "ldfNIhjHPZ2X"
      }
    },
    {
      "cell_type": "code",
      "source": [
        "h1 = go.Scatter(y=his['accuracy'],\n",
        "                    mode=\"lines\", line=dict(\n",
        "                    width=2,\n",
        "                    color='blue'),\n",
        "                    name=\"acc\"\n",
        "                   )\n",
        "h2 = go.Scatter(y=his['val_accuracy'],\n",
        "                    mode=\"lines\", line=dict(\n",
        "                    width=2,\n",
        "                    color='red'),\n",
        "                    name=\"val_acc\"\n",
        "                   )\n",
        "\n",
        "data = [h1,h2]\n",
        "layout1 = go.Layout(title='Accuracy',\n",
        "                   xaxis=dict(title='epochs'),\n",
        "                   yaxis=dict(title=''))\n",
        "fig1 = go.Figure(data = data, layout=layout1)\n",
        "fig1.show()"
      ],
      "metadata": {
        "colab": {
          "base_uri": "https://localhost:8080/",
          "height": 542
        },
        "id": "oLBX0fMnPHbw",
        "outputId": "02cc9d96-bc47-48eb-9c2d-5785241d517a"
      },
      "execution_count": null,
      "outputs": [
        {
          "output_type": "display_data",
          "data": {
            "text/html": [
              "<html>\n",
              "<head><meta charset=\"utf-8\" /></head>\n",
              "<body>\n",
              "    <div>            <script src=\"https://cdnjs.cloudflare.com/ajax/libs/mathjax/2.7.5/MathJax.js?config=TeX-AMS-MML_SVG\"></script><script type=\"text/javascript\">if (window.MathJax && window.MathJax.Hub && window.MathJax.Hub.Config) {window.MathJax.Hub.Config({SVG: {font: \"STIX-Web\"}});}</script>                <script type=\"text/javascript\">window.PlotlyConfig = {MathJaxConfig: 'local'};</script>\n",
              "        <script charset=\"utf-8\" src=\"https://cdn.plot.ly/plotly-2.24.1.min.js\"></script>                <div id=\"a2cc7a20-1e5f-4ca1-9bc6-c50a549e0b0a\" class=\"plotly-graph-div\" style=\"height:525px; width:100%;\"></div>            <script type=\"text/javascript\">                                    window.PLOTLYENV=window.PLOTLYENV || {};                                    if (document.getElementById(\"a2cc7a20-1e5f-4ca1-9bc6-c50a549e0b0a\")) {                    Plotly.newPlot(                        \"a2cc7a20-1e5f-4ca1-9bc6-c50a549e0b0a\",                        [{\"line\":{\"color\":\"blue\",\"width\":2},\"mode\":\"lines\",\"name\":\"acc\",\"y\":[0.5450000166893005,0.5450000166893005,0.5325000286102295,0.6025000214576721,0.5799999833106995,0.5950000286102295,0.5674999952316284,0.6299999952316284,0.6899999976158142,0.6899999976158142,0.75,0.7900000214576721,0.8025000095367432,0.8725000023841858,0.8675000071525574,0.8725000023841858,0.8774999976158142,0.9225000143051147,0.9300000071525574,0.9325000047683716,0.9474999904632568,0.9424999952316284,0.9574999809265137,0.9524999856948853,0.9725000262260437,0.9424999952316284,0.9725000262260437,0.9674999713897705,0.9725000262260437,0.9674999713897705,0.9850000143051147,0.9825000166893005,0.9825000166893005,0.9925000071525574,0.9900000095367432,0.987500011920929,0.9775000214576721,0.987500011920929,0.9850000143051147,0.9850000143051147,0.9925000071525574,0.987500011920929,0.9900000095367432,0.9925000071525574,0.9850000143051147,0.9950000047683716,0.9925000071525574,0.9900000095367432,0.987500011920929,0.9950000047683716,0.9975000023841858,0.9900000095367432,0.9950000047683716,0.9850000143051147,0.9925000071525574,0.9975000023841858,1.0,0.9950000047683716,0.9850000143051147,0.9950000047683716,0.9925000071525574,0.9950000047683716,0.9925000071525574,0.9950000047683716,0.9950000047683716,0.987500011920929,1.0,1.0,0.9925000071525574,0.9925000071525574],\"type\":\"scatter\"},{\"line\":{\"color\":\"red\",\"width\":2},\"mode\":\"lines\",\"name\":\"val_acc\",\"y\":[0.6100000143051147,0.6100000143051147,0.6800000071525574,0.6000000238418579,0.6800000071525574,0.75,0.7799999713897705,0.7799999713897705,0.8399999737739563,0.8899999856948853,0.8999999761581421,0.8899999856948853,0.8999999761581421,0.9100000262260437,0.8199999928474426,0.8999999761581421,0.8999999761581421,0.9100000262260437,0.9100000262260437,0.9200000166893005,0.9100000262260437,0.9100000262260437,0.9200000166893005,0.9100000262260437,0.9200000166893005,0.9100000262260437,0.9100000262260437,0.8799999952316284,0.9200000166893005,0.9200000166893005,0.9200000166893005,0.9100000262260437,0.9200000166893005,0.9100000262260437,0.9100000262260437,0.9100000262260437,0.8799999952316284,0.9200000166893005,0.9200000166893005,0.9200000166893005,0.9200000166893005,0.9200000166893005,0.9200000166893005,0.9200000166893005,0.9200000166893005,0.9100000262260437,0.9100000262260437,0.9100000262260437,0.9200000166893005,0.9100000262260437,0.9100000262260437,0.9100000262260437,0.9200000166893005,0.9100000262260437,0.9100000262260437,0.9100000262260437,0.9100000262260437,0.9200000166893005,0.9100000262260437,0.9100000262260437,0.9200000166893005,0.9200000166893005,0.9100000262260437,0.9100000262260437,0.9200000166893005,0.9200000166893005,0.9100000262260437,0.9100000262260437,0.9200000166893005,0.9100000262260437],\"type\":\"scatter\"}],                        {\"title\":{\"text\":\"Accuracy\"},\"xaxis\":{\"title\":{\"text\":\"epochs\"}},\"yaxis\":{\"title\":{\"text\":\"\"}},\"template\":{\"data\":{\"histogram2dcontour\":[{\"type\":\"histogram2dcontour\",\"colorbar\":{\"outlinewidth\":0,\"ticks\":\"\"},\"colorscale\":[[0.0,\"#0d0887\"],[0.1111111111111111,\"#46039f\"],[0.2222222222222222,\"#7201a8\"],[0.3333333333333333,\"#9c179e\"],[0.4444444444444444,\"#bd3786\"],[0.5555555555555556,\"#d8576b\"],[0.6666666666666666,\"#ed7953\"],[0.7777777777777778,\"#fb9f3a\"],[0.8888888888888888,\"#fdca26\"],[1.0,\"#f0f921\"]]}],\"choropleth\":[{\"type\":\"choropleth\",\"colorbar\":{\"outlinewidth\":0,\"ticks\":\"\"}}],\"histogram2d\":[{\"type\":\"histogram2d\",\"colorbar\":{\"outlinewidth\":0,\"ticks\":\"\"},\"colorscale\":[[0.0,\"#0d0887\"],[0.1111111111111111,\"#46039f\"],[0.2222222222222222,\"#7201a8\"],[0.3333333333333333,\"#9c179e\"],[0.4444444444444444,\"#bd3786\"],[0.5555555555555556,\"#d8576b\"],[0.6666666666666666,\"#ed7953\"],[0.7777777777777778,\"#fb9f3a\"],[0.8888888888888888,\"#fdca26\"],[1.0,\"#f0f921\"]]}],\"heatmap\":[{\"type\":\"heatmap\",\"colorbar\":{\"outlinewidth\":0,\"ticks\":\"\"},\"colorscale\":[[0.0,\"#0d0887\"],[0.1111111111111111,\"#46039f\"],[0.2222222222222222,\"#7201a8\"],[0.3333333333333333,\"#9c179e\"],[0.4444444444444444,\"#bd3786\"],[0.5555555555555556,\"#d8576b\"],[0.6666666666666666,\"#ed7953\"],[0.7777777777777778,\"#fb9f3a\"],[0.8888888888888888,\"#fdca26\"],[1.0,\"#f0f921\"]]}],\"heatmapgl\":[{\"type\":\"heatmapgl\",\"colorbar\":{\"outlinewidth\":0,\"ticks\":\"\"},\"colorscale\":[[0.0,\"#0d0887\"],[0.1111111111111111,\"#46039f\"],[0.2222222222222222,\"#7201a8\"],[0.3333333333333333,\"#9c179e\"],[0.4444444444444444,\"#bd3786\"],[0.5555555555555556,\"#d8576b\"],[0.6666666666666666,\"#ed7953\"],[0.7777777777777778,\"#fb9f3a\"],[0.8888888888888888,\"#fdca26\"],[1.0,\"#f0f921\"]]}],\"contourcarpet\":[{\"type\":\"contourcarpet\",\"colorbar\":{\"outlinewidth\":0,\"ticks\":\"\"}}],\"contour\":[{\"type\":\"contour\",\"colorbar\":{\"outlinewidth\":0,\"ticks\":\"\"},\"colorscale\":[[0.0,\"#0d0887\"],[0.1111111111111111,\"#46039f\"],[0.2222222222222222,\"#7201a8\"],[0.3333333333333333,\"#9c179e\"],[0.4444444444444444,\"#bd3786\"],[0.5555555555555556,\"#d8576b\"],[0.6666666666666666,\"#ed7953\"],[0.7777777777777778,\"#fb9f3a\"],[0.8888888888888888,\"#fdca26\"],[1.0,\"#f0f921\"]]}],\"surface\":[{\"type\":\"surface\",\"colorbar\":{\"outlinewidth\":0,\"ticks\":\"\"},\"colorscale\":[[0.0,\"#0d0887\"],[0.1111111111111111,\"#46039f\"],[0.2222222222222222,\"#7201a8\"],[0.3333333333333333,\"#9c179e\"],[0.4444444444444444,\"#bd3786\"],[0.5555555555555556,\"#d8576b\"],[0.6666666666666666,\"#ed7953\"],[0.7777777777777778,\"#fb9f3a\"],[0.8888888888888888,\"#fdca26\"],[1.0,\"#f0f921\"]]}],\"mesh3d\":[{\"type\":\"mesh3d\",\"colorbar\":{\"outlinewidth\":0,\"ticks\":\"\"}}],\"scatter\":[{\"fillpattern\":{\"fillmode\":\"overlay\",\"size\":10,\"solidity\":0.2},\"type\":\"scatter\"}],\"parcoords\":[{\"type\":\"parcoords\",\"line\":{\"colorbar\":{\"outlinewidth\":0,\"ticks\":\"\"}}}],\"scatterpolargl\":[{\"type\":\"scatterpolargl\",\"marker\":{\"colorbar\":{\"outlinewidth\":0,\"ticks\":\"\"}}}],\"bar\":[{\"error_x\":{\"color\":\"#2a3f5f\"},\"error_y\":{\"color\":\"#2a3f5f\"},\"marker\":{\"line\":{\"color\":\"#E5ECF6\",\"width\":0.5},\"pattern\":{\"fillmode\":\"overlay\",\"size\":10,\"solidity\":0.2}},\"type\":\"bar\"}],\"scattergeo\":[{\"type\":\"scattergeo\",\"marker\":{\"colorbar\":{\"outlinewidth\":0,\"ticks\":\"\"}}}],\"scatterpolar\":[{\"type\":\"scatterpolar\",\"marker\":{\"colorbar\":{\"outlinewidth\":0,\"ticks\":\"\"}}}],\"histogram\":[{\"marker\":{\"pattern\":{\"fillmode\":\"overlay\",\"size\":10,\"solidity\":0.2}},\"type\":\"histogram\"}],\"scattergl\":[{\"type\":\"scattergl\",\"marker\":{\"colorbar\":{\"outlinewidth\":0,\"ticks\":\"\"}}}],\"scatter3d\":[{\"type\":\"scatter3d\",\"line\":{\"colorbar\":{\"outlinewidth\":0,\"ticks\":\"\"}},\"marker\":{\"colorbar\":{\"outlinewidth\":0,\"ticks\":\"\"}}}],\"scattermapbox\":[{\"type\":\"scattermapbox\",\"marker\":{\"colorbar\":{\"outlinewidth\":0,\"ticks\":\"\"}}}],\"scatterternary\":[{\"type\":\"scatterternary\",\"marker\":{\"colorbar\":{\"outlinewidth\":0,\"ticks\":\"\"}}}],\"scattercarpet\":[{\"type\":\"scattercarpet\",\"marker\":{\"colorbar\":{\"outlinewidth\":0,\"ticks\":\"\"}}}],\"carpet\":[{\"aaxis\":{\"endlinecolor\":\"#2a3f5f\",\"gridcolor\":\"white\",\"linecolor\":\"white\",\"minorgridcolor\":\"white\",\"startlinecolor\":\"#2a3f5f\"},\"baxis\":{\"endlinecolor\":\"#2a3f5f\",\"gridcolor\":\"white\",\"linecolor\":\"white\",\"minorgridcolor\":\"white\",\"startlinecolor\":\"#2a3f5f\"},\"type\":\"carpet\"}],\"table\":[{\"cells\":{\"fill\":{\"color\":\"#EBF0F8\"},\"line\":{\"color\":\"white\"}},\"header\":{\"fill\":{\"color\":\"#C8D4E3\"},\"line\":{\"color\":\"white\"}},\"type\":\"table\"}],\"barpolar\":[{\"marker\":{\"line\":{\"color\":\"#E5ECF6\",\"width\":0.5},\"pattern\":{\"fillmode\":\"overlay\",\"size\":10,\"solidity\":0.2}},\"type\":\"barpolar\"}],\"pie\":[{\"automargin\":true,\"type\":\"pie\"}]},\"layout\":{\"autotypenumbers\":\"strict\",\"colorway\":[\"#636efa\",\"#EF553B\",\"#00cc96\",\"#ab63fa\",\"#FFA15A\",\"#19d3f3\",\"#FF6692\",\"#B6E880\",\"#FF97FF\",\"#FECB52\"],\"font\":{\"color\":\"#2a3f5f\"},\"hovermode\":\"closest\",\"hoverlabel\":{\"align\":\"left\"},\"paper_bgcolor\":\"white\",\"plot_bgcolor\":\"#E5ECF6\",\"polar\":{\"bgcolor\":\"#E5ECF6\",\"angularaxis\":{\"gridcolor\":\"white\",\"linecolor\":\"white\",\"ticks\":\"\"},\"radialaxis\":{\"gridcolor\":\"white\",\"linecolor\":\"white\",\"ticks\":\"\"}},\"ternary\":{\"bgcolor\":\"#E5ECF6\",\"aaxis\":{\"gridcolor\":\"white\",\"linecolor\":\"white\",\"ticks\":\"\"},\"baxis\":{\"gridcolor\":\"white\",\"linecolor\":\"white\",\"ticks\":\"\"},\"caxis\":{\"gridcolor\":\"white\",\"linecolor\":\"white\",\"ticks\":\"\"}},\"coloraxis\":{\"colorbar\":{\"outlinewidth\":0,\"ticks\":\"\"}},\"colorscale\":{\"sequential\":[[0.0,\"#0d0887\"],[0.1111111111111111,\"#46039f\"],[0.2222222222222222,\"#7201a8\"],[0.3333333333333333,\"#9c179e\"],[0.4444444444444444,\"#bd3786\"],[0.5555555555555556,\"#d8576b\"],[0.6666666666666666,\"#ed7953\"],[0.7777777777777778,\"#fb9f3a\"],[0.8888888888888888,\"#fdca26\"],[1.0,\"#f0f921\"]],\"sequentialminus\":[[0.0,\"#0d0887\"],[0.1111111111111111,\"#46039f\"],[0.2222222222222222,\"#7201a8\"],[0.3333333333333333,\"#9c179e\"],[0.4444444444444444,\"#bd3786\"],[0.5555555555555556,\"#d8576b\"],[0.6666666666666666,\"#ed7953\"],[0.7777777777777778,\"#fb9f3a\"],[0.8888888888888888,\"#fdca26\"],[1.0,\"#f0f921\"]],\"diverging\":[[0,\"#8e0152\"],[0.1,\"#c51b7d\"],[0.2,\"#de77ae\"],[0.3,\"#f1b6da\"],[0.4,\"#fde0ef\"],[0.5,\"#f7f7f7\"],[0.6,\"#e6f5d0\"],[0.7,\"#b8e186\"],[0.8,\"#7fbc41\"],[0.9,\"#4d9221\"],[1,\"#276419\"]]},\"xaxis\":{\"gridcolor\":\"white\",\"linecolor\":\"white\",\"ticks\":\"\",\"title\":{\"standoff\":15},\"zerolinecolor\":\"white\",\"automargin\":true,\"zerolinewidth\":2},\"yaxis\":{\"gridcolor\":\"white\",\"linecolor\":\"white\",\"ticks\":\"\",\"title\":{\"standoff\":15},\"zerolinecolor\":\"white\",\"automargin\":true,\"zerolinewidth\":2},\"scene\":{\"xaxis\":{\"backgroundcolor\":\"#E5ECF6\",\"gridcolor\":\"white\",\"linecolor\":\"white\",\"showbackground\":true,\"ticks\":\"\",\"zerolinecolor\":\"white\",\"gridwidth\":2},\"yaxis\":{\"backgroundcolor\":\"#E5ECF6\",\"gridcolor\":\"white\",\"linecolor\":\"white\",\"showbackground\":true,\"ticks\":\"\",\"zerolinecolor\":\"white\",\"gridwidth\":2},\"zaxis\":{\"backgroundcolor\":\"#E5ECF6\",\"gridcolor\":\"white\",\"linecolor\":\"white\",\"showbackground\":true,\"ticks\":\"\",\"zerolinecolor\":\"white\",\"gridwidth\":2}},\"shapedefaults\":{\"line\":{\"color\":\"#2a3f5f\"}},\"annotationdefaults\":{\"arrowcolor\":\"#2a3f5f\",\"arrowhead\":0,\"arrowwidth\":1},\"geo\":{\"bgcolor\":\"white\",\"landcolor\":\"#E5ECF6\",\"subunitcolor\":\"white\",\"showland\":true,\"showlakes\":true,\"lakecolor\":\"white\"},\"title\":{\"x\":0.05},\"mapbox\":{\"style\":\"light\"}}}},                        {\"responsive\": true}                    ).then(function(){\n",
              "                            \n",
              "var gd = document.getElementById('a2cc7a20-1e5f-4ca1-9bc6-c50a549e0b0a');\n",
              "var x = new MutationObserver(function (mutations, observer) {{\n",
              "        var display = window.getComputedStyle(gd).display;\n",
              "        if (!display || display === 'none') {{\n",
              "            console.log([gd, 'removed!']);\n",
              "            Plotly.purge(gd);\n",
              "            observer.disconnect();\n",
              "        }}\n",
              "}});\n",
              "\n",
              "// Listen for the removal of the full notebook cells\n",
              "var notebookContainer = gd.closest('#notebook-container');\n",
              "if (notebookContainer) {{\n",
              "    x.observe(notebookContainer, {childList: true});\n",
              "}}\n",
              "\n",
              "// Listen for the clearing of the current output cell\n",
              "var outputEl = gd.closest('.output');\n",
              "if (outputEl) {{\n",
              "    x.observe(outputEl, {childList: true});\n",
              "}}\n",
              "\n",
              "                        })                };                            </script>        </div>\n",
              "</body>\n",
              "</html>"
            ]
          },
          "metadata": {}
        }
      ]
    },
    {
      "cell_type": "markdown",
      "source": [
        "- Load และ Print ชนิดของ Layer, Output Shape และจำนวน Parameter ของ Model"
      ],
      "metadata": {
        "id": "c_qR6bdkPlYW"
      }
    },
    {
      "cell_type": "code",
      "source": [
        "predict_model = load_model(filename)\n",
        "predict_model.summary()"
      ],
      "metadata": {
        "colab": {
          "base_uri": "https://localhost:8080/"
        },
        "id": "GhwllHMYPHZV",
        "outputId": "11d9c9f2-8ca1-47e1-ec0b-87610b0d8648"
      },
      "execution_count": null,
      "outputs": [
        {
          "output_type": "stream",
          "name": "stdout",
          "text": [
            "Model: \"sequential_2\"\n",
            "_________________________________________________________________\n",
            " Layer (type)                Output Shape              Param #   \n",
            "=================================================================\n",
            " embedding_17 (Embedding)    (None, 51, 128)           216832    \n",
            "                                                                 \n",
            " bidirectional_2 (Bidirecti  (None, 256)               263168    \n",
            " onal)                                                           \n",
            "                                                                 \n",
            " dense_18 (Dense)            (None, 128)               32896     \n",
            "                                                                 \n",
            " dropout_21 (Dropout)        (None, 128)               0         \n",
            "                                                                 \n",
            " dense_19 (Dense)            (None, 64)                8256      \n",
            "                                                                 \n",
            " dropout_22 (Dropout)        (None, 64)                0         \n",
            "                                                                 \n",
            " dense_20 (Dense)            (None, 64)                4160      \n",
            "                                                                 \n",
            " dropout_23 (Dropout)        (None, 64)                0         \n",
            "                                                                 \n",
            " batch_normalization_2 (Bat  (None, 64)                256       \n",
            " chNormalization)                                                \n",
            "                                                                 \n",
            " dense_21 (Dense)            (None, 2)                 130       \n",
            "                                                                 \n",
            "=================================================================\n",
            "Total params: 525698 (2.01 MB)\n",
            "Trainable params: 525570 (2.00 MB)\n",
            "Non-trainable params: 128 (512.00 Byte)\n",
            "_________________________________________________________________\n"
          ]
        }
      ]
    },
    {
      "cell_type": "markdown",
      "source": [
        "- Evaluate Model"
      ],
      "metadata": {
        "id": "1hATBUFXPoMK"
      }
    },
    {
      "cell_type": "code",
      "source": [
        "score = predict_model.evaluate(val_X, val_Y, verbose=0)\n",
        "print('Validate loss:', score[0])\n",
        "print('Validate accuracy:', score[1])"
      ],
      "metadata": {
        "colab": {
          "base_uri": "https://localhost:8080/"
        },
        "id": "uZpGJLY6PHW_",
        "outputId": "7131d4d6-d65b-4a48-d9ce-b39ccb7a16a6"
      },
      "execution_count": null,
      "outputs": [
        {
          "output_type": "stream",
          "name": "stdout",
          "text": [
            "Validate loss: 0.25457847118377686\n",
            "Validate accuracy: 0.9200000166893005\n"
          ]
        }
      ]
    },
    {
      "cell_type": "markdown",
      "source": [
        "- Predict ด้วย Validate Dataset"
      ],
      "metadata": {
        "id": "ArxieauaPrFC"
      }
    },
    {
      "cell_type": "code",
      "source": [
        "predicted_classes = np.argmax(predict_model.predict(val_X), axis=-1)\n",
        "predicted_classes.shape"
      ],
      "metadata": {
        "colab": {
          "base_uri": "https://localhost:8080/"
        },
        "id": "idUMZmD3PtO8",
        "outputId": "09dfe201-89f3-4c8f-dce4-001caec72bef"
      },
      "execution_count": null,
      "outputs": [
        {
          "output_type": "stream",
          "name": "stdout",
          "text": [
            "4/4 [==============================] - 1s 4ms/step\n"
          ]
        },
        {
          "output_type": "execute_result",
          "data": {
            "text/plain": [
              "(100,)"
            ]
          },
          "metadata": {},
          "execution_count": 249
        }
      ]
    },
    {
      "cell_type": "markdown",
      "source": [
        "- เปลี่ยน y_true จาก One Hot กลับเป็นเลขจำนวนเต็มฐานสิบ"
      ],
      "metadata": {
        "id": "fOIavpnbPvt6"
      }
    },
    {
      "cell_type": "code",
      "source": [
        "y_true = np.argmax(val_Y,axis = 1)\n",
        "print(val_Y[0])\n",
        "print(y_true[0])"
      ],
      "metadata": {
        "colab": {
          "base_uri": "https://localhost:8080/"
        },
        "id": "OGSCF0ODPxJ9",
        "outputId": "c377badd-2dfe-4c25-af76-83bc24525336"
      },
      "execution_count": null,
      "outputs": [
        {
          "output_type": "stream",
          "name": "stdout",
          "text": [
            "[0. 1.]\n",
            "1\n"
          ]
        }
      ]
    },
    {
      "cell_type": "markdown",
      "source": [
        "- Save Confusion Matrix"
      ],
      "metadata": {
        "id": "SeFe2fVNPyYR"
      }
    },
    {
      "cell_type": "code",
      "source": [
        "cm = confusion_matrix(y_true, predicted_classes)\n",
        "np.savetxt(\"confusion_matrix_tmsa_sentiment_lstm.csv\", cm, delimiter=\",\")"
      ],
      "metadata": {
        "id": "KxauazgCPy00"
      },
      "execution_count": null,
      "outputs": []
    },
    {
      "cell_type": "markdown",
      "source": [
        "- Plot Confusion Matrix"
      ],
      "metadata": {
        "id": "nYC46nflP35h"
      }
    },
    {
      "cell_type": "code",
      "source": [
        "# import seaborn as sn\n",
        "# import matplotlib.pyplot as plt\n",
        "\n",
        "\n",
        "df_cm = pd.DataFrame(cm, range(2), range(2))\n",
        "plt.figure(figsize=(20,14))\n",
        "sn.set(font_scale=1.2) # for label size\n",
        "sn.heatmap(df_cm, annot=True, annot_kws={\"size\": 14}, fmt='g') # for num predict size\n",
        "\n",
        "plt.show()"
      ],
      "metadata": {
        "colab": {
          "base_uri": "https://localhost:8080/",
          "height": 1000
        },
        "id": "PNJ-UPvNP5sP",
        "outputId": "8adba192-9ccb-48d1-e1b5-1a560773d838"
      },
      "execution_count": null,
      "outputs": [
        {
          "output_type": "display_data",
          "data": {
            "text/plain": [
              "<Figure size 2000x1400 with 2 Axes>"
            ],
            "image/png": "[encoded data removed]"
          },
          "metadata": {}
        }
      ]
    },
    {
      "cell_type": "markdown",
      "source": [
        "- ดึง Intent ทั้งหมดมาจาก output_tokenizer"
      ],
      "metadata": {
        "id": "1s-cyKApQoPH"
      }
    },
    {
      "cell_type": "code",
      "source": [
        "label_dict = output_tokenizer.word_index"
      ],
      "metadata": {
        "id": "9zPzVaU_QJ74"
      },
      "execution_count": null,
      "outputs": []
    },
    {
      "cell_type": "markdown",
      "source": [
        "- ดึงชื่อของ Intent เก็บใน Label"
      ],
      "metadata": {
        "id": "RHYV-Tt6QqjX"
      }
    },
    {
      "cell_type": "code",
      "source": [
        "label = [key for key, value in label_dict.items()]"
      ],
      "metadata": {
        "id": "3MM0iluXQuCX"
      },
      "execution_count": null,
      "outputs": []
    },
    {
      "cell_type": "markdown",
      "source": [
        "- แสดง Precision, Recall, F1-score"
      ],
      "metadata": {
        "id": "m4RzGvkPQv2n"
      }
    },
    {
      "cell_type": "code",
      "source": [
        "print(classification_report(y_true, predicted_classes, target_names=label, digits=4))"
      ],
      "metadata": {
        "colab": {
          "base_uri": "https://localhost:8080/"
        },
        "id": "jCiXJS4PQw0d",
        "outputId": "61aaccc6-d322-4d15-f5ea-097435f8409a"
      },
      "execution_count": null,
      "outputs": [
        {
          "output_type": "stream",
          "name": "stdout",
          "text": [
            "              precision    recall  f1-score   support\n",
            "\n",
            "         pos     0.8750    0.9800    0.9245        50\n",
            "         neg     0.9773    0.8600    0.9149        50\n",
            "\n",
            "    accuracy                         0.9200       100\n",
            "   macro avg     0.9261    0.9200    0.9197       100\n",
            "weighted avg     0.9261    0.9200    0.9197       100\n",
            "\n"
          ]
        }
      ]
    },
    {
      "cell_type": "markdown",
      "source": [],
      "metadata": {
        "id": "vqLAbKg8PFAg"
      }
    },
    {
      "cell_type": "markdown",
      "source": [
        "## 02 : CNN"
      ],
      "metadata": {
        "id": "wxZKJ6UOBdbr"
      }
    },
    {
      "cell_type": "markdown",
      "source": [
        "- นิยาม Model"
      ],
      "metadata": {
        "id": "CdXyhVtHx1N1"
      }
    },
    {
      "cell_type": "code",
      "source": [
        "# from tensorflow.keras.optimizers import Adam\n",
        "adam = Adam(learning_rate = 0.0001)"
      ],
      "metadata": {
        "id": "T9rLSsfdyf3l"
      },
      "execution_count": null,
      "outputs": []
    },
    {
      "cell_type": "markdown",
      "source": [
        "- กำหนดจำนวน EPOCHS และ Batch Size และ DIMENSION ดังต่อไปนี้"
      ],
      "metadata": {
        "id": "sQGMqTGV2DDI"
      }
    },
    {
      "cell_type": "code",
      "source": [
        "EPOCHS = 100\n",
        "BS = 32\n",
        "DIMENSION = 128"
      ],
      "metadata": {
        "id": "fiOyB_jW1-fD"
      },
      "execution_count": null,
      "outputs": []
    },
    {
      "cell_type": "code",
      "source": [
        "# define the model\n",
        "def define_model(length, vocab_size):\n",
        "\n",
        "    # channel 1\n",
        "    inputs1 = tf.keras.layers.Input(shape=(length,))\n",
        "    embedding1 = tf.keras.layers.Embedding(vocab_size, DIMENSION, trainable = True)(inputs1)\n",
        "    conv1 = tf.keras.layers.Conv1D(filters=32, kernel_size=4, activation='relu')(embedding1)\n",
        "    drop1 = tf.keras.layers.Dropout(0.5)(conv1)\n",
        "    pool1 = tf.keras.layers.MaxPooling1D(pool_size=2)(drop1)\n",
        "    flat1 = tf.keras.layers.Flatten()(pool1)\n",
        "\n",
        "    # channel 2\n",
        "    inputs2 = tf.keras.layers.Input(shape=(length,))\n",
        "    embedding2 = tf.keras.layers.Embedding(vocab_size, DIMENSION, trainable = True)(inputs2)\n",
        "    conv2 = tf.keras.layers.Conv1D(filters=32, kernel_size=6, activation='relu')(embedding2)\n",
        "    drop2 = tf.keras.layers.Dropout(0.5)(conv2)\n",
        "    pool2 = tf.keras.layers.MaxPooling1D(pool_size=2)(drop2)\n",
        "    flat2 = tf.keras.layers.Flatten()(pool2)\n",
        "\n",
        "    # channel 3\n",
        "    inputs3 = tf.keras.layers.Input(shape=(length,))\n",
        "    embedding3 = tf.keras.layers.Embedding(vocab_size, DIMENSION, trainable = True)(inputs3)\n",
        "    conv3 = tf.keras.layers.Conv1D(filters=32, kernel_size=8, activation='relu')(embedding3)\n",
        "    drop3 = tf.keras.layers.Dropout(0.5)(conv3)\n",
        "    pool3 = tf.keras.layers.MaxPooling1D(pool_size=2)(drop3)\n",
        "    flat3 = tf.keras.layers.Flatten()(pool3)\n",
        "\n",
        "    # merge\n",
        "    merged = tf.keras.layers.concatenate([flat1, flat2, flat3])\n",
        "\n",
        "    # interpretation\n",
        "    dense1 = tf.keras.layers.Dense(10, activation='relu')(merged)\n",
        "    outputs = tf.keras.layers.Dense(num_classes, activation='softmax')(dense1)\n",
        "    model = Model(inputs=[inputs1, inputs2, inputs3], outputs=outputs)\n",
        "\n",
        "    # compile\n",
        "    model.compile(loss='categorical_crossentropy', optimizer=adam, metrics=['accuracy'])\n",
        "\n",
        "    # summarize\n",
        "    print(model.summary())\n",
        "\n",
        "#     plot_model(model, show_shapes=True, to_file='multichannel.png')\n",
        "    return model"
      ],
      "metadata": {
        "id": "yj7lYUmR-ioI"
      },
      "execution_count": null,
      "outputs": []
    },
    {
      "cell_type": "code",
      "source": [
        "model = define_model(max_length, vocab_size)"
      ],
      "metadata": {
        "id": "FyQeo-Yx-ihn",
        "colab": {
          "base_uri": "https://localhost:8080/"
        },
        "outputId": "2858dd85-24b5-40c4-ebb5-88428ac0a86b"
      },
      "execution_count": null,
      "outputs": [
        {
          "output_type": "stream",
          "name": "stdout",
          "text": [
            "Model: \"model_6\"\n",
            "__________________________________________________________________________________________________\n",
            " Layer (type)                Output Shape                 Param #   Connected to                  \n",
            "==================================================================================================\n",
            " input_19 (InputLayer)       [(None, 51)]                 0         []                            \n",
            "                                                                                                  \n",
            " input_20 (InputLayer)       [(None, 51)]                 0         []                            \n",
            "                                                                                                  \n",
            " input_21 (InputLayer)       [(None, 51)]                 0         []                            \n",
            "                                                                                                  \n",
            " embedding_21 (Embedding)    (None, 51, 128)              216832    ['input_19[0][0]']            \n",
            "                                                                                                  \n",
            " embedding_22 (Embedding)    (None, 51, 128)              216832    ['input_20[0][0]']            \n",
            "                                                                                                  \n",
            " embedding_23 (Embedding)    (None, 51, 128)              216832    ['input_21[0][0]']            \n",
            "                                                                                                  \n",
            " conv1d_18 (Conv1D)          (None, 48, 32)               16416     ['embedding_21[0][0]']        \n",
            "                                                                                                  \n",
            " conv1d_19 (Conv1D)          (None, 46, 32)               24608     ['embedding_22[0][0]']        \n",
            "                                                                                                  \n",
            " conv1d_20 (Conv1D)          (None, 44, 32)               32800     ['embedding_23[0][0]']        \n",
            "                                                                                                  \n",
            " dropout_27 (Dropout)        (None, 48, 32)               0         ['conv1d_18[0][0]']           \n",
            "                                                                                                  \n",
            " dropout_28 (Dropout)        (None, 46, 32)               0         ['conv1d_19[0][0]']           \n",
            "                                                                                                  \n",
            " dropout_29 (Dropout)        (None, 44, 32)               0         ['conv1d_20[0][0]']           \n",
            "                                                                                                  \n",
            " max_pooling1d_18 (MaxPooli  (None, 24, 32)               0         ['dropout_27[0][0]']          \n",
            " ng1D)                                                                                            \n",
            "                                                                                                  \n",
            " max_pooling1d_19 (MaxPooli  (None, 23, 32)               0         ['dropout_28[0][0]']          \n",
            " ng1D)                                                                                            \n",
            "                                                                                                  \n",
            " max_pooling1d_20 (MaxPooli  (None, 22, 32)               0         ['dropout_29[0][0]']          \n",
            " ng1D)                                                                                            \n",
            "                                                                                                  \n",
            " flatten_18 (Flatten)        (None, 768)                  0         ['max_pooling1d_18[0][0]']    \n",
            "                                                                                                  \n",
            " flatten_19 (Flatten)        (None, 736)                  0         ['max_pooling1d_19[0][0]']    \n",
            "                                                                                                  \n",
            " flatten_20 (Flatten)        (None, 704)                  0         ['max_pooling1d_20[0][0]']    \n",
            "                                                                                                  \n",
            " concatenate_6 (Concatenate  (None, 2208)                 0         ['flatten_18[0][0]',          \n",
            " )                                                                   'flatten_19[0][0]',          \n",
            "                                                                     'flatten_20[0][0]']          \n",
            "                                                                                                  \n",
            " dense_24 (Dense)            (None, 10)                   22090     ['concatenate_6[0][0]']       \n",
            "                                                                                                  \n",
            " dense_25 (Dense)            (None, 2)                    22        ['dense_24[0][0]']            \n",
            "                                                                                                  \n",
            "==================================================================================================\n",
            "Total params: 746432 (2.85 MB)\n",
            "Trainable params: 746432 (2.85 MB)\n",
            "Non-trainable params: 0 (0.00 Byte)\n",
            "__________________________________________________________________________________________________\n",
            "None\n"
          ]
        }
      ]
    },
    {
      "cell_type": "markdown",
      "source": [
        "- กำหนดจุด Checkpoint"
      ],
      "metadata": {
        "id": "pSgYjwUdyqUl"
      }
    },
    {
      "cell_type": "code",
      "source": [
        "filename = 'model_tmsa_sentiment_cnn.h5'\n",
        "checkpoint = ModelCheckpoint(filename, monitor='val_loss', verbose=1, save_best_only=True, mode='min')"
      ],
      "metadata": {
        "id": "e9tEZmxR-iai"
      },
      "execution_count": null,
      "outputs": []
    },
    {
      "cell_type": "markdown",
      "source": [
        "- ใช้ ReduceLROnPlateau เพื่อปรับ Learning Rate"
      ],
      "metadata": {
        "id": "rIiKmkz5zI2h"
      }
    },
    {
      "cell_type": "code",
      "source": [
        "learning_rate_reduction = ReduceLROnPlateau(monitor='val_loss', patience = 3, verbose=1,factor=0.1, min_lr=0.000001)\n",
        "callbacks_list = [checkpoint, learning_rate_reduction]"
      ],
      "metadata": {
        "id": "WN6Az8WnzLpT"
      },
      "execution_count": null,
      "outputs": []
    },
    {
      "cell_type": "code",
      "source": [
        "hist = model.fit([train_X, train_X, train_X], train_Y,\n",
        "                        epochs = EPOCHS,\n",
        "                         batch_size = BS,\n",
        "                         validation_data = ([val_X, val_X, val_X], val_Y),\n",
        "                         callbacks = [callbacks_list],\n",
        "                         shuffle=True\n",
        "                      )"
      ],
      "metadata": {
        "colab": {
          "base_uri": "https://localhost:8080/"
        },
        "id": "1OgBa02MzTQw",
        "outputId": "724b456c-8be8-4f17-8775-7b82e8de8698"
      },
      "execution_count": null,
      "outputs": [
        {
          "output_type": "stream",
          "name": "stdout",
          "text": [
            "Epoch 1/100\n",
            "13/13 [==============================] - ETA: 0s - loss: 0.6932 - accuracy: 0.5175\n",
            "Epoch 1: val_loss improved from inf to 0.68942, saving model to model_tmsa_sentiment_cnn.h5\n",
            "13/13 [==============================] - 7s 410ms/step - loss: 0.6932 - accuracy: 0.5175 - val_loss: 0.6894 - val_accuracy: 0.5500 - lr: 1.0000e-04\n",
            "Epoch 2/100\n"
          ]
        },
        {
          "output_type": "stream",
          "name": "stderr",
          "text": [
            "/usr/local/lib/python3.10/dist-packages/keras/src/engine/training.py:3079: UserWarning:\n",
            "\n",
            "You are saving your model as an HDF5 file via `model.save()`. This file format is considered legacy. We recommend using instead the native Keras format, e.g. `model.save('my_model.keras')`.\n",
            "\n"
          ]
        },
        {
          "output_type": "stream",
          "name": "stdout",
          "text": [
            "13/13 [==============================] - ETA: 0s - loss: 0.6875 - accuracy: 0.5700\n",
            "Epoch 2: val_loss improved from 0.68942 to 0.68803, saving model to model_tmsa_sentiment_cnn.h5\n",
            "13/13 [==============================] - 5s 361ms/step - loss: 0.6875 - accuracy: 0.5700 - val_loss: 0.6880 - val_accuracy: 0.6000 - lr: 1.0000e-04\n",
            "Epoch 3/100\n",
            "13/13 [==============================] - ETA: 0s - loss: 0.6801 - accuracy: 0.6075\n",
            "Epoch 3: val_loss improved from 0.68803 to 0.68725, saving model to model_tmsa_sentiment_cnn.h5\n",
            "13/13 [==============================] - 4s 302ms/step - loss: 0.6801 - accuracy: 0.6075 - val_loss: 0.6872 - val_accuracy: 0.5200 - lr: 1.0000e-04\n",
            "Epoch 4/100\n",
            "13/13 [==============================] - ETA: 0s - loss: 0.6746 - accuracy: 0.6475\n",
            "Epoch 4: val_loss improved from 0.68725 to 0.68547, saving model to model_tmsa_sentiment_cnn.h5\n",
            "13/13 [==============================] - 3s 267ms/step - loss: 0.6746 - accuracy: 0.6475 - val_loss: 0.6855 - val_accuracy: 0.6200 - lr: 1.0000e-04\n",
            "Epoch 5/100\n",
            "13/13 [==============================] - ETA: 0s - loss: 0.6670 - accuracy: 0.7225\n",
            "Epoch 5: val_loss improved from 0.68547 to 0.68338, saving model to model_tmsa_sentiment_cnn.h5\n",
            "13/13 [==============================] - 2s 139ms/step - loss: 0.6670 - accuracy: 0.7225 - val_loss: 0.6834 - val_accuracy: 0.6800 - lr: 1.0000e-04\n",
            "Epoch 6/100\n",
            "13/13 [==============================] - ETA: 0s - loss: 0.6617 - accuracy: 0.7250\n",
            "Epoch 6: val_loss improved from 0.68338 to 0.68132, saving model to model_tmsa_sentiment_cnn.h5\n",
            "13/13 [==============================] - 3s 236ms/step - loss: 0.6617 - accuracy: 0.7250 - val_loss: 0.6813 - val_accuracy: 0.7000 - lr: 1.0000e-04\n",
            "Epoch 7/100\n",
            "13/13 [==============================] - ETA: 0s - loss: 0.6543 - accuracy: 0.7950\n",
            "Epoch 7: val_loss improved from 0.68132 to 0.67818, saving model to model_tmsa_sentiment_cnn.h5\n",
            "13/13 [==============================] - 3s 238ms/step - loss: 0.6543 - accuracy: 0.7950 - val_loss: 0.6782 - val_accuracy: 0.7300 - lr: 1.0000e-04\n",
            "Epoch 8/100\n",
            "13/13 [==============================] - ETA: 0s - loss: 0.6441 - accuracy: 0.8150\n",
            "Epoch 8: val_loss improved from 0.67818 to 0.67487, saving model to model_tmsa_sentiment_cnn.h5\n",
            "13/13 [==============================] - 2s 141ms/step - loss: 0.6441 - accuracy: 0.8150 - val_loss: 0.6749 - val_accuracy: 0.7400 - lr: 1.0000e-04\n",
            "Epoch 9/100\n",
            "13/13 [==============================] - ETA: 0s - loss: 0.6325 - accuracy: 0.8125\n",
            "Epoch 9: val_loss improved from 0.67487 to 0.67161, saving model to model_tmsa_sentiment_cnn.h5\n",
            "13/13 [==============================] - 1s 115ms/step - loss: 0.6325 - accuracy: 0.8125 - val_loss: 0.6716 - val_accuracy: 0.6900 - lr: 1.0000e-04\n",
            "Epoch 10/100\n",
            "13/13 [==============================] - ETA: 0s - loss: 0.6185 - accuracy: 0.8850\n",
            "Epoch 10: val_loss improved from 0.67161 to 0.66583, saving model to model_tmsa_sentiment_cnn.h5\n",
            "13/13 [==============================] - 1s 81ms/step - loss: 0.6185 - accuracy: 0.8850 - val_loss: 0.6658 - val_accuracy: 0.7400 - lr: 1.0000e-04\n",
            "Epoch 11/100\n",
            "13/13 [==============================] - ETA: 0s - loss: 0.6067 - accuracy: 0.9025\n",
            "Epoch 11: val_loss improved from 0.66583 to 0.65989, saving model to model_tmsa_sentiment_cnn.h5\n",
            "13/13 [==============================] - 1s 112ms/step - loss: 0.6067 - accuracy: 0.9025 - val_loss: 0.6599 - val_accuracy: 0.7500 - lr: 1.0000e-04\n",
            "Epoch 12/100\n",
            "13/13 [==============================] - ETA: 0s - loss: 0.5901 - accuracy: 0.8950\n",
            "Epoch 12: val_loss improved from 0.65989 to 0.65368, saving model to model_tmsa_sentiment_cnn.h5\n",
            "13/13 [==============================] - 2s 149ms/step - loss: 0.5901 - accuracy: 0.8950 - val_loss: 0.6537 - val_accuracy: 0.7300 - lr: 1.0000e-04\n",
            "Epoch 13/100\n",
            "13/13 [==============================] - ETA: 0s - loss: 0.5709 - accuracy: 0.9125\n",
            "Epoch 13: val_loss improved from 0.65368 to 0.64310, saving model to model_tmsa_sentiment_cnn.h5\n",
            "13/13 [==============================] - 1s 82ms/step - loss: 0.5709 - accuracy: 0.9125 - val_loss: 0.6431 - val_accuracy: 0.7300 - lr: 1.0000e-04\n",
            "Epoch 14/100\n",
            "11/13 [========================>.....] - ETA: 0s - loss: 0.5511 - accuracy: 0.9375\n",
            "Epoch 14: val_loss improved from 0.64310 to 0.63158, saving model to model_tmsa_sentiment_cnn.h5\n",
            "13/13 [==============================] - 2s 116ms/step - loss: 0.5517 - accuracy: 0.9425 - val_loss: 0.6316 - val_accuracy: 0.7500 - lr: 1.0000e-04\n",
            "Epoch 15/100\n",
            "13/13 [==============================] - ETA: 0s - loss: 0.5264 - accuracy: 0.9450\n",
            "Epoch 15: val_loss improved from 0.63158 to 0.61801, saving model to model_tmsa_sentiment_cnn.h5\n",
            "13/13 [==============================] - 1s 86ms/step - loss: 0.5264 - accuracy: 0.9450 - val_loss: 0.6180 - val_accuracy: 0.7700 - lr: 1.0000e-04\n",
            "Epoch 16/100\n",
            "13/13 [==============================] - ETA: 0s - loss: 0.4954 - accuracy: 0.9650\n",
            "Epoch 16: val_loss improved from 0.61801 to 0.60402, saving model to model_tmsa_sentiment_cnn.h5\n",
            "13/13 [==============================] - 1s 86ms/step - loss: 0.4954 - accuracy: 0.9650 - val_loss: 0.6040 - val_accuracy: 0.7600 - lr: 1.0000e-04\n",
            "Epoch 17/100\n",
            "13/13 [==============================] - ETA: 0s - loss: 0.4687 - accuracy: 0.9775\n",
            "Epoch 17: val_loss improved from 0.60402 to 0.58303, saving model to model_tmsa_sentiment_cnn.h5\n",
            "13/13 [==============================] - 1s 83ms/step - loss: 0.4687 - accuracy: 0.9775 - val_loss: 0.5830 - val_accuracy: 0.8100 - lr: 1.0000e-04\n",
            "Epoch 18/100\n",
            "13/13 [==============================] - ETA: 0s - loss: 0.4297 - accuracy: 0.9700\n",
            "Epoch 18: val_loss improved from 0.58303 to 0.56180, saving model to model_tmsa_sentiment_cnn.h5\n",
            "13/13 [==============================] - 1s 76ms/step - loss: 0.4297 - accuracy: 0.9700 - val_loss: 0.5618 - val_accuracy: 0.8200 - lr: 1.0000e-04\n",
            "Epoch 19/100\n",
            "13/13 [==============================] - ETA: 0s - loss: 0.3957 - accuracy: 0.9775\n",
            "Epoch 19: val_loss improved from 0.56180 to 0.53653, saving model to model_tmsa_sentiment_cnn.h5\n",
            "13/13 [==============================] - 1s 44ms/step - loss: 0.3957 - accuracy: 0.9775 - val_loss: 0.5365 - val_accuracy: 0.8400 - lr: 1.0000e-04\n",
            "Epoch 20/100\n",
            "10/13 [======================>.......] - ETA: 0s - loss: 0.3551 - accuracy: 0.9750\n",
            "Epoch 20: val_loss improved from 0.53653 to 0.50819, saving model to model_tmsa_sentiment_cnn.h5\n",
            "13/13 [==============================] - 1s 44ms/step - loss: 0.3542 - accuracy: 0.9700 - val_loss: 0.5082 - val_accuracy: 0.8400 - lr: 1.0000e-04\n",
            "Epoch 21/100\n",
            "12/13 [==========================>...] - ETA: 0s - loss: 0.3181 - accuracy: 0.9792\n",
            "Epoch 21: val_loss improved from 0.50819 to 0.48372, saving model to model_tmsa_sentiment_cnn.h5\n",
            "13/13 [==============================] - 1s 75ms/step - loss: 0.3157 - accuracy: 0.9800 - val_loss: 0.4837 - val_accuracy: 0.8500 - lr: 1.0000e-04\n",
            "Epoch 22/100\n",
            "13/13 [==============================] - ETA: 0s - loss: 0.2802 - accuracy: 0.9775\n",
            "Epoch 22: val_loss improved from 0.48372 to 0.45580, saving model to model_tmsa_sentiment_cnn.h5\n",
            "13/13 [==============================] - 1s 106ms/step - loss: 0.2802 - accuracy: 0.9775 - val_loss: 0.4558 - val_accuracy: 0.8500 - lr: 1.0000e-04\n",
            "Epoch 23/100\n",
            " 6/13 [============>.................] - ETA: 0s - loss: 0.2425 - accuracy: 0.9740\n",
            "Epoch 23: val_loss improved from 0.45580 to 0.42687, saving model to model_tmsa_sentiment_cnn.h5\n",
            "13/13 [==============================] - 1s 44ms/step - loss: 0.2426 - accuracy: 0.9675 - val_loss: 0.4269 - val_accuracy: 0.8800 - lr: 1.0000e-04\n",
            "Epoch 24/100\n",
            "11/13 [========================>.....] - ETA: 0s - loss: 0.2002 - accuracy: 0.9943\n",
            "Epoch 24: val_loss improved from 0.42687 to 0.40008, saving model to model_tmsa_sentiment_cnn.h5\n",
            "13/13 [==============================] - 0s 12ms/step - loss: 0.2015 - accuracy: 0.9875 - val_loss: 0.4001 - val_accuracy: 0.8700 - lr: 1.0000e-04\n",
            "Epoch 25/100\n",
            "13/13 [==============================] - ETA: 0s - loss: 0.1698 - accuracy: 0.9800\n",
            "Epoch 25: val_loss improved from 0.40008 to 0.37772, saving model to model_tmsa_sentiment_cnn.h5\n",
            "13/13 [==============================] - 1s 106ms/step - loss: 0.1698 - accuracy: 0.9800 - val_loss: 0.3777 - val_accuracy: 0.8600 - lr: 1.0000e-04\n",
            "Epoch 26/100\n",
            "13/13 [==============================] - ETA: 0s - loss: 0.1485 - accuracy: 0.9875\n",
            "Epoch 26: val_loss improved from 0.37772 to 0.35755, saving model to model_tmsa_sentiment_cnn.h5\n",
            "13/13 [==============================] - 1s 75ms/step - loss: 0.1485 - accuracy: 0.9875 - val_loss: 0.3576 - val_accuracy: 0.8700 - lr: 1.0000e-04\n",
            "Epoch 27/100\n",
            "13/13 [==============================] - ETA: 0s - loss: 0.1233 - accuracy: 0.9800\n",
            "Epoch 27: val_loss improved from 0.35755 to 0.34056, saving model to model_tmsa_sentiment_cnn.h5\n",
            "13/13 [==============================] - 1s 76ms/step - loss: 0.1233 - accuracy: 0.9800 - val_loss: 0.3406 - val_accuracy: 0.8700 - lr: 1.0000e-04\n",
            "Epoch 28/100\n",
            "13/13 [==============================] - ETA: 0s - loss: 0.1052 - accuracy: 0.9850\n",
            "Epoch 28: val_loss improved from 0.34056 to 0.32656, saving model to model_tmsa_sentiment_cnn.h5\n",
            "13/13 [==============================] - 1s 79ms/step - loss: 0.1052 - accuracy: 0.9850 - val_loss: 0.3266 - val_accuracy: 0.9100 - lr: 1.0000e-04\n",
            "Epoch 29/100\n",
            "13/13 [==============================] - ETA: 0s - loss: 0.0945 - accuracy: 0.9900\n",
            "Epoch 29: val_loss improved from 0.32656 to 0.31437, saving model to model_tmsa_sentiment_cnn.h5\n",
            "13/13 [==============================] - 1s 108ms/step - loss: 0.0945 - accuracy: 0.9900 - val_loss: 0.3144 - val_accuracy: 0.8900 - lr: 1.0000e-04\n",
            "Epoch 30/100\n",
            "13/13 [==============================] - ETA: 0s - loss: 0.0800 - accuracy: 0.9900\n",
            "Epoch 30: val_loss improved from 0.31437 to 0.30536, saving model to model_tmsa_sentiment_cnn.h5\n",
            "13/13 [==============================] - 1s 77ms/step - loss: 0.0800 - accuracy: 0.9900 - val_loss: 0.3054 - val_accuracy: 0.8900 - lr: 1.0000e-04\n",
            "Epoch 31/100\n",
            "13/13 [==============================] - ETA: 0s - loss: 0.0714 - accuracy: 0.9950\n",
            "Epoch 31: val_loss improved from 0.30536 to 0.29682, saving model to model_tmsa_sentiment_cnn.h5\n",
            "13/13 [==============================] - 1s 49ms/step - loss: 0.0714 - accuracy: 0.9950 - val_loss: 0.2968 - val_accuracy: 0.8900 - lr: 1.0000e-04\n",
            "Epoch 32/100\n",
            "11/13 [========================>.....] - ETA: 0s - loss: 0.0667 - accuracy: 0.9886\n",
            "Epoch 32: val_loss improved from 0.29682 to 0.28974, saving model to model_tmsa_sentiment_cnn.h5\n",
            "13/13 [==============================] - 1s 111ms/step - loss: 0.0637 - accuracy: 0.9900 - val_loss: 0.2897 - val_accuracy: 0.9100 - lr: 1.0000e-04\n",
            "Epoch 33/100\n",
            "13/13 [==============================] - ETA: 0s - loss: 0.0522 - accuracy: 0.9975\n",
            "Epoch 33: val_loss improved from 0.28974 to 0.28518, saving model to model_tmsa_sentiment_cnn.h5\n",
            "13/13 [==============================] - 1s 76ms/step - loss: 0.0522 - accuracy: 0.9975 - val_loss: 0.2852 - val_accuracy: 0.9100 - lr: 1.0000e-04\n",
            "Epoch 34/100\n",
            "13/13 [==============================] - ETA: 0s - loss: 0.0481 - accuracy: 1.0000\n",
            "Epoch 34: val_loss improved from 0.28518 to 0.28154, saving model to model_tmsa_sentiment_cnn.h5\n",
            "13/13 [==============================] - 1s 77ms/step - loss: 0.0481 - accuracy: 1.0000 - val_loss: 0.2815 - val_accuracy: 0.9100 - lr: 1.0000e-04\n",
            "Epoch 35/100\n",
            "13/13 [==============================] - ETA: 0s - loss: 0.0436 - accuracy: 0.9975\n",
            "Epoch 35: val_loss improved from 0.28154 to 0.27637, saving model to model_tmsa_sentiment_cnn.h5\n",
            "13/13 [==============================] - 1s 45ms/step - loss: 0.0436 - accuracy: 0.9975 - val_loss: 0.2764 - val_accuracy: 0.9100 - lr: 1.0000e-04\n",
            "Epoch 36/100\n",
            "12/13 [==========================>...] - ETA: 0s - loss: 0.0381 - accuracy: 0.9974\n",
            "Epoch 36: val_loss improved from 0.27637 to 0.27266, saving model to model_tmsa_sentiment_cnn.h5\n",
            "13/13 [==============================] - 1s 108ms/step - loss: 0.0378 - accuracy: 0.9975 - val_loss: 0.2727 - val_accuracy: 0.8900 - lr: 1.0000e-04\n",
            "Epoch 37/100\n",
            "11/13 [========================>.....] - ETA: 0s - loss: 0.0358 - accuracy: 1.0000\n",
            "Epoch 37: val_loss improved from 0.27266 to 0.26994, saving model to model_tmsa_sentiment_cnn.h5\n",
            "13/13 [==============================] - 0s 12ms/step - loss: 0.0339 - accuracy: 1.0000 - val_loss: 0.2699 - val_accuracy: 0.9100 - lr: 1.0000e-04\n",
            "Epoch 38/100\n",
            "11/13 [========================>.....] - ETA: 0s - loss: 0.0311 - accuracy: 1.0000\n",
            "Epoch 38: val_loss improved from 0.26994 to 0.26843, saving model to model_tmsa_sentiment_cnn.h5\n",
            "13/13 [==============================] - 0s 12ms/step - loss: 0.0322 - accuracy: 1.0000 - val_loss: 0.2684 - val_accuracy: 0.8800 - lr: 1.0000e-04\n",
            "Epoch 39/100\n",
            "13/13 [==============================] - ETA: 0s - loss: 0.0301 - accuracy: 0.9950\n",
            "Epoch 39: val_loss improved from 0.26843 to 0.26459, saving model to model_tmsa_sentiment_cnn.h5\n",
            "13/13 [==============================] - 1s 75ms/step - loss: 0.0301 - accuracy: 0.9950 - val_loss: 0.2646 - val_accuracy: 0.9100 - lr: 1.0000e-04\n",
            "Epoch 40/100\n",
            "12/13 [==========================>...] - ETA: 0s - loss: 0.0249 - accuracy: 1.0000\n",
            "Epoch 40: val_loss improved from 0.26459 to 0.26437, saving model to model_tmsa_sentiment_cnn.h5\n",
            "13/13 [==============================] - 1s 45ms/step - loss: 0.0258 - accuracy: 1.0000 - val_loss: 0.2644 - val_accuracy: 0.9100 - lr: 1.0000e-04\n",
            "Epoch 41/100\n",
            "13/13 [==============================] - ETA: 0s - loss: 0.0230 - accuracy: 1.0000\n",
            "Epoch 41: val_loss improved from 0.26437 to 0.26079, saving model to model_tmsa_sentiment_cnn.h5\n",
            "13/13 [==============================] - 1s 45ms/step - loss: 0.0230 - accuracy: 1.0000 - val_loss: 0.2608 - val_accuracy: 0.9100 - lr: 1.0000e-04\n",
            "Epoch 42/100\n",
            " 6/13 [============>.................] - ETA: 0s - loss: 0.0265 - accuracy: 1.0000\n",
            "Epoch 42: val_loss improved from 0.26079 to 0.25979, saving model to model_tmsa_sentiment_cnn.h5\n",
            "13/13 [==============================] - 1s 44ms/step - loss: 0.0230 - accuracy: 1.0000 - val_loss: 0.2598 - val_accuracy: 0.9100 - lr: 1.0000e-04\n",
            "Epoch 43/100\n",
            "11/13 [========================>.....] - ETA: 0s - loss: 0.0214 - accuracy: 1.0000\n",
            "Epoch 43: val_loss did not improve from 0.25979\n",
            "13/13 [==============================] - 0s 8ms/step - loss: 0.0207 - accuracy: 1.0000 - val_loss: 0.2610 - val_accuracy: 0.9000 - lr: 1.0000e-04\n",
            "Epoch 44/100\n",
            "13/13 [==============================] - ETA: 0s - loss: 0.0177 - accuracy: 1.0000\n",
            "Epoch 44: val_loss improved from 0.25979 to 0.25882, saving model to model_tmsa_sentiment_cnn.h5\n",
            "13/13 [==============================] - 1s 44ms/step - loss: 0.0177 - accuracy: 1.0000 - val_loss: 0.2588 - val_accuracy: 0.9100 - lr: 1.0000e-04\n",
            "Epoch 45/100\n",
            "11/13 [========================>.....] - ETA: 0s - loss: 0.0178 - accuracy: 1.0000\n",
            "Epoch 45: val_loss improved from 0.25882 to 0.25578, saving model to model_tmsa_sentiment_cnn.h5\n",
            "13/13 [==============================] - 0s 13ms/step - loss: 0.0176 - accuracy: 1.0000 - val_loss: 0.2558 - val_accuracy: 0.9100 - lr: 1.0000e-04\n",
            "Epoch 46/100\n",
            "11/13 [========================>.....] - ETA: 0s - loss: 0.0170 - accuracy: 1.0000\n",
            "Epoch 46: val_loss improved from 0.25578 to 0.25245, saving model to model_tmsa_sentiment_cnn.h5\n",
            "13/13 [==============================] - 0s 13ms/step - loss: 0.0160 - accuracy: 1.0000 - val_loss: 0.2525 - val_accuracy: 0.9100 - lr: 1.0000e-04\n",
            "Epoch 47/100\n",
            "11/13 [========================>.....] - ETA: 0s - loss: 0.0152 - accuracy: 1.0000\n",
            "Epoch 47: val_loss did not improve from 0.25245\n",
            "13/13 [==============================] - 0s 8ms/step - loss: 0.0147 - accuracy: 1.0000 - val_loss: 0.2549 - val_accuracy: 0.9100 - lr: 1.0000e-04\n",
            "Epoch 48/100\n",
            "13/13 [==============================] - ETA: 0s - loss: 0.0142 - accuracy: 1.0000\n",
            "Epoch 48: val_loss did not improve from 0.25245\n",
            "13/13 [==============================] - 0s 40ms/step - loss: 0.0142 - accuracy: 1.0000 - val_loss: 0.2572 - val_accuracy: 0.8700 - lr: 1.0000e-04\n",
            "Epoch 49/100\n",
            "11/13 [========================>.....] - ETA: 0s - loss: 0.0111 - accuracy: 1.0000\n",
            "Epoch 49: val_loss did not improve from 0.25245\n",
            "\n",
            "Epoch 49: ReduceLROnPlateau reducing learning rate to 9.999999747378752e-06.\n",
            "13/13 [==============================] - 0s 9ms/step - loss: 0.0123 - accuracy: 1.0000 - val_loss: 0.2528 - val_accuracy: 0.9100 - lr: 1.0000e-04\n",
            "Epoch 50/100\n",
            " 7/13 [===============>..............] - ETA: 0s - loss: 0.0127 - accuracy: 1.0000\n",
            "Epoch 50: val_loss improved from 0.25245 to 0.25221, saving model to model_tmsa_sentiment_cnn.h5\n",
            "13/13 [==============================] - 1s 45ms/step - loss: 0.0127 - accuracy: 1.0000 - val_loss: 0.2522 - val_accuracy: 0.9100 - lr: 1.0000e-05\n",
            "Epoch 51/100\n",
            "13/13 [==============================] - ETA: 0s - loss: 0.0117 - accuracy: 1.0000\n",
            "Epoch 51: val_loss did not improve from 0.25221\n",
            "13/13 [==============================] - 1s 41ms/step - loss: 0.0117 - accuracy: 1.0000 - val_loss: 0.2523 - val_accuracy: 0.9100 - lr: 1.0000e-05\n",
            "Epoch 52/100\n",
            "12/13 [==========================>...] - ETA: 0s - loss: 0.0122 - accuracy: 1.0000\n",
            "Epoch 52: val_loss improved from 0.25221 to 0.25205, saving model to model_tmsa_sentiment_cnn.h5\n",
            "13/13 [==============================] - 1s 51ms/step - loss: 0.0123 - accuracy: 1.0000 - val_loss: 0.2521 - val_accuracy: 0.9100 - lr: 1.0000e-05\n",
            "Epoch 53/100\n",
            "10/13 [======================>.......] - ETA: 0s - loss: 0.0126 - accuracy: 1.0000\n",
            "Epoch 53: val_loss did not improve from 0.25205\n",
            "13/13 [==============================] - 0s 9ms/step - loss: 0.0130 - accuracy: 1.0000 - val_loss: 0.2521 - val_accuracy: 0.9100 - lr: 1.0000e-05\n",
            "Epoch 54/100\n",
            "11/13 [========================>.....] - ETA: 0s - loss: 0.0114 - accuracy: 1.0000\n",
            "Epoch 54: val_loss did not improve from 0.25205\n",
            "13/13 [==============================] - 0s 9ms/step - loss: 0.0113 - accuracy: 1.0000 - val_loss: 0.2524 - val_accuracy: 0.9100 - lr: 1.0000e-05\n",
            "Epoch 55/100\n",
            "13/13 [==============================] - ETA: 0s - loss: 0.0112 - accuracy: 1.0000\n",
            "Epoch 55: val_loss did not improve from 0.25205\n",
            "\n",
            "Epoch 55: ReduceLROnPlateau reducing learning rate to 1e-06.\n",
            "13/13 [==============================] - 1s 46ms/step - loss: 0.0112 - accuracy: 1.0000 - val_loss: 0.2527 - val_accuracy: 0.9100 - lr: 1.0000e-05\n",
            "Epoch 56/100\n",
            "11/13 [========================>.....] - ETA: 0s - loss: 0.0120 - accuracy: 1.0000\n",
            "Epoch 56: val_loss did not improve from 0.25205\n",
            "13/13 [==============================] - 0s 9ms/step - loss: 0.0119 - accuracy: 1.0000 - val_loss: 0.2527 - val_accuracy: 0.9100 - lr: 1.0000e-06\n",
            "Epoch 57/100\n",
            "13/13 [==============================] - ETA: 0s - loss: 0.0127 - accuracy: 1.0000\n",
            "Epoch 57: val_loss did not improve from 0.25205\n",
            "13/13 [==============================] - 0s 41ms/step - loss: 0.0127 - accuracy: 1.0000 - val_loss: 0.2527 - val_accuracy: 0.9100 - lr: 1.0000e-06\n",
            "Epoch 58/100\n",
            " 6/13 [============>.................] - ETA: 0s - loss: 0.0118 - accuracy: 1.0000\n",
            "Epoch 58: val_loss did not improve from 0.25205\n",
            "13/13 [==============================] - 0s 40ms/step - loss: 0.0126 - accuracy: 1.0000 - val_loss: 0.2528 - val_accuracy: 0.9100 - lr: 1.0000e-06\n",
            "Epoch 59/100\n",
            "13/13 [==============================] - ETA: 0s - loss: 0.0106 - accuracy: 1.0000\n",
            "Epoch 59: val_loss did not improve from 0.25205\n",
            "13/13 [==============================] - 1s 76ms/step - loss: 0.0106 - accuracy: 1.0000 - val_loss: 0.2527 - val_accuracy: 0.9100 - lr: 1.0000e-06\n",
            "Epoch 60/100\n",
            "13/13 [==============================] - ETA: 0s - loss: 0.0115 - accuracy: 1.0000\n",
            "Epoch 60: val_loss did not improve from 0.25205\n",
            "13/13 [==============================] - 0s 41ms/step - loss: 0.0115 - accuracy: 1.0000 - val_loss: 0.2526 - val_accuracy: 0.9100 - lr: 1.0000e-06\n",
            "Epoch 61/100\n",
            "11/13 [========================>.....] - ETA: 0s - loss: 0.0118 - accuracy: 1.0000\n",
            "Epoch 61: val_loss did not improve from 0.25205\n",
            "13/13 [==============================] - 0s 8ms/step - loss: 0.0119 - accuracy: 1.0000 - val_loss: 0.2527 - val_accuracy: 0.9100 - lr: 1.0000e-06\n",
            "Epoch 62/100\n",
            "11/13 [========================>.....] - ETA: 0s - loss: 0.0102 - accuracy: 1.0000\n",
            "Epoch 62: val_loss did not improve from 0.25205\n",
            "13/13 [==============================] - 0s 8ms/step - loss: 0.0104 - accuracy: 1.0000 - val_loss: 0.2527 - val_accuracy: 0.9100 - lr: 1.0000e-06\n",
            "Epoch 63/100\n",
            "11/13 [========================>.....] - ETA: 0s - loss: 0.0118 - accuracy: 1.0000\n",
            "Epoch 63: val_loss did not improve from 0.25205\n",
            "13/13 [==============================] - 0s 8ms/step - loss: 0.0120 - accuracy: 1.0000 - val_loss: 0.2528 - val_accuracy: 0.9100 - lr: 1.0000e-06\n",
            "Epoch 64/100\n",
            "13/13 [==============================] - ETA: 0s - loss: 0.0119 - accuracy: 1.0000\n",
            "Epoch 64: val_loss did not improve from 0.25205\n",
            "13/13 [==============================] - 0s 40ms/step - loss: 0.0119 - accuracy: 1.0000 - val_loss: 0.2528 - val_accuracy: 0.9100 - lr: 1.0000e-06\n",
            "Epoch 65/100\n",
            "13/13 [==============================] - ETA: 0s - loss: 0.0110 - accuracy: 1.0000\n",
            "Epoch 65: val_loss did not improve from 0.25205\n",
            "13/13 [==============================] - 0s 40ms/step - loss: 0.0110 - accuracy: 1.0000 - val_loss: 0.2528 - val_accuracy: 0.9100 - lr: 1.0000e-06\n",
            "Epoch 66/100\n",
            "11/13 [========================>.....] - ETA: 0s - loss: 0.0114 - accuracy: 1.0000\n",
            "Epoch 66: val_loss did not improve from 0.25205\n",
            "13/13 [==============================] - 0s 9ms/step - loss: 0.0111 - accuracy: 1.0000 - val_loss: 0.2528 - val_accuracy: 0.9100 - lr: 1.0000e-06\n",
            "Epoch 67/100\n",
            "13/13 [==============================] - ETA: 0s - loss: 0.0111 - accuracy: 1.0000\n",
            "Epoch 67: val_loss did not improve from 0.25205\n",
            "13/13 [==============================] - 0s 40ms/step - loss: 0.0111 - accuracy: 1.0000 - val_loss: 0.2528 - val_accuracy: 0.9100 - lr: 1.0000e-06\n",
            "Epoch 68/100\n",
            "11/13 [========================>.....] - ETA: 0s - loss: 0.0117 - accuracy: 1.0000\n",
            "Epoch 68: val_loss did not improve from 0.25205\n",
            "13/13 [==============================] - 0s 8ms/step - loss: 0.0124 - accuracy: 1.0000 - val_loss: 0.2528 - val_accuracy: 0.9100 - lr: 1.0000e-06\n",
            "Epoch 69/100\n",
            "11/13 [========================>.....] - ETA: 0s - loss: 0.0106 - accuracy: 1.0000\n",
            "Epoch 69: val_loss did not improve from 0.25205\n",
            "13/13 [==============================] - 0s 8ms/step - loss: 0.0109 - accuracy: 1.0000 - val_loss: 0.2526 - val_accuracy: 0.9100 - lr: 1.0000e-06\n",
            "Epoch 70/100\n",
            "11/13 [========================>.....] - ETA: 0s - loss: 0.0124 - accuracy: 1.0000\n",
            "Epoch 70: val_loss did not improve from 0.25205\n",
            "13/13 [==============================] - 0s 8ms/step - loss: 0.0118 - accuracy: 1.0000 - val_loss: 0.2526 - val_accuracy: 0.9100 - lr: 1.0000e-06\n",
            "Epoch 71/100\n",
            "11/13 [========================>.....] - ETA: 0s - loss: 0.0119 - accuracy: 1.0000\n",
            "Epoch 71: val_loss did not improve from 0.25205\n",
            "13/13 [==============================] - 0s 8ms/step - loss: 0.0120 - accuracy: 1.0000 - val_loss: 0.2525 - val_accuracy: 0.9100 - lr: 1.0000e-06\n",
            "Epoch 72/100\n",
            "13/13 [==============================] - ETA: 0s - loss: 0.0118 - accuracy: 1.0000\n",
            "Epoch 72: val_loss did not improve from 0.25205\n",
            "13/13 [==============================] - 1s 76ms/step - loss: 0.0118 - accuracy: 1.0000 - val_loss: 0.2526 - val_accuracy: 0.9100 - lr: 1.0000e-06\n",
            "Epoch 73/100\n",
            "13/13 [==============================] - ETA: 0s - loss: 0.0109 - accuracy: 1.0000\n",
            "Epoch 73: val_loss did not improve from 0.25205\n",
            "13/13 [==============================] - 1s 71ms/step - loss: 0.0109 - accuracy: 1.0000 - val_loss: 0.2526 - val_accuracy: 0.9100 - lr: 1.0000e-06\n",
            "Epoch 74/100\n",
            "13/13 [==============================] - ETA: 0s - loss: 0.0121 - accuracy: 1.0000\n",
            "Epoch 74: val_loss did not improve from 0.25205\n",
            "13/13 [==============================] - 0s 40ms/step - loss: 0.0121 - accuracy: 1.0000 - val_loss: 0.2527 - val_accuracy: 0.9100 - lr: 1.0000e-06\n",
            "Epoch 75/100\n",
            "13/13 [==============================] - ETA: 0s - loss: 0.0116 - accuracy: 1.0000\n",
            "Epoch 75: val_loss did not improve from 0.25205\n",
            "13/13 [==============================] - 1s 72ms/step - loss: 0.0116 - accuracy: 1.0000 - val_loss: 0.2527 - val_accuracy: 0.9100 - lr: 1.0000e-06\n",
            "Epoch 76/100\n",
            "10/13 [======================>.......] - ETA: 0s - loss: 0.0113 - accuracy: 1.0000\n",
            "Epoch 76: val_loss did not improve from 0.25205\n",
            "13/13 [==============================] - 1s 45ms/step - loss: 0.0114 - accuracy: 1.0000 - val_loss: 0.2527 - val_accuracy: 0.9100 - lr: 1.0000e-06\n",
            "Epoch 77/100\n",
            " 6/13 [============>.................] - ETA: 0s - loss: 0.0126 - accuracy: 1.0000\n",
            "Epoch 77: val_loss did not improve from 0.25205\n",
            "13/13 [==============================] - 0s 41ms/step - loss: 0.0109 - accuracy: 1.0000 - val_loss: 0.2527 - val_accuracy: 0.9100 - lr: 1.0000e-06\n",
            "Epoch 78/100\n",
            "10/13 [======================>.......] - ETA: 0s - loss: 0.0124 - accuracy: 1.0000\n",
            "Epoch 78: val_loss did not improve from 0.25205\n",
            "13/13 [==============================] - 1s 9ms/step - loss: 0.0122 - accuracy: 1.0000 - val_loss: 0.2527 - val_accuracy: 0.9100 - lr: 1.0000e-06\n",
            "Epoch 79/100\n",
            "10/13 [======================>.......] - ETA: 0s - loss: 0.0117 - accuracy: 1.0000\n",
            "Epoch 79: val_loss did not improve from 0.25205\n",
            "13/13 [==============================] - 0s 9ms/step - loss: 0.0111 - accuracy: 1.0000 - val_loss: 0.2527 - val_accuracy: 0.9100 - lr: 1.0000e-06\n",
            "Epoch 80/100\n",
            "13/13 [==============================] - ETA: 0s - loss: 0.0114 - accuracy: 1.0000\n",
            "Epoch 80: val_loss did not improve from 0.25205\n",
            "13/13 [==============================] - 0s 41ms/step - loss: 0.0114 - accuracy: 1.0000 - val_loss: 0.2528 - val_accuracy: 0.9100 - lr: 1.0000e-06\n",
            "Epoch 81/100\n",
            "13/13 [==============================] - ETA: 0s - loss: 0.0119 - accuracy: 1.0000\n",
            "Epoch 81: val_loss did not improve from 0.25205\n",
            "13/13 [==============================] - 1s 46ms/step - loss: 0.0119 - accuracy: 1.0000 - val_loss: 0.2529 - val_accuracy: 0.9100 - lr: 1.0000e-06\n",
            "Epoch 82/100\n",
            "10/13 [======================>.......] - ETA: 0s - loss: 0.0099 - accuracy: 1.0000\n",
            "Epoch 82: val_loss did not improve from 0.25205\n",
            "13/13 [==============================] - 0s 9ms/step - loss: 0.0107 - accuracy: 1.0000 - val_loss: 0.2528 - val_accuracy: 0.9100 - lr: 1.0000e-06\n",
            "Epoch 83/100\n",
            "11/13 [========================>.....] - ETA: 0s - loss: 0.0114 - accuracy: 1.0000\n",
            "Epoch 83: val_loss did not improve from 0.25205\n",
            "13/13 [==============================] - 0s 9ms/step - loss: 0.0112 - accuracy: 1.0000 - val_loss: 0.2528 - val_accuracy: 0.9100 - lr: 1.0000e-06\n",
            "Epoch 84/100\n",
            "11/13 [========================>.....] - ETA: 0s - loss: 0.0118 - accuracy: 1.0000\n",
            "Epoch 84: val_loss did not improve from 0.25205\n",
            "13/13 [==============================] - 0s 9ms/step - loss: 0.0115 - accuracy: 1.0000 - val_loss: 0.2528 - val_accuracy: 0.9100 - lr: 1.0000e-06\n",
            "Epoch 85/100\n",
            "11/13 [========================>.....] - ETA: 0s - loss: 0.0112 - accuracy: 1.0000\n",
            "Epoch 85: val_loss did not improve from 0.25205\n",
            "13/13 [==============================] - 0s 9ms/step - loss: 0.0113 - accuracy: 1.0000 - val_loss: 0.2528 - val_accuracy: 0.9100 - lr: 1.0000e-06\n",
            "Epoch 86/100\n",
            "10/13 [======================>.......] - ETA: 0s - loss: 0.0107 - accuracy: 1.0000\n",
            "Epoch 86: val_loss did not improve from 0.25205\n",
            "13/13 [==============================] - 0s 9ms/step - loss: 0.0112 - accuracy: 1.0000 - val_loss: 0.2528 - val_accuracy: 0.9100 - lr: 1.0000e-06\n",
            "Epoch 87/100\n",
            "13/13 [==============================] - ETA: 0s - loss: 0.0112 - accuracy: 1.0000\n",
            "Epoch 87: val_loss did not improve from 0.25205\n",
            "13/13 [==============================] - 1s 41ms/step - loss: 0.0112 - accuracy: 1.0000 - val_loss: 0.2528 - val_accuracy: 0.9100 - lr: 1.0000e-06\n",
            "Epoch 88/100\n",
            "10/13 [======================>.......] - ETA: 0s - loss: 0.0110 - accuracy: 1.0000\n",
            "Epoch 88: val_loss did not improve from 0.25205\n",
            "13/13 [==============================] - 0s 9ms/step - loss: 0.0111 - accuracy: 1.0000 - val_loss: 0.2527 - val_accuracy: 0.9100 - lr: 1.0000e-06\n",
            "Epoch 89/100\n",
            "11/13 [========================>.....] - ETA: 0s - loss: 0.0107 - accuracy: 1.0000\n",
            "Epoch 89: val_loss did not improve from 0.25205\n",
            "13/13 [==============================] - 0s 8ms/step - loss: 0.0110 - accuracy: 1.0000 - val_loss: 0.2528 - val_accuracy: 0.9100 - lr: 1.0000e-06\n",
            "Epoch 90/100\n",
            "10/13 [======================>.......] - ETA: 0s - loss: 0.0110 - accuracy: 1.0000\n",
            "Epoch 90: val_loss did not improve from 0.25205\n",
            "13/13 [==============================] - 0s 9ms/step - loss: 0.0114 - accuracy: 1.0000 - val_loss: 0.2528 - val_accuracy: 0.9100 - lr: 1.0000e-06\n",
            "Epoch 91/100\n",
            "11/13 [========================>.....] - ETA: 0s - loss: 0.0106 - accuracy: 1.0000\n",
            "Epoch 91: val_loss did not improve from 0.25205\n",
            "13/13 [==============================] - 0s 9ms/step - loss: 0.0106 - accuracy: 1.0000 - val_loss: 0.2528 - val_accuracy: 0.9100 - lr: 1.0000e-06\n",
            "Epoch 92/100\n",
            "11/13 [========================>.....] - ETA: 0s - loss: 0.0121 - accuracy: 1.0000\n",
            "Epoch 92: val_loss did not improve from 0.25205\n",
            "13/13 [==============================] - 0s 9ms/step - loss: 0.0115 - accuracy: 1.0000 - val_loss: 0.2527 - val_accuracy: 0.9100 - lr: 1.0000e-06\n",
            "Epoch 93/100\n",
            "11/13 [========================>.....] - ETA: 0s - loss: 0.0120 - accuracy: 1.0000\n",
            "Epoch 93: val_loss did not improve from 0.25205\n",
            "13/13 [==============================] - 0s 9ms/step - loss: 0.0121 - accuracy: 1.0000 - val_loss: 0.2527 - val_accuracy: 0.9100 - lr: 1.0000e-06\n",
            "Epoch 94/100\n",
            "11/13 [========================>.....] - ETA: 0s - loss: 0.0107 - accuracy: 1.0000\n",
            "Epoch 94: val_loss did not improve from 0.25205\n",
            "13/13 [==============================] - 0s 9ms/step - loss: 0.0113 - accuracy: 1.0000 - val_loss: 0.2527 - val_accuracy: 0.9100 - lr: 1.0000e-06\n",
            "Epoch 95/100\n",
            "11/13 [========================>.....] - ETA: 0s - loss: 0.0111 - accuracy: 1.0000\n",
            "Epoch 95: val_loss did not improve from 0.25205\n",
            "13/13 [==============================] - 0s 9ms/step - loss: 0.0112 - accuracy: 1.0000 - val_loss: 0.2526 - val_accuracy: 0.9100 - lr: 1.0000e-06\n",
            "Epoch 96/100\n",
            "11/13 [========================>.....] - ETA: 0s - loss: 0.0113 - accuracy: 1.0000\n",
            "Epoch 96: val_loss did not improve from 0.25205\n",
            "13/13 [==============================] - 0s 9ms/step - loss: 0.0112 - accuracy: 1.0000 - val_loss: 0.2526 - val_accuracy: 0.9100 - lr: 1.0000e-06\n",
            "Epoch 97/100\n",
            "13/13 [==============================] - ETA: 0s - loss: 0.0116 - accuracy: 1.0000\n",
            "Epoch 97: val_loss did not improve from 0.25205\n",
            "13/13 [==============================] - 1s 43ms/step - loss: 0.0116 - accuracy: 1.0000 - val_loss: 0.2526 - val_accuracy: 0.9100 - lr: 1.0000e-06\n",
            "Epoch 98/100\n",
            "13/13 [==============================] - ETA: 0s - loss: 0.0114 - accuracy: 1.0000\n",
            "Epoch 98: val_loss did not improve from 0.25205\n",
            "13/13 [==============================] - 0s 40ms/step - loss: 0.0114 - accuracy: 1.0000 - val_loss: 0.2527 - val_accuracy: 0.9100 - lr: 1.0000e-06\n",
            "Epoch 99/100\n",
            "11/13 [========================>.....] - ETA: 0s - loss: 0.0111 - accuracy: 1.0000\n",
            "Epoch 99: val_loss did not improve from 0.25205\n",
            "13/13 [==============================] - 0s 8ms/step - loss: 0.0105 - accuracy: 1.0000 - val_loss: 0.2527 - val_accuracy: 0.9100 - lr: 1.0000e-06\n",
            "Epoch 100/100\n",
            "13/13 [==============================] - ETA: 0s - loss: 0.0115 - accuracy: 1.0000\n",
            "Epoch 100: val_loss did not improve from 0.25205\n",
            "13/13 [==============================] - 0s 41ms/step - loss: 0.0115 - accuracy: 1.0000 - val_loss: 0.2526 - val_accuracy: 0.9100 - lr: 1.0000e-06\n"
          ]
        }
      ]
    },
    {
      "cell_type": "markdown",
      "source": [
        "- Save History"
      ],
      "metadata": {
        "id": "EXQU1nHc67jS"
      }
    },
    {
      "cell_type": "code",
      "source": [
        "with open('history_model_tmsa_sentiment_cnn', 'wb') as file:\n",
        "    p.dump(hist.history, file)"
      ],
      "metadata": {
        "id": "X6bFsLW97AhY"
      },
      "execution_count": null,
      "outputs": []
    },
    {
      "cell_type": "markdown",
      "source": [
        "- Load History"
      ],
      "metadata": {
        "id": "b8c6807S6-SU"
      }
    },
    {
      "cell_type": "code",
      "source": [
        "with open('history_model_tmsa_sentiment_cnn', 'rb') as file:\n",
        "    his = p.load(file)"
      ],
      "metadata": {
        "id": "dDdVof5x7DLQ"
      },
      "execution_count": null,
      "outputs": []
    },
    {
      "cell_type": "markdown",
      "source": [
        "-  Plot `Loss` และ `Validate Loss`"
      ],
      "metadata": {
        "id": "RBhdtrDhzxhe"
      }
    },
    {
      "cell_type": "code",
      "source": [
        "h1 = go.Scatter(y=hist.history['loss'],\n",
        "                    mode=\"lines\", line=dict(\n",
        "                    width=2,\n",
        "                    color='blue'),\n",
        "                    name=\"loss\"\n",
        "                   )\n",
        "h2 = go.Scatter(y=hist.history['val_loss'],\n",
        "                    mode=\"lines\", line=dict(\n",
        "                    width=2,\n",
        "                    color='red'),\n",
        "                    name=\"val_loss\"\n",
        "                   )\n",
        "\n",
        "data = [h1,h2]\n",
        "layout1 = go.Layout(title='Loss',\n",
        "                   xaxis=dict(title='epochs'),\n",
        "                   yaxis=dict(title=''))\n",
        "fig1 = go.Figure(data = data, layout=layout1)\n",
        "fig1.show()"
      ],
      "metadata": {
        "colab": {
          "base_uri": "https://localhost:8080/",
          "height": 542
        },
        "id": "TPKF6RRXznjC",
        "outputId": "9a09cb19-fb61-450e-f2b1-3e7fa893b285"
      },
      "execution_count": null,
      "outputs": [
        {
          "output_type": "display_data",
          "data": {
            "text/html": [
              "<html>\n",
              "<head><meta charset=\"utf-8\" /></head>\n",
              "<body>\n",
              "    <div>            <script src=\"https://cdnjs.cloudflare.com/ajax/libs/mathjax/2.7.5/MathJax.js?config=TeX-AMS-MML_SVG\"></script><script type=\"text/javascript\">if (window.MathJax && window.MathJax.Hub && window.MathJax.Hub.Config) {window.MathJax.Hub.Config({SVG: {font: \"STIX-Web\"}});}</script>                <script type=\"text/javascript\">window.PlotlyConfig = {MathJaxConfig: 'local'};</script>\n",
              "        <script charset=\"utf-8\" src=\"https://cdn.plot.ly/plotly-2.24.1.min.js\"></script>                <div id=\"9ae2fdd5-4b96-44b7-a4c4-eab89628f37c\" class=\"plotly-graph-div\" style=\"height:525px; width:100%;\"></div>            <script type=\"text/javascript\">                                    window.PLOTLYENV=window.PLOTLYENV || {};                                    if (document.getElementById(\"9ae2fdd5-4b96-44b7-a4c4-eab89628f37c\")) {                    Plotly.newPlot(                        \"9ae2fdd5-4b96-44b7-a4c4-eab89628f37c\",                        [{\"line\":{\"color\":\"blue\",\"width\":2},\"mode\":\"lines\",\"name\":\"loss\",\"y\":[0.6931812167167664,0.6875144243240356,0.680113673210144,0.6746379733085632,0.6670010089874268,0.6616507768630981,0.6543192863464355,0.6441342830657959,0.6325290203094482,0.6184887886047363,0.6067413687705994,0.5901067852973938,0.5708897709846497,0.5517263412475586,0.526358962059021,0.49539563059806824,0.46874141693115234,0.42970162630081177,0.3956839442253113,0.35415753722190857,0.3156563937664032,0.280218243598938,0.2425844967365265,0.20149070024490356,0.1697711944580078,0.14848840236663818,0.12329717725515366,0.10515393316745758,0.09447161853313446,0.07998966425657272,0.07136578857898712,0.06372293829917908,0.05221143364906311,0.04808684438467026,0.04361102730035782,0.03779967874288559,0.03391777724027634,0.03215087950229645,0.03010430559515953,0.02575693093240261,0.022977733984589577,0.022982221096754074,0.02069697342813015,0.01769103854894638,0.01755576580762863,0.01596412993967533,0.0147410212084651,0.014199181459844112,0.012330816127359867,0.012734907679259777,0.011682676151394844,0.012292033061385155,0.01300887018442154,0.011281847953796387,0.01120462454855442,0.01194919366389513,0.012668143957853317,0.012578103691339493,0.010576157830655575,0.011548887938261032,0.011920572258532047,0.01041298359632492,0.01201930083334446,0.011893833056092262,0.010977932251989841,0.011056977324187756,0.011068078689277172,0.01244147028774023,0.010902415961027145,0.011812183074653149,0.011962623335421085,0.011794578284025192,0.010908510535955429,0.012092072516679764,0.011601380072534084,0.011418955400586128,0.01089929323643446,0.012199358083307743,0.01107124425470829,0.011416913010179996,0.011944549158215523,0.01074779313057661,0.011219250969588757,0.011524173431098461,0.011315127834677696,0.011176100000739098,0.011185896582901478,0.011106445454061031,0.01095917820930481,0.011356350034475327,0.010617523454129696,0.011534902267158031,0.012108899652957916,0.011288812384009361,0.011184804141521454,0.011228341609239578,0.011576788499951363,0.01140111219137907,0.010524969547986984,0.011452819220721722],\"type\":\"scatter\"},{\"line\":{\"color\":\"red\",\"width\":2},\"mode\":\"lines\",\"name\":\"val_loss\",\"y\":[0.6894203424453735,0.6880300045013428,0.6872461438179016,0.6854697465896606,0.6833809614181519,0.6813226342201233,0.6781758069992065,0.6748695969581604,0.6716063022613525,0.6658273935317993,0.6598925590515137,0.653677225112915,0.6431016325950623,0.6315839290618896,0.6180148124694824,0.6040176153182983,0.5830317139625549,0.5617974996566772,0.5365285277366638,0.508185088634491,0.4837157130241394,0.4557977616786957,0.42687293887138367,0.40008294582366943,0.3777174651622772,0.3575504422187805,0.34055984020233154,0.3265591859817505,0.3143657445907593,0.3053627908229828,0.29681673645973206,0.28973883390426636,0.28517648577690125,0.2815385162830353,0.27636510133743286,0.27265843749046326,0.2699410915374756,0.26842525601387024,0.26459023356437683,0.2643657922744751,0.2607913315296173,0.2597920000553131,0.2610478699207306,0.25881633162498474,0.25578412413597107,0.25245049595832825,0.25486892461776733,0.25720158219337463,0.2527630627155304,0.25220561027526855,0.25227436423301697,0.2520506978034973,0.25210970640182495,0.25242337584495544,0.25267454981803894,0.2527230978012085,0.25270745158195496,0.25275957584381104,0.25267133116722107,0.2526249289512634,0.2526552081108093,0.2527207136154175,0.2527613937854767,0.2528296411037445,0.25284790992736816,0.25281327962875366,0.2527726888656616,0.25276002287864685,0.25261190533638,0.2525889575481415,0.25254860520362854,0.25257065892219543,0.25264742970466614,0.2526925802230835,0.2527157664299011,0.25273919105529785,0.2527257204055786,0.2527421712875366,0.2527194321155548,0.2528279721736908,0.2528574764728546,0.2527976632118225,0.25280430912971497,0.25281888246536255,0.25279074907302856,0.2527844309806824,0.2527531683444977,0.25272807478904724,0.2528042793273926,0.2528085708618164,0.2527729272842407,0.25273287296295166,0.25273677706718445,0.2526884973049164,0.2526493966579437,0.2525934875011444,0.2526499330997467,0.2526623606681824,0.25265076756477356,0.2526182234287262],\"type\":\"scatter\"}],                        {\"title\":{\"text\":\"Loss\"},\"xaxis\":{\"title\":{\"text\":\"epochs\"}},\"yaxis\":{\"title\":{\"text\":\"\"}},\"template\":{\"data\":{\"histogram2dcontour\":[{\"type\":\"histogram2dcontour\",\"colorbar\":{\"outlinewidth\":0,\"ticks\":\"\"},\"colorscale\":[[0.0,\"#0d0887\"],[0.1111111111111111,\"#46039f\"],[0.2222222222222222,\"#7201a8\"],[0.3333333333333333,\"#9c179e\"],[0.4444444444444444,\"#bd3786\"],[0.5555555555555556,\"#d8576b\"],[0.6666666666666666,\"#ed7953\"],[0.7777777777777778,\"#fb9f3a\"],[0.8888888888888888,\"#fdca26\"],[1.0,\"#f0f921\"]]}],\"choropleth\":[{\"type\":\"choropleth\",\"colorbar\":{\"outlinewidth\":0,\"ticks\":\"\"}}],\"histogram2d\":[{\"type\":\"histogram2d\",\"colorbar\":{\"outlinewidth\":0,\"ticks\":\"\"},\"colorscale\":[[0.0,\"#0d0887\"],[0.1111111111111111,\"#46039f\"],[0.2222222222222222,\"#7201a8\"],[0.3333333333333333,\"#9c179e\"],[0.4444444444444444,\"#bd3786\"],[0.5555555555555556,\"#d8576b\"],[0.6666666666666666,\"#ed7953\"],[0.7777777777777778,\"#fb9f3a\"],[0.8888888888888888,\"#fdca26\"],[1.0,\"#f0f921\"]]}],\"heatmap\":[{\"type\":\"heatmap\",\"colorbar\":{\"outlinewidth\":0,\"ticks\":\"\"},\"colorscale\":[[0.0,\"#0d0887\"],[0.1111111111111111,\"#46039f\"],[0.2222222222222222,\"#7201a8\"],[0.3333333333333333,\"#9c179e\"],[0.4444444444444444,\"#bd3786\"],[0.5555555555555556,\"#d8576b\"],[0.6666666666666666,\"#ed7953\"],[0.7777777777777778,\"#fb9f3a\"],[0.8888888888888888,\"#fdca26\"],[1.0,\"#f0f921\"]]}],\"heatmapgl\":[{\"type\":\"heatmapgl\",\"colorbar\":{\"outlinewidth\":0,\"ticks\":\"\"},\"colorscale\":[[0.0,\"#0d0887\"],[0.1111111111111111,\"#46039f\"],[0.2222222222222222,\"#7201a8\"],[0.3333333333333333,\"#9c179e\"],[0.4444444444444444,\"#bd3786\"],[0.5555555555555556,\"#d8576b\"],[0.6666666666666666,\"#ed7953\"],[0.7777777777777778,\"#fb9f3a\"],[0.8888888888888888,\"#fdca26\"],[1.0,\"#f0f921\"]]}],\"contourcarpet\":[{\"type\":\"contourcarpet\",\"colorbar\":{\"outlinewidth\":0,\"ticks\":\"\"}}],\"contour\":[{\"type\":\"contour\",\"colorbar\":{\"outlinewidth\":0,\"ticks\":\"\"},\"colorscale\":[[0.0,\"#0d0887\"],[0.1111111111111111,\"#46039f\"],[0.2222222222222222,\"#7201a8\"],[0.3333333333333333,\"#9c179e\"],[0.4444444444444444,\"#bd3786\"],[0.5555555555555556,\"#d8576b\"],[0.6666666666666666,\"#ed7953\"],[0.7777777777777778,\"#fb9f3a\"],[0.8888888888888888,\"#fdca26\"],[1.0,\"#f0f921\"]]}],\"surface\":[{\"type\":\"surface\",\"colorbar\":{\"outlinewidth\":0,\"ticks\":\"\"},\"colorscale\":[[0.0,\"#0d0887\"],[0.1111111111111111,\"#46039f\"],[0.2222222222222222,\"#7201a8\"],[0.3333333333333333,\"#9c179e\"],[0.4444444444444444,\"#bd3786\"],[0.5555555555555556,\"#d8576b\"],[0.6666666666666666,\"#ed7953\"],[0.7777777777777778,\"#fb9f3a\"],[0.8888888888888888,\"#fdca26\"],[1.0,\"#f0f921\"]]}],\"mesh3d\":[{\"type\":\"mesh3d\",\"colorbar\":{\"outlinewidth\":0,\"ticks\":\"\"}}],\"scatter\":[{\"fillpattern\":{\"fillmode\":\"overlay\",\"size\":10,\"solidity\":0.2},\"type\":\"scatter\"}],\"parcoords\":[{\"type\":\"parcoords\",\"line\":{\"colorbar\":{\"outlinewidth\":0,\"ticks\":\"\"}}}],\"scatterpolargl\":[{\"type\":\"scatterpolargl\",\"marker\":{\"colorbar\":{\"outlinewidth\":0,\"ticks\":\"\"}}}],\"bar\":[{\"error_x\":{\"color\":\"#2a3f5f\"},\"error_y\":{\"color\":\"#2a3f5f\"},\"marker\":{\"line\":{\"color\":\"#E5ECF6\",\"width\":0.5},\"pattern\":{\"fillmode\":\"overlay\",\"size\":10,\"solidity\":0.2}},\"type\":\"bar\"}],\"scattergeo\":[{\"type\":\"scattergeo\",\"marker\":{\"colorbar\":{\"outlinewidth\":0,\"ticks\":\"\"}}}],\"scatterpolar\":[{\"type\":\"scatterpolar\",\"marker\":{\"colorbar\":{\"outlinewidth\":0,\"ticks\":\"\"}}}],\"histogram\":[{\"marker\":{\"pattern\":{\"fillmode\":\"overlay\",\"size\":10,\"solidity\":0.2}},\"type\":\"histogram\"}],\"scattergl\":[{\"type\":\"scattergl\",\"marker\":{\"colorbar\":{\"outlinewidth\":0,\"ticks\":\"\"}}}],\"scatter3d\":[{\"type\":\"scatter3d\",\"line\":{\"colorbar\":{\"outlinewidth\":0,\"ticks\":\"\"}},\"marker\":{\"colorbar\":{\"outlinewidth\":0,\"ticks\":\"\"}}}],\"scattermapbox\":[{\"type\":\"scattermapbox\",\"marker\":{\"colorbar\":{\"outlinewidth\":0,\"ticks\":\"\"}}}],\"scatterternary\":[{\"type\":\"scatterternary\",\"marker\":{\"colorbar\":{\"outlinewidth\":0,\"ticks\":\"\"}}}],\"scattercarpet\":[{\"type\":\"scattercarpet\",\"marker\":{\"colorbar\":{\"outlinewidth\":0,\"ticks\":\"\"}}}],\"carpet\":[{\"aaxis\":{\"endlinecolor\":\"#2a3f5f\",\"gridcolor\":\"white\",\"linecolor\":\"white\",\"minorgridcolor\":\"white\",\"startlinecolor\":\"#2a3f5f\"},\"baxis\":{\"endlinecolor\":\"#2a3f5f\",\"gridcolor\":\"white\",\"linecolor\":\"white\",\"minorgridcolor\":\"white\",\"startlinecolor\":\"#2a3f5f\"},\"type\":\"carpet\"}],\"table\":[{\"cells\":{\"fill\":{\"color\":\"#EBF0F8\"},\"line\":{\"color\":\"white\"}},\"header\":{\"fill\":{\"color\":\"#C8D4E3\"},\"line\":{\"color\":\"white\"}},\"type\":\"table\"}],\"barpolar\":[{\"marker\":{\"line\":{\"color\":\"#E5ECF6\",\"width\":0.5},\"pattern\":{\"fillmode\":\"overlay\",\"size\":10,\"solidity\":0.2}},\"type\":\"barpolar\"}],\"pie\":[{\"automargin\":true,\"type\":\"pie\"}]},\"layout\":{\"autotypenumbers\":\"strict\",\"colorway\":[\"#636efa\",\"#EF553B\",\"#00cc96\",\"#ab63fa\",\"#FFA15A\",\"#19d3f3\",\"#FF6692\",\"#B6E880\",\"#FF97FF\",\"#FECB52\"],\"font\":{\"color\":\"#2a3f5f\"},\"hovermode\":\"closest\",\"hoverlabel\":{\"align\":\"left\"},\"paper_bgcolor\":\"white\",\"plot_bgcolor\":\"#E5ECF6\",\"polar\":{\"bgcolor\":\"#E5ECF6\",\"angularaxis\":{\"gridcolor\":\"white\",\"linecolor\":\"white\",\"ticks\":\"\"},\"radialaxis\":{\"gridcolor\":\"white\",\"linecolor\":\"white\",\"ticks\":\"\"}},\"ternary\":{\"bgcolor\":\"#E5ECF6\",\"aaxis\":{\"gridcolor\":\"white\",\"linecolor\":\"white\",\"ticks\":\"\"},\"baxis\":{\"gridcolor\":\"white\",\"linecolor\":\"white\",\"ticks\":\"\"},\"caxis\":{\"gridcolor\":\"white\",\"linecolor\":\"white\",\"ticks\":\"\"}},\"coloraxis\":{\"colorbar\":{\"outlinewidth\":0,\"ticks\":\"\"}},\"colorscale\":{\"sequential\":[[0.0,\"#0d0887\"],[0.1111111111111111,\"#46039f\"],[0.2222222222222222,\"#7201a8\"],[0.3333333333333333,\"#9c179e\"],[0.4444444444444444,\"#bd3786\"],[0.5555555555555556,\"#d8576b\"],[0.6666666666666666,\"#ed7953\"],[0.7777777777777778,\"#fb9f3a\"],[0.8888888888888888,\"#fdca26\"],[1.0,\"#f0f921\"]],\"sequentialminus\":[[0.0,\"#0d0887\"],[0.1111111111111111,\"#46039f\"],[0.2222222222222222,\"#7201a8\"],[0.3333333333333333,\"#9c179e\"],[0.4444444444444444,\"#bd3786\"],[0.5555555555555556,\"#d8576b\"],[0.6666666666666666,\"#ed7953\"],[0.7777777777777778,\"#fb9f3a\"],[0.8888888888888888,\"#fdca26\"],[1.0,\"#f0f921\"]],\"diverging\":[[0,\"#8e0152\"],[0.1,\"#c51b7d\"],[0.2,\"#de77ae\"],[0.3,\"#f1b6da\"],[0.4,\"#fde0ef\"],[0.5,\"#f7f7f7\"],[0.6,\"#e6f5d0\"],[0.7,\"#b8e186\"],[0.8,\"#7fbc41\"],[0.9,\"#4d9221\"],[1,\"#276419\"]]},\"xaxis\":{\"gridcolor\":\"white\",\"linecolor\":\"white\",\"ticks\":\"\",\"title\":{\"standoff\":15},\"zerolinecolor\":\"white\",\"automargin\":true,\"zerolinewidth\":2},\"yaxis\":{\"gridcolor\":\"white\",\"linecolor\":\"white\",\"ticks\":\"\",\"title\":{\"standoff\":15},\"zerolinecolor\":\"white\",\"automargin\":true,\"zerolinewidth\":2},\"scene\":{\"xaxis\":{\"backgroundcolor\":\"#E5ECF6\",\"gridcolor\":\"white\",\"linecolor\":\"white\",\"showbackground\":true,\"ticks\":\"\",\"zerolinecolor\":\"white\",\"gridwidth\":2},\"yaxis\":{\"backgroundcolor\":\"#E5ECF6\",\"gridcolor\":\"white\",\"linecolor\":\"white\",\"showbackground\":true,\"ticks\":\"\",\"zerolinecolor\":\"white\",\"gridwidth\":2},\"zaxis\":{\"backgroundcolor\":\"#E5ECF6\",\"gridcolor\":\"white\",\"linecolor\":\"white\",\"showbackground\":true,\"ticks\":\"\",\"zerolinecolor\":\"white\",\"gridwidth\":2}},\"shapedefaults\":{\"line\":{\"color\":\"#2a3f5f\"}},\"annotationdefaults\":{\"arrowcolor\":\"#2a3f5f\",\"arrowhead\":0,\"arrowwidth\":1},\"geo\":{\"bgcolor\":\"white\",\"landcolor\":\"#E5ECF6\",\"subunitcolor\":\"white\",\"showland\":true,\"showlakes\":true,\"lakecolor\":\"white\"},\"title\":{\"x\":0.05},\"mapbox\":{\"style\":\"light\"}}}},                        {\"responsive\": true}                    ).then(function(){\n",
              "                            \n",
              "var gd = document.getElementById('9ae2fdd5-4b96-44b7-a4c4-eab89628f37c');\n",
              "var x = new MutationObserver(function (mutations, observer) {{\n",
              "        var display = window.getComputedStyle(gd).display;\n",
              "        if (!display || display === 'none') {{\n",
              "            console.log([gd, 'removed!']);\n",
              "            Plotly.purge(gd);\n",
              "            observer.disconnect();\n",
              "        }}\n",
              "}});\n",
              "\n",
              "// Listen for the removal of the full notebook cells\n",
              "var notebookContainer = gd.closest('#notebook-container');\n",
              "if (notebookContainer) {{\n",
              "    x.observe(notebookContainer, {childList: true});\n",
              "}}\n",
              "\n",
              "// Listen for the clearing of the current output cell\n",
              "var outputEl = gd.closest('.output');\n",
              "if (outputEl) {{\n",
              "    x.observe(outputEl, {childList: true});\n",
              "}}\n",
              "\n",
              "                        })                };                            </script>        </div>\n",
              "</body>\n",
              "</html>"
            ]
          },
          "metadata": {}
        }
      ]
    },
    {
      "cell_type": "markdown",
      "source": [
        "- Plot `Accuracy` และ `Validate Accuracy`"
      ],
      "metadata": {
        "id": "x7ptFFQhz-gy"
      }
    },
    {
      "cell_type": "code",
      "source": [
        "h1 = go.Scatter(y=hist.history['accuracy'],\n",
        "                    mode=\"lines\", line=dict(\n",
        "                    width=2,\n",
        "                    color='blue'),\n",
        "                    name=\"acc\"\n",
        "                   )\n",
        "h2 = go.Scatter(y=hist.history['val_accuracy'],\n",
        "                    mode=\"lines\", line=dict(\n",
        "                    width=2,\n",
        "                    color='red'),\n",
        "                    name=\"val_acc\"\n",
        "                   )\n",
        "\n",
        "data = [h1,h2]\n",
        "layout1 = go.Layout(title='Accuracy',\n",
        "                   xaxis=dict(title='epochs'),\n",
        "                   yaxis=dict(title=''))\n",
        "fig1 = go.Figure(data = data, layout=layout1)\n",
        "fig1.show()"
      ],
      "metadata": {
        "colab": {
          "base_uri": "https://localhost:8080/",
          "height": 542
        },
        "id": "MSx4QMek0CoM",
        "outputId": "8f9f414b-5e4b-4a50-9b5b-28689c5ea146"
      },
      "execution_count": null,
      "outputs": [
        {
          "output_type": "display_data",
          "data": {
            "text/html": [
              "<html>\n",
              "<head><meta charset=\"utf-8\" /></head>\n",
              "<body>\n",
              "    <div>            <script src=\"https://cdnjs.cloudflare.com/ajax/libs/mathjax/2.7.5/MathJax.js?config=TeX-AMS-MML_SVG\"></script><script type=\"text/javascript\">if (window.MathJax && window.MathJax.Hub && window.MathJax.Hub.Config) {window.MathJax.Hub.Config({SVG: {font: \"STIX-Web\"}});}</script>                <script type=\"text/javascript\">window.PlotlyConfig = {MathJaxConfig: 'local'};</script>\n",
              "        <script charset=\"utf-8\" src=\"https://cdn.plot.ly/plotly-2.24.1.min.js\"></script>                <div id=\"32252fa3-7549-4e16-9d5d-6c4b2af1c13c\" class=\"plotly-graph-div\" style=\"height:525px; width:100%;\"></div>            <script type=\"text/javascript\">                                    window.PLOTLYENV=window.PLOTLYENV || {};                                    if (document.getElementById(\"32252fa3-7549-4e16-9d5d-6c4b2af1c13c\")) {                    Plotly.newPlot(                        \"32252fa3-7549-4e16-9d5d-6c4b2af1c13c\",                        [{\"line\":{\"color\":\"blue\",\"width\":2},\"mode\":\"lines\",\"name\":\"acc\",\"y\":[0.5174999833106995,0.5699999928474426,0.6075000166893005,0.6474999785423279,0.7225000262260437,0.7250000238418579,0.7950000166893005,0.8149999976158142,0.8125,0.8849999904632568,0.9024999737739563,0.8949999809265137,0.9125000238418579,0.9424999952316284,0.9449999928474426,0.9649999737739563,0.9775000214576721,0.9700000286102295,0.9775000214576721,0.9700000286102295,0.9800000190734863,0.9775000214576721,0.9674999713897705,0.987500011920929,0.9800000190734863,0.987500011920929,0.9800000190734863,0.9850000143051147,0.9900000095367432,0.9900000095367432,0.9950000047683716,0.9900000095367432,0.9975000023841858,1.0,0.9975000023841858,0.9975000023841858,1.0,1.0,0.9950000047683716,1.0,1.0,1.0,1.0,1.0,1.0,1.0,1.0,1.0,1.0,1.0,1.0,1.0,1.0,1.0,1.0,1.0,1.0,1.0,1.0,1.0,1.0,1.0,1.0,1.0,1.0,1.0,1.0,1.0,1.0,1.0,1.0,1.0,1.0,1.0,1.0,1.0,1.0,1.0,1.0,1.0,1.0,1.0,1.0,1.0,1.0,1.0,1.0,1.0,1.0,1.0,1.0,1.0,1.0,1.0,1.0,1.0,1.0,1.0,1.0,1.0],\"type\":\"scatter\"},{\"line\":{\"color\":\"red\",\"width\":2},\"mode\":\"lines\",\"name\":\"val_acc\",\"y\":[0.550000011920929,0.6000000238418579,0.5199999809265137,0.6200000047683716,0.6800000071525574,0.699999988079071,0.7300000190734863,0.7400000095367432,0.6899999976158142,0.7400000095367432,0.75,0.7300000190734863,0.7300000190734863,0.75,0.7699999809265137,0.7599999904632568,0.8100000023841858,0.8199999928474426,0.8399999737739563,0.8399999737739563,0.8500000238418579,0.8500000238418579,0.8799999952316284,0.8700000047683716,0.8600000143051147,0.8700000047683716,0.8700000047683716,0.9100000262260437,0.8899999856948853,0.8899999856948853,0.8899999856948853,0.9100000262260437,0.9100000262260437,0.9100000262260437,0.9100000262260437,0.8899999856948853,0.9100000262260437,0.8799999952316284,0.9100000262260437,0.9100000262260437,0.9100000262260437,0.9100000262260437,0.8999999761581421,0.9100000262260437,0.9100000262260437,0.9100000262260437,0.9100000262260437,0.8700000047683716,0.9100000262260437,0.9100000262260437,0.9100000262260437,0.9100000262260437,0.9100000262260437,0.9100000262260437,0.9100000262260437,0.9100000262260437,0.9100000262260437,0.9100000262260437,0.9100000262260437,0.9100000262260437,0.9100000262260437,0.9100000262260437,0.9100000262260437,0.9100000262260437,0.9100000262260437,0.9100000262260437,0.9100000262260437,0.9100000262260437,0.9100000262260437,0.9100000262260437,0.9100000262260437,0.9100000262260437,0.9100000262260437,0.9100000262260437,0.9100000262260437,0.9100000262260437,0.9100000262260437,0.9100000262260437,0.9100000262260437,0.9100000262260437,0.9100000262260437,0.9100000262260437,0.9100000262260437,0.9100000262260437,0.9100000262260437,0.9100000262260437,0.9100000262260437,0.9100000262260437,0.9100000262260437,0.9100000262260437,0.9100000262260437,0.9100000262260437,0.9100000262260437,0.9100000262260437,0.9100000262260437,0.9100000262260437,0.9100000262260437,0.9100000262260437,0.9100000262260437,0.9100000262260437],\"type\":\"scatter\"}],                        {\"title\":{\"text\":\"Accuracy\"},\"xaxis\":{\"title\":{\"text\":\"epochs\"}},\"yaxis\":{\"title\":{\"text\":\"\"}},\"template\":{\"data\":{\"histogram2dcontour\":[{\"type\":\"histogram2dcontour\",\"colorbar\":{\"outlinewidth\":0,\"ticks\":\"\"},\"colorscale\":[[0.0,\"#0d0887\"],[0.1111111111111111,\"#46039f\"],[0.2222222222222222,\"#7201a8\"],[0.3333333333333333,\"#9c179e\"],[0.4444444444444444,\"#bd3786\"],[0.5555555555555556,\"#d8576b\"],[0.6666666666666666,\"#ed7953\"],[0.7777777777777778,\"#fb9f3a\"],[0.8888888888888888,\"#fdca26\"],[1.0,\"#f0f921\"]]}],\"choropleth\":[{\"type\":\"choropleth\",\"colorbar\":{\"outlinewidth\":0,\"ticks\":\"\"}}],\"histogram2d\":[{\"type\":\"histogram2d\",\"colorbar\":{\"outlinewidth\":0,\"ticks\":\"\"},\"colorscale\":[[0.0,\"#0d0887\"],[0.1111111111111111,\"#46039f\"],[0.2222222222222222,\"#7201a8\"],[0.3333333333333333,\"#9c179e\"],[0.4444444444444444,\"#bd3786\"],[0.5555555555555556,\"#d8576b\"],[0.6666666666666666,\"#ed7953\"],[0.7777777777777778,\"#fb9f3a\"],[0.8888888888888888,\"#fdca26\"],[1.0,\"#f0f921\"]]}],\"heatmap\":[{\"type\":\"heatmap\",\"colorbar\":{\"outlinewidth\":0,\"ticks\":\"\"},\"colorscale\":[[0.0,\"#0d0887\"],[0.1111111111111111,\"#46039f\"],[0.2222222222222222,\"#7201a8\"],[0.3333333333333333,\"#9c179e\"],[0.4444444444444444,\"#bd3786\"],[0.5555555555555556,\"#d8576b\"],[0.6666666666666666,\"#ed7953\"],[0.7777777777777778,\"#fb9f3a\"],[0.8888888888888888,\"#fdca26\"],[1.0,\"#f0f921\"]]}],\"heatmapgl\":[{\"type\":\"heatmapgl\",\"colorbar\":{\"outlinewidth\":0,\"ticks\":\"\"},\"colorscale\":[[0.0,\"#0d0887\"],[0.1111111111111111,\"#46039f\"],[0.2222222222222222,\"#7201a8\"],[0.3333333333333333,\"#9c179e\"],[0.4444444444444444,\"#bd3786\"],[0.5555555555555556,\"#d8576b\"],[0.6666666666666666,\"#ed7953\"],[0.7777777777777778,\"#fb9f3a\"],[0.8888888888888888,\"#fdca26\"],[1.0,\"#f0f921\"]]}],\"contourcarpet\":[{\"type\":\"contourcarpet\",\"colorbar\":{\"outlinewidth\":0,\"ticks\":\"\"}}],\"contour\":[{\"type\":\"contour\",\"colorbar\":{\"outlinewidth\":0,\"ticks\":\"\"},\"colorscale\":[[0.0,\"#0d0887\"],[0.1111111111111111,\"#46039f\"],[0.2222222222222222,\"#7201a8\"],[0.3333333333333333,\"#9c179e\"],[0.4444444444444444,\"#bd3786\"],[0.5555555555555556,\"#d8576b\"],[0.6666666666666666,\"#ed7953\"],[0.7777777777777778,\"#fb9f3a\"],[0.8888888888888888,\"#fdca26\"],[1.0,\"#f0f921\"]]}],\"surface\":[{\"type\":\"surface\",\"colorbar\":{\"outlinewidth\":0,\"ticks\":\"\"},\"colorscale\":[[0.0,\"#0d0887\"],[0.1111111111111111,\"#46039f\"],[0.2222222222222222,\"#7201a8\"],[0.3333333333333333,\"#9c179e\"],[0.4444444444444444,\"#bd3786\"],[0.5555555555555556,\"#d8576b\"],[0.6666666666666666,\"#ed7953\"],[0.7777777777777778,\"#fb9f3a\"],[0.8888888888888888,\"#fdca26\"],[1.0,\"#f0f921\"]]}],\"mesh3d\":[{\"type\":\"mesh3d\",\"colorbar\":{\"outlinewidth\":0,\"ticks\":\"\"}}],\"scatter\":[{\"fillpattern\":{\"fillmode\":\"overlay\",\"size\":10,\"solidity\":0.2},\"type\":\"scatter\"}],\"parcoords\":[{\"type\":\"parcoords\",\"line\":{\"colorbar\":{\"outlinewidth\":0,\"ticks\":\"\"}}}],\"scatterpolargl\":[{\"type\":\"scatterpolargl\",\"marker\":{\"colorbar\":{\"outlinewidth\":0,\"ticks\":\"\"}}}],\"bar\":[{\"error_x\":{\"color\":\"#2a3f5f\"},\"error_y\":{\"color\":\"#2a3f5f\"},\"marker\":{\"line\":{\"color\":\"#E5ECF6\",\"width\":0.5},\"pattern\":{\"fillmode\":\"overlay\",\"size\":10,\"solidity\":0.2}},\"type\":\"bar\"}],\"scattergeo\":[{\"type\":\"scattergeo\",\"marker\":{\"colorbar\":{\"outlinewidth\":0,\"ticks\":\"\"}}}],\"scatterpolar\":[{\"type\":\"scatterpolar\",\"marker\":{\"colorbar\":{\"outlinewidth\":0,\"ticks\":\"\"}}}],\"histogram\":[{\"marker\":{\"pattern\":{\"fillmode\":\"overlay\",\"size\":10,\"solidity\":0.2}},\"type\":\"histogram\"}],\"scattergl\":[{\"type\":\"scattergl\",\"marker\":{\"colorbar\":{\"outlinewidth\":0,\"ticks\":\"\"}}}],\"scatter3d\":[{\"type\":\"scatter3d\",\"line\":{\"colorbar\":{\"outlinewidth\":0,\"ticks\":\"\"}},\"marker\":{\"colorbar\":{\"outlinewidth\":0,\"ticks\":\"\"}}}],\"scattermapbox\":[{\"type\":\"scattermapbox\",\"marker\":{\"colorbar\":{\"outlinewidth\":0,\"ticks\":\"\"}}}],\"scatterternary\":[{\"type\":\"scatterternary\",\"marker\":{\"colorbar\":{\"outlinewidth\":0,\"ticks\":\"\"}}}],\"scattercarpet\":[{\"type\":\"scattercarpet\",\"marker\":{\"colorbar\":{\"outlinewidth\":0,\"ticks\":\"\"}}}],\"carpet\":[{\"aaxis\":{\"endlinecolor\":\"#2a3f5f\",\"gridcolor\":\"white\",\"linecolor\":\"white\",\"minorgridcolor\":\"white\",\"startlinecolor\":\"#2a3f5f\"},\"baxis\":{\"endlinecolor\":\"#2a3f5f\",\"gridcolor\":\"white\",\"linecolor\":\"white\",\"minorgridcolor\":\"white\",\"startlinecolor\":\"#2a3f5f\"},\"type\":\"carpet\"}],\"table\":[{\"cells\":{\"fill\":{\"color\":\"#EBF0F8\"},\"line\":{\"color\":\"white\"}},\"header\":{\"fill\":{\"color\":\"#C8D4E3\"},\"line\":{\"color\":\"white\"}},\"type\":\"table\"}],\"barpolar\":[{\"marker\":{\"line\":{\"color\":\"#E5ECF6\",\"width\":0.5},\"pattern\":{\"fillmode\":\"overlay\",\"size\":10,\"solidity\":0.2}},\"type\":\"barpolar\"}],\"pie\":[{\"automargin\":true,\"type\":\"pie\"}]},\"layout\":{\"autotypenumbers\":\"strict\",\"colorway\":[\"#636efa\",\"#EF553B\",\"#00cc96\",\"#ab63fa\",\"#FFA15A\",\"#19d3f3\",\"#FF6692\",\"#B6E880\",\"#FF97FF\",\"#FECB52\"],\"font\":{\"color\":\"#2a3f5f\"},\"hovermode\":\"closest\",\"hoverlabel\":{\"align\":\"left\"},\"paper_bgcolor\":\"white\",\"plot_bgcolor\":\"#E5ECF6\",\"polar\":{\"bgcolor\":\"#E5ECF6\",\"angularaxis\":{\"gridcolor\":\"white\",\"linecolor\":\"white\",\"ticks\":\"\"},\"radialaxis\":{\"gridcolor\":\"white\",\"linecolor\":\"white\",\"ticks\":\"\"}},\"ternary\":{\"bgcolor\":\"#E5ECF6\",\"aaxis\":{\"gridcolor\":\"white\",\"linecolor\":\"white\",\"ticks\":\"\"},\"baxis\":{\"gridcolor\":\"white\",\"linecolor\":\"white\",\"ticks\":\"\"},\"caxis\":{\"gridcolor\":\"white\",\"linecolor\":\"white\",\"ticks\":\"\"}},\"coloraxis\":{\"colorbar\":{\"outlinewidth\":0,\"ticks\":\"\"}},\"colorscale\":{\"sequential\":[[0.0,\"#0d0887\"],[0.1111111111111111,\"#46039f\"],[0.2222222222222222,\"#7201a8\"],[0.3333333333333333,\"#9c179e\"],[0.4444444444444444,\"#bd3786\"],[0.5555555555555556,\"#d8576b\"],[0.6666666666666666,\"#ed7953\"],[0.7777777777777778,\"#fb9f3a\"],[0.8888888888888888,\"#fdca26\"],[1.0,\"#f0f921\"]],\"sequentialminus\":[[0.0,\"#0d0887\"],[0.1111111111111111,\"#46039f\"],[0.2222222222222222,\"#7201a8\"],[0.3333333333333333,\"#9c179e\"],[0.4444444444444444,\"#bd3786\"],[0.5555555555555556,\"#d8576b\"],[0.6666666666666666,\"#ed7953\"],[0.7777777777777778,\"#fb9f3a\"],[0.8888888888888888,\"#fdca26\"],[1.0,\"#f0f921\"]],\"diverging\":[[0,\"#8e0152\"],[0.1,\"#c51b7d\"],[0.2,\"#de77ae\"],[0.3,\"#f1b6da\"],[0.4,\"#fde0ef\"],[0.5,\"#f7f7f7\"],[0.6,\"#e6f5d0\"],[0.7,\"#b8e186\"],[0.8,\"#7fbc41\"],[0.9,\"#4d9221\"],[1,\"#276419\"]]},\"xaxis\":{\"gridcolor\":\"white\",\"linecolor\":\"white\",\"ticks\":\"\",\"title\":{\"standoff\":15},\"zerolinecolor\":\"white\",\"automargin\":true,\"zerolinewidth\":2},\"yaxis\":{\"gridcolor\":\"white\",\"linecolor\":\"white\",\"ticks\":\"\",\"title\":{\"standoff\":15},\"zerolinecolor\":\"white\",\"automargin\":true,\"zerolinewidth\":2},\"scene\":{\"xaxis\":{\"backgroundcolor\":\"#E5ECF6\",\"gridcolor\":\"white\",\"linecolor\":\"white\",\"showbackground\":true,\"ticks\":\"\",\"zerolinecolor\":\"white\",\"gridwidth\":2},\"yaxis\":{\"backgroundcolor\":\"#E5ECF6\",\"gridcolor\":\"white\",\"linecolor\":\"white\",\"showbackground\":true,\"ticks\":\"\",\"zerolinecolor\":\"white\",\"gridwidth\":2},\"zaxis\":{\"backgroundcolor\":\"#E5ECF6\",\"gridcolor\":\"white\",\"linecolor\":\"white\",\"showbackground\":true,\"ticks\":\"\",\"zerolinecolor\":\"white\",\"gridwidth\":2}},\"shapedefaults\":{\"line\":{\"color\":\"#2a3f5f\"}},\"annotationdefaults\":{\"arrowcolor\":\"#2a3f5f\",\"arrowhead\":0,\"arrowwidth\":1},\"geo\":{\"bgcolor\":\"white\",\"landcolor\":\"#E5ECF6\",\"subunitcolor\":\"white\",\"showland\":true,\"showlakes\":true,\"lakecolor\":\"white\"},\"title\":{\"x\":0.05},\"mapbox\":{\"style\":\"light\"}}}},                        {\"responsive\": true}                    ).then(function(){\n",
              "                            \n",
              "var gd = document.getElementById('32252fa3-7549-4e16-9d5d-6c4b2af1c13c');\n",
              "var x = new MutationObserver(function (mutations, observer) {{\n",
              "        var display = window.getComputedStyle(gd).display;\n",
              "        if (!display || display === 'none') {{\n",
              "            console.log([gd, 'removed!']);\n",
              "            Plotly.purge(gd);\n",
              "            observer.disconnect();\n",
              "        }}\n",
              "}});\n",
              "\n",
              "// Listen for the removal of the full notebook cells\n",
              "var notebookContainer = gd.closest('#notebook-container');\n",
              "if (notebookContainer) {{\n",
              "    x.observe(notebookContainer, {childList: true});\n",
              "}}\n",
              "\n",
              "// Listen for the clearing of the current output cell\n",
              "var outputEl = gd.closest('.output');\n",
              "if (outputEl) {{\n",
              "    x.observe(outputEl, {childList: true});\n",
              "}}\n",
              "\n",
              "                        })                };                            </script>        </div>\n",
              "</body>\n",
              "</html>"
            ]
          },
          "metadata": {}
        }
      ]
    },
    {
      "cell_type": "markdown",
      "source": [
        "- Load และ Print ชนิดของ Layer, Output Shape และจำนวน Parameter ของ Model"
      ],
      "metadata": {
        "id": "1JCT06rc0Nab"
      }
    },
    {
      "cell_type": "code",
      "source": [
        "predict_model = load_model(filename)\n",
        "predict_model.summary()"
      ],
      "metadata": {
        "colab": {
          "base_uri": "https://localhost:8080/"
        },
        "id": "-95Zeqq20KUL",
        "outputId": "68e38d85-b631-455b-d540-22c9b195a804"
      },
      "execution_count": null,
      "outputs": [
        {
          "output_type": "stream",
          "name": "stdout",
          "text": [
            "Model: \"model_6\"\n",
            "__________________________________________________________________________________________________\n",
            " Layer (type)                Output Shape                 Param #   Connected to                  \n",
            "==================================================================================================\n",
            " input_19 (InputLayer)       [(None, 51)]                 0         []                            \n",
            "                                                                                                  \n",
            " input_20 (InputLayer)       [(None, 51)]                 0         []                            \n",
            "                                                                                                  \n",
            " input_21 (InputLayer)       [(None, 51)]                 0         []                            \n",
            "                                                                                                  \n",
            " embedding_21 (Embedding)    (None, 51, 128)              216832    ['input_19[0][0]']            \n",
            "                                                                                                  \n",
            " embedding_22 (Embedding)    (None, 51, 128)              216832    ['input_20[0][0]']            \n",
            "                                                                                                  \n",
            " embedding_23 (Embedding)    (None, 51, 128)              216832    ['input_21[0][0]']            \n",
            "                                                                                                  \n",
            " conv1d_18 (Conv1D)          (None, 48, 32)               16416     ['embedding_21[0][0]']        \n",
            "                                                                                                  \n",
            " conv1d_19 (Conv1D)          (None, 46, 32)               24608     ['embedding_22[0][0]']        \n",
            "                                                                                                  \n",
            " conv1d_20 (Conv1D)          (None, 44, 32)               32800     ['embedding_23[0][0]']        \n",
            "                                                                                                  \n",
            " dropout_27 (Dropout)        (None, 48, 32)               0         ['conv1d_18[0][0]']           \n",
            "                                                                                                  \n",
            " dropout_28 (Dropout)        (None, 46, 32)               0         ['conv1d_19[0][0]']           \n",
            "                                                                                                  \n",
            " dropout_29 (Dropout)        (None, 44, 32)               0         ['conv1d_20[0][0]']           \n",
            "                                                                                                  \n",
            " max_pooling1d_18 (MaxPooli  (None, 24, 32)               0         ['dropout_27[0][0]']          \n",
            " ng1D)                                                                                            \n",
            "                                                                                                  \n",
            " max_pooling1d_19 (MaxPooli  (None, 23, 32)               0         ['dropout_28[0][0]']          \n",
            " ng1D)                                                                                            \n",
            "                                                                                                  \n",
            " max_pooling1d_20 (MaxPooli  (None, 22, 32)               0         ['dropout_29[0][0]']          \n",
            " ng1D)                                                                                            \n",
            "                                                                                                  \n",
            " flatten_18 (Flatten)        (None, 768)                  0         ['max_pooling1d_18[0][0]']    \n",
            "                                                                                                  \n",
            " flatten_19 (Flatten)        (None, 736)                  0         ['max_pooling1d_19[0][0]']    \n",
            "                                                                                                  \n",
            " flatten_20 (Flatten)        (None, 704)                  0         ['max_pooling1d_20[0][0]']    \n",
            "                                                                                                  \n",
            " concatenate_6 (Concatenate  (None, 2208)                 0         ['flatten_18[0][0]',          \n",
            " )                                                                   'flatten_19[0][0]',          \n",
            "                                                                     'flatten_20[0][0]']          \n",
            "                                                                                                  \n",
            " dense_24 (Dense)            (None, 10)                   22090     ['concatenate_6[0][0]']       \n",
            "                                                                                                  \n",
            " dense_25 (Dense)            (None, 2)                    22        ['dense_24[0][0]']            \n",
            "                                                                                                  \n",
            "==================================================================================================\n",
            "Total params: 746432 (2.85 MB)\n",
            "Trainable params: 746432 (2.85 MB)\n",
            "Non-trainable params: 0 (0.00 Byte)\n",
            "__________________________________________________________________________________________________\n"
          ]
        }
      ]
    },
    {
      "cell_type": "markdown",
      "source": [
        "- Evaluate Model"
      ],
      "metadata": {
        "id": "ofb2fpnp0Q4k"
      }
    },
    {
      "cell_type": "code",
      "source": [
        "score = predict_model.evaluate([val_X, val_X, val_X], val_Y, verbose=0)\n",
        "print('Validate loss:', score[0])\n",
        "print('Validate accuracy:', score[1])"
      ],
      "metadata": {
        "colab": {
          "base_uri": "https://localhost:8080/"
        },
        "id": "l30mX0160Sb-",
        "outputId": "da5d7f68-682f-4198-b421-f19be6eae858"
      },
      "execution_count": null,
      "outputs": [
        {
          "output_type": "stream",
          "name": "stdout",
          "text": [
            "Validate loss: 0.2520506978034973\n",
            "Validate accuracy: 0.9100000262260437\n"
          ]
        }
      ]
    },
    {
      "cell_type": "markdown",
      "source": [
        "- Predict ด้วย Validate Dataset"
      ],
      "metadata": {
        "id": "hxub-moh0XI7"
      }
    },
    {
      "cell_type": "code",
      "source": [
        "predicted_classes = np.argmax(predict_model.predict([val_X, val_X, val_X]), axis=-1)\n",
        "predicted_classes.shape"
      ],
      "metadata": {
        "colab": {
          "base_uri": "https://localhost:8080/"
        },
        "id": "0unIw3WI0SZl",
        "outputId": "50ebf826-e25e-41dc-dfd3-8c6f3d4ab2a0"
      },
      "execution_count": null,
      "outputs": [
        {
          "output_type": "stream",
          "name": "stdout",
          "text": [
            "4/4 [==============================] - 0s 2ms/step\n"
          ]
        },
        {
          "output_type": "execute_result",
          "data": {
            "text/plain": [
              "(100,)"
            ]
          },
          "metadata": {},
          "execution_count": 289
        }
      ]
    },
    {
      "cell_type": "markdown",
      "source": [
        "- เปลี่ยน y_true จาก One Hot กลับเป็นเลขจำนวนเต็มฐานสิบ"
      ],
      "metadata": {
        "id": "giQZfqtm0dB0"
      }
    },
    {
      "cell_type": "code",
      "source": [
        "y_true = np.argmax(val_Y,axis = 1)\n",
        "print(val_Y[0])\n",
        "print(y_true[0])"
      ],
      "metadata": {
        "colab": {
          "base_uri": "https://localhost:8080/"
        },
        "id": "eLE1UJNI0SXS",
        "outputId": "43684517-d832-4f85-adb0-3f76e4695631"
      },
      "execution_count": null,
      "outputs": [
        {
          "output_type": "stream",
          "name": "stdout",
          "text": [
            "[0. 1.]\n",
            "1\n"
          ]
        }
      ]
    },
    {
      "cell_type": "markdown",
      "source": [
        "- Save Confusion Matrix"
      ],
      "metadata": {
        "id": "8z1Tw9Kf0jbr"
      }
    },
    {
      "cell_type": "code",
      "source": [
        "cm = confusion_matrix(y_true, predicted_classes)\n",
        "np.savetxt(\"confusion_matrix_tmsa_sentiment_cnn.csv\", cm, delimiter=\",\")"
      ],
      "metadata": {
        "id": "DO872Kqa0STU"
      },
      "execution_count": null,
      "outputs": []
    },
    {
      "cell_type": "markdown",
      "source": [
        "- Plot Confusion Matrix"
      ],
      "metadata": {
        "id": "VG8g4mhK0nGo"
      }
    },
    {
      "cell_type": "code",
      "source": [
        "#import seaborn as sn\n",
        "#import matplotlib.pyplot as plt\n",
        "\n",
        "df_cm = pd.DataFrame(cm, range(2), range(2))\n",
        "plt.figure(figsize=(20,14))\n",
        "sn.set(font_scale=1.2) # for label size\n",
        "sn.heatmap(df_cm, annot=True, annot_kws={\"size\": 14}, fmt='g') # for num predict size\n",
        "\n",
        "plt.show()"
      ],
      "metadata": {
        "colab": {
          "base_uri": "https://localhost:8080/",
          "height": 1000
        },
        "id": "QzKtSlS50SLg",
        "outputId": "eea6fb94-4cc4-4285-8e17-f89536c159c7"
      },
      "execution_count": null,
      "outputs": [
        {
          "output_type": "display_data",
          "data": {
            "text/plain": [
              "<Figure size 2000x1400 with 2 Axes>"
            ],
            "image/png": "[encoded data removed]"
          },
          "metadata": {}
        }
      ]
    },
    {
      "cell_type": "markdown",
      "source": [
        "- ดึง Intent ทั้งหมดมาจาก output_tokenizer"
      ],
      "metadata": {
        "id": "T9mCvTq70zzu"
      }
    },
    {
      "cell_type": "code",
      "source": [
        "label_dict = output_tokenizer.word_index"
      ],
      "metadata": {
        "id": "Wc9CmsCU01SX"
      },
      "execution_count": null,
      "outputs": []
    },
    {
      "cell_type": "markdown",
      "source": [
        "- ดึงชื่อของ Intent เก็บใน Label"
      ],
      "metadata": {
        "id": "P0Roii711G7C"
      }
    },
    {
      "cell_type": "code",
      "source": [
        "label = [key for key, value in label_dict.items()]"
      ],
      "metadata": {
        "id": "8uf8Jfva01OR"
      },
      "execution_count": null,
      "outputs": []
    },
    {
      "cell_type": "markdown",
      "source": [
        "- แสดง Precision, Recall, F1-score"
      ],
      "metadata": {
        "id": "GboYTgJs1JBH"
      }
    },
    {
      "cell_type": "code",
      "source": [
        "print(classification_report(y_true, predicted_classes, target_names=label, digits=4))"
      ],
      "metadata": {
        "colab": {
          "base_uri": "https://localhost:8080/"
        },
        "id": "agnr-zWY01MC",
        "outputId": "7b49ddd9-a20e-418d-e6b6-b81ad4af9861"
      },
      "execution_count": null,
      "outputs": [
        {
          "output_type": "stream",
          "name": "stdout",
          "text": [
            "              precision    recall  f1-score   support\n",
            "\n",
            "         pos     0.8596    0.9800    0.9159        50\n",
            "         neg     0.9767    0.8400    0.9032        50\n",
            "\n",
            "    accuracy                         0.9100       100\n",
            "   macro avg     0.9182    0.9100    0.9096       100\n",
            "weighted avg     0.9182    0.9100    0.9096       100\n",
            "\n"
          ]
        }
      ]
    },
    {
      "cell_type": "markdown",
      "source": [
        "# การส่งงาน (Please delete before submission)"
      ],
      "metadata": {
        "id": "CJiO7Knn-Pqh"
      }
    },
    {
      "cell_type": "markdown",
      "source": [
        "- Copy ไปรันใน Account ของ 65056071@kmitl.ac.th (และ Account นี้เป็นบัญชีสำรอง)\n",
        "- ให้ส่งใน Folder ที่ได้รับสิทธิ์ โดยให้นักศึกษาสร้าง Folder ย่อยตามจำนวนข้อที่ส่ง\n",
        "- สิ่งที่ต้องส่งแต่ละข้อ คือ Clip การอธิบาย และ File ประกอบทั้งหมด\n",
        "- Deadline : วันอาทิตย์ที่ 10 กันยายน เวลา 23.59"
      ],
      "metadata": {
        "id": "jDR7fbpi-M4a"
      }
    }
  ]
}