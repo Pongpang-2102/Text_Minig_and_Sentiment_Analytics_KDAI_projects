{
  "nbformat": 4,
  "nbformat_minor": 0,
  "metadata": {
    "colab": {
      "provenance": [],
      "include_colab_link": true
    },
    "kernelspec": {
      "name": "python3",
      "display_name": "Python 3"
    },
    "language_info": {
      "name": "python"
    }
  },
  "cells": [
    {
      "cell_type": "markdown",
      "metadata": {
        "id": "view-in-github",
        "colab_type": "text"
      },
      "source": [
        "<a href=\"https://colab.research.google.com/github/Pongpang-2102/Text_Mining_and_Sentiment_Analytics_KDAI_projects/blob/main/KDAI_TMSA_Tutorial_EP11_SVD_Walk_Through_(1_Oct_23).ipynb\" target=\"_parent\"><img src=\"https://colab.research.google.com/assets/colab-badge.svg\" alt=\"Open In Colab\"/></a>"
      ]
    },
    {
      "cell_type": "code",
      "source": [
        "# https://machinelearningmastery.com/singular-value-decomposition-for-machine-learning/"
      ],
      "metadata": {
        "id": "FdUuqEQa92x1"
      },
      "execution_count": null,
      "outputs": []
    },
    {
      "cell_type": "code",
      "source": [
        "# SVD หรือ Singular-Value Decomposition คือ การแยกตัวประกอบของเมทริกซ์\n",
        "# A = U . Sigma . V^T\n",
        "\n",
        "# A : Input matrix\n",
        "# U : Left singular vectors\n",
        "# Sigma : Singular value หรือ diagonal matrix (เมทริกซ์ทแยงมุม)\n",
        "# V : Right singular vectors"
      ],
      "metadata": {
        "id": "Y5q--vrmZGdD"
      },
      "execution_count": null,
      "outputs": []
    },
    {
      "cell_type": "code",
      "source": [
        "from numpy import array\n",
        "from scipy.linalg import svd"
      ],
      "metadata": {
        "id": "dWAnmNylTOfv"
      },
      "execution_count": null,
      "outputs": []
    },
    {
      "cell_type": "code",
      "source": [
        "A = array([[1, 2], [3, 4], [5, 6]])\n",
        "print(A)"
      ],
      "metadata": {
        "id": "NiAg7qKgBTyt",
        "colab": {
          "base_uri": "https://localhost:8080/"
        },
        "outputId": "458ae7d7-dfea-42c7-9056-c7e2a2da49ec"
      },
      "execution_count": null,
      "outputs": [
        {
          "output_type": "stream",
          "name": "stdout",
          "text": [
            "[[1 2]\n",
            " [3 4]\n",
            " [5 6]]\n"
          ]
        }
      ]
    },
    {
      "cell_type": "code",
      "source": [
        "A.shape"
      ],
      "metadata": {
        "id": "tv3PYM8YCabM",
        "colab": {
          "base_uri": "https://localhost:8080/"
        },
        "outputId": "27cc2126-90cb-4d2a-9016-6ab8bdb8a6ca"
      },
      "execution_count": null,
      "outputs": [
        {
          "output_type": "execute_result",
          "data": {
            "text/plain": [
              "(3, 2)"
            ]
          },
          "metadata": {},
          "execution_count": 4
        }
      ]
    },
    {
      "cell_type": "code",
      "source": [
        "U, s, VT = svd(A)"
      ],
      "metadata": {
        "id": "PmM55qOEBXOU"
      },
      "execution_count": null,
      "outputs": []
    },
    {
      "cell_type": "code",
      "source": [
        "U"
      ],
      "metadata": {
        "id": "X1ZGAffEBhLb",
        "colab": {
          "base_uri": "https://localhost:8080/"
        },
        "outputId": "991b50b2-3457-487b-f231-659f74298b26"
      },
      "execution_count": null,
      "outputs": [
        {
          "output_type": "execute_result",
          "data": {
            "text/plain": [
              "array([[-0.2298477 ,  0.88346102,  0.40824829],\n",
              "       [-0.52474482,  0.24078249, -0.81649658],\n",
              "       [-0.81964194, -0.40189603,  0.40824829]])"
            ]
          },
          "metadata": {},
          "execution_count": 6
        }
      ]
    },
    {
      "cell_type": "code",
      "source": [
        "U.shape"
      ],
      "metadata": {
        "id": "fMAIZjR_BlKp",
        "colab": {
          "base_uri": "https://localhost:8080/"
        },
        "outputId": "7210e995-1b37-4538-cc22-7354061f66ae"
      },
      "execution_count": null,
      "outputs": [
        {
          "output_type": "execute_result",
          "data": {
            "text/plain": [
              "(3, 3)"
            ]
          },
          "metadata": {},
          "execution_count": 7
        }
      ]
    },
    {
      "cell_type": "code",
      "source": [
        "s"
      ],
      "metadata": {
        "id": "Z7tmWNOzBtBs",
        "colab": {
          "base_uri": "https://localhost:8080/"
        },
        "outputId": "ac542356-fc7b-4430-fd03-e3f50860425d"
      },
      "execution_count": null,
      "outputs": [
        {
          "output_type": "execute_result",
          "data": {
            "text/plain": [
              "array([9.52551809, 0.51430058])"
            ]
          },
          "metadata": {},
          "execution_count": 8
        }
      ]
    },
    {
      "cell_type": "code",
      "source": [
        "s.shape"
      ],
      "metadata": {
        "id": "2fof_-vLB18n",
        "colab": {
          "base_uri": "https://localhost:8080/"
        },
        "outputId": "6c461e90-c126-4233-b426-dfed7270b6c2"
      },
      "execution_count": null,
      "outputs": [
        {
          "output_type": "execute_result",
          "data": {
            "text/plain": [
              "(2,)"
            ]
          },
          "metadata": {},
          "execution_count": 9
        }
      ]
    },
    {
      "cell_type": "code",
      "source": [
        "VT"
      ],
      "metadata": {
        "id": "eiWw45WzB-mu",
        "colab": {
          "base_uri": "https://localhost:8080/"
        },
        "outputId": "4ac2a91e-0166-4fd2-af12-9b4463c245a7"
      },
      "execution_count": null,
      "outputs": [
        {
          "output_type": "execute_result",
          "data": {
            "text/plain": [
              "array([[-0.61962948, -0.78489445],\n",
              "       [-0.78489445,  0.61962948]])"
            ]
          },
          "metadata": {},
          "execution_count": 10
        }
      ]
    },
    {
      "cell_type": "code",
      "source": [
        "VT.shape"
      ],
      "metadata": {
        "id": "JunAvrPMCCjz",
        "colab": {
          "base_uri": "https://localhost:8080/"
        },
        "outputId": "d6b0b0db-01c3-4026-e883-edb745ea3beb"
      },
      "execution_count": null,
      "outputs": [
        {
          "output_type": "execute_result",
          "data": {
            "text/plain": [
              "(2, 2)"
            ]
          },
          "metadata": {},
          "execution_count": 11
        }
      ]
    },
    {
      "cell_type": "code",
      "source": [
        "#  A = U . Sigma . V^T\n",
        "# A (m x n)\n",
        "# U (m x m) # Square matrix\n",
        "# Sigma (m x n) ???\n",
        "# VT (n x n)\n",
        "A.shape, U.shape, s.shape, VT.shape"
      ],
      "metadata": {
        "id": "-Bd_CxM2CE0s",
        "colab": {
          "base_uri": "https://localhost:8080/"
        },
        "outputId": "dfa5b32e-b43d-4846-be1b-c9396549171f"
      },
      "execution_count": null,
      "outputs": [
        {
          "output_type": "execute_result",
          "data": {
            "text/plain": [
              "((3, 2), (3, 3), (2,), (2, 2))"
            ]
          },
          "metadata": {},
          "execution_count": 12
        }
      ]
    },
    {
      "cell_type": "code",
      "source": [
        "# สร้าง Matrix Sigma m x n"
      ],
      "metadata": {
        "id": "334wEW78b7Mc"
      },
      "execution_count": null,
      "outputs": []
    },
    {
      "cell_type": "code",
      "source": [
        "from numpy import diag\n",
        "from numpy import dot\n",
        "from numpy import zeros"
      ],
      "metadata": {
        "id": "9QlOciPjExUM"
      },
      "execution_count": null,
      "outputs": []
    },
    {
      "cell_type": "code",
      "source": [
        "Sigma = zeros((A.shape[0], A.shape[1]))\n",
        "Sigma"
      ],
      "metadata": {
        "id": "VtMKX0UeFJ73",
        "colab": {
          "base_uri": "https://localhost:8080/"
        },
        "outputId": "af3554b3-3554-47d4-b8a1-28354038534a"
      },
      "execution_count": null,
      "outputs": [
        {
          "output_type": "execute_result",
          "data": {
            "text/plain": [
              "array([[0., 0.],\n",
              "       [0., 0.],\n",
              "       [0., 0.]])"
            ]
          },
          "metadata": {},
          "execution_count": 15
        }
      ]
    },
    {
      "cell_type": "code",
      "source": [
        "Sigma.shape"
      ],
      "metadata": {
        "id": "xqxhm9ZhFN1_",
        "colab": {
          "base_uri": "https://localhost:8080/"
        },
        "outputId": "131b8dbd-055c-48b3-9706-9f5601a77e43"
      },
      "execution_count": null,
      "outputs": [
        {
          "output_type": "execute_result",
          "data": {
            "text/plain": [
              "(3, 2)"
            ]
          },
          "metadata": {},
          "execution_count": 16
        }
      ]
    },
    {
      "cell_type": "code",
      "source": [
        "# เอา s มาใส่ใน matrix 3 x 2\n",
        "\n",
        "\n",
        "Sigma[:A.shape[1], :A.shape[1]] = diag(s)\n",
        "Sigma"
      ],
      "metadata": {
        "id": "XFZURjnEFRBO",
        "colab": {
          "base_uri": "https://localhost:8080/"
        },
        "outputId": "5c226617-fa64-443f-f53a-26afe1422b87"
      },
      "execution_count": null,
      "outputs": [
        {
          "output_type": "execute_result",
          "data": {
            "text/plain": [
              "array([[9.52551809, 0.        ],\n",
              "       [0.        , 0.51430058],\n",
              "       [0.        , 0.        ]])"
            ]
          },
          "metadata": {},
          "execution_count": 17
        }
      ]
    },
    {
      "cell_type": "code",
      "source": [
        "# นำ Matrix ตัวประกอบคุณกันได้ matrix ใหม่ (B) เท่ากับ Input matrix (A)"
      ],
      "metadata": {
        "id": "GXjdc5ZXcIOb"
      },
      "execution_count": null,
      "outputs": []
    },
    {
      "cell_type": "code",
      "source": [
        "# A = U . Sigma . V^T\n",
        "B = U.dot(Sigma.dot(VT))\n",
        "B"
      ],
      "metadata": {
        "id": "GAixBb0yFcgj",
        "colab": {
          "base_uri": "https://localhost:8080/"
        },
        "outputId": "2b372af4-0399-4668-d1a5-53cd25f4dc18"
      },
      "execution_count": null,
      "outputs": [
        {
          "output_type": "execute_result",
          "data": {
            "text/plain": [
              "array([[1., 2.],\n",
              "       [3., 4.],\n",
              "       [5., 6.]])"
            ]
          },
          "metadata": {},
          "execution_count": 19
        }
      ]
    },
    {
      "cell_type": "code",
      "source": [
        "A"
      ],
      "metadata": {
        "id": "OoKPfB3GFrZD",
        "colab": {
          "base_uri": "https://localhost:8080/"
        },
        "outputId": "7b882cbe-aeb5-404f-9af6-572a1380ac3a"
      },
      "execution_count": null,
      "outputs": [
        {
          "output_type": "execute_result",
          "data": {
            "text/plain": [
              "array([[1, 2],\n",
              "       [3, 4],\n",
              "       [5, 6]])"
            ]
          },
          "metadata": {},
          "execution_count": 20
        }
      ]
    },
    {
      "cell_type": "code",
      "source": [
        "# แต่ถ้า m x n เป็น Square matrix จะสร้างเมทริกซ์ทแยงมุม ได้เลยโดยใช้ diag()"
      ],
      "metadata": {
        "id": "zHq9Wc8xc67n"
      },
      "execution_count": null,
      "outputs": []
    },
    {
      "cell_type": "code",
      "source": [
        "A = array([[1, 2, 3], [4, 5, 6], [7, 8, 9]])\n",
        "A"
      ],
      "metadata": {
        "id": "Pcy8YsS8FsyM",
        "colab": {
          "base_uri": "https://localhost:8080/"
        },
        "outputId": "7a897d18-a718-4d46-8424-304438b14f9e"
      },
      "execution_count": null,
      "outputs": [
        {
          "output_type": "execute_result",
          "data": {
            "text/plain": [
              "array([[1, 2, 3],\n",
              "       [4, 5, 6],\n",
              "       [7, 8, 9]])"
            ]
          },
          "metadata": {},
          "execution_count": 22
        }
      ]
    },
    {
      "cell_type": "markdown",
      "source": [
        "มี  3 เทอม  เปรียบเสมือนมี bag of word 3 คำ"
      ],
      "metadata": {
        "id": "cOMGgZlSC-p0"
      }
    },
    {
      "cell_type": "code",
      "source": [
        "A.shape"
      ],
      "metadata": {
        "id": "81Fa6uVWGEYS",
        "colab": {
          "base_uri": "https://localhost:8080/"
        },
        "outputId": "f62f4258-4db5-45a9-981b-51fcf9cd3bb2"
      },
      "execution_count": null,
      "outputs": [
        {
          "output_type": "execute_result",
          "data": {
            "text/plain": [
              "(3, 3)"
            ]
          },
          "metadata": {},
          "execution_count": 23
        }
      ]
    },
    {
      "cell_type": "code",
      "source": [
        "U, s, VT = svd(A)"
      ],
      "metadata": {
        "id": "ES1QMrllGGHP"
      },
      "execution_count": null,
      "outputs": []
    },
    {
      "cell_type": "code",
      "source": [
        "s.shape"
      ],
      "metadata": {
        "id": "1xQDY1vkcttO",
        "colab": {
          "base_uri": "https://localhost:8080/"
        },
        "outputId": "b01b86fa-5a86-4746-82eb-1d445d46dc4b"
      },
      "execution_count": null,
      "outputs": [
        {
          "output_type": "execute_result",
          "data": {
            "text/plain": [
              "(3,)"
            ]
          },
          "metadata": {},
          "execution_count": 25
        }
      ]
    },
    {
      "cell_type": "code",
      "source": [
        "Sigma = diag(s)\n",
        "Sigma"
      ],
      "metadata": {
        "id": "_27PwoMvGJnd",
        "colab": {
          "base_uri": "https://localhost:8080/"
        },
        "outputId": "45caee15-d22a-49b9-d852-5b959f18a32d"
      },
      "execution_count": null,
      "outputs": [
        {
          "output_type": "execute_result",
          "data": {
            "text/plain": [
              "array([[1.68481034e+01, 0.00000000e+00, 0.00000000e+00],\n",
              "       [0.00000000e+00, 1.06836951e+00, 0.00000000e+00],\n",
              "       [0.00000000e+00, 0.00000000e+00, 4.41842475e-16]])"
            ]
          },
          "metadata": {},
          "execution_count": 26
        }
      ]
    },
    {
      "cell_type": "code",
      "source": [
        "Sigma.shape"
      ],
      "metadata": {
        "id": "i76pCYehGSym",
        "colab": {
          "base_uri": "https://localhost:8080/"
        },
        "outputId": "bdc57398-fc2b-402d-f5f4-c757be31017f"
      },
      "execution_count": null,
      "outputs": [
        {
          "output_type": "execute_result",
          "data": {
            "text/plain": [
              "(3, 3)"
            ]
          },
          "metadata": {},
          "execution_count": 27
        }
      ]
    },
    {
      "cell_type": "code",
      "source": [
        "B = U.dot(Sigma.dot(VT))\n",
        "B #ค่าที่ถูกประมาณ"
      ],
      "metadata": {
        "id": "v-uRtK-KGMm8",
        "colab": {
          "base_uri": "https://localhost:8080/"
        },
        "outputId": "555017bd-1352-4cf6-ab1a-6f1348a58142"
      },
      "execution_count": null,
      "outputs": [
        {
          "output_type": "execute_result",
          "data": {
            "text/plain": [
              "array([[1., 2., 3.],\n",
              "       [4., 5., 6.],\n",
              "       [7., 8., 9.]])"
            ]
          },
          "metadata": {},
          "execution_count": 28
        }
      ]
    },
    {
      "cell_type": "code",
      "source": [
        "A"
      ],
      "metadata": {
        "id": "HhG-ArjjGO-Q",
        "colab": {
          "base_uri": "https://localhost:8080/"
        },
        "outputId": "86ef5214-231d-4282-a937-ff3cf82a3cf7"
      },
      "execution_count": null,
      "outputs": [
        {
          "output_type": "execute_result",
          "data": {
            "text/plain": [
              "array([[1, 2, 3],\n",
              "       [4, 5, 6],\n",
              "       [7, 8, 9]])"
            ]
          },
          "metadata": {},
          "execution_count": 29
        }
      ]
    },
    {
      "cell_type": "code",
      "source": [
        "# A = U . Sigma . V^T\n",
        "# นำ Singular-Value Decomposition (SVD) มาประยุกต์ใช้กับ Topic Modeling อย่างไร"
      ],
      "metadata": {
        "id": "2bZCp2lHGWuq"
      },
      "execution_count": null,
      "outputs": []
    },
    {
      "cell_type": "markdown",
      "source": [],
      "metadata": {
        "id": "s7GRuHIzeKeV"
      }
    },
    {
      "cell_type": "code",
      "source": [
        "# กำหนดให้ k คือ จำนวน Topic ที่เราเลือก\n",
        "# B = U . Sigmak . V^Tk\n",
        "\n",
        "# Sigmak คือ Matrix ที่ตัด Column ให้เหลือ k Column\n",
        "# V^Tk คือ Matrix ที่ตัด Row ให้เหลือ k Row"
      ],
      "metadata": {
        "id": "32CJTePnHLYs"
      },
      "execution_count": null,
      "outputs": []
    },
    {
      "cell_type": "code",
      "source": [
        "# T คือ Matix ที่ถูกลดมิติ\n",
        "# T = U . Sigmak หรือ\n",
        "# T = V^k . A"
      ],
      "metadata": {
        "id": "pEnMFdxJHhlU"
      },
      "execution_count": null,
      "outputs": []
    },
    {
      "cell_type": "code",
      "source": [
        "A = array([\n",
        " [1,2,3,4,5,6,7,8,9,10],\n",
        " [11,12,13,14,15,16,17,18,19,20],\n",
        " [21,22,23,24,25,26,27,28,29,30]])\n",
        "A"
      ],
      "metadata": {
        "id": "_HGNy0cmIILL",
        "colab": {
          "base_uri": "https://localhost:8080/"
        },
        "outputId": "57080bf4-b149-4b66-d14d-92c6febf9f86"
      },
      "execution_count": null,
      "outputs": [
        {
          "output_type": "execute_result",
          "data": {
            "text/plain": [
              "array([[ 1,  2,  3,  4,  5,  6,  7,  8,  9, 10],\n",
              "       [11, 12, 13, 14, 15, 16, 17, 18, 19, 20],\n",
              "       [21, 22, 23, 24, 25, 26, 27, 28, 29, 30]])"
            ]
          },
          "metadata": {},
          "execution_count": 33
        }
      ]
    },
    {
      "cell_type": "code",
      "source": [
        "A.shape"
      ],
      "metadata": {
        "id": "J8JuMts6IdyU",
        "colab": {
          "base_uri": "https://localhost:8080/"
        },
        "outputId": "54161372-97e4-4ca9-f626-2d9014a605ff"
      },
      "execution_count": null,
      "outputs": [
        {
          "output_type": "execute_result",
          "data": {
            "text/plain": [
              "(3, 10)"
            ]
          },
          "metadata": {},
          "execution_count": 34
        }
      ]
    },
    {
      "cell_type": "code",
      "source": [
        "U, s, VT = svd(A)"
      ],
      "metadata": {
        "id": "_8RDjpLUIfLX"
      },
      "execution_count": null,
      "outputs": []
    },
    {
      "cell_type": "code",
      "source": [
        "U.shape, s.shape, VT.shape"
      ],
      "metadata": {
        "id": "6rg6nD5CIlTE",
        "colab": {
          "base_uri": "https://localhost:8080/"
        },
        "outputId": "2925502a-d55f-431c-d6e7-9d809cf8a7cd"
      },
      "execution_count": null,
      "outputs": [
        {
          "output_type": "execute_result",
          "data": {
            "text/plain": [
              "((3, 3), (3,), (10, 10))"
            ]
          },
          "metadata": {},
          "execution_count": 36
        }
      ]
    },
    {
      "cell_type": "code",
      "source": [
        "Sigma = zeros((A.shape[0], A.shape[1]))\n",
        "Sigma"
      ],
      "metadata": {
        "id": "3DFOKJHvIr9h",
        "colab": {
          "base_uri": "https://localhost:8080/"
        },
        "outputId": "cade950a-4edc-4950-d5c0-ed923390db7e"
      },
      "execution_count": null,
      "outputs": [
        {
          "output_type": "execute_result",
          "data": {
            "text/plain": [
              "array([[0., 0., 0., 0., 0., 0., 0., 0., 0., 0.],\n",
              "       [0., 0., 0., 0., 0., 0., 0., 0., 0., 0.],\n",
              "       [0., 0., 0., 0., 0., 0., 0., 0., 0., 0.]])"
            ]
          },
          "metadata": {},
          "execution_count": 37
        }
      ]
    },
    {
      "cell_type": "code",
      "source": [
        "Sigma.shape"
      ],
      "metadata": {
        "id": "0BAknLsiI8Er",
        "colab": {
          "base_uri": "https://localhost:8080/"
        },
        "outputId": "338ae8d1-2fb6-44b5-a435-87ae6c6983cd"
      },
      "execution_count": null,
      "outputs": [
        {
          "output_type": "execute_result",
          "data": {
            "text/plain": [
              "(3, 10)"
            ]
          },
          "metadata": {},
          "execution_count": 38
        }
      ]
    },
    {
      "cell_type": "code",
      "source": [
        "s"
      ],
      "metadata": {
        "id": "bDsanjlKI_jr",
        "colab": {
          "base_uri": "https://localhost:8080/"
        },
        "outputId": "ee3b4788-d2c3-4a45-f050-4e05ec972d0d"
      },
      "execution_count": null,
      "outputs": [
        {
          "output_type": "execute_result",
          "data": {
            "text/plain": [
              "array([9.69657342e+01, 7.25578339e+00, 5.43064394e-15])"
            ]
          },
          "metadata": {},
          "execution_count": 39
        }
      ]
    },
    {
      "cell_type": "code",
      "source": [
        "Sigma[:A.shape[0], :A.shape[0]] = diag(s)\n",
        "Sigma"
      ],
      "metadata": {
        "id": "3bEbNkzhJJTD",
        "colab": {
          "base_uri": "https://localhost:8080/"
        },
        "outputId": "5c337909-91e6-4eea-9457-7c2ade3cb74a"
      },
      "execution_count": null,
      "outputs": [
        {
          "output_type": "execute_result",
          "data": {
            "text/plain": [
              "array([[9.69657342e+01, 0.00000000e+00, 0.00000000e+00, 0.00000000e+00,\n",
              "        0.00000000e+00, 0.00000000e+00, 0.00000000e+00, 0.00000000e+00,\n",
              "        0.00000000e+00, 0.00000000e+00],\n",
              "       [0.00000000e+00, 7.25578339e+00, 0.00000000e+00, 0.00000000e+00,\n",
              "        0.00000000e+00, 0.00000000e+00, 0.00000000e+00, 0.00000000e+00,\n",
              "        0.00000000e+00, 0.00000000e+00],\n",
              "       [0.00000000e+00, 0.00000000e+00, 5.43064394e-15, 0.00000000e+00,\n",
              "        0.00000000e+00, 0.00000000e+00, 0.00000000e+00, 0.00000000e+00,\n",
              "        0.00000000e+00, 0.00000000e+00]])"
            ]
          },
          "metadata": {},
          "execution_count": 40
        }
      ]
    },
    {
      "cell_type": "code",
      "source": [
        "# B = U . Sigmak . V^Tk"
      ],
      "metadata": {
        "id": "-USz_A5oJMYI"
      },
      "execution_count": null,
      "outputs": []
    },
    {
      "cell_type": "code",
      "source": [
        "n_elements = 2"
      ],
      "metadata": {
        "id": "jCHd8BEvJYzy"
      },
      "execution_count": null,
      "outputs": []
    },
    {
      "cell_type": "code",
      "source": [
        "Sigma = Sigma[:, :n_elements] # signma จะตัดคอลัมน์ให้เหลือแค่ 2 คอลัมน์\n",
        "Sigma"
      ],
      "metadata": {
        "id": "-8LS66iGJcJS",
        "colab": {
          "base_uri": "https://localhost:8080/"
        },
        "outputId": "6cd5eaf6-3041-49ab-e22e-449f601bd5b4"
      },
      "execution_count": null,
      "outputs": [
        {
          "output_type": "execute_result",
          "data": {
            "text/plain": [
              "array([[96.96573419,  0.        ],\n",
              "       [ 0.        ,  7.25578339],\n",
              "       [ 0.        ,  0.        ]])"
            ]
          },
          "metadata": {},
          "execution_count": 43
        }
      ]
    },
    {
      "cell_type": "code",
      "source": [
        "Sigma.shape"
      ],
      "metadata": {
        "id": "O20LXc6PJgAT",
        "colab": {
          "base_uri": "https://localhost:8080/"
        },
        "outputId": "442fda97-805a-4e8d-8c31-933c60c5537c"
      },
      "execution_count": null,
      "outputs": [
        {
          "output_type": "execute_result",
          "data": {
            "text/plain": [
              "(3, 2)"
            ]
          },
          "metadata": {},
          "execution_count": 44
        }
      ]
    },
    {
      "cell_type": "code",
      "source": [
        "VT = VT[:n_elements, :] #VT ตัดแถวให้เหลือแค่ 2 แถว\n",
        "VT"
      ],
      "metadata": {
        "id": "XYv94BqcJiEZ",
        "colab": {
          "base_uri": "https://localhost:8080/"
        },
        "outputId": "6a6e6b9a-9eb9-4607-ddef-4309a6cc6bda"
      },
      "execution_count": null,
      "outputs": [
        {
          "output_type": "execute_result",
          "data": {
            "text/plain": [
              "array([[-0.24139304, -0.25728686, -0.27318068, -0.2890745 , -0.30496832,\n",
              "        -0.32086214, -0.33675595, -0.35264977, -0.36854359, -0.38443741],\n",
              "       [-0.53589546, -0.42695236, -0.31800926, -0.20906617, -0.10012307,\n",
              "         0.00882003,  0.11776313,  0.22670623,  0.33564933,  0.44459242]])"
            ]
          },
          "metadata": {},
          "execution_count": 45
        }
      ]
    },
    {
      "cell_type": "code",
      "source": [
        "VT.shape"
      ],
      "metadata": {
        "id": "tMiLOmQDJsw0",
        "colab": {
          "base_uri": "https://localhost:8080/"
        },
        "outputId": "9a5129f5-7239-421e-d0ec-db3082e4a205"
      },
      "execution_count": null,
      "outputs": [
        {
          "output_type": "execute_result",
          "data": {
            "text/plain": [
              "(2, 10)"
            ]
          },
          "metadata": {},
          "execution_count": 46
        }
      ]
    },
    {
      "cell_type": "code",
      "source": [
        "# ((3, 3), (3,), (10, 10)) เดิม\n",
        "\n",
        "U.shape, Sigma.shape, VT.shape #ใหม่"
      ],
      "metadata": {
        "id": "ZXGSlPBmRhZo",
        "colab": {
          "base_uri": "https://localhost:8080/"
        },
        "outputId": "8e52ee98-c8c7-48e3-e6d7-9911801565a9"
      },
      "execution_count": null,
      "outputs": [
        {
          "output_type": "execute_result",
          "data": {
            "text/plain": [
              "((3, 3), (3, 2), (2, 10))"
            ]
          },
          "metadata": {},
          "execution_count": 47
        }
      ]
    },
    {
      "cell_type": "code",
      "source": [
        "B = U.dot(Sigma.dot(VT))\n",
        "B"
      ],
      "metadata": {
        "id": "r_MXN1kgJu0L",
        "colab": {
          "base_uri": "https://localhost:8080/"
        },
        "outputId": "27c7567c-0f2e-423d-9cbb-b488df60362d"
      },
      "execution_count": null,
      "outputs": [
        {
          "output_type": "execute_result",
          "data": {
            "text/plain": [
              "array([[ 1.,  2.,  3.,  4.,  5.,  6.,  7.,  8.,  9., 10.],\n",
              "       [11., 12., 13., 14., 15., 16., 17., 18., 19., 20.],\n",
              "       [21., 22., 23., 24., 25., 26., 27., 28., 29., 30.]])"
            ]
          },
          "metadata": {},
          "execution_count": 48
        }
      ]
    },
    {
      "cell_type": "code",
      "source": [
        "B.shape"
      ],
      "metadata": {
        "id": "SaEYSk81J29i",
        "colab": {
          "base_uri": "https://localhost:8080/"
        },
        "outputId": "3775df95-a0c6-4d4a-ce80-d414be54beb5"
      },
      "execution_count": null,
      "outputs": [
        {
          "output_type": "execute_result",
          "data": {
            "text/plain": [
              "(3, 10)"
            ]
          },
          "metadata": {},
          "execution_count": 49
        }
      ]
    },
    {
      "cell_type": "code",
      "source": [
        "A"
      ],
      "metadata": {
        "id": "nyTaX_L6J9EO",
        "colab": {
          "base_uri": "https://localhost:8080/"
        },
        "outputId": "9bdc5045-179a-4ce4-fd94-6cb5b8a29bc8"
      },
      "execution_count": null,
      "outputs": [
        {
          "output_type": "execute_result",
          "data": {
            "text/plain": [
              "array([[ 1,  2,  3,  4,  5,  6,  7,  8,  9, 10],\n",
              "       [11, 12, 13, 14, 15, 16, 17, 18, 19, 20],\n",
              "       [21, 22, 23, 24, 25, 26, 27, 28, 29, 30]])"
            ]
          },
          "metadata": {},
          "execution_count": 50
        }
      ]
    },
    {
      "cell_type": "code",
      "source": [
        "T = U.dot(Sigma)\n",
        "T"
      ],
      "metadata": {
        "id": "22xJj8o9KOnp",
        "colab": {
          "base_uri": "https://localhost:8080/"
        },
        "outputId": "44c13cf4-7521-4528-d6e2-949dc2efb1af"
      },
      "execution_count": null,
      "outputs": [
        {
          "output_type": "execute_result",
          "data": {
            "text/plain": [
              "array([[-18.52157747,   6.47697214],\n",
              "       [-49.81310011,   1.91182038],\n",
              "       [-81.10462276,  -2.65333138]])"
            ]
          },
          "metadata": {},
          "execution_count": 51
        }
      ]
    },
    {
      "cell_type": "code",
      "source": [
        "T = A.dot(VT.T)\n",
        "T"
      ],
      "metadata": {
        "id": "jg8n409HKiqa",
        "colab": {
          "base_uri": "https://localhost:8080/"
        },
        "outputId": "034cd051-5922-466d-936c-918ede2f5835"
      },
      "execution_count": null,
      "outputs": [
        {
          "output_type": "execute_result",
          "data": {
            "text/plain": [
              "array([[-18.52157747,   6.47697214],\n",
              "       [-49.81310011,   1.91182038],\n",
              "       [-81.10462276,  -2.65333138]])"
            ]
          },
          "metadata": {},
          "execution_count": 52
        }
      ]
    },
    {
      "cell_type": "code",
      "source": [
        "T.shape"
      ],
      "metadata": {
        "id": "QAHVvG7zLWnL",
        "colab": {
          "base_uri": "https://localhost:8080/"
        },
        "outputId": "973a8f3f-c97b-4266-cb68-53f74c80f41f"
      },
      "execution_count": null,
      "outputs": [
        {
          "output_type": "execute_result",
          "data": {
            "text/plain": [
              "(3, 2)"
            ]
          },
          "metadata": {},
          "execution_count": 53
        }
      ]
    },
    {
      "cell_type": "code",
      "source": [
        "from sklearn.decomposition import TruncatedSVD"
      ],
      "metadata": {
        "id": "Tj3X2Lr1Kns3"
      },
      "execution_count": null,
      "outputs": []
    },
    {
      "cell_type": "code",
      "source": [
        "svd = TruncatedSVD(n_components=2)\n",
        "# Latent Semantic Analysis (LSA) -> svd"
      ],
      "metadata": {
        "id": "U0iLDU4kLA7Z"
      },
      "execution_count": null,
      "outputs": []
    },
    {
      "cell_type": "code",
      "source": [
        "svd.fit(A)"
      ],
      "metadata": {
        "id": "roVP_V9LLE3t",
        "colab": {
          "base_uri": "https://localhost:8080/",
          "height": 75
        },
        "outputId": "8c9963fb-b68d-4751-e2af-b4ef13bd4b9f"
      },
      "execution_count": null,
      "outputs": [
        {
          "output_type": "execute_result",
          "data": {
            "text/plain": [
              "TruncatedSVD()"
            ],
            "text/html": [
              "<style>#sk-container-id-1 {color: black;background-color: white;}#sk-container-id-1 pre{padding: 0;}#sk-container-id-1 div.sk-toggleable {background-color: white;}#sk-container-id-1 label.sk-toggleable__label {cursor: pointer;display: block;width: 100%;margin-bottom: 0;padding: 0.3em;box-sizing: border-box;text-align: center;}#sk-container-id-1 label.sk-toggleable__label-arrow:before {content: \"▸\";float: left;margin-right: 0.25em;color: #696969;}#sk-container-id-1 label.sk-toggleable__label-arrow:hover:before {color: black;}#sk-container-id-1 div.sk-estimator:hover label.sk-toggleable__label-arrow:before {color: black;}#sk-container-id-1 div.sk-toggleable__content {max-height: 0;max-width: 0;overflow: hidden;text-align: left;background-color: #f0f8ff;}#sk-container-id-1 div.sk-toggleable__content pre {margin: 0.2em;color: black;border-radius: 0.25em;background-color: #f0f8ff;}#sk-container-id-1 input.sk-toggleable__control:checked~div.sk-toggleable__content {max-height: 200px;max-width: 100%;overflow: auto;}#sk-container-id-1 input.sk-toggleable__control:checked~label.sk-toggleable__label-arrow:before {content: \"▾\";}#sk-container-id-1 div.sk-estimator input.sk-toggleable__control:checked~label.sk-toggleable__label {background-color: #d4ebff;}#sk-container-id-1 div.sk-label input.sk-toggleable__control:checked~label.sk-toggleable__label {background-color: #d4ebff;}#sk-container-id-1 input.sk-hidden--visually {border: 0;clip: rect(1px 1px 1px 1px);clip: rect(1px, 1px, 1px, 1px);height: 1px;margin: -1px;overflow: hidden;padding: 0;position: absolute;width: 1px;}#sk-container-id-1 div.sk-estimator {font-family: monospace;background-color: #f0f8ff;border: 1px dotted black;border-radius: 0.25em;box-sizing: border-box;margin-bottom: 0.5em;}#sk-container-id-1 div.sk-estimator:hover {background-color: #d4ebff;}#sk-container-id-1 div.sk-parallel-item::after {content: \"\";width: 100%;border-bottom: 1px solid gray;flex-grow: 1;}#sk-container-id-1 div.sk-label:hover label.sk-toggleable__label {background-color: #d4ebff;}#sk-container-id-1 div.sk-serial::before {content: \"\";position: absolute;border-left: 1px solid gray;box-sizing: border-box;top: 0;bottom: 0;left: 50%;z-index: 0;}#sk-container-id-1 div.sk-serial {display: flex;flex-direction: column;align-items: center;background-color: white;padding-right: 0.2em;padding-left: 0.2em;position: relative;}#sk-container-id-1 div.sk-item {position: relative;z-index: 1;}#sk-container-id-1 div.sk-parallel {display: flex;align-items: stretch;justify-content: center;background-color: white;position: relative;}#sk-container-id-1 div.sk-item::before, #sk-container-id-1 div.sk-parallel-item::before {content: \"\";position: absolute;border-left: 1px solid gray;box-sizing: border-box;top: 0;bottom: 0;left: 50%;z-index: -1;}#sk-container-id-1 div.sk-parallel-item {display: flex;flex-direction: column;z-index: 1;position: relative;background-color: white;}#sk-container-id-1 div.sk-parallel-item:first-child::after {align-self: flex-end;width: 50%;}#sk-container-id-1 div.sk-parallel-item:last-child::after {align-self: flex-start;width: 50%;}#sk-container-id-1 div.sk-parallel-item:only-child::after {width: 0;}#sk-container-id-1 div.sk-dashed-wrapped {border: 1px dashed gray;margin: 0 0.4em 0.5em 0.4em;box-sizing: border-box;padding-bottom: 0.4em;background-color: white;}#sk-container-id-1 div.sk-label label {font-family: monospace;font-weight: bold;display: inline-block;line-height: 1.2em;}#sk-container-id-1 div.sk-label-container {text-align: center;}#sk-container-id-1 div.sk-container {/* jupyter's `normalize.less` sets `[hidden] { display: none; }` but bootstrap.min.css set `[hidden] { display: none !important; }` so we also need the `!important` here to be able to override the default hidden behavior on the sphinx rendered scikit-learn.org. See: https://github.com/scikit-learn/scikit-learn/issues/21755 */display: inline-block !important;position: relative;}#sk-container-id-1 div.sk-text-repr-fallback {display: none;}</style><div id=\"sk-container-id-1\" class=\"sk-top-container\"><div class=\"sk-text-repr-fallback\"><pre>TruncatedSVD()</pre><b>In a Jupyter environment, please rerun this cell to show the HTML representation or trust the notebook. <br />On GitHub, the HTML representation is unable to render, please try loading this page with nbviewer.org.</b></div><div class=\"sk-container\" hidden><div class=\"sk-item\"><div class=\"sk-estimator sk-toggleable\"><input class=\"sk-toggleable__control sk-hidden--visually\" id=\"sk-estimator-id-1\" type=\"checkbox\" checked><label for=\"sk-estimator-id-1\" class=\"sk-toggleable__label sk-toggleable__label-arrow\">TruncatedSVD</label><div class=\"sk-toggleable__content\"><pre>TruncatedSVD()</pre></div></div></div></div></div>"
            ]
          },
          "metadata": {},
          "execution_count": 56
        }
      ]
    },
    {
      "cell_type": "code",
      "source": [
        "result = svd.transform(A) # ตีความมว่าประโยค หรือกลุ่มคำที่เราเอามา มันใกล้ Topic (Cluster)  ไหน\n",
        "# เลลขไหนมากที่สุด ใกล้ค่านั้นสุด\n",
        "result"
      ],
      "metadata": {
        "id": "YVpa7D66LMKh",
        "colab": {
          "base_uri": "https://localhost:8080/"
        },
        "outputId": "2f025efc-a076-4ae9-ccd4-e9d3a3538594"
      },
      "execution_count": null,
      "outputs": [
        {
          "output_type": "execute_result",
          "data": {
            "text/plain": [
              "array([[18.52157747,  6.47697214],\n",
              "       [49.81310011,  1.91182038],\n",
              "       [81.10462276, -2.65333138]])"
            ]
          },
          "metadata": {},
          "execution_count": 57
        }
      ]
    },
    {
      "cell_type": "code",
      "source": [
        "result.shape"
      ],
      "metadata": {
        "id": "BY9jwyCyLdXC",
        "colab": {
          "base_uri": "https://localhost:8080/"
        },
        "outputId": "9e8d14bd-8b56-43e2-9fbe-3455454fe9cb"
      },
      "execution_count": null,
      "outputs": [
        {
          "output_type": "execute_result",
          "data": {
            "text/plain": [
              "(3, 2)"
            ]
          },
          "metadata": {},
          "execution_count": 58
        }
      ]
    },
    {
      "cell_type": "code",
      "source": [
        "svd.components_.shape"
      ],
      "metadata": {
        "id": "4kv7O1Q7Lfyi",
        "colab": {
          "base_uri": "https://localhost:8080/"
        },
        "outputId": "4d05df70-9a49-4a1a-d876-d41e9b7ae237"
      },
      "execution_count": null,
      "outputs": [
        {
          "output_type": "execute_result",
          "data": {
            "text/plain": [
              "(2, 10)"
            ]
          },
          "metadata": {},
          "execution_count": 59
        }
      ]
    },
    {
      "cell_type": "code",
      "source": [
        "svd.components_"
      ],
      "metadata": {
        "id": "fxI-U93KScsM",
        "colab": {
          "base_uri": "https://localhost:8080/"
        },
        "outputId": "23ba7ac8-608d-4a0c-8c92-d12fffec022a"
      },
      "execution_count": null,
      "outputs": [
        {
          "output_type": "execute_result",
          "data": {
            "text/plain": [
              "array([[ 0.24139304,  0.25728686,  0.27318068,  0.2890745 ,  0.30496832,\n",
              "         0.32086214,  0.33675595,  0.35264977,  0.36854359,  0.38443741],\n",
              "       [-0.53589546, -0.42695236, -0.31800926, -0.20906617, -0.10012307,\n",
              "         0.00882003,  0.11776313,  0.22670623,  0.33564933,  0.44459242]])"
            ]
          },
          "metadata": {},
          "execution_count": 60
        }
      ]
    },
    {
      "cell_type": "markdown",
      "source": [
        "จะได้ว่ามี 2 topic -  ตีความว่าแต่ละ topic ใน 2  toic มีั bag of word หรืออยู่ใกล้ topic ไหนบ้าง"
      ],
      "metadata": {
        "id": "Y_1_MV5eGTxd"
      }
    },
    {
      "cell_type": "code",
      "source": [
        "VT.shape"
      ],
      "metadata": {
        "id": "LLkNgQM1SkTb",
        "colab": {
          "base_uri": "https://localhost:8080/"
        },
        "outputId": "5035587f-8395-4cfc-f0a8-46f3496e07f0"
      },
      "execution_count": null,
      "outputs": [
        {
          "output_type": "execute_result",
          "data": {
            "text/plain": [
              "(2, 10)"
            ]
          },
          "metadata": {},
          "execution_count": 61
        }
      ]
    },
    {
      "cell_type": "code",
      "source": [
        "VT"
      ],
      "metadata": {
        "id": "FzyUCIuoSzAc",
        "colab": {
          "base_uri": "https://localhost:8080/"
        },
        "outputId": "ba6207f3-ab58-4872-8bf7-b6288240265b"
      },
      "execution_count": null,
      "outputs": [
        {
          "output_type": "execute_result",
          "data": {
            "text/plain": [
              "array([[-0.24139304, -0.25728686, -0.27318068, -0.2890745 , -0.30496832,\n",
              "        -0.32086214, -0.33675595, -0.35264977, -0.36854359, -0.38443741],\n",
              "       [-0.53589546, -0.42695236, -0.31800926, -0.20906617, -0.10012307,\n",
              "         0.00882003,  0.11776313,  0.22670623,  0.33564933,  0.44459242]])"
            ]
          },
          "metadata": {},
          "execution_count": 62
        }
      ]
    },
    {
      "cell_type": "code",
      "source": [
        "from google.colab import drive\n",
        "drive.mount('/content/drive')"
      ],
      "metadata": {
        "id": "5OcdBrMeG92G",
        "colab": {
          "base_uri": "https://localhost:8080/"
        },
        "outputId": "01ed0a55-c9e4-4010-fa76-e7ca1a04c6d1"
      },
      "execution_count": null,
      "outputs": [
        {
          "output_type": "stream",
          "name": "stdout",
          "text": [
            "Mounted at /content/drive\n"
          ]
        }
      ]
    },
    {
      "cell_type": "code",
      "source": [],
      "metadata": {
        "id": "3GkVY0eUS0Lj"
      },
      "execution_count": null,
      "outputs": []
    }
  ]
}